{
 "cells": [
  {
   "cell_type": "markdown",
   "metadata": {},
   "source": [
    "# Micro Session 9: Dashboarding with Python\n",
    "\n",
    "This session will provide an overview of popular dashboarding and reporting tools, including Plotly’s Dash, Streamlit, Voilà, and Jupyter’s ipywidgets. Participants will learn how to create interactive widgets and controls in Jupyter notebooks and convert their coding files into stand-alone web-based applications using Voilà to share their analysis with teammates and drill down on data sets for better insights."
   ]
  },
  {
   "cell_type": "markdown",
   "metadata": {},
   "source": [
    "## Dashboards with Ipywidgets"
   ]
  },
  {
   "cell_type": "markdown",
   "metadata": {},
   "source": [
    "### <font color = 'blue'> Section 1 - Importing Packages </font>"
   ]
  },
  {
   "cell_type": "code",
   "execution_count": 1,
   "metadata": {
    "execution": {
     "iopub.execute_input": "2021-11-04T22:42:25.774427Z",
     "iopub.status.busy": "2021-11-04T22:42:25.768445Z",
     "iopub.status.idle": "2021-11-04T22:42:35.689805Z",
     "shell.execute_reply": "2021-11-04T22:42:35.688807Z",
     "shell.execute_reply.started": "2021-11-04T22:42:25.773430Z"
    },
    "tags": []
   },
   "outputs": [],
   "source": [
    "import pandas as pd\n",
    "import matplotlib.pyplot as plt\n",
    "import seaborn as sns\n",
    "import plotly.express as px\n",
    "\n",
    "import ipywidgets as widgets\n",
    "from ipywidgets import interact, interact_manual\n",
    "from IPython.display import display"
   ]
  },
  {
   "cell_type": "markdown",
   "metadata": {},
   "source": [
    "### <font color = 'blue'> Section 2 - Basic Widgets </font>\n",
    "For a list of all types of widgets available, pleas see:\n",
    "https://ipywidgets.readthedocs.io/en/latest/examples/Widget%20List.html"
   ]
  },
  {
   "cell_type": "code",
   "execution_count": 2,
   "metadata": {
    "execution": {
     "iopub.execute_input": "2021-11-04T22:44:09.084991Z",
     "iopub.status.busy": "2021-11-04T22:44:09.084991Z",
     "iopub.status.idle": "2021-11-04T22:44:09.125975Z",
     "shell.execute_reply": "2021-11-04T22:44:09.123983Z",
     "shell.execute_reply.started": "2021-11-04T22:44:09.084991Z"
    },
    "tags": []
   },
   "outputs": [
    {
     "data": {
      "application/vnd.jupyter.widget-view+json": {
       "model_id": "ae6ad7e4ceba41f0a34a5a8e77063321",
       "version_major": 2,
       "version_minor": 0
      },
      "text/plain": [
       "IntSlider(value=0)"
      ]
     },
     "metadata": {},
     "output_type": "display_data"
    }
   ],
   "source": [
    "widgets.IntSlider()"
   ]
  },
  {
   "cell_type": "code",
   "execution_count": 3,
   "metadata": {
    "execution": {
     "iopub.execute_input": "2021-11-04T22:44:29.717307Z",
     "iopub.status.busy": "2021-11-04T22:44:29.716309Z",
     "iopub.status.idle": "2021-11-04T22:44:29.759353Z",
     "shell.execute_reply": "2021-11-04T22:44:29.755368Z",
     "shell.execute_reply.started": "2021-11-04T22:44:29.717307Z"
    },
    "tags": []
   },
   "outputs": [
    {
     "data": {
      "application/vnd.jupyter.widget-view+json": {
       "model_id": "e2ad24b4ee8c41929ec1a572bc3a4b15",
       "version_major": 2,
       "version_minor": 0
      },
      "text/plain": [
       "IntSlider(value=0)"
      ]
     },
     "metadata": {},
     "output_type": "display_data"
    }
   ],
   "source": [
    "w = widgets.IntSlider()\n",
    "display(w)\n",
    "#dir(w)"
   ]
  },
  {
   "cell_type": "code",
   "execution_count": 4,
   "metadata": {
    "execution": {
     "iopub.execute_input": "2021-11-04T22:44:47.066640Z",
     "iopub.status.busy": "2021-11-04T22:44:47.064641Z",
     "iopub.status.idle": "2021-11-04T22:44:47.084932Z",
     "shell.execute_reply": "2021-11-04T22:44:47.083935Z",
     "shell.execute_reply.started": "2021-11-04T22:44:47.065648Z"
    },
    "tags": []
   },
   "outputs": [
    {
     "data": {
      "text/plain": [
       "0"
      ]
     },
     "execution_count": 4,
     "metadata": {},
     "output_type": "execute_result"
    }
   ],
   "source": [
    "w.value"
   ]
  },
  {
   "cell_type": "code",
   "execution_count": 5,
   "metadata": {
    "execution": {
     "iopub.execute_input": "2021-11-04T22:44:58.383988Z",
     "iopub.status.busy": "2021-11-04T22:44:58.383988Z",
     "iopub.status.idle": "2021-11-04T22:44:58.405933Z",
     "shell.execute_reply": "2021-11-04T22:44:58.404932Z",
     "shell.execute_reply.started": "2021-11-04T22:44:58.383988Z"
    },
    "tags": []
   },
   "outputs": [],
   "source": [
    "w.value = 6"
   ]
  },
  {
   "cell_type": "code",
   "execution_count": 6,
   "metadata": {
    "execution": {
     "iopub.execute_input": "2021-11-04T22:45:35.635924Z",
     "iopub.status.busy": "2021-11-04T22:45:35.635924Z",
     "iopub.status.idle": "2021-11-04T22:45:35.666369Z",
     "shell.execute_reply": "2021-11-04T22:45:35.665372Z",
     "shell.execute_reply.started": "2021-11-04T22:45:35.635924Z"
    },
    "tags": []
   },
   "outputs": [
    {
     "data": {
      "application/vnd.jupyter.widget-view+json": {
       "model_id": "7e4bb67ce0ec436ab63f52ab1ebd392c",
       "version_major": 2,
       "version_minor": 0
      },
      "text/plain": [
       "Text(value='Hello World!', disabled=True)"
      ]
     },
     "metadata": {},
     "output_type": "display_data"
    }
   ],
   "source": [
    "widgets.Text(value='Hello World!', disabled=True)"
   ]
  },
  {
   "cell_type": "code",
   "execution_count": 7,
   "metadata": {
    "execution": {
     "iopub.execute_input": "2021-11-04T22:45:38.648449Z",
     "iopub.status.busy": "2021-11-04T22:45:38.648449Z",
     "iopub.status.idle": "2021-11-04T22:45:38.679364Z",
     "shell.execute_reply": "2021-11-04T22:45:38.678366Z",
     "shell.execute_reply.started": "2021-11-04T22:45:38.648449Z"
    },
    "tags": []
   },
   "outputs": [
    {
     "data": {
      "application/vnd.jupyter.widget-view+json": {
       "model_id": "6e47faa11a2d4dc7af468e82ccd98b91",
       "version_major": 2,
       "version_minor": 0
      },
      "text/plain": [
       "Text(value='Enter your name!')"
      ]
     },
     "metadata": {},
     "output_type": "display_data"
    },
    {
     "name": "stdout",
     "output_type": "stream",
     "text": [
      "Good morning  Enter your name!\n"
     ]
    }
   ],
   "source": [
    "firstNameBox = widgets.Text(value='Enter your name!', disabled=False)\n",
    "display(firstNameBox)\n",
    "\n",
    "print(\"Good morning \",firstNameBox.value)"
   ]
  },
  {
   "cell_type": "code",
   "execution_count": 8,
   "metadata": {
    "execution": {
     "iopub.execute_input": "2021-11-04T22:45:41.574259Z",
     "iopub.status.busy": "2021-11-04T22:45:41.574259Z",
     "iopub.status.idle": "2021-11-04T22:45:41.591211Z",
     "shell.execute_reply": "2021-11-04T22:45:41.590245Z",
     "shell.execute_reply.started": "2021-11-04T22:45:41.574259Z"
    },
    "tags": []
   },
   "outputs": [
    {
     "data": {
      "application/vnd.jupyter.widget-view+json": {
       "model_id": "1ad00c68ffa842b3b4212e0d84086d5b",
       "version_major": 2,
       "version_minor": 0
      },
      "text/plain": [
       "Checkbox(value=False, description='Check me', indent=False)"
      ]
     },
     "metadata": {},
     "output_type": "display_data"
    }
   ],
   "source": [
    "widgets.Checkbox(\n",
    "    value=False,\n",
    "    description='Check me',\n",
    "    disabled=False,\n",
    "    indent=False\n",
    ")"
   ]
  },
  {
   "cell_type": "code",
   "execution_count": 9,
   "metadata": {
    "execution": {
     "iopub.execute_input": "2021-11-04T22:45:46.306764Z",
     "iopub.status.busy": "2021-11-04T22:45:46.306764Z",
     "iopub.status.idle": "2021-11-04T22:45:46.344663Z",
     "shell.execute_reply": "2021-11-04T22:45:46.343666Z",
     "shell.execute_reply.started": "2021-11-04T22:45:46.306764Z"
    },
    "tags": []
   },
   "outputs": [
    {
     "data": {
      "application/vnd.jupyter.widget-view+json": {
       "model_id": "6cc8d1a9e1224610ad79f782bfd1891d",
       "version_major": 2,
       "version_minor": 0
      },
      "text/plain": [
       "Dropdown(description='Number:', index=1, options=('1', '2', '3'), value='2')"
      ]
     },
     "metadata": {},
     "output_type": "display_data"
    }
   ],
   "source": [
    "widgets.Dropdown(\n",
    "    options=['1', '2', '3'],\n",
    "    value='2',\n",
    "    description='Number:',\n",
    "    disabled=False,\n",
    ")"
   ]
  },
  {
   "cell_type": "code",
   "execution_count": 10,
   "metadata": {
    "execution": {
     "iopub.execute_input": "2021-11-04T22:45:56.447335Z",
     "iopub.status.busy": "2021-11-04T22:45:56.447335Z",
     "iopub.status.idle": "2021-11-04T22:45:56.485236Z",
     "shell.execute_reply": "2021-11-04T22:45:56.484237Z",
     "shell.execute_reply.started": "2021-11-04T22:45:56.447335Z"
    },
    "tags": []
   },
   "outputs": [
    {
     "data": {
      "application/vnd.jupyter.widget-view+json": {
       "model_id": "e8cde2756c6641638689618a333b1a51",
       "version_major": 2,
       "version_minor": 0
      },
      "text/plain": [
       "Dropdown(description='Number:', index=1, options=(('Base Case Scenario', 1), ('Upside', 2), ('Downside', 3)), …"
      ]
     },
     "metadata": {},
     "output_type": "display_data"
    }
   ],
   "source": [
    "drop = widgets.Dropdown(\n",
    "    options=[('Base Case Scenario', 1), ('Upside', 2), ('Downside', 3)],\n",
    "    value=2,\n",
    "    description='Number:',\n",
    ")\n",
    "display(drop)"
   ]
  },
  {
   "cell_type": "code",
   "execution_count": 11,
   "metadata": {
    "execution": {
     "iopub.execute_input": "2021-11-04T22:46:00.754377Z",
     "iopub.status.busy": "2021-11-04T22:46:00.754377Z",
     "iopub.status.idle": "2021-11-04T22:46:00.774838Z",
     "shell.execute_reply": "2021-11-04T22:46:00.773839Z",
     "shell.execute_reply.started": "2021-11-04T22:46:00.754377Z"
    },
    "tags": []
   },
   "outputs": [
    {
     "data": {
      "application/vnd.jupyter.widget-view+json": {
       "model_id": "aef4fe4506db4e24a0d1902afa86f971",
       "version_major": 2,
       "version_minor": 0
      },
      "text/plain": [
       "DatePicker(value=None, description='Pick a Date')"
      ]
     },
     "metadata": {},
     "output_type": "display_data"
    }
   ],
   "source": [
    "widgets.DatePicker(\n",
    "    description='Pick a Date',\n",
    "    disabled=False\n",
    ")"
   ]
  },
  {
   "cell_type": "code",
   "execution_count": 12,
   "metadata": {
    "execution": {
     "iopub.execute_input": "2021-11-04T18:45:57.605881Z",
     "iopub.status.busy": "2021-11-04T18:45:57.604883Z",
     "iopub.status.idle": "2021-11-04T18:45:57.649764Z",
     "shell.execute_reply": "2021-11-04T18:45:57.647769Z",
     "shell.execute_reply.started": "2021-11-04T18:45:57.605881Z"
    }
   },
   "outputs": [
    {
     "data": {
      "application/vnd.jupyter.widget-view+json": {
       "model_id": "4750426234704b93a1d1353c1d9d4f7c",
       "version_major": 2,
       "version_minor": 0
      },
      "text/plain": [
       "Select(description='pickIndex', index=1, options=('UKX', 'SPX', 'NKY'), value='SPX')"
      ]
     },
     "metadata": {},
     "output_type": "display_data"
    }
   ],
   "source": [
    "widgets.Select(\n",
    "    options=['UKX', 'SPX', 'NKY'],\n",
    "    value='SPX',\n",
    "    description='pickIndex',\n",
    "    disabled=False\n",
    ")"
   ]
  },
  {
   "cell_type": "code",
   "execution_count": 13,
   "metadata": {
    "execution": {
     "iopub.execute_input": "2021-11-04T18:46:06.106093Z",
     "iopub.status.busy": "2021-11-04T18:46:06.106093Z",
     "iopub.status.idle": "2021-11-04T18:46:06.144988Z",
     "shell.execute_reply": "2021-11-04T18:46:06.142992Z",
     "shell.execute_reply.started": "2021-11-04T18:46:06.106093Z"
    }
   },
   "outputs": [
    {
     "data": {
      "application/vnd.jupyter.widget-view+json": {
       "model_id": "5c06ed43be7b4aee958061380a80b148",
       "version_major": 2,
       "version_minor": 0
      },
      "text/plain": [
       "RadioButtons(description='pickIndex', options=('UKX', 'SPX', 'NKY'), value='UKX')"
      ]
     },
     "metadata": {},
     "output_type": "display_data"
    }
   ],
   "source": [
    "widgets.RadioButtons(\n",
    "    options=['UKX', 'SPX', 'NKY'],\n",
    "    description='pickIndex',\n",
    "    disabled=False\n",
    ")"
   ]
  },
  {
   "cell_type": "code",
   "execution_count": 14,
   "metadata": {
    "execution": {
     "iopub.execute_input": "2021-11-04T18:46:27.964697Z",
     "iopub.status.busy": "2021-11-04T18:46:27.963700Z",
     "iopub.status.idle": "2021-11-04T18:46:28.012920Z",
     "shell.execute_reply": "2021-11-04T18:46:28.011922Z",
     "shell.execute_reply.started": "2021-11-04T18:46:27.964697Z"
    }
   },
   "outputs": [
    {
     "data": {
      "application/vnd.jupyter.widget-view+json": {
       "model_id": "010a49c25249432c88acb9fd3bb13574",
       "version_major": 2,
       "version_minor": 0
      },
      "text/plain": [
       "Dropdown(description='pickIndex', options=('UKX', 'SPX', 'NKY'), value='UKX')"
      ]
     },
     "metadata": {},
     "output_type": "display_data"
    }
   ],
   "source": [
    "widgets.Dropdown(\n",
    "    options=['UKX', 'SPX', 'NKY'],\n",
    "    value='UKX',\n",
    "    description='pickIndex',\n",
    "    disabled=False,\n",
    ")"
   ]
  },
  {
   "cell_type": "markdown",
   "metadata": {},
   "source": [
    "### <font color = 'blue'> Section 3 - Using Interact and Interactive </font>\n",
    "- interact/interactive are used to link widgets to functions\n",
    "- the function is being called whenever the widget is being changed by the user\n",
    "- the interact function \"guesses\" what type of widget you want to create based on the data type of the argument being passed to the function\n",
    "- documentation: https://ipywidgets.readthedocs.io/en/latest/examples/Using%20Interact.html\n",
    "\n",
    "Below is a summary of how the argument data types are converted to widgets:\n",
    "- Booleans (True or False) are converted to a Checkbox Widget\n",
    "- Strings (text) are converted to a Text Widget\n",
    "- Integers or tuples of integers in the form (min, max) will create IntSlider widgets\n",
    "- Integers or tuples of floats in the form (min, max) will create FloatSlider widgets\n",
    "- Lists of text, or numeric values (ints or floats) will create a Dropdown\n",
    "\n",
    "For any other widget available in the package, the widget needs to be created and cannot be \"guessed\"."
   ]
  },
  {
   "cell_type": "code",
   "execution_count": 15,
   "metadata": {
    "execution": {
     "iopub.execute_input": "2021-11-04T11:49:46.023041Z",
     "iopub.status.busy": "2021-11-04T11:49:46.022040Z",
     "iopub.status.idle": "2021-11-04T11:49:46.070863Z",
     "shell.execute_reply": "2021-11-04T11:49:46.069864Z",
     "shell.execute_reply.started": "2021-11-04T11:49:46.023041Z"
    }
   },
   "outputs": [
    {
     "data": {
      "application/vnd.jupyter.widget-view+json": {
       "model_id": "8f2d295f06de41d5b998ee4c8d2301fa",
       "version_major": 2,
       "version_minor": 0
      },
      "text/plain": [
       "interactive(children=(IntSlider(value=10, description='x', max=30, min=-10), Output()), _dom_classes=('widget-…"
      ]
     },
     "metadata": {},
     "output_type": "display_data"
    },
    {
     "data": {
      "text/plain": [
       "<function __main__.customFn(x)>"
      ]
     },
     "execution_count": 15,
     "metadata": {},
     "output_type": "execute_result"
    }
   ],
   "source": [
    "#interact(fnToLinkTo, argument=value)\n",
    "    #value--> number slider, text textbox, list of data comobobox\n",
    "\n",
    "def customFn(x):\n",
    "    #print(\"Square:\", x**2)\n",
    "    print(x)\n",
    "\n",
    "interact(customFn,x=10) #generates an IntSlider"
   ]
  },
  {
   "cell_type": "code",
   "execution_count": 16,
   "metadata": {
    "execution": {
     "iopub.execute_input": "2021-11-04T11:50:11.226589Z",
     "iopub.status.busy": "2021-11-04T11:50:11.225590Z",
     "iopub.status.idle": "2021-11-04T11:50:11.284432Z",
     "shell.execute_reply": "2021-11-04T11:50:11.283435Z",
     "shell.execute_reply.started": "2021-11-04T11:50:11.226589Z"
    }
   },
   "outputs": [
    {
     "data": {
      "application/vnd.jupyter.widget-view+json": {
       "model_id": "3509b700f0f4423596792aabf7ea7948",
       "version_major": 2,
       "version_minor": 0
      },
      "text/plain": [
       "interactive(children=(Text(value='SPX', description='x'), Output()), _dom_classes=('widget-interact',))"
      ]
     },
     "metadata": {},
     "output_type": "display_data"
    },
    {
     "data": {
      "text/plain": [
       "<function __main__.customFn(x)>"
      ]
     },
     "execution_count": 16,
     "metadata": {},
     "output_type": "execute_result"
    }
   ],
   "source": [
    "interact(customFn,x=\"SPX\") #generates a Text widget"
   ]
  },
  {
   "cell_type": "code",
   "execution_count": 17,
   "metadata": {
    "execution": {
     "iopub.execute_input": "2021-11-04T11:50:32.794362Z",
     "iopub.status.busy": "2021-11-04T11:50:32.793364Z",
     "iopub.status.idle": "2021-11-04T11:50:32.876143Z",
     "shell.execute_reply": "2021-11-04T11:50:32.874148Z",
     "shell.execute_reply.started": "2021-11-04T11:50:32.794362Z"
    }
   },
   "outputs": [
    {
     "data": {
      "application/vnd.jupyter.widget-view+json": {
       "model_id": "7d7b0ebe6e7f433d9ae4d8595f23ffbc",
       "version_major": 2,
       "version_minor": 0
      },
      "text/plain": [
       "interactive(children=(DatePicker(value=None, description='Pick a Date'), Output()), _dom_classes=('widget-inte…"
      ]
     },
     "metadata": {},
     "output_type": "display_data"
    },
    {
     "data": {
      "text/plain": [
       "<function __main__.customFn(x)>"
      ]
     },
     "execution_count": 17,
     "metadata": {},
     "output_type": "execute_result"
    }
   ],
   "source": [
    "myDatePicker = widgets.DatePicker(\n",
    "    description='Pick a Date',\n",
    "    disabled=False\n",
    ")\n",
    "\n",
    "# interact(customFn,x=[\"SPX\",\"UKX\",\"NKY\"]) #generates a Dropdown widget\n",
    "interact(customFn, x = myDatePicker)"
   ]
  },
  {
   "cell_type": "markdown",
   "metadata": {},
   "source": [
    "#### @interact\n",
    "The @ symbol is called a decorator in Python and many packages have the capability of making functions more powerful by placing a \"@ function\" above a custom function you have created.\n",
    "\n",
    "In ipywidgets, the @interact can be placed above a function to create that function and also run it at the same time by creating an interactive widget."
   ]
  },
  {
   "cell_type": "code",
   "execution_count": 18,
   "metadata": {
    "execution": {
     "iopub.execute_input": "2021-11-04T11:52:43.397697Z",
     "iopub.status.busy": "2021-11-04T11:52:43.397697Z",
     "iopub.status.idle": "2021-11-04T11:52:43.496431Z",
     "shell.execute_reply": "2021-11-04T11:52:43.495433Z",
     "shell.execute_reply.started": "2021-11-04T11:52:43.397697Z"
    }
   },
   "outputs": [
    {
     "data": {
      "application/vnd.jupyter.widget-view+json": {
       "model_id": "3f43793e2e2043759c016b11831bd34b",
       "version_major": 2,
       "version_minor": 0
      },
      "text/plain": [
       "interactive(children=(Text(value='Hi', description='column'), IntSlider(value=5000, description='x', max=15000…"
      ]
     },
     "metadata": {},
     "output_type": "display_data"
    }
   ],
   "source": [
    "@interact\n",
    "def test(column='Hi', x=5000):\n",
    "    return column, x"
   ]
  },
  {
   "cell_type": "code",
   "execution_count": 19,
   "metadata": {},
   "outputs": [
    {
     "data": {
      "application/vnd.jupyter.widget-view+json": {
       "model_id": "00195dbe220e4a43a9da6483b4243dd7",
       "version_major": 2,
       "version_minor": 0
      },
      "text/plain": [
       "interactive(children=(Dropdown(description='pickIndex', options=('UKX', 'SPX', 'NKY'), value='UKX'), IntSlider…"
      ]
     },
     "metadata": {},
     "output_type": "display_data"
    }
   ],
   "source": [
    "#Following creates a dropdown, intslider, text and checkbox at the same time\n",
    "@interact\n",
    "def test(pickIndex=['UKX','SPX','NKY'], x=(100,200), pickTicker=\"AAPL\", show=True):\n",
    "    return pickIndex, x, pickTicker, show"
   ]
  },
  {
   "cell_type": "markdown",
   "metadata": {},
   "source": [
    "### <font color = 'blue'> Section 4 - Interactive Widgets with Graphs and DataFrames </font>"
   ]
  },
  {
   "cell_type": "code",
   "execution_count": 20,
   "metadata": {
    "execution": {
     "iopub.execute_input": "2021-11-04T22:48:08.227265Z",
     "iopub.status.busy": "2021-11-04T22:48:08.227265Z",
     "iopub.status.idle": "2021-11-04T22:48:08.805698Z",
     "shell.execute_reply": "2021-11-04T22:48:08.803702Z",
     "shell.execute_reply.started": "2021-11-04T22:48:08.227265Z"
    },
    "jupyter": {
     "outputs_hidden": true
    },
    "tags": []
   },
   "outputs": [
    {
     "data": {
      "text/html": [
       "<div>\n",
       "<style scoped>\n",
       "    .dataframe tbody tr th:only-of-type {\n",
       "        vertical-align: middle;\n",
       "    }\n",
       "\n",
       "    .dataframe tbody tr th {\n",
       "        vertical-align: top;\n",
       "    }\n",
       "\n",
       "    .dataframe thead th {\n",
       "        text-align: right;\n",
       "    }\n",
       "</style>\n",
       "<table border=\"1\" class=\"dataframe\">\n",
       "  <thead>\n",
       "    <tr style=\"text-align: right;\">\n",
       "      <th></th>\n",
       "      <th>DATE</th>\n",
       "      <th>ISSUER</th>\n",
       "      <th>TYPE</th>\n",
       "      <th>SIZE</th>\n",
       "      <th>INDUSTRY</th>\n",
       "      <th>LEAD UNDERWRITER</th>\n",
       "    </tr>\n",
       "  </thead>\n",
       "  <tbody>\n",
       "    <tr>\n",
       "      <th>436</th>\n",
       "      <td>2006-05-07</td>\n",
       "      <td>Tower Automotive Inc</td>\n",
       "      <td>Equity Follow-On Offering</td>\n",
       "      <td>206.250</td>\n",
       "      <td>Auto/Truck</td>\n",
       "      <td>Morgan Stanley</td>\n",
       "    </tr>\n",
       "    <tr>\n",
       "      <th>452</th>\n",
       "      <td>2006-05-09</td>\n",
       "      <td>Regent Communications, Inc.</td>\n",
       "      <td>Equity Follow-On Offering</td>\n",
       "      <td>78.750</td>\n",
       "      <td>Broadcasting</td>\n",
       "      <td>Robertson Stephens</td>\n",
       "    </tr>\n",
       "    <tr>\n",
       "      <th>192</th>\n",
       "      <td>2006-03-12</td>\n",
       "      <td>Bayer Corp.</td>\n",
       "      <td>Sr Notes</td>\n",
       "      <td>500.290</td>\n",
       "      <td>Chemicals</td>\n",
       "      <td>Credit Suisse First Boston</td>\n",
       "    </tr>\n",
       "    <tr>\n",
       "      <th>292</th>\n",
       "      <td>2006-03-26</td>\n",
       "      <td>Eastman Chemical Company</td>\n",
       "      <td>Sr Notes</td>\n",
       "      <td>400.150</td>\n",
       "      <td>Chemicals</td>\n",
       "      <td>J.P. Morgan</td>\n",
       "    </tr>\n",
       "    <tr>\n",
       "      <th>468</th>\n",
       "      <td>2006-05-16</td>\n",
       "      <td>IDEX Corporation</td>\n",
       "      <td>Equity Follow-On Offering</td>\n",
       "      <td>207.000</td>\n",
       "      <td>Chemicals</td>\n",
       "      <td>Merrill Lynch</td>\n",
       "    </tr>\n",
       "    <tr>\n",
       "      <th>...</th>\n",
       "      <td>...</td>\n",
       "      <td>...</td>\n",
       "      <td>...</td>\n",
       "      <td>...</td>\n",
       "      <td>...</td>\n",
       "      <td>...</td>\n",
       "    </tr>\n",
       "    <tr>\n",
       "      <th>17</th>\n",
       "      <td>2006-01-30</td>\n",
       "      <td>Chugach Electic Assoc Inc</td>\n",
       "      <td>Sr Notes</td>\n",
       "      <td>180.200</td>\n",
       "      <td>Utility</td>\n",
       "      <td>J.P. Morgan</td>\n",
       "    </tr>\n",
       "    <tr>\n",
       "      <th>498</th>\n",
       "      <td>2006-06-03</td>\n",
       "      <td>PSE&amp;G Energy Holdings Inc.</td>\n",
       "      <td>Notes</td>\n",
       "      <td>135.000</td>\n",
       "      <td>Utility</td>\n",
       "      <td>Lehman Brothers</td>\n",
       "    </tr>\n",
       "    <tr>\n",
       "      <th>406</th>\n",
       "      <td>2006-04-24</td>\n",
       "      <td>Duquesne Light Company</td>\n",
       "      <td>Preferred Securities</td>\n",
       "      <td>100.127</td>\n",
       "      <td>Utility</td>\n",
       "      <td>Salomon Smith Barney</td>\n",
       "    </tr>\n",
       "    <tr>\n",
       "      <th>200</th>\n",
       "      <td>2006-03-13</td>\n",
       "      <td>Mississippi Power Company</td>\n",
       "      <td>Sr Notes</td>\n",
       "      <td>80.200</td>\n",
       "      <td>Utility</td>\n",
       "      <td>Lehman Brothers</td>\n",
       "    </tr>\n",
       "    <tr>\n",
       "      <th>371</th>\n",
       "      <td>2006-04-17</td>\n",
       "      <td>West Penn Power Company</td>\n",
       "      <td>Notes</td>\n",
       "      <td>80.000</td>\n",
       "      <td>Utility</td>\n",
       "      <td>Bank One Capital Markets</td>\n",
       "    </tr>\n",
       "  </tbody>\n",
       "</table>\n",
       "<p>557 rows × 6 columns</p>\n",
       "</div>"
      ],
      "text/plain": [
       "          DATE                        ISSUER                       TYPE  \\\n",
       "436 2006-05-07         Tower Automotive Inc   Equity Follow-On Offering   \n",
       "452 2006-05-09  Regent Communications, Inc.   Equity Follow-On Offering   \n",
       "192 2006-03-12                  Bayer Corp.                    Sr Notes   \n",
       "292 2006-03-26     Eastman Chemical Company                    Sr Notes   \n",
       "468 2006-05-16             IDEX Corporation   Equity Follow-On Offering   \n",
       "..         ...                           ...                        ...   \n",
       "17  2006-01-30    Chugach Electic Assoc Inc                    Sr Notes   \n",
       "498 2006-06-03   PSE&G Energy Holdings Inc.                       Notes   \n",
       "406 2006-04-24       Duquesne Light Company        Preferred Securities   \n",
       "200 2006-03-13    Mississippi Power Company                    Sr Notes   \n",
       "371 2006-04-17      West Penn Power Company                       Notes   \n",
       "\n",
       "        SIZE      INDUSTRY            LEAD UNDERWRITER  \n",
       "436  206.250    Auto/Truck              Morgan Stanley  \n",
       "452   78.750  Broadcasting          Robertson Stephens  \n",
       "192  500.290     Chemicals  Credit Suisse First Boston  \n",
       "292  400.150     Chemicals                 J.P. Morgan  \n",
       "468  207.000     Chemicals               Merrill Lynch  \n",
       "..       ...           ...                         ...  \n",
       "17   180.200       Utility                 J.P. Morgan  \n",
       "498  135.000       Utility             Lehman Brothers  \n",
       "406  100.127       Utility        Salomon Smith Barney  \n",
       "200   80.200       Utility             Lehman Brothers  \n",
       "371   80.000       Utility    Bank One Capital Markets  \n",
       "\n",
       "[557 rows x 6 columns]"
      ]
     },
     "execution_count": 20,
     "metadata": {},
     "output_type": "execute_result"
    }
   ],
   "source": [
    "finData = pd.read_excel(\"ExData/Data Manipulation Worksheet.xlsx\", sheet_name=\"Financing Table Clean\")\n",
    "# finData\n",
    "# finData['INDUSTRY'].unique()\n",
    "\n",
    "# finData.sort_values(['INDUSTRY','SIZE'])\n",
    "finData.sort_values(['INDUSTRY','SIZE'], ascending=[True,False])\n",
    "\n",
    "# sectors = finData['INDUSTRY'].unique()\n",
    "# sectors.sort()\n",
    "# sectors = ['Health Care', 'Real Estate', 'Oil & Gas', 'Finance']\n",
    "# sectors.sort()\n",
    "# sectors"
   ]
  },
  {
   "cell_type": "code",
   "execution_count": 21,
   "metadata": {
    "execution": {
     "iopub.execute_input": "2021-11-04T22:48:37.071717Z",
     "iopub.status.busy": "2021-11-04T22:48:37.071717Z",
     "iopub.status.idle": "2021-11-04T22:48:37.098162Z",
     "shell.execute_reply": "2021-11-04T22:48:37.097164Z",
     "shell.execute_reply.started": "2021-11-04T22:48:37.071717Z"
    },
    "tags": []
   },
   "outputs": [
    {
     "data": {
      "text/plain": [
       "array(['Auto/Truck', 'Broadcasting', 'Chemicals',\n",
       "       'Computers & Electronics', 'Construction/Bldg Prods',\n",
       "       'Consumer Products', 'Defense Contractors', 'Electric Services ',\n",
       "       'Finance', 'Food & Beverage', 'Foreign Agency', 'Healthcare',\n",
       "       'Insurance', 'Leisure & Recreation', 'Machinery', 'Metal & Steel',\n",
       "       'Oil & Gas', 'Paper & Packaging', 'Professional Services',\n",
       "       'Real Estate', 'Retail', 'Telecommunications', 'Textile',\n",
       "       'Transportation', 'Utility'], dtype=object)"
      ]
     },
     "execution_count": 21,
     "metadata": {},
     "output_type": "execute_result"
    }
   ],
   "source": [
    "finData.sort_values(['INDUSTRY'])['INDUSTRY'].unique()\n",
    "\n",
    "# df = finData.sort_values(['INDUSTRY'])\n",
    "# df['INDUSTRY'].unique()"
   ]
  },
  {
   "cell_type": "code",
   "execution_count": 28,
   "metadata": {
    "execution": {
     "iopub.execute_input": "2021-11-04T22:49:57.717414Z",
     "iopub.status.busy": "2021-11-04T22:49:57.717414Z",
     "iopub.status.idle": "2021-11-04T22:50:04.592471Z",
     "shell.execute_reply": "2021-11-04T22:50:04.590477Z",
     "shell.execute_reply.started": "2021-11-04T22:49:57.717414Z"
    },
    "tags": []
   },
   "outputs": [
    {
     "data": {
      "application/vnd.jupyter.widget-view+json": {
       "model_id": "8331d0200ef246bbabfa4fb6c1de3cd6",
       "version_major": 2,
       "version_minor": 0
      },
      "text/plain": [
       "interactive(children=(Dropdown(description='Industry:', index=8, options=('Auto/Truck', 'Broadcasting', 'Chemi…"
      ]
     },
     "metadata": {},
     "output_type": "display_data"
    }
   ],
   "source": [
    "def sectorPlot(sector):\n",
    "    filterData = finData[finData['INDUSTRY'] == sector]\n",
    "    fig = px.bar(filterData, x='TYPE', y='SIZE', color='TYPE', title=\"Deal Value ($mm) by Type in: \" + sector)\n",
    "    fig.show()\n",
    "\n",
    "sectorDropDown = widgets.Dropdown(\n",
    "    options=finData.sort_values(['INDUSTRY'])['INDUSTRY'].unique(),\n",
    "    value='Finance',\n",
    "    description='Industry:',\n",
    "    disabled=False,\n",
    ")\n",
    "\n",
    "sectorPick = interact(sectorPlot, sector=sectorDropDown)"
   ]
  },
  {
   "cell_type": "markdown",
   "metadata": {},
   "source": [
    "#### Passing widgets to multiple functions\n",
    "- sometimes you don't want the widgets to get displayed right away and you might want to reuse them for multiple functions\n",
    "- in the example below if interact is used for the dropdowns, they will get created twice\n",
    "- instead the widgets can be linked to multiple functions using interactive_output()\n",
    "    - however, because the widgets are not created right away, the outputs needs to be created in a variable and displayed later\n",
    "\n",
    "- widgets.interactive_output(function, dict)\n",
    "    - dict keys are the name of the arguments used in the function, dict values are the passed widgets"
   ]
  },
  {
   "cell_type": "code",
   "execution_count": 26,
   "metadata": {
    "execution": {
     "iopub.execute_input": "2021-11-04T23:00:45.148526Z",
     "iopub.status.busy": "2021-11-04T23:00:45.148526Z",
     "iopub.status.idle": "2021-11-04T23:00:45.358971Z",
     "shell.execute_reply": "2021-11-04T23:00:45.356976Z",
     "shell.execute_reply.started": "2021-11-04T23:00:45.148526Z"
    },
    "tags": []
   },
   "outputs": [
    {
     "data": {
      "application/vnd.jupyter.widget-view+json": {
       "model_id": "b7e1a4e4d8b944cebe8a79fc6e2212bf",
       "version_major": 2,
       "version_minor": 0
      },
      "text/plain": [
       "Dropdown(description='Industry:', options=('Finance', 'Real Estate', 'Computers & Electronics', 'Utility', 'He…"
      ]
     },
     "metadata": {},
     "output_type": "display_data"
    },
    {
     "data": {
      "application/vnd.jupyter.widget-view+json": {
       "model_id": "b4304ebfd5a0458987a57e01770d74af",
       "version_major": 2,
       "version_minor": 0
      },
      "text/plain": [
       "Dropdown(description='Type of Deal:', options=('Global Notes', 'Initial Public Offering', 'CD Notes', 'Equity …"
      ]
     },
     "metadata": {},
     "output_type": "display_data"
    },
    {
     "data": {
      "application/vnd.jupyter.widget-view+json": {
       "model_id": "af2d9833cae34f84a462f161cba002c0",
       "version_major": 2,
       "version_minor": 0
      },
      "text/plain": [
       "Checkbox(value=False, description='Ignore Dropdowns')"
      ]
     },
     "metadata": {},
     "output_type": "display_data"
    },
    {
     "data": {
      "application/vnd.jupyter.widget-view+json": {
       "model_id": "4ec49e2b488d49fb8fcdb09717b699f9",
       "version_major": 2,
       "version_minor": 0
      },
      "text/plain": [
       "Output()"
      ]
     },
     "metadata": {},
     "output_type": "display_data"
    },
    {
     "data": {
      "application/vnd.jupyter.widget-view+json": {
       "model_id": "32ac1f190eb842f9ad581a7cf9067e95",
       "version_major": 2,
       "version_minor": 0
      },
      "text/plain": [
       "Output()"
      ]
     },
     "metadata": {},
     "output_type": "display_data"
    }
   ],
   "source": [
    "#Passing widgets to multiple functions\n",
    "# from ipywidgets import interactive_output\n",
    "\n",
    "#Functions\n",
    "def filterDF(sector, dealType, showAll):\n",
    "    filterData = finData[(finData['INDUSTRY'] == sector) & (finData['TYPE'] == dealType)]\n",
    "    if showAll:\n",
    "        display(finData)\n",
    "    else:\n",
    "        display(filterData)\n",
    "\n",
    "def sumifSize(sector, dealType):\n",
    "    filterData = finData[(finData['INDUSTRY'] == sector) & (finData['TYPE'] == dealType)]\n",
    "    total = filterData['SIZE'].sum()\n",
    "    print(\"Total size of {} deals in {}: ${:,.1f}\".format(dealType, sector, total))\n",
    "\n",
    "#Widgets\n",
    "sectorDrop = widgets.Dropdown(\n",
    "    options=finData['INDUSTRY'].unique(),\n",
    "    value='Finance',\n",
    "    description='Industry:',\n",
    "    disabled=False,\n",
    ")\n",
    "\n",
    "typeDrop = widgets.Dropdown(\n",
    "    options=finData['TYPE'].unique(),\n",
    "    value='Global Notes',\n",
    "    description='Type of Deal:',\n",
    "    disabled=False,\n",
    ")\n",
    "\n",
    "showAllCheck = widgets.Checkbox(\n",
    "    value=False,\n",
    "    description='Ignore Dropdowns'\n",
    ")\n",
    "\n",
    "showPivotCheck = widgets.Checkbox(\n",
    "    value=False,\n",
    "    description='Show Pivot Table'\n",
    ")\n",
    "\n",
    "#Interact Calls\n",
    "#totalSize = interact(sumifSize, sector=sectorDrop, dealType=typeDrop)\n",
    "#sectorPickDF = interact(filterDF, sector=sectorDrop, dealType=typeDrop, showAll = showAllCheck)\n",
    "# #     #note how the dropdowns appear twice\n",
    "    \n",
    "#Using Interact Output\n",
    "output1 = widgets.interactive_output(sumifSize, {\"sector\":sectorDrop, \"dealType\":typeDrop})\n",
    "output2 = widgets.interactive_output(filterDF, {\"sector\":sectorDrop, \n",
    "                                                \"dealType\":typeDrop,\n",
    "                                                \"showAll\":showAllCheck})\n",
    "\n",
    "display(sectorDrop, typeDrop, showAllCheck)\n",
    "display(output1)\n",
    "display(output2)"
   ]
  },
  {
   "cell_type": "code",
   "execution_count": null,
   "metadata": {},
   "outputs": [],
   "source": []
  },
  {
   "cell_type": "markdown",
   "metadata": {},
   "source": [
    "#### Changing the layouts\n",
    "- widgets.VBox and widgets.HBox allow configurations of the widgets in a vertical or horizontal box"
   ]
  },
  {
   "cell_type": "code",
   "execution_count": 25,
   "metadata": {
    "execution": {
     "iopub.execute_input": "2021-11-04T23:02:26.067526Z",
     "iopub.status.busy": "2021-11-04T23:02:26.067526Z",
     "iopub.status.idle": "2021-11-04T23:02:26.107931Z",
     "shell.execute_reply": "2021-11-04T23:02:26.106934Z",
     "shell.execute_reply.started": "2021-11-04T23:02:26.067526Z"
    },
    "tags": []
   },
   "outputs": [
    {
     "data": {
      "application/vnd.jupyter.widget-view+json": {
       "model_id": "28044158c0d94a8386cae4e9ad14c164",
       "version_major": 2,
       "version_minor": 0
      },
      "text/plain": [
       "VBox(children=(HBox(children=(Dropdown(description='Industry:', options=('Finance', 'Real Estate', 'Computers …"
      ]
     },
     "metadata": {},
     "output_type": "display_data"
    }
   ],
   "source": [
    "widgets.VBox([widgets.HBox([sectorDrop, typeDrop, showAllCheck]), output1, output2])"
   ]
  },
  {
   "attachments": {
    "image-2.png": {
     "image/png": "[encoded data removed]"
    },
    "image-3.png": {
     "image/png": "[encoded data removed]"
    },
    "image.png": {
     "image/png": "[encoded data removed]"
    }
   },
   "cell_type": "markdown",
   "metadata": {},
   "source": [
    "### <font color = 'blue'> Section 5 - Creating a Dashboard with Voilà </font>\n",
    "Voià package helps create a stand-alone dashboard that users can interact with, without seeing the coding cells.\n",
    "\n",
    "Documentation: https://voila.readthedocs.io/en/latest/?badge=latest\n",
    "\n",
    "In Jupyter Notebooks a preview can be launched by clicking on the Voila icon once Voila is installed on Anaconda:\n",
    "\n",
    "![image.png](attachment:image.png)\n",
    "\n",
    "In Jupyter Lab, this can be launched by clicking this icon:\n",
    "\n",
    "![image-3.png](attachment:image-3.png)\n",
    "\n",
    "or by searching for voila in the search menu:\n",
    "\n",
    "![image-2.png](attachment:image-2.png)\n"
   ]
  }
 ],
 "metadata": {
  "kernelspec": {
   "display_name": "Python 3 (ipykernel)",
   "language": "python",
   "name": "python3"
  },
  "language_info": {
   "codemirror_mode": {
    "name": "ipython",
    "version": 3
   },
   "file_extension": ".py",
   "mimetype": "text/x-python",
   "name": "python",
   "nbconvert_exporter": "python",
   "pygments_lexer": "ipython3",
   "version": "3.9.17"
  },
  "widgets": {
   "application/vnd.jupyter.widget-state+json": {
    "state": {
     "0017930bc97941bab467e33f5de847a4": {
      "model_module": "@jupyter-widgets/controls",
      "model_module_version": "1.5.0",
      "model_name": "CheckboxModel",
      "state": {
       "description": "show",
       "disabled": false,
       "layout": "IPY_MODEL_8b1518c5132a4d1e806e4c3a7406b3c5",
       "style": "IPY_MODEL_1d12493f1e3941bdbf4d98ea6ecce588",
       "value": true
      }
     },
     "00c02be981df4dd39d8543f7cc1d0dcd": {
      "model_module": "@jupyter-widgets/controls",
      "model_module_version": "1.5.0",
      "model_name": "DescriptionStyleModel",
      "state": {
       "description_width": ""
      }
     },
     "0104336933144b1391bdca452a7b06e3": {
      "model_module": "@jupyter-widgets/output",
      "model_module_version": "1.0.0",
      "model_name": "OutputModel",
      "state": {
       "layout": "IPY_MODEL_233bec3baf6041c78da94289e1a8c94a",
       "outputs": [
        {
         "data": {
          "text/html": "<div>\n<style scoped>\n    .dataframe tbody tr th:only-of-type {\n        vertical-align: middle;\n    }\n\n    .dataframe tbody tr th {\n        vertical-align: top;\n    }\n\n    .dataframe thead th {\n        text-align: right;\n    }\n</style>\n<table border=\"1\" class=\"dataframe\">\n  <thead>\n    <tr style=\"text-align: right;\">\n      <th></th>\n      <th>DATE</th>\n      <th>ISSUER</th>\n      <th>TYPE</th>\n      <th>SIZE</th>\n      <th>INDUSTRY</th>\n      <th>LEAD UNDERWRITER</th>\n    </tr>\n  </thead>\n  <tbody>\n    <tr>\n      <th>279</th>\n      <td>2006-03-25</td>\n      <td>BP Amoco plc</td>\n      <td>Global Notes</td>\n      <td>500.21</td>\n      <td>Oil &amp; Gas</td>\n      <td>Morgan Stanley</td>\n    </tr>\n    <tr>\n      <th>341</th>\n      <td>2006-04-09</td>\n      <td>Kerr-McGee Corp.</td>\n      <td>Global Notes</td>\n      <td>350.15</td>\n      <td>Oil &amp; Gas</td>\n      <td>Credit Suisse First Boston</td>\n    </tr>\n  </tbody>\n</table>\n</div>",
          "text/plain": "          DATE             ISSUER          TYPE    SIZE   INDUSTRY  \\\n279 2006-03-25      BP Amoco plc   Global Notes  500.21  Oil & Gas   \n341 2006-04-09  Kerr-McGee Corp.   Global Notes  350.15  Oil & Gas   \n\n               LEAD UNDERWRITER  \n279              Morgan Stanley  \n341  Credit Suisse First Boston  "
         },
         "metadata": {},
         "output_type": "display_data"
        }
       ]
      }
     },
     "0174567e10254c1b81348f03747024c3": {
      "model_module": "@jupyter-widgets/base",
      "model_module_version": "1.2.0",
      "model_name": "LayoutModel",
      "state": {}
     },
     "01fb9d3831c648848bc5129d5c7677b1": {
      "model_module": "@jupyter-widgets/output",
      "model_module_version": "1.0.0",
      "model_name": "OutputModel",
      "state": {
       "layout": "IPY_MODEL_edb573fbdce24d5aa9a92f06d60cdb8f",
       "outputs": [
        {
         "data": {
          "text/plain": "('UKX', 150, 'AAPL', True)"
         },
         "metadata": {},
         "output_type": "display_data"
        }
       ]
      }
     },
     "02fb1cbb8d1e4efea4b7fc850cc2504d": {
      "model_module": "@jupyter-widgets/controls",
      "model_module_version": "1.5.0",
      "model_name": "DescriptionStyleModel",
      "state": {
       "description_width": ""
      }
     },
     "030ba016a55f478190666c8f0a66aeaf": {
      "model_module": "@jupyter-widgets/base",
      "model_module_version": "1.2.0",
      "model_name": "LayoutModel",
      "state": {}
     },
     "03207424490a4d27bcb1c6582f9005e7": {
      "model_module": "@jupyter-widgets/base",
      "model_module_version": "1.2.0",
      "model_name": "LayoutModel",
      "state": {}
     },
     "0327ab9fd8e2499db8f6b7d61948e203": {
      "model_module": "@jupyter-widgets/controls",
      "model_module_version": "1.5.0",
      "model_name": "VBoxModel",
      "state": {
       "_dom_classes": [
        "widget-interact"
       ],
       "layout": "IPY_MODEL_227453b621f44655b0f2f1f4bd81a34c"
      }
     },
     "0393c17302b94cbfbfed98f17b22ecc0": {
      "model_module": "@jupyter-widgets/output",
      "model_module_version": "1.0.0",
      "model_name": "OutputModel",
      "state": {
       "layout": "IPY_MODEL_c8127ca3935b45e48ef36d6b8bb11d4d",
       "outputs": [
        {
         "name": "stdout",
         "output_type": "stream",
         "text": "19\n"
        }
       ]
      }
     },
     "069b71770b1549a1aec384979916d701": {
      "model_module": "@jupyter-widgets/base",
      "model_module_version": "1.2.0",
      "model_name": "LayoutModel",
      "state": {}
     },
     "08bf8b2d290a4a88b402736bc2afcbb9": {
      "model_module": "@jupyter-widgets/controls",
      "model_module_version": "1.5.0",
      "model_name": "VBoxModel",
      "state": {
       "_dom_classes": [
        "widget-interact"
       ],
       "children": [
        "IPY_MODEL_af7bd678c838452d88fce0c1e26e0b22",
        "IPY_MODEL_ba61d95e8bf94f28838ae4ecaeed48fa"
       ],
       "layout": "IPY_MODEL_e02c7335a116475b870a8a868146aaba"
      }
     },
     "0b4b59b93a6d4d8bb09f2860505868e6": {
      "model_module": "@jupyter-widgets/base",
      "model_module_version": "1.2.0",
      "model_name": "LayoutModel",
      "state": {}
     },
     "0ce5469fb66a4fbb8c5f91a8d6dbc345": {
      "model_module": "@jupyter-widgets/base",
      "model_module_version": "1.2.0",
      "model_name": "LayoutModel",
      "state": {}
     },
     "0e0d7cac77154d2fb8ae51fd8e4a1d66": {
      "model_module": "@jupyter-widgets/controls",
      "model_module_version": "1.5.0",
      "model_name": "RadioButtonsModel",
      "state": {
       "_options_labels": [
        "UKX",
        "SPX",
        "NKY"
       ],
       "description": "pickIndex",
       "index": 0,
       "layout": "IPY_MODEL_7b4d0d32b0574438a18ae90298cc1314",
       "style": "IPY_MODEL_5e468b767f5c40618976fd879da5a7b8"
      }
     },
     "0ec0f21b21cf4478b4da1fb1d3665fa6": {
      "model_module": "@jupyter-widgets/base",
      "model_module_version": "1.2.0",
      "model_name": "LayoutModel",
      "state": {}
     },
     "0f1149f9d84b40acb4b22f3618b8aa68": {
      "model_module": "@jupyter-widgets/base",
      "model_module_version": "1.2.0",
      "model_name": "LayoutModel",
      "state": {}
     },
     "0fbd0efb00d341eeae2f339dfcf0cc03": {
      "model_module": "@jupyter-widgets/output",
      "model_module_version": "1.0.0",
      "model_name": "OutputModel",
      "state": {
       "layout": "IPY_MODEL_7454b3caa0c94ef5adcc730427bbb82d",
       "outputs": [
        {
         "name": "stdout",
         "output_type": "stream",
         "text": "Total size of Sr Notes deals in Retail: $550.2\n"
        }
       ]
      }
     },
     "1029655ed3f246f89c53efb810c4acc3": {
      "model_module": "@jupyter-widgets/controls",
      "model_module_version": "1.5.0",
      "model_name": "SliderStyleModel",
      "state": {
       "description_width": ""
      }
     },
     "1151134cb0e542728490b3ada57957ad": {
      "model_module": "@jupyter-widgets/controls",
      "model_module_version": "1.5.0",
      "model_name": "VBoxModel",
      "state": {
       "_dom_classes": [
        "widget-interact"
       ],
       "children": [
        "IPY_MODEL_3332a9df824c4c14b82e3825cd445082",
        "IPY_MODEL_2dcf790630df4115963ac9e0db7b46ce",
        "IPY_MODEL_784e8f626e164bd59af7d3b42b9a9f86"
       ],
       "layout": "IPY_MODEL_84d525e5b40841f39c443ab8492800a5"
      }
     },
     "11635b60970e4458890879804150e205": {
      "model_module": "@jupyter-widgets/controls",
      "model_module_version": "1.5.0",
      "model_name": "DropdownModel",
      "state": {
       "_options_labels": [
        "1",
        "2",
        "3"
       ],
       "description": "Number:",
       "index": 1,
       "layout": "IPY_MODEL_f709dec1410144c7a129b8b23d89efd6",
       "style": "IPY_MODEL_68795ac43e9f4c51bf34cc99419caa03"
      }
     },
     "1167c3692d4844e89f1dcfe812aaad21": {
      "model_module": "@jupyter-widgets/output",
      "model_module_version": "1.0.0",
      "model_name": "OutputModel",
      "state": {
       "layout": "IPY_MODEL_d0fc8057e91044b990cf586016053098",
       "outputs": [
        {
         "data": {
          "application/vnd.plotly.v1+json": {
           "config": {
            "plotlyServerURL": "https://plot.ly"
           },
           "data": [
            {
             "alignmentgroup": "True",
             "hovertemplate": "TYPE=%{x}<br>SIZE=%{y}<extra></extra>",
             "legendgroup": "Global Notes",
             "marker": {
              "color": "#636efa"
             },
             "name": "Global Notes",
             "offsetgroup": "Global Notes",
             "orientation": "v",
             "showlegend": true,
             "textposition": "auto",
             "type": "bar",
             "x": [
              "Global Notes",
              "Global Notes",
              "Global Notes",
              "Global Notes",
              "Global Notes",
              "Global Notes",
              "Global Notes",
              "Global Notes",
              "Global Notes",
              "Global Notes",
              "Global Notes",
              "Global Notes",
              "Global Notes",
              "Global Notes",
              "Global Notes",
              "Global Notes",
              "Global Notes",
              "Global Notes",
              "Global Notes",
              "Global Notes",
              "Global Notes",
              "Global Notes",
              "Global Notes",
              "Global Notes",
              "Global Notes",
              "Global Notes",
              "Global Notes",
              "Global Notes",
              "Global Notes",
              "Global Notes",
              "Global Notes"
             ],
             "xaxis": "x",
             "y": [
              1000.21,
              100.21,
              200.54,
              1250.3,
              1100,
              1500.13,
              1500.11,
              1500.12,
              500.36,
              1250.2,
              500.33,
              325.1,
              100.178,
              2000,
              1500.1,
              1000.15,
              750.1,
              313,
              1000.13,
              700.12,
              570,
              650,
              250.21,
              100.113,
              180,
              200.17,
              1000.11,
              1000.1,
              300.15,
              1250.1,
              200.1
             ],
             "yaxis": "y"
            },
            {
             "alignmentgroup": "True",
             "hovertemplate": "TYPE=%{x}<br>SIZE=%{y}<extra></extra>",
             "legendgroup": "Initial Public Offering",
             "marker": {
              "color": "#EF553B"
             },
             "name": "Initial Public Offering",
             "offsetgroup": "Initial Public Offering",
             "orientation": "v",
             "showlegend": true,
             "textposition": "auto",
             "type": "bar",
             "x": [
              "Initial Public Offering",
              "Initial Public Offering",
              "Initial Public Offering",
              "Initial Public Offering",
              "Initial Public Offering",
              "Initial Public Offering",
              "Initial Public Offering"
             ],
             "xaxis": "x",
             "y": [
              283.6,
              117.1,
              68.63,
              70.2,
              105.1,
              140.1,
              543.75
             ],
             "yaxis": "y"
            },
            {
             "alignmentgroup": "True",
             "hovertemplate": "TYPE=%{x}<br>SIZE=%{y}<extra></extra>",
             "legendgroup": "CD Notes",
             "marker": {
              "color": "#00cc96"
             },
             "name": "CD Notes",
             "offsetgroup": "CD Notes",
             "orientation": "v",
             "showlegend": true,
             "textposition": "auto",
             "type": "bar",
             "x": [
              "CD Notes",
              "CD Notes",
              "CD Notes",
              "CD Notes",
              "CD Notes",
              "CD Notes",
              "CD Notes",
              "CD Notes",
              "CD Notes",
              "CD Notes",
              "CD Notes",
              "CD Notes",
              "CD Notes",
              "CD Notes",
              "CD Notes",
              "CD Notes",
              "CD Notes",
              "CD Notes",
              "CD Notes",
              "CD Notes",
              "CD Notes",
              "CD Notes",
              "CD Notes",
              "CD Notes",
              "CD Notes",
              "CD Notes",
              "CD Notes",
              "CD Notes",
              "CD Notes",
              "CD Notes",
              "CD Notes",
              "CD Notes",
              "CD Notes",
              "CD Notes",
              "CD Notes",
              "CD Notes",
              "CD Notes",
              "CD Notes",
              "CD Notes",
              "CD Notes",
              "CD Notes",
              "CD Notes",
              "CD Notes",
              "CD Notes",
              "CD Notes",
              "CD Notes",
              "CD Notes",
              "CD Notes",
              "CD Notes",
              "CD Notes",
              "CD Notes",
              "CD Notes",
              "CD Notes",
              "CD Notes",
              "CD Notes",
              "CD Notes",
              "CD Notes",
              "CD Notes",
              "CD Notes",
              "CD Notes",
              "CD Notes",
              "CD Notes",
              "CD Notes",
              "CD Notes",
              "CD Notes",
              "CD Notes",
              "CD Notes",
              "CD Notes",
              "CD Notes",
              "CD Notes",
              "CD Notes",
              "CD Notes",
              "CD Notes",
              "CD Notes",
              "CD Notes",
              "CD Notes",
              "CD Notes",
              "CD Notes",
              "CD Notes",
              "CD Notes",
              "CD Notes",
              "CD Notes",
              "CD Notes",
              "CD Notes",
              "CD Notes",
              "CD Notes",
              "CD Notes",
              "CD Notes",
              "CD Notes",
              "CD Notes",
              "CD Notes",
              "CD Notes",
              "CD Notes",
              "CD Notes",
              "CD Notes",
              "CD Notes",
              "CD Notes",
              "CD Notes",
              "CD Notes",
              "CD Notes",
              "CD Notes",
              "CD Notes",
              "CD Notes",
              "CD Notes",
              "CD Notes",
              "CD Notes",
              "CD Notes",
              "CD Notes",
              "CD Notes",
              "CD Notes",
              "CD Notes",
              "CD Notes",
              "CD Notes",
              "CD Notes",
              "CD Notes",
              "CD Notes",
              "CD Notes",
              "CD Notes",
              "CD Notes",
              "CD Notes",
              "CD Notes",
              "CD Notes",
              "CD Notes",
              "CD Notes",
              "CD Notes",
              "CD Notes",
              "CD Notes",
              "CD Notes",
              "CD Notes",
              "CD Notes",
              "CD Notes",
              "CD Notes",
              "CD Notes",
              "CD Notes",
              "CD Notes",
              "CD Notes",
              "CD Notes",
              "CD Notes",
              "CD Notes",
              "CD Notes",
              "CD Notes",
              "CD Notes",
              "CD Notes",
              "CD Notes",
              "CD Notes",
              "CD Notes",
              "CD Notes",
              "CD Notes",
              "CD Notes",
              "CD Notes",
              "CD Notes",
              "CD Notes",
              "CD Notes",
              "CD Notes",
              "CD Notes",
              "CD Notes",
              "CD Notes",
              "CD Notes",
              "CD Notes",
              "CD Notes",
              "CD Notes",
              "CD Notes",
              "CD Notes",
              "CD Notes",
              "CD Notes",
              "CD Notes",
              "CD Notes",
              "CD Notes",
              "CD Notes",
              "CD Notes",
              "CD Notes",
              "CD Notes",
              "CD Notes",
              "CD Notes",
              "CD Notes",
              "CD Notes",
              "CD Notes",
              "CD Notes",
              "CD Notes",
              "CD Notes",
              "CD Notes",
              "CD Notes",
              "CD Notes",
              "CD Notes",
              "CD Notes",
              "CD Notes",
              "CD Notes",
              "CD Notes",
              "CD Notes",
              "CD Notes",
              "CD Notes",
              "CD Notes",
              "CD Notes",
              "CD Notes",
              "CD Notes",
              "CD Notes",
              "CD Notes",
              "CD Notes",
              "CD Notes",
              "CD Notes",
              "CD Notes",
              "CD Notes",
              "CD Notes",
              "CD Notes",
              "CD Notes",
              "CD Notes",
              "CD Notes",
              "CD Notes",
              "CD Notes",
              "CD Notes",
              "CD Notes",
              "CD Notes",
              "CD Notes",
              "CD Notes",
              "CD Notes",
              "CD Notes",
              "CD Notes",
              "CD Notes",
              "CD Notes",
              "CD Notes",
              "CD Notes",
              "CD Notes",
              "CD Notes",
              "CD Notes",
              "CD Notes",
              "CD Notes",
              "CD Notes",
              "CD Notes",
              "CD Notes",
              "CD Notes",
              "CD Notes",
              "CD Notes",
              "CD Notes",
              "CD Notes",
              "CD Notes",
              "CD Notes",
              "CD Notes",
              "CD Notes",
              "CD Notes"
             ],
             "xaxis": "x",
             "y": [
              200.58,
              80.3,
              1000.2,
              125.4,
              100.211,
              100.209,
              200.57,
              155.2,
              100.208,
              90.2,
              100.207,
              700.14,
              650.1,
              350.23,
              300.42,
              200.56,
              195,
              150.27,
              105.11,
              60.2,
              200.55,
              130.1,
              100.205,
              100.203,
              85,
              100.202,
              200.53,
              100.201,
              250.36,
              100.2,
              90.1,
              125.3,
              100.196,
              100.197,
              205.1,
              100.193,
              300.4,
              200.51,
              100.192,
              65.2,
              100.19,
              65.1,
              55.1,
              155.1,
              100.188,
              500.34,
              350.19,
              350.2,
              350.21,
              200.48,
              200.49,
              60,
              275,
              200.47,
              150.24,
              100.187,
              250.32,
              210.1,
              100.186,
              150.23,
              100.182,
              100.183,
              100.184,
              100.185,
              65,
              500.3,
              300.35,
              125.2,
              100.18,
              1000.18,
              150.21,
              150.22,
              100.179,
              200.46,
              75.4,
              200.44,
              100.176,
              500.27,
              500.28,
              300.32,
              200.43,
              150.2,
              125.1,
              100.173,
              100.174,
              800,
              500.24,
              500.26,
              250.29,
              200.42,
              1000.17,
              600.2,
              250.28,
              100.168,
              100.169,
              100.17,
              100.171,
              100.172,
              500.23,
              400.16,
              300.31,
              267,
              250.27,
              200.41,
              150.19,
              130,
              100.164,
              100.165,
              100.166,
              100.167,
              54.36,
              550.1,
              500.22,
              300.3,
              250.26,
              206.1,
              200.4,
              100.161,
              100.162,
              100.163,
              95,
              550,
              350.17,
              325,
              200.39,
              100.156,
              100.157,
              100.158,
              100.159,
              100.16,
              310,
              300.28,
              300.29,
              250.25,
              200.37,
              200.38,
              150.17,
              100.155,
              500.19,
              500.2,
              450.3,
              360,
              300.26,
              300.27,
              250.24,
              200.36,
              190,
              150.15,
              150.16,
              100.149,
              100.15,
              100.151,
              100.152,
              100.153,
              100.154,
              80.1,
              625,
              300.25,
              200.35,
              100.148,
              150.14,
              500.18,
              100.147,
              200.31,
              200.33,
              150.13,
              100.143,
              1000.14,
              188,
              100.142,
              200.3,
              100.141,
              700.13,
              260,
              225.2,
              100.139,
              100.135,
              200.28,
              100.134,
              100.132,
              100.133,
              200.27,
              54.79,
              100.13,
              1200,
              200.25,
              100.128,
              100.129,
              206,
              180.1,
              500.16,
              475,
              300.21,
              300.22,
              300.23,
              205,
              200.22,
              200.23,
              200.24,
              150.12,
              100.124,
              100.125,
              100.126,
              1000.12,
              250.22,
              100.123,
              300.19,
              300.2,
              200.19,
              100.119,
              100.12,
              100.117,
              70,
              100.114,
              100.115,
              100.116,
              200.18,
              150.1,
              100.111,
              100.112,
              100.11,
              100.109,
              250.17,
              250.18,
              250.16,
              80.8,
              100.106,
              55.19,
              500.11,
              100.104,
              500.1,
              250.12,
              100.103,
              100.102,
              200.11,
              100.1,
              500,
              350.1,
              300.11
             ],
             "yaxis": "y"
            },
            {
             "alignmentgroup": "True",
             "hovertemplate": "TYPE=%{x}<br>SIZE=%{y}<extra></extra>",
             "legendgroup": "Bank Notes",
             "marker": {
              "color": "#ab63fa"
             },
             "name": "Bank Notes",
             "offsetgroup": "Bank Notes",
             "orientation": "v",
             "showlegend": true,
             "textposition": "auto",
             "type": "bar",
             "x": [
              "Bank Notes",
              "Bank Notes",
              "Bank Notes",
              "Bank Notes",
              "Bank Notes",
              "Bank Notes",
              "Bank Notes",
              "Bank Notes",
              "Bank Notes",
              "Bank Notes",
              "Bank Notes",
              "Bank Notes",
              "Bank Notes",
              "Bank Notes",
              "Bank Notes",
              "Bank Notes",
              "Bank Notes",
              "Bank Notes",
              "Bank Notes",
              "Bank Notes",
              "Bank Notes",
              "Bank Notes",
              "Bank Notes",
              "Bank Notes",
              "Bank Notes",
              "Bank Notes",
              "Bank Notes",
              "Bank Notes",
              "Bank Notes",
              "Bank Notes",
              "Bank Notes",
              "Bank Notes",
              "Bank Notes",
              "Bank Notes",
              "Bank Notes",
              "Bank Notes",
              "Bank Notes",
              "Bank Notes",
              "Bank Notes"
             ],
             "xaxis": "x",
             "y": [
              100.212,
              125.41,
              150.26,
              115,
              100.198,
              100.199,
              100.194,
              100.195,
              200.52,
              65.3,
              60.1,
              100.191,
              200.5,
              100.18900000000001,
              300.37,
              150.25,
              160,
              500.25,
              150.18,
              225.3,
              100.146,
              350.16,
              100.144,
              100.137,
              100.131,
              75.3,
              500.15,
              200.21,
              100.121,
              500.14,
              100.118,
              100.108,
              500.13,
              200.16,
              300.16,
              100.105,
              210,
              91,
              75
             ],
             "yaxis": "y"
            },
            {
             "alignmentgroup": "True",
             "hovertemplate": "TYPE=%{x}<br>SIZE=%{y}<extra></extra>",
             "legendgroup": "Bonds",
             "marker": {
              "color": "#FFA15A"
             },
             "name": "Bonds",
             "offsetgroup": "Bonds",
             "orientation": "v",
             "showlegend": true,
             "textposition": "auto",
             "type": "bar",
             "x": [
              "Bonds",
              "Bonds",
              "Bonds",
              "Bonds"
             ],
             "xaxis": "x",
             "y": [
              69.7,
              300.38,
              250.34,
              150.11
             ],
             "yaxis": "y"
            },
            {
             "alignmentgroup": "True",
             "hovertemplate": "TYPE=%{x}<br>SIZE=%{y}<extra></extra>",
             "legendgroup": "Sr Notes",
             "marker": {
              "color": "#19d3f3"
             },
             "name": "Sr Notes",
             "offsetgroup": "Sr Notes",
             "orientation": "v",
             "showlegend": true,
             "textposition": "auto",
             "type": "bar",
             "x": [
              "Sr Notes",
              "Sr Notes",
              "Sr Notes",
              "Sr Notes",
              "Sr Notes",
              "Sr Notes",
              "Sr Notes",
              "Sr Notes",
              "Sr Notes",
              "Sr Notes",
              "Sr Notes",
              "Sr Notes",
              "Sr Notes",
              "Sr Notes",
              "Sr Notes"
             ],
             "xaxis": "x",
             "y": [
              250.38,
              110,
              300.39,
              120,
              500.32,
              100.175,
              614.9,
              100.14,
              300.17,
              250.19,
              500.12,
              250.15,
              3000,
              250.11,
              250.1
             ],
             "yaxis": "y"
            },
            {
             "alignmentgroup": "True",
             "hovertemplate": "TYPE=%{x}<br>SIZE=%{y}<extra></extra>",
             "legendgroup": "Notes",
             "marker": {
              "color": "#FF6692"
             },
             "name": "Notes",
             "offsetgroup": "Notes",
             "orientation": "v",
             "showlegend": true,
             "textposition": "auto",
             "type": "bar",
             "x": [
              "Notes",
              "Notes",
              "Notes",
              "Notes",
              "Notes",
              "Notes",
              "Notes",
              "Notes",
              "Notes",
              "Notes",
              "Notes",
              "Notes",
              "Notes",
              "Notes",
              "Notes"
             ],
             "xaxis": "x",
             "y": [
              100.206,
              1000.19,
              100.181,
              300.34,
              100.136,
              100.138,
              300.18,
              600.1,
              400.13,
              2000.1,
              400.12,
              400.11,
              600,
              350.13,
              200.14
             ],
             "yaxis": "y"
            },
            {
             "alignmentgroup": "True",
             "hovertemplate": "TYPE=%{x}<br>SIZE=%{y}<extra></extra>",
             "legendgroup": "Equity Follow-On Offering",
             "marker": {
              "color": "#B6E880"
             },
             "name": "Equity Follow-On Offering",
             "offsetgroup": "Equity Follow-On Offering",
             "orientation": "v",
             "showlegend": true,
             "textposition": "auto",
             "type": "bar",
             "x": [
              "Equity Follow-On Offering",
              "Equity Follow-On Offering",
              "Equity Follow-On Offering",
              "Equity Follow-On Offering"
             ],
             "xaxis": "x",
             "y": [
              74.1,
              85.09,
              220,
              54
             ],
             "yaxis": "y"
            },
            {
             "alignmentgroup": "True",
             "hovertemplate": "TYPE=%{x}<br>SIZE=%{y}<extra></extra>",
             "legendgroup": "Mortgage Bonds",
             "marker": {
              "color": "#FF97FF"
             },
             "name": "Mortgage Bonds",
             "offsetgroup": "Mortgage Bonds",
             "orientation": "v",
             "showlegend": true,
             "textposition": "auto",
             "type": "bar",
             "x": [
              "Mortgage Bonds"
             ],
             "xaxis": "x",
             "y": [
              349
             ],
             "yaxis": "y"
            },
            {
             "alignmentgroup": "True",
             "hovertemplate": "TYPE=%{x}<br>SIZE=%{y}<extra></extra>",
             "legendgroup": "Preferred Securities",
             "marker": {
              "color": "#FECB52"
             },
             "name": "Preferred Securities",
             "offsetgroup": "Preferred Securities",
             "orientation": "v",
             "showlegend": true,
             "textposition": "auto",
             "type": "bar",
             "x": [
              "Preferred Securities",
              "Preferred Securities",
              "Preferred Securities",
              "Preferred Securities",
              "Preferred Securities",
              "Preferred Securities",
              "Preferred Securities"
             ],
             "xaxis": "x",
             "y": [
              500.37,
              137.5,
              100.145,
              63.78,
              1000,
              400,
              300.1
             ],
             "yaxis": "y"
            }
           ],
           "layout": {
            "barmode": "relative",
            "legend": {
             "title": {
              "text": "TYPE"
             },
             "tracegroupgap": 0
            },
            "template": {
             "data": {
              "bar": [
               {
                "error_x": {
                 "color": "#2a3f5f"
                },
                "error_y": {
                 "color": "#2a3f5f"
                },
                "marker": {
                 "line": {
                  "color": "#E5ECF6",
                  "width": 0.5
                 }
                },
                "type": "bar"
               }
              ],
              "barpolar": [
               {
                "marker": {
                 "line": {
                  "color": "#E5ECF6",
                  "width": 0.5
                 }
                },
                "type": "barpolar"
               }
              ],
              "carpet": [
               {
                "aaxis": {
                 "endlinecolor": "#2a3f5f",
                 "gridcolor": "white",
                 "linecolor": "white",
                 "minorgridcolor": "white",
                 "startlinecolor": "#2a3f5f"
                },
                "baxis": {
                 "endlinecolor": "#2a3f5f",
                 "gridcolor": "white",
                 "linecolor": "white",
                 "minorgridcolor": "white",
                 "startlinecolor": "#2a3f5f"
                },
                "type": "carpet"
               }
              ],
              "choropleth": [
               {
                "colorbar": {
                 "outlinewidth": 0,
                 "ticks": ""
                },
                "type": "choropleth"
               }
              ],
              "contour": [
               {
                "colorbar": {
                 "outlinewidth": 0,
                 "ticks": ""
                },
                "colorscale": [
                 [
                  0,
                  "#0d0887"
                 ],
                 [
                  0.1111111111111111,
                  "#46039f"
                 ],
                 [
                  0.2222222222222222,
                  "#7201a8"
                 ],
                 [
                  0.3333333333333333,
                  "#9c179e"
                 ],
                 [
                  0.4444444444444444,
                  "#bd3786"
                 ],
                 [
                  0.5555555555555556,
                  "#d8576b"
                 ],
                 [
                  0.6666666666666666,
                  "#ed7953"
                 ],
                 [
                  0.7777777777777778,
                  "#fb9f3a"
                 ],
                 [
                  0.8888888888888888,
                  "#fdca26"
                 ],
                 [
                  1,
                  "#f0f921"
                 ]
                ],
                "type": "contour"
               }
              ],
              "contourcarpet": [
               {
                "colorbar": {
                 "outlinewidth": 0,
                 "ticks": ""
                },
                "type": "contourcarpet"
               }
              ],
              "heatmap": [
               {
                "colorbar": {
                 "outlinewidth": 0,
                 "ticks": ""
                },
                "colorscale": [
                 [
                  0,
                  "#0d0887"
                 ],
                 [
                  0.1111111111111111,
                  "#46039f"
                 ],
                 [
                  0.2222222222222222,
                  "#7201a8"
                 ],
                 [
                  0.3333333333333333,
                  "#9c179e"
                 ],
                 [
                  0.4444444444444444,
                  "#bd3786"
                 ],
                 [
                  0.5555555555555556,
                  "#d8576b"
                 ],
                 [
                  0.6666666666666666,
                  "#ed7953"
                 ],
                 [
                  0.7777777777777778,
                  "#fb9f3a"
                 ],
                 [
                  0.8888888888888888,
                  "#fdca26"
                 ],
                 [
                  1,
                  "#f0f921"
                 ]
                ],
                "type": "heatmap"
               }
              ],
              "heatmapgl": [
               {
                "colorbar": {
                 "outlinewidth": 0,
                 "ticks": ""
                },
                "colorscale": [
                 [
                  0,
                  "#0d0887"
                 ],
                 [
                  0.1111111111111111,
                  "#46039f"
                 ],
                 [
                  0.2222222222222222,
                  "#7201a8"
                 ],
                 [
                  0.3333333333333333,
                  "#9c179e"
                 ],
                 [
                  0.4444444444444444,
                  "#bd3786"
                 ],
                 [
                  0.5555555555555556,
                  "#d8576b"
                 ],
                 [
                  0.6666666666666666,
                  "#ed7953"
                 ],
                 [
                  0.7777777777777778,
                  "#fb9f3a"
                 ],
                 [
                  0.8888888888888888,
                  "#fdca26"
                 ],
                 [
                  1,
                  "#f0f921"
                 ]
                ],
                "type": "heatmapgl"
               }
              ],
              "histogram": [
               {
                "marker": {
                 "colorbar": {
                  "outlinewidth": 0,
                  "ticks": ""
                 }
                },
                "type": "histogram"
               }
              ],
              "histogram2d": [
               {
                "colorbar": {
                 "outlinewidth": 0,
                 "ticks": ""
                },
                "colorscale": [
                 [
                  0,
                  "#0d0887"
                 ],
                 [
                  0.1111111111111111,
                  "#46039f"
                 ],
                 [
                  0.2222222222222222,
                  "#7201a8"
                 ],
                 [
                  0.3333333333333333,
                  "#9c179e"
                 ],
                 [
                  0.4444444444444444,
                  "#bd3786"
                 ],
                 [
                  0.5555555555555556,
                  "#d8576b"
                 ],
                 [
                  0.6666666666666666,
                  "#ed7953"
                 ],
                 [
                  0.7777777777777778,
                  "#fb9f3a"
                 ],
                 [
                  0.8888888888888888,
                  "#fdca26"
                 ],
                 [
                  1,
                  "#f0f921"
                 ]
                ],
                "type": "histogram2d"
               }
              ],
              "histogram2dcontour": [
               {
                "colorbar": {
                 "outlinewidth": 0,
                 "ticks": ""
                },
                "colorscale": [
                 [
                  0,
                  "#0d0887"
                 ],
                 [
                  0.1111111111111111,
                  "#46039f"
                 ],
                 [
                  0.2222222222222222,
                  "#7201a8"
                 ],
                 [
                  0.3333333333333333,
                  "#9c179e"
                 ],
                 [
                  0.4444444444444444,
                  "#bd3786"
                 ],
                 [
                  0.5555555555555556,
                  "#d8576b"
                 ],
                 [
                  0.6666666666666666,
                  "#ed7953"
                 ],
                 [
                  0.7777777777777778,
                  "#fb9f3a"
                 ],
                 [
                  0.8888888888888888,
                  "#fdca26"
                 ],
                 [
                  1,
                  "#f0f921"
                 ]
                ],
                "type": "histogram2dcontour"
               }
              ],
              "mesh3d": [
               {
                "colorbar": {
                 "outlinewidth": 0,
                 "ticks": ""
                },
                "type": "mesh3d"
               }
              ],
              "parcoords": [
               {
                "line": {
                 "colorbar": {
                  "outlinewidth": 0,
                  "ticks": ""
                 }
                },
                "type": "parcoords"
               }
              ],
              "pie": [
               {
                "automargin": true,
                "type": "pie"
               }
              ],
              "scatter": [
               {
                "marker": {
                 "colorbar": {
                  "outlinewidth": 0,
                  "ticks": ""
                 }
                },
                "type": "scatter"
               }
              ],
              "scatter3d": [
               {
                "line": {
                 "colorbar": {
                  "outlinewidth": 0,
                  "ticks": ""
                 }
                },
                "marker": {
                 "colorbar": {
                  "outlinewidth": 0,
                  "ticks": ""
                 }
                },
                "type": "scatter3d"
               }
              ],
              "scattercarpet": [
               {
                "marker": {
                 "colorbar": {
                  "outlinewidth": 0,
                  "ticks": ""
                 }
                },
                "type": "scattercarpet"
               }
              ],
              "scattergeo": [
               {
                "marker": {
                 "colorbar": {
                  "outlinewidth": 0,
                  "ticks": ""
                 }
                },
                "type": "scattergeo"
               }
              ],
              "scattergl": [
               {
                "marker": {
                 "colorbar": {
                  "outlinewidth": 0,
                  "ticks": ""
                 }
                },
                "type": "scattergl"
               }
              ],
              "scattermapbox": [
               {
                "marker": {
                 "colorbar": {
                  "outlinewidth": 0,
                  "ticks": ""
                 }
                },
                "type": "scattermapbox"
               }
              ],
              "scatterpolar": [
               {
                "marker": {
                 "colorbar": {
                  "outlinewidth": 0,
                  "ticks": ""
                 }
                },
                "type": "scatterpolar"
               }
              ],
              "scatterpolargl": [
               {
                "marker": {
                 "colorbar": {
                  "outlinewidth": 0,
                  "ticks": ""
                 }
                },
                "type": "scatterpolargl"
               }
              ],
              "scatterternary": [
               {
                "marker": {
                 "colorbar": {
                  "outlinewidth": 0,
                  "ticks": ""
                 }
                },
                "type": "scatterternary"
               }
              ],
              "surface": [
               {
                "colorbar": {
                 "outlinewidth": 0,
                 "ticks": ""
                },
                "colorscale": [
                 [
                  0,
                  "#0d0887"
                 ],
                 [
                  0.1111111111111111,
                  "#46039f"
                 ],
                 [
                  0.2222222222222222,
                  "#7201a8"
                 ],
                 [
                  0.3333333333333333,
                  "#9c179e"
                 ],
                 [
                  0.4444444444444444,
                  "#bd3786"
                 ],
                 [
                  0.5555555555555556,
                  "#d8576b"
                 ],
                 [
                  0.6666666666666666,
                  "#ed7953"
                 ],
                 [
                  0.7777777777777778,
                  "#fb9f3a"
                 ],
                 [
                  0.8888888888888888,
                  "#fdca26"
                 ],
                 [
                  1,
                  "#f0f921"
                 ]
                ],
                "type": "surface"
               }
              ],
              "table": [
               {
                "cells": {
                 "fill": {
                  "color": "#EBF0F8"
                 },
                 "line": {
                  "color": "white"
                 }
                },
                "header": {
                 "fill": {
                  "color": "#C8D4E3"
                 },
                 "line": {
                  "color": "white"
                 }
                },
                "type": "table"
               }
              ]
             },
             "layout": {
              "annotationdefaults": {
               "arrowcolor": "#2a3f5f",
               "arrowhead": 0,
               "arrowwidth": 1
              },
              "coloraxis": {
               "colorbar": {
                "outlinewidth": 0,
                "ticks": ""
               }
              },
              "colorscale": {
               "diverging": [
                [
                 0,
                 "#8e0152"
                ],
                [
                 0.1,
                 "#c51b7d"
                ],
                [
                 0.2,
                 "#de77ae"
                ],
                [
                 0.3,
                 "#f1b6da"
                ],
                [
                 0.4,
                 "#fde0ef"
                ],
                [
                 0.5,
                 "#f7f7f7"
                ],
                [
                 0.6,
                 "#e6f5d0"
                ],
                [
                 0.7,
                 "#b8e186"
                ],
                [
                 0.8,
                 "#7fbc41"
                ],
                [
                 0.9,
                 "#4d9221"
                ],
                [
                 1,
                 "#276419"
                ]
               ],
               "sequential": [
                [
                 0,
                 "#0d0887"
                ],
                [
                 0.1111111111111111,
                 "#46039f"
                ],
                [
                 0.2222222222222222,
                 "#7201a8"
                ],
                [
                 0.3333333333333333,
                 "#9c179e"
                ],
                [
                 0.4444444444444444,
                 "#bd3786"
                ],
                [
                 0.5555555555555556,
                 "#d8576b"
                ],
                [
                 0.6666666666666666,
                 "#ed7953"
                ],
                [
                 0.7777777777777778,
                 "#fb9f3a"
                ],
                [
                 0.8888888888888888,
                 "#fdca26"
                ],
                [
                 1,
                 "#f0f921"
                ]
               ],
               "sequentialminus": [
                [
                 0,
                 "#0d0887"
                ],
                [
                 0.1111111111111111,
                 "#46039f"
                ],
                [
                 0.2222222222222222,
                 "#7201a8"
                ],
                [
                 0.3333333333333333,
                 "#9c179e"
                ],
                [
                 0.4444444444444444,
                 "#bd3786"
                ],
                [
                 0.5555555555555556,
                 "#d8576b"
                ],
                [
                 0.6666666666666666,
                 "#ed7953"
                ],
                [
                 0.7777777777777778,
                 "#fb9f3a"
                ],
                [
                 0.8888888888888888,
                 "#fdca26"
                ],
                [
                 1,
                 "#f0f921"
                ]
               ]
              },
              "colorway": [
               "#636efa",
               "#EF553B",
               "#00cc96",
               "#ab63fa",
               "#FFA15A",
               "#19d3f3",
               "#FF6692",
               "#B6E880",
               "#FF97FF",
               "#FECB52"
              ],
              "font": {
               "color": "#2a3f5f"
              },
              "geo": {
               "bgcolor": "white",
               "lakecolor": "white",
               "landcolor": "#E5ECF6",
               "showlakes": true,
               "showland": true,
               "subunitcolor": "white"
              },
              "hoverlabel": {
               "align": "left"
              },
              "hovermode": "closest",
              "mapbox": {
               "style": "light"
              },
              "paper_bgcolor": "white",
              "plot_bgcolor": "#E5ECF6",
              "polar": {
               "angularaxis": {
                "gridcolor": "white",
                "linecolor": "white",
                "ticks": ""
               },
               "bgcolor": "#E5ECF6",
               "radialaxis": {
                "gridcolor": "white",
                "linecolor": "white",
                "ticks": ""
               }
              },
              "scene": {
               "xaxis": {
                "backgroundcolor": "#E5ECF6",
                "gridcolor": "white",
                "gridwidth": 2,
                "linecolor": "white",
                "showbackground": true,
                "ticks": "",
                "zerolinecolor": "white"
               },
               "yaxis": {
                "backgroundcolor": "#E5ECF6",
                "gridcolor": "white",
                "gridwidth": 2,
                "linecolor": "white",
                "showbackground": true,
                "ticks": "",
                "zerolinecolor": "white"
               },
               "zaxis": {
                "backgroundcolor": "#E5ECF6",
                "gridcolor": "white",
                "gridwidth": 2,
                "linecolor": "white",
                "showbackground": true,
                "ticks": "",
                "zerolinecolor": "white"
               }
              },
              "shapedefaults": {
               "line": {
                "color": "#2a3f5f"
               }
              },
              "ternary": {
               "aaxis": {
                "gridcolor": "white",
                "linecolor": "white",
                "ticks": ""
               },
               "baxis": {
                "gridcolor": "white",
                "linecolor": "white",
                "ticks": ""
               },
               "bgcolor": "#E5ECF6",
               "caxis": {
                "gridcolor": "white",
                "linecolor": "white",
                "ticks": ""
               }
              },
              "title": {
               "x": 0.05
              },
              "xaxis": {
               "automargin": true,
               "gridcolor": "white",
               "linecolor": "white",
               "ticks": "",
               "title": {
                "standoff": 15
               },
               "zerolinecolor": "white",
               "zerolinewidth": 2
              },
              "yaxis": {
               "automargin": true,
               "gridcolor": "white",
               "linecolor": "white",
               "ticks": "",
               "title": {
                "standoff": 15
               },
               "zerolinecolor": "white",
               "zerolinewidth": 2
              }
             }
            },
            "title": {
             "text": "Deal Value ($mm) by Type in: Finance"
            },
            "xaxis": {
             "anchor": "y",
             "categoryarray": [
              "Global Notes",
              "Initial Public Offering",
              "CD Notes",
              "Bank Notes",
              "Bonds",
              "Sr Notes",
              "Notes",
              "Equity Follow-On Offering",
              "Mortgage Bonds",
              "Preferred Securities"
             ],
             "categoryorder": "array",
             "domain": [
              0,
              1
             ],
             "title": {
              "text": "TYPE"
             }
            },
            "yaxis": {
             "anchor": "x",
             "domain": [
              0,
              1
             ],
             "title": {
              "text": "SIZE"
             }
            }
           }
          },
          "text/html": "<div>                            <div id=\"97de3a5f-3a82-4719-b9f8-45e68e35c5e2\" class=\"plotly-graph-div\" style=\"height:525px; width:100%;\"></div>            <script type=\"text/javascript\">                require([\"plotly\"], function(Plotly) {                    window.PLOTLYENV=window.PLOTLYENV || {};                                    if (document.getElementById(\"97de3a5f-3a82-4719-b9f8-45e68e35c5e2\")) {                    Plotly.newPlot(                        \"97de3a5f-3a82-4719-b9f8-45e68e35c5e2\",                        [{\"alignmentgroup\": \"True\", \"hovertemplate\": \"TYPE=%{x}<br>SIZE=%{y}<extra></extra>\", \"legendgroup\": \"Global Notes\", \"marker\": {\"color\": \"#636efa\"}, \"name\": \"Global Notes\", \"offsetgroup\": \"Global Notes\", \"orientation\": \"v\", \"showlegend\": true, \"textposition\": \"auto\", \"type\": \"bar\", \"x\": [\"Global Notes\", \"Global Notes\", \"Global Notes\", \"Global Notes\", \"Global Notes\", \"Global Notes\", \"Global Notes\", \"Global Notes\", \"Global Notes\", \"Global Notes\", \"Global Notes\", \"Global Notes\", \"Global Notes\", \"Global Notes\", \"Global Notes\", \"Global Notes\", \"Global Notes\", \"Global Notes\", \"Global Notes\", \"Global Notes\", \"Global Notes\", \"Global Notes\", \"Global Notes\", \"Global Notes\", \"Global Notes\", \"Global Notes\", \"Global Notes\", \"Global Notes\", \"Global Notes\", \"Global Notes\", \"Global Notes\"], \"xaxis\": \"x\", \"y\": [1000.21, 100.21, 200.54, 1250.3, 1100.0, 1500.13, 1500.11, 1500.12, 500.36, 1250.2, 500.33, 325.1, 100.178, 2000.0, 1500.1, 1000.15, 750.1, 313.0, 1000.13, 700.12, 570.0, 650.0, 250.21, 100.113, 180.0, 200.17, 1000.11, 1000.1, 300.15, 1250.1, 200.1], \"yaxis\": \"y\"}, {\"alignmentgroup\": \"True\", \"hovertemplate\": \"TYPE=%{x}<br>SIZE=%{y}<extra></extra>\", \"legendgroup\": \"Initial Public Offering\", \"marker\": {\"color\": \"#EF553B\"}, \"name\": \"Initial Public Offering\", \"offsetgroup\": \"Initial Public Offering\", \"orientation\": \"v\", \"showlegend\": true, \"textposition\": \"auto\", \"type\": \"bar\", \"x\": [\"Initial Public Offering\", \"Initial Public Offering\", \"Initial Public Offering\", \"Initial Public Offering\", \"Initial Public Offering\", \"Initial Public Offering\", \"Initial Public Offering\"], \"xaxis\": \"x\", \"y\": [283.6, 117.1, 68.63, 70.2, 105.1, 140.1, 543.75], \"yaxis\": \"y\"}, {\"alignmentgroup\": \"True\", \"hovertemplate\": \"TYPE=%{x}<br>SIZE=%{y}<extra></extra>\", \"legendgroup\": \"CD Notes\", \"marker\": {\"color\": \"#00cc96\"}, \"name\": \"CD Notes\", \"offsetgroup\": \"CD Notes\", \"orientation\": \"v\", \"showlegend\": true, \"textposition\": \"auto\", \"type\": \"bar\", \"x\": [\"CD Notes\", \"CD Notes\", \"CD Notes\", \"CD Notes\", \"CD Notes\", \"CD Notes\", \"CD Notes\", \"CD Notes\", \"CD Notes\", \"CD Notes\", \"CD Notes\", \"CD Notes\", \"CD Notes\", \"CD Notes\", \"CD Notes\", \"CD Notes\", \"CD Notes\", \"CD Notes\", \"CD Notes\", \"CD Notes\", \"CD Notes\", \"CD Notes\", \"CD Notes\", \"CD Notes\", \"CD Notes\", \"CD Notes\", \"CD Notes\", \"CD Notes\", \"CD Notes\", \"CD Notes\", \"CD Notes\", \"CD Notes\", \"CD Notes\", \"CD Notes\", \"CD Notes\", \"CD Notes\", \"CD Notes\", \"CD Notes\", \"CD Notes\", \"CD Notes\", \"CD Notes\", \"CD Notes\", \"CD Notes\", \"CD Notes\", \"CD Notes\", \"CD Notes\", \"CD Notes\", \"CD Notes\", \"CD Notes\", \"CD Notes\", \"CD Notes\", \"CD Notes\", \"CD Notes\", \"CD Notes\", \"CD Notes\", \"CD Notes\", \"CD Notes\", \"CD Notes\", \"CD Notes\", \"CD Notes\", \"CD Notes\", \"CD Notes\", \"CD Notes\", \"CD Notes\", \"CD Notes\", \"CD Notes\", \"CD Notes\", \"CD Notes\", \"CD Notes\", \"CD Notes\", \"CD Notes\", \"CD Notes\", \"CD Notes\", \"CD Notes\", \"CD Notes\", \"CD Notes\", \"CD Notes\", \"CD Notes\", \"CD Notes\", \"CD Notes\", \"CD Notes\", \"CD Notes\", \"CD Notes\", \"CD Notes\", \"CD Notes\", \"CD Notes\", \"CD Notes\", \"CD Notes\", \"CD Notes\", \"CD Notes\", \"CD Notes\", \"CD Notes\", \"CD Notes\", \"CD Notes\", \"CD Notes\", \"CD Notes\", \"CD Notes\", \"CD Notes\", \"CD Notes\", \"CD Notes\", \"CD Notes\", \"CD Notes\", \"CD Notes\", \"CD Notes\", \"CD Notes\", \"CD Notes\", \"CD Notes\", \"CD Notes\", \"CD Notes\", \"CD Notes\", \"CD Notes\", \"CD Notes\", \"CD Notes\", \"CD Notes\", \"CD Notes\", \"CD Notes\", \"CD Notes\", \"CD Notes\", \"CD Notes\", \"CD Notes\", \"CD Notes\", \"CD Notes\", \"CD Notes\", \"CD Notes\", \"CD Notes\", \"CD Notes\", \"CD Notes\", \"CD Notes\", \"CD Notes\", \"CD Notes\", \"CD Notes\", \"CD Notes\", \"CD Notes\", \"CD Notes\", \"CD Notes\", \"CD Notes\", \"CD Notes\", \"CD Notes\", \"CD Notes\", \"CD Notes\", \"CD Notes\", \"CD Notes\", \"CD Notes\", \"CD Notes\", \"CD Notes\", \"CD Notes\", \"CD Notes\", \"CD Notes\", \"CD Notes\", \"CD Notes\", \"CD Notes\", \"CD Notes\", \"CD Notes\", \"CD Notes\", \"CD Notes\", \"CD Notes\", \"CD Notes\", \"CD Notes\", \"CD Notes\", \"CD Notes\", \"CD Notes\", \"CD Notes\", \"CD Notes\", \"CD Notes\", \"CD Notes\", \"CD Notes\", \"CD Notes\", \"CD Notes\", \"CD Notes\", \"CD Notes\", \"CD Notes\", \"CD Notes\", \"CD Notes\", \"CD Notes\", \"CD Notes\", \"CD Notes\", \"CD Notes\", \"CD Notes\", \"CD Notes\", \"CD Notes\", \"CD Notes\", \"CD Notes\", \"CD Notes\", \"CD Notes\", \"CD Notes\", \"CD Notes\", \"CD Notes\", \"CD Notes\", \"CD Notes\", \"CD Notes\", \"CD Notes\", \"CD Notes\", \"CD Notes\", \"CD Notes\", \"CD Notes\", \"CD Notes\", \"CD Notes\", \"CD Notes\", \"CD Notes\", \"CD Notes\", \"CD Notes\", \"CD Notes\", \"CD Notes\", \"CD Notes\", \"CD Notes\", \"CD Notes\", \"CD Notes\", \"CD Notes\", \"CD Notes\", \"CD Notes\", \"CD Notes\", \"CD Notes\", \"CD Notes\", \"CD Notes\", \"CD Notes\", \"CD Notes\", \"CD Notes\", \"CD Notes\", \"CD Notes\", \"CD Notes\", \"CD Notes\", \"CD Notes\", \"CD Notes\", \"CD Notes\", \"CD Notes\", \"CD Notes\", \"CD Notes\", \"CD Notes\", \"CD Notes\", \"CD Notes\", \"CD Notes\", \"CD Notes\", \"CD Notes\", \"CD Notes\", \"CD Notes\", \"CD Notes\", \"CD Notes\", \"CD Notes\", \"CD Notes\"], \"xaxis\": \"x\", \"y\": [200.58, 80.3, 1000.2, 125.4, 100.211, 100.209, 200.57, 155.2, 100.208, 90.2, 100.207, 700.14, 650.1, 350.23, 300.42, 200.56, 195.0, 150.27, 105.11, 60.2, 200.55, 130.1, 100.205, 100.203, 85.0, 100.202, 200.53, 100.201, 250.36, 100.2, 90.1, 125.3, 100.196, 100.197, 205.1, 100.193, 300.4, 200.51, 100.192, 65.2, 100.19, 65.1, 55.1, 155.1, 100.188, 500.34, 350.19, 350.2, 350.21, 200.48, 200.49, 60.0, 275.0, 200.47, 150.24, 100.187, 250.32, 210.1, 100.186, 150.23, 100.182, 100.183, 100.184, 100.185, 65.0, 500.3, 300.35, 125.2, 100.18, 1000.18, 150.21, 150.22, 100.179, 200.46, 75.4, 200.44, 100.176, 500.27, 500.28, 300.32, 200.43, 150.2, 125.1, 100.173, 100.174, 800.0, 500.24, 500.26, 250.29, 200.42, 1000.17, 600.2, 250.28, 100.168, 100.169, 100.17, 100.171, 100.172, 500.23, 400.16, 300.31, 267.0, 250.27, 200.41, 150.19, 130.0, 100.164, 100.165, 100.166, 100.167, 54.36, 550.1, 500.22, 300.3, 250.26, 206.1, 200.4, 100.161, 100.162, 100.163, 95.0, 550.0, 350.17, 325.0, 200.39, 100.156, 100.157, 100.158, 100.159, 100.16, 310.0, 300.28, 300.29, 250.25, 200.37, 200.38, 150.17, 100.155, 500.19, 500.2, 450.3, 360.0, 300.26, 300.27, 250.24, 200.36, 190.0, 150.15, 150.16, 100.149, 100.15, 100.151, 100.152, 100.153, 100.154, 80.1, 625.0, 300.25, 200.35, 100.148, 150.14, 500.18, 100.147, 200.31, 200.33, 150.13, 100.143, 1000.14, 188.0, 100.142, 200.3, 100.141, 700.13, 260.0, 225.2, 100.139, 100.135, 200.28, 100.134, 100.132, 100.133, 200.27, 54.79, 100.13, 1200.0, 200.25, 100.128, 100.129, 206.0, 180.1, 500.16, 475.0, 300.21, 300.22, 300.23, 205.0, 200.22, 200.23, 200.24, 150.12, 100.124, 100.125, 100.126, 1000.12, 250.22, 100.123, 300.19, 300.2, 200.19, 100.119, 100.12, 100.117, 70.0, 100.114, 100.115, 100.116, 200.18, 150.1, 100.111, 100.112, 100.11, 100.109, 250.17, 250.18, 250.16, 80.8, 100.106, 55.19, 500.11, 100.104, 500.1, 250.12, 100.103, 100.102, 200.11, 100.1, 500.0, 350.1, 300.11], \"yaxis\": \"y\"}, {\"alignmentgroup\": \"True\", \"hovertemplate\": \"TYPE=%{x}<br>SIZE=%{y}<extra></extra>\", \"legendgroup\": \"Bank Notes\", \"marker\": {\"color\": \"#ab63fa\"}, \"name\": \"Bank Notes\", \"offsetgroup\": \"Bank Notes\", \"orientation\": \"v\", \"showlegend\": true, \"textposition\": \"auto\", \"type\": \"bar\", \"x\": [\"Bank Notes\", \"Bank Notes\", \"Bank Notes\", \"Bank Notes\", \"Bank Notes\", \"Bank Notes\", \"Bank Notes\", \"Bank Notes\", \"Bank Notes\", \"Bank Notes\", \"Bank Notes\", \"Bank Notes\", \"Bank Notes\", \"Bank Notes\", \"Bank Notes\", \"Bank Notes\", \"Bank Notes\", \"Bank Notes\", \"Bank Notes\", \"Bank Notes\", \"Bank Notes\", \"Bank Notes\", \"Bank Notes\", \"Bank Notes\", \"Bank Notes\", \"Bank Notes\", \"Bank Notes\", \"Bank Notes\", \"Bank Notes\", \"Bank Notes\", \"Bank Notes\", \"Bank Notes\", \"Bank Notes\", \"Bank Notes\", \"Bank Notes\", \"Bank Notes\", \"Bank Notes\", \"Bank Notes\", \"Bank Notes\"], \"xaxis\": \"x\", \"y\": [100.212, 125.41, 150.26, 115.0, 100.198, 100.199, 100.194, 100.195, 200.52, 65.3, 60.1, 100.191, 200.5, 100.18900000000001, 300.37, 150.25, 160.0, 500.25, 150.18, 225.3, 100.146, 350.16, 100.144, 100.137, 100.131, 75.3, 500.15, 200.21, 100.121, 500.14, 100.118, 100.108, 500.13, 200.16, 300.16, 100.105, 210.0, 91.0, 75.0], \"yaxis\": \"y\"}, {\"alignmentgroup\": \"True\", \"hovertemplate\": \"TYPE=%{x}<br>SIZE=%{y}<extra></extra>\", \"legendgroup\": \"Bonds\", \"marker\": {\"color\": \"#FFA15A\"}, \"name\": \"Bonds\", \"offsetgroup\": \"Bonds\", \"orientation\": \"v\", \"showlegend\": true, \"textposition\": \"auto\", \"type\": \"bar\", \"x\": [\"Bonds\", \"Bonds\", \"Bonds\", \"Bonds\"], \"xaxis\": \"x\", \"y\": [69.7, 300.38, 250.34, 150.11], \"yaxis\": \"y\"}, {\"alignmentgroup\": \"True\", \"hovertemplate\": \"TYPE=%{x}<br>SIZE=%{y}<extra></extra>\", \"legendgroup\": \"Sr Notes\", \"marker\": {\"color\": \"#19d3f3\"}, \"name\": \"Sr Notes\", \"offsetgroup\": \"Sr Notes\", \"orientation\": \"v\", \"showlegend\": true, \"textposition\": \"auto\", \"type\": \"bar\", \"x\": [\"Sr Notes\", \"Sr Notes\", \"Sr Notes\", \"Sr Notes\", \"Sr Notes\", \"Sr Notes\", \"Sr Notes\", \"Sr Notes\", \"Sr Notes\", \"Sr Notes\", \"Sr Notes\", \"Sr Notes\", \"Sr Notes\", \"Sr Notes\", \"Sr Notes\"], \"xaxis\": \"x\", \"y\": [250.38, 110.0, 300.39, 120.0, 500.32, 100.175, 614.9, 100.14, 300.17, 250.19, 500.12, 250.15, 3000.0, 250.11, 250.1], \"yaxis\": \"y\"}, {\"alignmentgroup\": \"True\", \"hovertemplate\": \"TYPE=%{x}<br>SIZE=%{y}<extra></extra>\", \"legendgroup\": \"Notes\", \"marker\": {\"color\": \"#FF6692\"}, \"name\": \"Notes\", \"offsetgroup\": \"Notes\", \"orientation\": \"v\", \"showlegend\": true, \"textposition\": \"auto\", \"type\": \"bar\", \"x\": [\"Notes\", \"Notes\", \"Notes\", \"Notes\", \"Notes\", \"Notes\", \"Notes\", \"Notes\", \"Notes\", \"Notes\", \"Notes\", \"Notes\", \"Notes\", \"Notes\", \"Notes\"], \"xaxis\": \"x\", \"y\": [100.206, 1000.19, 100.181, 300.34, 100.136, 100.138, 300.18, 600.1, 400.13, 2000.1, 400.12, 400.11, 600.0, 350.13, 200.14], \"yaxis\": \"y\"}, {\"alignmentgroup\": \"True\", \"hovertemplate\": \"TYPE=%{x}<br>SIZE=%{y}<extra></extra>\", \"legendgroup\": \"Equity Follow-On Offering\", \"marker\": {\"color\": \"#B6E880\"}, \"name\": \"Equity Follow-On Offering\", \"offsetgroup\": \"Equity Follow-On Offering\", \"orientation\": \"v\", \"showlegend\": true, \"textposition\": \"auto\", \"type\": \"bar\", \"x\": [\"Equity Follow-On Offering\", \"Equity Follow-On Offering\", \"Equity Follow-On Offering\", \"Equity Follow-On Offering\"], \"xaxis\": \"x\", \"y\": [74.1, 85.09, 220.0, 54.0], \"yaxis\": \"y\"}, {\"alignmentgroup\": \"True\", \"hovertemplate\": \"TYPE=%{x}<br>SIZE=%{y}<extra></extra>\", \"legendgroup\": \"Mortgage Bonds\", \"marker\": {\"color\": \"#FF97FF\"}, \"name\": \"Mortgage Bonds\", \"offsetgroup\": \"Mortgage Bonds\", \"orientation\": \"v\", \"showlegend\": true, \"textposition\": \"auto\", \"type\": \"bar\", \"x\": [\"Mortgage Bonds\"], \"xaxis\": \"x\", \"y\": [349.0], \"yaxis\": \"y\"}, {\"alignmentgroup\": \"True\", \"hovertemplate\": \"TYPE=%{x}<br>SIZE=%{y}<extra></extra>\", \"legendgroup\": \"Preferred Securities\", \"marker\": {\"color\": \"#FECB52\"}, \"name\": \"Preferred Securities\", \"offsetgroup\": \"Preferred Securities\", \"orientation\": \"v\", \"showlegend\": true, \"textposition\": \"auto\", \"type\": \"bar\", \"x\": [\"Preferred Securities\", \"Preferred Securities\", \"Preferred Securities\", \"Preferred Securities\", \"Preferred Securities\", \"Preferred Securities\", \"Preferred Securities\"], \"xaxis\": \"x\", \"y\": [500.37, 137.5, 100.145, 63.78, 1000.0, 400.0, 300.1], \"yaxis\": \"y\"}],                        {\"barmode\": \"relative\", \"legend\": {\"title\": {\"text\": \"TYPE\"}, \"tracegroupgap\": 0}, \"template\": {\"data\": {\"bar\": [{\"error_x\": {\"color\": \"#2a3f5f\"}, \"error_y\": {\"color\": \"#2a3f5f\"}, \"marker\": {\"line\": {\"color\": \"#E5ECF6\", \"width\": 0.5}}, \"type\": \"bar\"}], \"barpolar\": [{\"marker\": {\"line\": {\"color\": \"#E5ECF6\", \"width\": 0.5}}, \"type\": \"barpolar\"}], \"carpet\": [{\"aaxis\": {\"endlinecolor\": \"#2a3f5f\", \"gridcolor\": \"white\", \"linecolor\": \"white\", \"minorgridcolor\": \"white\", \"startlinecolor\": \"#2a3f5f\"}, \"baxis\": {\"endlinecolor\": \"#2a3f5f\", \"gridcolor\": \"white\", \"linecolor\": \"white\", \"minorgridcolor\": \"white\", \"startlinecolor\": \"#2a3f5f\"}, \"type\": \"carpet\"}], \"choropleth\": [{\"colorbar\": {\"outlinewidth\": 0, \"ticks\": \"\"}, \"type\": \"choropleth\"}], \"contour\": [{\"colorbar\": {\"outlinewidth\": 0, \"ticks\": \"\"}, \"colorscale\": [[0.0, \"#0d0887\"], [0.1111111111111111, \"#46039f\"], [0.2222222222222222, \"#7201a8\"], [0.3333333333333333, \"#9c179e\"], [0.4444444444444444, \"#bd3786\"], [0.5555555555555556, \"#d8576b\"], [0.6666666666666666, \"#ed7953\"], [0.7777777777777778, \"#fb9f3a\"], [0.8888888888888888, \"#fdca26\"], [1.0, \"#f0f921\"]], \"type\": \"contour\"}], \"contourcarpet\": [{\"colorbar\": {\"outlinewidth\": 0, \"ticks\": \"\"}, \"type\": \"contourcarpet\"}], \"heatmap\": [{\"colorbar\": {\"outlinewidth\": 0, \"ticks\": \"\"}, \"colorscale\": [[0.0, \"#0d0887\"], [0.1111111111111111, \"#46039f\"], [0.2222222222222222, \"#7201a8\"], [0.3333333333333333, \"#9c179e\"], [0.4444444444444444, \"#bd3786\"], [0.5555555555555556, \"#d8576b\"], [0.6666666666666666, \"#ed7953\"], [0.7777777777777778, \"#fb9f3a\"], [0.8888888888888888, \"#fdca26\"], [1.0, \"#f0f921\"]], \"type\": \"heatmap\"}], \"heatmapgl\": [{\"colorbar\": {\"outlinewidth\": 0, \"ticks\": \"\"}, \"colorscale\": [[0.0, \"#0d0887\"], [0.1111111111111111, \"#46039f\"], [0.2222222222222222, \"#7201a8\"], [0.3333333333333333, \"#9c179e\"], [0.4444444444444444, \"#bd3786\"], [0.5555555555555556, \"#d8576b\"], [0.6666666666666666, \"#ed7953\"], [0.7777777777777778, \"#fb9f3a\"], [0.8888888888888888, \"#fdca26\"], [1.0, \"#f0f921\"]], \"type\": \"heatmapgl\"}], \"histogram\": [{\"marker\": {\"colorbar\": {\"outlinewidth\": 0, \"ticks\": \"\"}}, \"type\": \"histogram\"}], \"histogram2d\": [{\"colorbar\": {\"outlinewidth\": 0, \"ticks\": \"\"}, \"colorscale\": [[0.0, \"#0d0887\"], [0.1111111111111111, \"#46039f\"], [0.2222222222222222, \"#7201a8\"], [0.3333333333333333, \"#9c179e\"], [0.4444444444444444, \"#bd3786\"], [0.5555555555555556, \"#d8576b\"], [0.6666666666666666, \"#ed7953\"], [0.7777777777777778, \"#fb9f3a\"], [0.8888888888888888, \"#fdca26\"], [1.0, \"#f0f921\"]], \"type\": \"histogram2d\"}], \"histogram2dcontour\": [{\"colorbar\": {\"outlinewidth\": 0, \"ticks\": \"\"}, \"colorscale\": [[0.0, \"#0d0887\"], [0.1111111111111111, \"#46039f\"], [0.2222222222222222, \"#7201a8\"], [0.3333333333333333, \"#9c179e\"], [0.4444444444444444, \"#bd3786\"], [0.5555555555555556, \"#d8576b\"], [0.6666666666666666, \"#ed7953\"], [0.7777777777777778, \"#fb9f3a\"], [0.8888888888888888, \"#fdca26\"], [1.0, \"#f0f921\"]], \"type\": \"histogram2dcontour\"}], \"mesh3d\": [{\"colorbar\": {\"outlinewidth\": 0, \"ticks\": \"\"}, \"type\": \"mesh3d\"}], \"parcoords\": [{\"line\": {\"colorbar\": {\"outlinewidth\": 0, \"ticks\": \"\"}}, \"type\": \"parcoords\"}], \"pie\": [{\"automargin\": true, \"type\": \"pie\"}], \"scatter\": [{\"marker\": {\"colorbar\": {\"outlinewidth\": 0, \"ticks\": \"\"}}, \"type\": \"scatter\"}], \"scatter3d\": [{\"line\": {\"colorbar\": {\"outlinewidth\": 0, \"ticks\": \"\"}}, \"marker\": {\"colorbar\": {\"outlinewidth\": 0, \"ticks\": \"\"}}, \"type\": \"scatter3d\"}], \"scattercarpet\": [{\"marker\": {\"colorbar\": {\"outlinewidth\": 0, \"ticks\": \"\"}}, \"type\": \"scattercarpet\"}], \"scattergeo\": [{\"marker\": {\"colorbar\": {\"outlinewidth\": 0, \"ticks\": \"\"}}, \"type\": \"scattergeo\"}], \"scattergl\": [{\"marker\": {\"colorbar\": {\"outlinewidth\": 0, \"ticks\": \"\"}}, \"type\": \"scattergl\"}], \"scattermapbox\": [{\"marker\": {\"colorbar\": {\"outlinewidth\": 0, \"ticks\": \"\"}}, \"type\": \"scattermapbox\"}], \"scatterpolar\": [{\"marker\": {\"colorbar\": {\"outlinewidth\": 0, \"ticks\": \"\"}}, \"type\": \"scatterpolar\"}], \"scatterpolargl\": [{\"marker\": {\"colorbar\": {\"outlinewidth\": 0, \"ticks\": \"\"}}, \"type\": \"scatterpolargl\"}], \"scatterternary\": [{\"marker\": {\"colorbar\": {\"outlinewidth\": 0, \"ticks\": \"\"}}, \"type\": \"scatterternary\"}], \"surface\": [{\"colorbar\": {\"outlinewidth\": 0, \"ticks\": \"\"}, \"colorscale\": [[0.0, \"#0d0887\"], [0.1111111111111111, \"#46039f\"], [0.2222222222222222, \"#7201a8\"], [0.3333333333333333, \"#9c179e\"], [0.4444444444444444, \"#bd3786\"], [0.5555555555555556, \"#d8576b\"], [0.6666666666666666, \"#ed7953\"], [0.7777777777777778, \"#fb9f3a\"], [0.8888888888888888, \"#fdca26\"], [1.0, \"#f0f921\"]], \"type\": \"surface\"}], \"table\": [{\"cells\": {\"fill\": {\"color\": \"#EBF0F8\"}, \"line\": {\"color\": \"white\"}}, \"header\": {\"fill\": {\"color\": \"#C8D4E3\"}, \"line\": {\"color\": \"white\"}}, \"type\": \"table\"}]}, \"layout\": {\"annotationdefaults\": {\"arrowcolor\": \"#2a3f5f\", \"arrowhead\": 0, \"arrowwidth\": 1}, \"coloraxis\": {\"colorbar\": {\"outlinewidth\": 0, \"ticks\": \"\"}}, \"colorscale\": {\"diverging\": [[0, \"#8e0152\"], [0.1, \"#c51b7d\"], [0.2, \"#de77ae\"], [0.3, \"#f1b6da\"], [0.4, \"#fde0ef\"], [0.5, \"#f7f7f7\"], [0.6, \"#e6f5d0\"], [0.7, \"#b8e186\"], [0.8, \"#7fbc41\"], [0.9, \"#4d9221\"], [1, \"#276419\"]], \"sequential\": [[0.0, \"#0d0887\"], [0.1111111111111111, \"#46039f\"], [0.2222222222222222, \"#7201a8\"], [0.3333333333333333, \"#9c179e\"], [0.4444444444444444, \"#bd3786\"], [0.5555555555555556, \"#d8576b\"], [0.6666666666666666, \"#ed7953\"], [0.7777777777777778, \"#fb9f3a\"], [0.8888888888888888, \"#fdca26\"], [1.0, \"#f0f921\"]], \"sequentialminus\": [[0.0, \"#0d0887\"], [0.1111111111111111, \"#46039f\"], [0.2222222222222222, \"#7201a8\"], [0.3333333333333333, \"#9c179e\"], [0.4444444444444444, \"#bd3786\"], [0.5555555555555556, \"#d8576b\"], [0.6666666666666666, \"#ed7953\"], [0.7777777777777778, \"#fb9f3a\"], [0.8888888888888888, \"#fdca26\"], [1.0, \"#f0f921\"]]}, \"colorway\": [\"#636efa\", \"#EF553B\", \"#00cc96\", \"#ab63fa\", \"#FFA15A\", \"#19d3f3\", \"#FF6692\", \"#B6E880\", \"#FF97FF\", \"#FECB52\"], \"font\": {\"color\": \"#2a3f5f\"}, \"geo\": {\"bgcolor\": \"white\", \"lakecolor\": \"white\", \"landcolor\": \"#E5ECF6\", \"showlakes\": true, \"showland\": true, \"subunitcolor\": \"white\"}, \"hoverlabel\": {\"align\": \"left\"}, \"hovermode\": \"closest\", \"mapbox\": {\"style\": \"light\"}, \"paper_bgcolor\": \"white\", \"plot_bgcolor\": \"#E5ECF6\", \"polar\": {\"angularaxis\": {\"gridcolor\": \"white\", \"linecolor\": \"white\", \"ticks\": \"\"}, \"bgcolor\": \"#E5ECF6\", \"radialaxis\": {\"gridcolor\": \"white\", \"linecolor\": \"white\", \"ticks\": \"\"}}, \"scene\": {\"xaxis\": {\"backgroundcolor\": \"#E5ECF6\", \"gridcolor\": \"white\", \"gridwidth\": 2, \"linecolor\": \"white\", \"showbackground\": true, \"ticks\": \"\", \"zerolinecolor\": \"white\"}, \"yaxis\": {\"backgroundcolor\": \"#E5ECF6\", \"gridcolor\": \"white\", \"gridwidth\": 2, \"linecolor\": \"white\", \"showbackground\": true, \"ticks\": \"\", \"zerolinecolor\": \"white\"}, \"zaxis\": {\"backgroundcolor\": \"#E5ECF6\", \"gridcolor\": \"white\", \"gridwidth\": 2, \"linecolor\": \"white\", \"showbackground\": true, \"ticks\": \"\", \"zerolinecolor\": \"white\"}}, \"shapedefaults\": {\"line\": {\"color\": \"#2a3f5f\"}}, \"ternary\": {\"aaxis\": {\"gridcolor\": \"white\", \"linecolor\": \"white\", \"ticks\": \"\"}, \"baxis\": {\"gridcolor\": \"white\", \"linecolor\": \"white\", \"ticks\": \"\"}, \"bgcolor\": \"#E5ECF6\", \"caxis\": {\"gridcolor\": \"white\", \"linecolor\": \"white\", \"ticks\": \"\"}}, \"title\": {\"x\": 0.05}, \"xaxis\": {\"automargin\": true, \"gridcolor\": \"white\", \"linecolor\": \"white\", \"ticks\": \"\", \"title\": {\"standoff\": 15}, \"zerolinecolor\": \"white\", \"zerolinewidth\": 2}, \"yaxis\": {\"automargin\": true, \"gridcolor\": \"white\", \"linecolor\": \"white\", \"ticks\": \"\", \"title\": {\"standoff\": 15}, \"zerolinecolor\": \"white\", \"zerolinewidth\": 2}}}, \"title\": {\"text\": \"Deal Value ($mm) by Type in: Finance\"}, \"xaxis\": {\"anchor\": \"y\", \"categoryarray\": [\"Global Notes\", \"Initial Public Offering\", \"CD Notes\", \"Bank Notes\", \"Bonds\", \"Sr Notes\", \"Notes\", \"Equity Follow-On Offering\", \"Mortgage Bonds\", \"Preferred Securities\"], \"categoryorder\": \"array\", \"domain\": [0.0, 1.0], \"title\": {\"text\": \"TYPE\"}}, \"yaxis\": {\"anchor\": \"x\", \"domain\": [0.0, 1.0], \"title\": {\"text\": \"SIZE\"}}},                        {\"responsive\": true}                    ).then(function(){\n                            \nvar gd = document.getElementById('97de3a5f-3a82-4719-b9f8-45e68e35c5e2');\nvar x = new MutationObserver(function (mutations, observer) {{\n        var display = window.getComputedStyle(gd).display;\n        if (!display || display === 'none') {{\n            console.log([gd, 'removed!']);\n            Plotly.purge(gd);\n            observer.disconnect();\n        }}\n}});\n\n// Listen for the removal of the full notebook cells\nvar notebookContainer = gd.closest('#notebook-container');\nif (notebookContainer) {{\n    x.observe(notebookContainer, {childList: true});\n}}\n\n// Listen for the clearing of the current output cell\nvar outputEl = gd.closest('.output');\nif (outputEl) {{\n    x.observe(outputEl, {childList: true});\n}}\n\n                        })                };                });            </script>        </div>"
         },
         "metadata": {},
         "output_type": "display_data"
        }
       ]
      }
     },
     "12a725800d284e3ba94873159bfe084b": {
      "model_module": "@jupyter-widgets/controls",
      "model_module_version": "1.5.0",
      "model_name": "DescriptionStyleModel",
      "state": {
       "description_width": ""
      }
     },
     "14a1915bd1f743bc90178fb53989c4cf": {
      "model_module": "@jupyter-widgets/controls",
      "model_module_version": "1.5.0",
      "model_name": "VBoxModel",
      "state": {
       "_dom_classes": [
        "widget-interact"
       ],
       "children": [
        "IPY_MODEL_c71a317011bf49cdb022fab58109795f",
        "IPY_MODEL_3454fac18f2e432e97af7cf3312c2203"
       ],
       "layout": "IPY_MODEL_1a92054864494098a835c958e1f3fada"
      }
     },
     "14f7da621aee4c6595cb7c8f0f9dcefd": {
      "model_module": "@jupyter-widgets/controls",
      "model_module_version": "1.5.0",
      "model_name": "DescriptionStyleModel",
      "state": {
       "description_width": ""
      }
     },
     "153f876cd74a425d9625fdee7cb03f79": {
      "model_module": "@jupyter-widgets/base",
      "model_module_version": "1.2.0",
      "model_name": "LayoutModel",
      "state": {}
     },
     "16fb28eb9ea74aa197b43c625ef11c67": {
      "model_module": "@jupyter-widgets/base",
      "model_module_version": "1.2.0",
      "model_name": "LayoutModel",
      "state": {}
     },
     "1729adb981554fb096ad251710ad446b": {
      "model_module": "@jupyter-widgets/base",
      "model_module_version": "1.2.0",
      "model_name": "LayoutModel",
      "state": {}
     },
     "19d9878f59df46abb079dba852a53bde": {
      "model_module": "@jupyter-widgets/controls",
      "model_module_version": "1.5.0",
      "model_name": "DatePickerModel",
      "state": {
       "description": "Pick a Date",
       "disabled": false,
       "layout": "IPY_MODEL_0ec0f21b21cf4478b4da1fb1d3665fa6",
       "style": "IPY_MODEL_91e6806ce57747fa8b576e371197a7c4"
      }
     },
     "1a92054864494098a835c958e1f3fada": {
      "model_module": "@jupyter-widgets/base",
      "model_module_version": "1.2.0",
      "model_name": "LayoutModel",
      "state": {}
     },
     "1aaf161aaf414c4ba79d2096ee16ef98": {
      "model_module": "@jupyter-widgets/base",
      "model_module_version": "1.2.0",
      "model_name": "LayoutModel",
      "state": {}
     },
     "1af8e45000a2423285842ba60413a53b": {
      "model_module": "@jupyter-widgets/controls",
      "model_module_version": "1.5.0",
      "model_name": "DescriptionStyleModel",
      "state": {
       "description_width": ""
      }
     },
     "1b5e64e08d104d9f9b8f8daab9705c8c": {
      "model_module": "@jupyter-widgets/controls",
      "model_module_version": "1.5.0",
      "model_name": "DescriptionStyleModel",
      "state": {
       "description_width": ""
      }
     },
     "1b756a3604b14e05984d893207d766c3": {
      "model_module": "@jupyter-widgets/output",
      "model_module_version": "1.0.0",
      "model_name": "OutputModel",
      "state": {
       "layout": "IPY_MODEL_6adb9d1928a3497ab2ad32342433f7b1",
       "outputs": [
        {
         "data": {
          "application/vnd.plotly.v1+json": {
           "config": {
            "plotlyServerURL": "https://plot.ly"
           },
           "data": [
            {
             "alignmentgroup": "True",
             "hovertemplate": "TYPE=%{x}<br>SIZE=%{y}<extra></extra>",
             "legendgroup": "Global Notes",
             "marker": {
              "color": "#636efa"
             },
             "name": "Global Notes",
             "offsetgroup": "Global Notes",
             "orientation": "v",
             "showlegend": true,
             "textposition": "auto",
             "type": "bar",
             "x": [
              "Global Notes",
              "Global Notes",
              "Global Notes",
              "Global Notes",
              "Global Notes",
              "Global Notes",
              "Global Notes",
              "Global Notes",
              "Global Notes",
              "Global Notes",
              "Global Notes",
              "Global Notes",
              "Global Notes",
              "Global Notes",
              "Global Notes",
              "Global Notes",
              "Global Notes",
              "Global Notes",
              "Global Notes",
              "Global Notes",
              "Global Notes",
              "Global Notes",
              "Global Notes",
              "Global Notes",
              "Global Notes",
              "Global Notes",
              "Global Notes",
              "Global Notes",
              "Global Notes",
              "Global Notes",
              "Global Notes"
             ],
             "xaxis": "x",
             "y": [
              1000.21,
              100.21,
              200.54,
              1250.3,
              1100,
              1500.13,
              1500.11,
              1500.12,
              500.36,
              1250.2,
              500.33,
              325.1,
              100.178,
              2000,
              1500.1,
              1000.15,
              750.1,
              313,
              1000.13,
              700.12,
              570,
              650,
              250.21,
              100.113,
              180,
              200.17,
              1000.11,
              1000.1,
              300.15,
              1250.1,
              200.1
             ],
             "yaxis": "y"
            },
            {
             "alignmentgroup": "True",
             "hovertemplate": "TYPE=%{x}<br>SIZE=%{y}<extra></extra>",
             "legendgroup": "Initial Public Offering",
             "marker": {
              "color": "#EF553B"
             },
             "name": "Initial Public Offering",
             "offsetgroup": "Initial Public Offering",
             "orientation": "v",
             "showlegend": true,
             "textposition": "auto",
             "type": "bar",
             "x": [
              "Initial Public Offering",
              "Initial Public Offering",
              "Initial Public Offering",
              "Initial Public Offering",
              "Initial Public Offering",
              "Initial Public Offering",
              "Initial Public Offering"
             ],
             "xaxis": "x",
             "y": [
              283.6,
              117.1,
              68.63,
              70.2,
              105.1,
              140.1,
              543.75
             ],
             "yaxis": "y"
            },
            {
             "alignmentgroup": "True",
             "hovertemplate": "TYPE=%{x}<br>SIZE=%{y}<extra></extra>",
             "legendgroup": "CD Notes",
             "marker": {
              "color": "#00cc96"
             },
             "name": "CD Notes",
             "offsetgroup": "CD Notes",
             "orientation": "v",
             "showlegend": true,
             "textposition": "auto",
             "type": "bar",
             "x": [
              "CD Notes",
              "CD Notes",
              "CD Notes",
              "CD Notes",
              "CD Notes",
              "CD Notes",
              "CD Notes",
              "CD Notes",
              "CD Notes",
              "CD Notes",
              "CD Notes",
              "CD Notes",
              "CD Notes",
              "CD Notes",
              "CD Notes",
              "CD Notes",
              "CD Notes",
              "CD Notes",
              "CD Notes",
              "CD Notes",
              "CD Notes",
              "CD Notes",
              "CD Notes",
              "CD Notes",
              "CD Notes",
              "CD Notes",
              "CD Notes",
              "CD Notes",
              "CD Notes",
              "CD Notes",
              "CD Notes",
              "CD Notes",
              "CD Notes",
              "CD Notes",
              "CD Notes",
              "CD Notes",
              "CD Notes",
              "CD Notes",
              "CD Notes",
              "CD Notes",
              "CD Notes",
              "CD Notes",
              "CD Notes",
              "CD Notes",
              "CD Notes",
              "CD Notes",
              "CD Notes",
              "CD Notes",
              "CD Notes",
              "CD Notes",
              "CD Notes",
              "CD Notes",
              "CD Notes",
              "CD Notes",
              "CD Notes",
              "CD Notes",
              "CD Notes",
              "CD Notes",
              "CD Notes",
              "CD Notes",
              "CD Notes",
              "CD Notes",
              "CD Notes",
              "CD Notes",
              "CD Notes",
              "CD Notes",
              "CD Notes",
              "CD Notes",
              "CD Notes",
              "CD Notes",
              "CD Notes",
              "CD Notes",
              "CD Notes",
              "CD Notes",
              "CD Notes",
              "CD Notes",
              "CD Notes",
              "CD Notes",
              "CD Notes",
              "CD Notes",
              "CD Notes",
              "CD Notes",
              "CD Notes",
              "CD Notes",
              "CD Notes",
              "CD Notes",
              "CD Notes",
              "CD Notes",
              "CD Notes",
              "CD Notes",
              "CD Notes",
              "CD Notes",
              "CD Notes",
              "CD Notes",
              "CD Notes",
              "CD Notes",
              "CD Notes",
              "CD Notes",
              "CD Notes",
              "CD Notes",
              "CD Notes",
              "CD Notes",
              "CD Notes",
              "CD Notes",
              "CD Notes",
              "CD Notes",
              "CD Notes",
              "CD Notes",
              "CD Notes",
              "CD Notes",
              "CD Notes",
              "CD Notes",
              "CD Notes",
              "CD Notes",
              "CD Notes",
              "CD Notes",
              "CD Notes",
              "CD Notes",
              "CD Notes",
              "CD Notes",
              "CD Notes",
              "CD Notes",
              "CD Notes",
              "CD Notes",
              "CD Notes",
              "CD Notes",
              "CD Notes",
              "CD Notes",
              "CD Notes",
              "CD Notes",
              "CD Notes",
              "CD Notes",
              "CD Notes",
              "CD Notes",
              "CD Notes",
              "CD Notes",
              "CD Notes",
              "CD Notes",
              "CD Notes",
              "CD Notes",
              "CD Notes",
              "CD Notes",
              "CD Notes",
              "CD Notes",
              "CD Notes",
              "CD Notes",
              "CD Notes",
              "CD Notes",
              "CD Notes",
              "CD Notes",
              "CD Notes",
              "CD Notes",
              "CD Notes",
              "CD Notes",
              "CD Notes",
              "CD Notes",
              "CD Notes",
              "CD Notes",
              "CD Notes",
              "CD Notes",
              "CD Notes",
              "CD Notes",
              "CD Notes",
              "CD Notes",
              "CD Notes",
              "CD Notes",
              "CD Notes",
              "CD Notes",
              "CD Notes",
              "CD Notes",
              "CD Notes",
              "CD Notes",
              "CD Notes",
              "CD Notes",
              "CD Notes",
              "CD Notes",
              "CD Notes",
              "CD Notes",
              "CD Notes",
              "CD Notes",
              "CD Notes",
              "CD Notes",
              "CD Notes",
              "CD Notes",
              "CD Notes",
              "CD Notes",
              "CD Notes",
              "CD Notes",
              "CD Notes",
              "CD Notes",
              "CD Notes",
              "CD Notes",
              "CD Notes",
              "CD Notes",
              "CD Notes",
              "CD Notes",
              "CD Notes",
              "CD Notes",
              "CD Notes",
              "CD Notes",
              "CD Notes",
              "CD Notes",
              "CD Notes",
              "CD Notes",
              "CD Notes",
              "CD Notes",
              "CD Notes",
              "CD Notes",
              "CD Notes",
              "CD Notes",
              "CD Notes",
              "CD Notes",
              "CD Notes",
              "CD Notes",
              "CD Notes",
              "CD Notes",
              "CD Notes",
              "CD Notes",
              "CD Notes",
              "CD Notes",
              "CD Notes",
              "CD Notes",
              "CD Notes",
              "CD Notes",
              "CD Notes",
              "CD Notes",
              "CD Notes",
              "CD Notes",
              "CD Notes",
              "CD Notes",
              "CD Notes",
              "CD Notes",
              "CD Notes",
              "CD Notes",
              "CD Notes",
              "CD Notes",
              "CD Notes",
              "CD Notes",
              "CD Notes"
             ],
             "xaxis": "x",
             "y": [
              200.58,
              80.3,
              1000.2,
              125.4,
              100.211,
              100.209,
              200.57,
              155.2,
              100.208,
              90.2,
              100.207,
              700.14,
              650.1,
              350.23,
              300.42,
              200.56,
              195,
              150.27,
              105.11,
              60.2,
              200.55,
              130.1,
              100.205,
              100.203,
              85,
              100.202,
              200.53,
              100.201,
              250.36,
              100.2,
              90.1,
              125.3,
              100.196,
              100.197,
              205.1,
              100.193,
              300.4,
              200.51,
              100.192,
              65.2,
              100.19,
              65.1,
              55.1,
              155.1,
              100.188,
              500.34,
              350.19,
              350.2,
              350.21,
              200.48,
              200.49,
              60,
              275,
              200.47,
              150.24,
              100.187,
              250.32,
              210.1,
              100.186,
              150.23,
              100.182,
              100.183,
              100.184,
              100.185,
              65,
              500.3,
              300.35,
              125.2,
              100.18,
              1000.18,
              150.21,
              150.22,
              100.179,
              200.46,
              75.4,
              200.44,
              100.176,
              500.27,
              500.28,
              300.32,
              200.43,
              150.2,
              125.1,
              100.173,
              100.174,
              800,
              500.24,
              500.26,
              250.29,
              200.42,
              1000.17,
              600.2,
              250.28,
              100.168,
              100.169,
              100.17,
              100.171,
              100.172,
              500.23,
              400.16,
              300.31,
              267,
              250.27,
              200.41,
              150.19,
              130,
              100.164,
              100.165,
              100.166,
              100.167,
              54.36,
              550.1,
              500.22,
              300.3,
              250.26,
              206.1,
              200.4,
              100.161,
              100.162,
              100.163,
              95,
              550,
              350.17,
              325,
              200.39,
              100.156,
              100.157,
              100.158,
              100.159,
              100.16,
              310,
              300.28,
              300.29,
              250.25,
              200.37,
              200.38,
              150.17,
              100.155,
              500.19,
              500.2,
              450.3,
              360,
              300.26,
              300.27,
              250.24,
              200.36,
              190,
              150.15,
              150.16,
              100.149,
              100.15,
              100.151,
              100.152,
              100.153,
              100.154,
              80.1,
              625,
              300.25,
              200.35,
              100.148,
              150.14,
              500.18,
              100.147,
              200.31,
              200.33,
              150.13,
              100.143,
              1000.14,
              188,
              100.142,
              200.3,
              100.141,
              700.13,
              260,
              225.2,
              100.139,
              100.135,
              200.28,
              100.134,
              100.132,
              100.133,
              200.27,
              54.79,
              100.13,
              1200,
              200.25,
              100.128,
              100.129,
              206,
              180.1,
              500.16,
              475,
              300.21,
              300.22,
              300.23,
              205,
              200.22,
              200.23,
              200.24,
              150.12,
              100.124,
              100.125,
              100.126,
              1000.12,
              250.22,
              100.123,
              300.19,
              300.2,
              200.19,
              100.119,
              100.12,
              100.117,
              70,
              100.114,
              100.115,
              100.116,
              200.18,
              150.1,
              100.111,
              100.112,
              100.11,
              100.109,
              250.17,
              250.18,
              250.16,
              80.8,
              100.106,
              55.19,
              500.11,
              100.104,
              500.1,
              250.12,
              100.103,
              100.102,
              200.11,
              100.1,
              500,
              350.1,
              300.11
             ],
             "yaxis": "y"
            },
            {
             "alignmentgroup": "True",
             "hovertemplate": "TYPE=%{x}<br>SIZE=%{y}<extra></extra>",
             "legendgroup": "Bank Notes",
             "marker": {
              "color": "#ab63fa"
             },
             "name": "Bank Notes",
             "offsetgroup": "Bank Notes",
             "orientation": "v",
             "showlegend": true,
             "textposition": "auto",
             "type": "bar",
             "x": [
              "Bank Notes",
              "Bank Notes",
              "Bank Notes",
              "Bank Notes",
              "Bank Notes",
              "Bank Notes",
              "Bank Notes",
              "Bank Notes",
              "Bank Notes",
              "Bank Notes",
              "Bank Notes",
              "Bank Notes",
              "Bank Notes",
              "Bank Notes",
              "Bank Notes",
              "Bank Notes",
              "Bank Notes",
              "Bank Notes",
              "Bank Notes",
              "Bank Notes",
              "Bank Notes",
              "Bank Notes",
              "Bank Notes",
              "Bank Notes",
              "Bank Notes",
              "Bank Notes",
              "Bank Notes",
              "Bank Notes",
              "Bank Notes",
              "Bank Notes",
              "Bank Notes",
              "Bank Notes",
              "Bank Notes",
              "Bank Notes",
              "Bank Notes",
              "Bank Notes",
              "Bank Notes",
              "Bank Notes",
              "Bank Notes"
             ],
             "xaxis": "x",
             "y": [
              100.212,
              125.41,
              150.26,
              115,
              100.198,
              100.199,
              100.194,
              100.195,
              200.52,
              65.3,
              60.1,
              100.191,
              200.5,
              100.18900000000001,
              300.37,
              150.25,
              160,
              500.25,
              150.18,
              225.3,
              100.146,
              350.16,
              100.144,
              100.137,
              100.131,
              75.3,
              500.15,
              200.21,
              100.121,
              500.14,
              100.118,
              100.108,
              500.13,
              200.16,
              300.16,
              100.105,
              210,
              91,
              75
             ],
             "yaxis": "y"
            },
            {
             "alignmentgroup": "True",
             "hovertemplate": "TYPE=%{x}<br>SIZE=%{y}<extra></extra>",
             "legendgroup": "Bonds",
             "marker": {
              "color": "#FFA15A"
             },
             "name": "Bonds",
             "offsetgroup": "Bonds",
             "orientation": "v",
             "showlegend": true,
             "textposition": "auto",
             "type": "bar",
             "x": [
              "Bonds",
              "Bonds",
              "Bonds",
              "Bonds"
             ],
             "xaxis": "x",
             "y": [
              69.7,
              300.38,
              250.34,
              150.11
             ],
             "yaxis": "y"
            },
            {
             "alignmentgroup": "True",
             "hovertemplate": "TYPE=%{x}<br>SIZE=%{y}<extra></extra>",
             "legendgroup": "Sr Notes",
             "marker": {
              "color": "#19d3f3"
             },
             "name": "Sr Notes",
             "offsetgroup": "Sr Notes",
             "orientation": "v",
             "showlegend": true,
             "textposition": "auto",
             "type": "bar",
             "x": [
              "Sr Notes",
              "Sr Notes",
              "Sr Notes",
              "Sr Notes",
              "Sr Notes",
              "Sr Notes",
              "Sr Notes",
              "Sr Notes",
              "Sr Notes",
              "Sr Notes",
              "Sr Notes",
              "Sr Notes",
              "Sr Notes",
              "Sr Notes",
              "Sr Notes"
             ],
             "xaxis": "x",
             "y": [
              250.38,
              110,
              300.39,
              120,
              500.32,
              100.175,
              614.9,
              100.14,
              300.17,
              250.19,
              500.12,
              250.15,
              3000,
              250.11,
              250.1
             ],
             "yaxis": "y"
            },
            {
             "alignmentgroup": "True",
             "hovertemplate": "TYPE=%{x}<br>SIZE=%{y}<extra></extra>",
             "legendgroup": "Notes",
             "marker": {
              "color": "#FF6692"
             },
             "name": "Notes",
             "offsetgroup": "Notes",
             "orientation": "v",
             "showlegend": true,
             "textposition": "auto",
             "type": "bar",
             "x": [
              "Notes",
              "Notes",
              "Notes",
              "Notes",
              "Notes",
              "Notes",
              "Notes",
              "Notes",
              "Notes",
              "Notes",
              "Notes",
              "Notes",
              "Notes",
              "Notes",
              "Notes"
             ],
             "xaxis": "x",
             "y": [
              100.206,
              1000.19,
              100.181,
              300.34,
              100.136,
              100.138,
              300.18,
              600.1,
              400.13,
              2000.1,
              400.12,
              400.11,
              600,
              350.13,
              200.14
             ],
             "yaxis": "y"
            },
            {
             "alignmentgroup": "True",
             "hovertemplate": "TYPE=%{x}<br>SIZE=%{y}<extra></extra>",
             "legendgroup": "Equity Follow-On Offering",
             "marker": {
              "color": "#B6E880"
             },
             "name": "Equity Follow-On Offering",
             "offsetgroup": "Equity Follow-On Offering",
             "orientation": "v",
             "showlegend": true,
             "textposition": "auto",
             "type": "bar",
             "x": [
              "Equity Follow-On Offering",
              "Equity Follow-On Offering",
              "Equity Follow-On Offering",
              "Equity Follow-On Offering"
             ],
             "xaxis": "x",
             "y": [
              74.1,
              85.09,
              220,
              54
             ],
             "yaxis": "y"
            },
            {
             "alignmentgroup": "True",
             "hovertemplate": "TYPE=%{x}<br>SIZE=%{y}<extra></extra>",
             "legendgroup": "Mortgage Bonds",
             "marker": {
              "color": "#FF97FF"
             },
             "name": "Mortgage Bonds",
             "offsetgroup": "Mortgage Bonds",
             "orientation": "v",
             "showlegend": true,
             "textposition": "auto",
             "type": "bar",
             "x": [
              "Mortgage Bonds"
             ],
             "xaxis": "x",
             "y": [
              349
             ],
             "yaxis": "y"
            },
            {
             "alignmentgroup": "True",
             "hovertemplate": "TYPE=%{x}<br>SIZE=%{y}<extra></extra>",
             "legendgroup": "Preferred Securities",
             "marker": {
              "color": "#FECB52"
             },
             "name": "Preferred Securities",
             "offsetgroup": "Preferred Securities",
             "orientation": "v",
             "showlegend": true,
             "textposition": "auto",
             "type": "bar",
             "x": [
              "Preferred Securities",
              "Preferred Securities",
              "Preferred Securities",
              "Preferred Securities",
              "Preferred Securities",
              "Preferred Securities",
              "Preferred Securities"
             ],
             "xaxis": "x",
             "y": [
              500.37,
              137.5,
              100.145,
              63.78,
              1000,
              400,
              300.1
             ],
             "yaxis": "y"
            }
           ],
           "layout": {
            "barmode": "relative",
            "legend": {
             "title": {
              "text": "TYPE"
             },
             "tracegroupgap": 0
            },
            "template": {
             "data": {
              "bar": [
               {
                "error_x": {
                 "color": "#2a3f5f"
                },
                "error_y": {
                 "color": "#2a3f5f"
                },
                "marker": {
                 "line": {
                  "color": "#E5ECF6",
                  "width": 0.5
                 }
                },
                "type": "bar"
               }
              ],
              "barpolar": [
               {
                "marker": {
                 "line": {
                  "color": "#E5ECF6",
                  "width": 0.5
                 }
                },
                "type": "barpolar"
               }
              ],
              "carpet": [
               {
                "aaxis": {
                 "endlinecolor": "#2a3f5f",
                 "gridcolor": "white",
                 "linecolor": "white",
                 "minorgridcolor": "white",
                 "startlinecolor": "#2a3f5f"
                },
                "baxis": {
                 "endlinecolor": "#2a3f5f",
                 "gridcolor": "white",
                 "linecolor": "white",
                 "minorgridcolor": "white",
                 "startlinecolor": "#2a3f5f"
                },
                "type": "carpet"
               }
              ],
              "choropleth": [
               {
                "colorbar": {
                 "outlinewidth": 0,
                 "ticks": ""
                },
                "type": "choropleth"
               }
              ],
              "contour": [
               {
                "colorbar": {
                 "outlinewidth": 0,
                 "ticks": ""
                },
                "colorscale": [
                 [
                  0,
                  "#0d0887"
                 ],
                 [
                  0.1111111111111111,
                  "#46039f"
                 ],
                 [
                  0.2222222222222222,
                  "#7201a8"
                 ],
                 [
                  0.3333333333333333,
                  "#9c179e"
                 ],
                 [
                  0.4444444444444444,
                  "#bd3786"
                 ],
                 [
                  0.5555555555555556,
                  "#d8576b"
                 ],
                 [
                  0.6666666666666666,
                  "#ed7953"
                 ],
                 [
                  0.7777777777777778,
                  "#fb9f3a"
                 ],
                 [
                  0.8888888888888888,
                  "#fdca26"
                 ],
                 [
                  1,
                  "#f0f921"
                 ]
                ],
                "type": "contour"
               }
              ],
              "contourcarpet": [
               {
                "colorbar": {
                 "outlinewidth": 0,
                 "ticks": ""
                },
                "type": "contourcarpet"
               }
              ],
              "heatmap": [
               {
                "colorbar": {
                 "outlinewidth": 0,
                 "ticks": ""
                },
                "colorscale": [
                 [
                  0,
                  "#0d0887"
                 ],
                 [
                  0.1111111111111111,
                  "#46039f"
                 ],
                 [
                  0.2222222222222222,
                  "#7201a8"
                 ],
                 [
                  0.3333333333333333,
                  "#9c179e"
                 ],
                 [
                  0.4444444444444444,
                  "#bd3786"
                 ],
                 [
                  0.5555555555555556,
                  "#d8576b"
                 ],
                 [
                  0.6666666666666666,
                  "#ed7953"
                 ],
                 [
                  0.7777777777777778,
                  "#fb9f3a"
                 ],
                 [
                  0.8888888888888888,
                  "#fdca26"
                 ],
                 [
                  1,
                  "#f0f921"
                 ]
                ],
                "type": "heatmap"
               }
              ],
              "heatmapgl": [
               {
                "colorbar": {
                 "outlinewidth": 0,
                 "ticks": ""
                },
                "colorscale": [
                 [
                  0,
                  "#0d0887"
                 ],
                 [
                  0.1111111111111111,
                  "#46039f"
                 ],
                 [
                  0.2222222222222222,
                  "#7201a8"
                 ],
                 [
                  0.3333333333333333,
                  "#9c179e"
                 ],
                 [
                  0.4444444444444444,
                  "#bd3786"
                 ],
                 [
                  0.5555555555555556,
                  "#d8576b"
                 ],
                 [
                  0.6666666666666666,
                  "#ed7953"
                 ],
                 [
                  0.7777777777777778,
                  "#fb9f3a"
                 ],
                 [
                  0.8888888888888888,
                  "#fdca26"
                 ],
                 [
                  1,
                  "#f0f921"
                 ]
                ],
                "type": "heatmapgl"
               }
              ],
              "histogram": [
               {
                "marker": {
                 "colorbar": {
                  "outlinewidth": 0,
                  "ticks": ""
                 }
                },
                "type": "histogram"
               }
              ],
              "histogram2d": [
               {
                "colorbar": {
                 "outlinewidth": 0,
                 "ticks": ""
                },
                "colorscale": [
                 [
                  0,
                  "#0d0887"
                 ],
                 [
                  0.1111111111111111,
                  "#46039f"
                 ],
                 [
                  0.2222222222222222,
                  "#7201a8"
                 ],
                 [
                  0.3333333333333333,
                  "#9c179e"
                 ],
                 [
                  0.4444444444444444,
                  "#bd3786"
                 ],
                 [
                  0.5555555555555556,
                  "#d8576b"
                 ],
                 [
                  0.6666666666666666,
                  "#ed7953"
                 ],
                 [
                  0.7777777777777778,
                  "#fb9f3a"
                 ],
                 [
                  0.8888888888888888,
                  "#fdca26"
                 ],
                 [
                  1,
                  "#f0f921"
                 ]
                ],
                "type": "histogram2d"
               }
              ],
              "histogram2dcontour": [
               {
                "colorbar": {
                 "outlinewidth": 0,
                 "ticks": ""
                },
                "colorscale": [
                 [
                  0,
                  "#0d0887"
                 ],
                 [
                  0.1111111111111111,
                  "#46039f"
                 ],
                 [
                  0.2222222222222222,
                  "#7201a8"
                 ],
                 [
                  0.3333333333333333,
                  "#9c179e"
                 ],
                 [
                  0.4444444444444444,
                  "#bd3786"
                 ],
                 [
                  0.5555555555555556,
                  "#d8576b"
                 ],
                 [
                  0.6666666666666666,
                  "#ed7953"
                 ],
                 [
                  0.7777777777777778,
                  "#fb9f3a"
                 ],
                 [
                  0.8888888888888888,
                  "#fdca26"
                 ],
                 [
                  1,
                  "#f0f921"
                 ]
                ],
                "type": "histogram2dcontour"
               }
              ],
              "mesh3d": [
               {
                "colorbar": {
                 "outlinewidth": 0,
                 "ticks": ""
                },
                "type": "mesh3d"
               }
              ],
              "parcoords": [
               {
                "line": {
                 "colorbar": {
                  "outlinewidth": 0,
                  "ticks": ""
                 }
                },
                "type": "parcoords"
               }
              ],
              "pie": [
               {
                "automargin": true,
                "type": "pie"
               }
              ],
              "scatter": [
               {
                "marker": {
                 "colorbar": {
                  "outlinewidth": 0,
                  "ticks": ""
                 }
                },
                "type": "scatter"
               }
              ],
              "scatter3d": [
               {
                "line": {
                 "colorbar": {
                  "outlinewidth": 0,
                  "ticks": ""
                 }
                },
                "marker": {
                 "colorbar": {
                  "outlinewidth": 0,
                  "ticks": ""
                 }
                },
                "type": "scatter3d"
               }
              ],
              "scattercarpet": [
               {
                "marker": {
                 "colorbar": {
                  "outlinewidth": 0,
                  "ticks": ""
                 }
                },
                "type": "scattercarpet"
               }
              ],
              "scattergeo": [
               {
                "marker": {
                 "colorbar": {
                  "outlinewidth": 0,
                  "ticks": ""
                 }
                },
                "type": "scattergeo"
               }
              ],
              "scattergl": [
               {
                "marker": {
                 "colorbar": {
                  "outlinewidth": 0,
                  "ticks": ""
                 }
                },
                "type": "scattergl"
               }
              ],
              "scattermapbox": [
               {
                "marker": {
                 "colorbar": {
                  "outlinewidth": 0,
                  "ticks": ""
                 }
                },
                "type": "scattermapbox"
               }
              ],
              "scatterpolar": [
               {
                "marker": {
                 "colorbar": {
                  "outlinewidth": 0,
                  "ticks": ""
                 }
                },
                "type": "scatterpolar"
               }
              ],
              "scatterpolargl": [
               {
                "marker": {
                 "colorbar": {
                  "outlinewidth": 0,
                  "ticks": ""
                 }
                },
                "type": "scatterpolargl"
               }
              ],
              "scatterternary": [
               {
                "marker": {
                 "colorbar": {
                  "outlinewidth": 0,
                  "ticks": ""
                 }
                },
                "type": "scatterternary"
               }
              ],
              "surface": [
               {
                "colorbar": {
                 "outlinewidth": 0,
                 "ticks": ""
                },
                "colorscale": [
                 [
                  0,
                  "#0d0887"
                 ],
                 [
                  0.1111111111111111,
                  "#46039f"
                 ],
                 [
                  0.2222222222222222,
                  "#7201a8"
                 ],
                 [
                  0.3333333333333333,
                  "#9c179e"
                 ],
                 [
                  0.4444444444444444,
                  "#bd3786"
                 ],
                 [
                  0.5555555555555556,
                  "#d8576b"
                 ],
                 [
                  0.6666666666666666,
                  "#ed7953"
                 ],
                 [
                  0.7777777777777778,
                  "#fb9f3a"
                 ],
                 [
                  0.8888888888888888,
                  "#fdca26"
                 ],
                 [
                  1,
                  "#f0f921"
                 ]
                ],
                "type": "surface"
               }
              ],
              "table": [
               {
                "cells": {
                 "fill": {
                  "color": "#EBF0F8"
                 },
                 "line": {
                  "color": "white"
                 }
                },
                "header": {
                 "fill": {
                  "color": "#C8D4E3"
                 },
                 "line": {
                  "color": "white"
                 }
                },
                "type": "table"
               }
              ]
             },
             "layout": {
              "annotationdefaults": {
               "arrowcolor": "#2a3f5f",
               "arrowhead": 0,
               "arrowwidth": 1
              },
              "coloraxis": {
               "colorbar": {
                "outlinewidth": 0,
                "ticks": ""
               }
              },
              "colorscale": {
               "diverging": [
                [
                 0,
                 "#8e0152"
                ],
                [
                 0.1,
                 "#c51b7d"
                ],
                [
                 0.2,
                 "#de77ae"
                ],
                [
                 0.3,
                 "#f1b6da"
                ],
                [
                 0.4,
                 "#fde0ef"
                ],
                [
                 0.5,
                 "#f7f7f7"
                ],
                [
                 0.6,
                 "#e6f5d0"
                ],
                [
                 0.7,
                 "#b8e186"
                ],
                [
                 0.8,
                 "#7fbc41"
                ],
                [
                 0.9,
                 "#4d9221"
                ],
                [
                 1,
                 "#276419"
                ]
               ],
               "sequential": [
                [
                 0,
                 "#0d0887"
                ],
                [
                 0.1111111111111111,
                 "#46039f"
                ],
                [
                 0.2222222222222222,
                 "#7201a8"
                ],
                [
                 0.3333333333333333,
                 "#9c179e"
                ],
                [
                 0.4444444444444444,
                 "#bd3786"
                ],
                [
                 0.5555555555555556,
                 "#d8576b"
                ],
                [
                 0.6666666666666666,
                 "#ed7953"
                ],
                [
                 0.7777777777777778,
                 "#fb9f3a"
                ],
                [
                 0.8888888888888888,
                 "#fdca26"
                ],
                [
                 1,
                 "#f0f921"
                ]
               ],
               "sequentialminus": [
                [
                 0,
                 "#0d0887"
                ],
                [
                 0.1111111111111111,
                 "#46039f"
                ],
                [
                 0.2222222222222222,
                 "#7201a8"
                ],
                [
                 0.3333333333333333,
                 "#9c179e"
                ],
                [
                 0.4444444444444444,
                 "#bd3786"
                ],
                [
                 0.5555555555555556,
                 "#d8576b"
                ],
                [
                 0.6666666666666666,
                 "#ed7953"
                ],
                [
                 0.7777777777777778,
                 "#fb9f3a"
                ],
                [
                 0.8888888888888888,
                 "#fdca26"
                ],
                [
                 1,
                 "#f0f921"
                ]
               ]
              },
              "colorway": [
               "#636efa",
               "#EF553B",
               "#00cc96",
               "#ab63fa",
               "#FFA15A",
               "#19d3f3",
               "#FF6692",
               "#B6E880",
               "#FF97FF",
               "#FECB52"
              ],
              "font": {
               "color": "#2a3f5f"
              },
              "geo": {
               "bgcolor": "white",
               "lakecolor": "white",
               "landcolor": "#E5ECF6",
               "showlakes": true,
               "showland": true,
               "subunitcolor": "white"
              },
              "hoverlabel": {
               "align": "left"
              },
              "hovermode": "closest",
              "mapbox": {
               "style": "light"
              },
              "paper_bgcolor": "white",
              "plot_bgcolor": "#E5ECF6",
              "polar": {
               "angularaxis": {
                "gridcolor": "white",
                "linecolor": "white",
                "ticks": ""
               },
               "bgcolor": "#E5ECF6",
               "radialaxis": {
                "gridcolor": "white",
                "linecolor": "white",
                "ticks": ""
               }
              },
              "scene": {
               "xaxis": {
                "backgroundcolor": "#E5ECF6",
                "gridcolor": "white",
                "gridwidth": 2,
                "linecolor": "white",
                "showbackground": true,
                "ticks": "",
                "zerolinecolor": "white"
               },
               "yaxis": {
                "backgroundcolor": "#E5ECF6",
                "gridcolor": "white",
                "gridwidth": 2,
                "linecolor": "white",
                "showbackground": true,
                "ticks": "",
                "zerolinecolor": "white"
               },
               "zaxis": {
                "backgroundcolor": "#E5ECF6",
                "gridcolor": "white",
                "gridwidth": 2,
                "linecolor": "white",
                "showbackground": true,
                "ticks": "",
                "zerolinecolor": "white"
               }
              },
              "shapedefaults": {
               "line": {
                "color": "#2a3f5f"
               }
              },
              "ternary": {
               "aaxis": {
                "gridcolor": "white",
                "linecolor": "white",
                "ticks": ""
               },
               "baxis": {
                "gridcolor": "white",
                "linecolor": "white",
                "ticks": ""
               },
               "bgcolor": "#E5ECF6",
               "caxis": {
                "gridcolor": "white",
                "linecolor": "white",
                "ticks": ""
               }
              },
              "title": {
               "x": 0.05
              },
              "xaxis": {
               "automargin": true,
               "gridcolor": "white",
               "linecolor": "white",
               "ticks": "",
               "title": {
                "standoff": 15
               },
               "zerolinecolor": "white",
               "zerolinewidth": 2
              },
              "yaxis": {
               "automargin": true,
               "gridcolor": "white",
               "linecolor": "white",
               "ticks": "",
               "title": {
                "standoff": 15
               },
               "zerolinecolor": "white",
               "zerolinewidth": 2
              }
             }
            },
            "title": {
             "text": "Deal Value ($mm) by Type in: Finance"
            },
            "xaxis": {
             "anchor": "y",
             "categoryarray": [
              "Global Notes",
              "Initial Public Offering",
              "CD Notes",
              "Bank Notes",
              "Bonds",
              "Sr Notes",
              "Notes",
              "Equity Follow-On Offering",
              "Mortgage Bonds",
              "Preferred Securities"
             ],
             "categoryorder": "array",
             "domain": [
              0,
              1
             ],
             "title": {
              "text": "TYPE"
             }
            },
            "yaxis": {
             "anchor": "x",
             "domain": [
              0,
              1
             ],
             "title": {
              "text": "SIZE"
             }
            }
           }
          },
          "text/html": "<div>                            <div id=\"8657593c-168c-4be1-bb9e-c4ef95f8a651\" class=\"plotly-graph-div\" style=\"height:525px; width:100%;\"></div>            <script type=\"text/javascript\">                require([\"plotly\"], function(Plotly) {                    window.PLOTLYENV=window.PLOTLYENV || {};                                    if (document.getElementById(\"8657593c-168c-4be1-bb9e-c4ef95f8a651\")) {                    Plotly.newPlot(                        \"8657593c-168c-4be1-bb9e-c4ef95f8a651\",                        [{\"alignmentgroup\": \"True\", \"hovertemplate\": \"TYPE=%{x}<br>SIZE=%{y}<extra></extra>\", \"legendgroup\": \"Global Notes\", \"marker\": {\"color\": \"#636efa\"}, \"name\": \"Global Notes\", \"offsetgroup\": \"Global Notes\", \"orientation\": \"v\", \"showlegend\": true, \"textposition\": \"auto\", \"type\": \"bar\", \"x\": [\"Global Notes\", \"Global Notes\", \"Global Notes\", \"Global Notes\", \"Global Notes\", \"Global Notes\", \"Global Notes\", \"Global Notes\", \"Global Notes\", \"Global Notes\", \"Global Notes\", \"Global Notes\", \"Global Notes\", \"Global Notes\", \"Global Notes\", \"Global Notes\", \"Global Notes\", \"Global Notes\", \"Global Notes\", \"Global Notes\", \"Global Notes\", \"Global Notes\", \"Global Notes\", \"Global Notes\", \"Global Notes\", \"Global Notes\", \"Global Notes\", \"Global Notes\", \"Global Notes\", \"Global Notes\", \"Global Notes\"], \"xaxis\": \"x\", \"y\": [1000.21, 100.21, 200.54, 1250.3, 1100.0, 1500.13, 1500.11, 1500.12, 500.36, 1250.2, 500.33, 325.1, 100.178, 2000.0, 1500.1, 1000.15, 750.1, 313.0, 1000.13, 700.12, 570.0, 650.0, 250.21, 100.113, 180.0, 200.17, 1000.11, 1000.1, 300.15, 1250.1, 200.1], \"yaxis\": \"y\"}, {\"alignmentgroup\": \"True\", \"hovertemplate\": \"TYPE=%{x}<br>SIZE=%{y}<extra></extra>\", \"legendgroup\": \"Initial Public Offering\", \"marker\": {\"color\": \"#EF553B\"}, \"name\": \"Initial Public Offering\", \"offsetgroup\": \"Initial Public Offering\", \"orientation\": \"v\", \"showlegend\": true, \"textposition\": \"auto\", \"type\": \"bar\", \"x\": [\"Initial Public Offering\", \"Initial Public Offering\", \"Initial Public Offering\", \"Initial Public Offering\", \"Initial Public Offering\", \"Initial Public Offering\", \"Initial Public Offering\"], \"xaxis\": \"x\", \"y\": [283.6, 117.1, 68.63, 70.2, 105.1, 140.1, 543.75], \"yaxis\": \"y\"}, {\"alignmentgroup\": \"True\", \"hovertemplate\": \"TYPE=%{x}<br>SIZE=%{y}<extra></extra>\", \"legendgroup\": \"CD Notes\", \"marker\": {\"color\": \"#00cc96\"}, \"name\": \"CD Notes\", \"offsetgroup\": \"CD Notes\", \"orientation\": \"v\", \"showlegend\": true, \"textposition\": \"auto\", \"type\": \"bar\", \"x\": [\"CD Notes\", \"CD Notes\", \"CD Notes\", \"CD Notes\", \"CD Notes\", \"CD Notes\", \"CD Notes\", \"CD Notes\", \"CD Notes\", \"CD Notes\", \"CD Notes\", \"CD Notes\", \"CD Notes\", \"CD Notes\", \"CD Notes\", \"CD Notes\", \"CD Notes\", \"CD Notes\", \"CD Notes\", \"CD Notes\", \"CD Notes\", \"CD Notes\", \"CD Notes\", \"CD Notes\", \"CD Notes\", \"CD Notes\", \"CD Notes\", \"CD Notes\", \"CD Notes\", \"CD Notes\", \"CD Notes\", \"CD Notes\", \"CD Notes\", \"CD Notes\", \"CD Notes\", \"CD Notes\", \"CD Notes\", \"CD Notes\", \"CD Notes\", \"CD Notes\", \"CD Notes\", \"CD Notes\", \"CD Notes\", \"CD Notes\", \"CD Notes\", \"CD Notes\", \"CD Notes\", \"CD Notes\", \"CD Notes\", \"CD Notes\", \"CD Notes\", \"CD Notes\", \"CD Notes\", \"CD Notes\", \"CD Notes\", \"CD Notes\", \"CD Notes\", \"CD Notes\", \"CD Notes\", \"CD Notes\", \"CD Notes\", \"CD Notes\", \"CD Notes\", \"CD Notes\", \"CD Notes\", \"CD Notes\", \"CD Notes\", \"CD Notes\", \"CD Notes\", \"CD Notes\", \"CD Notes\", \"CD Notes\", \"CD Notes\", \"CD Notes\", \"CD Notes\", \"CD Notes\", \"CD Notes\", \"CD Notes\", \"CD Notes\", \"CD Notes\", \"CD Notes\", \"CD Notes\", \"CD Notes\", \"CD Notes\", \"CD Notes\", \"CD Notes\", \"CD Notes\", \"CD Notes\", \"CD Notes\", \"CD Notes\", \"CD Notes\", \"CD Notes\", \"CD Notes\", \"CD Notes\", \"CD Notes\", \"CD Notes\", \"CD Notes\", \"CD Notes\", \"CD Notes\", \"CD Notes\", \"CD Notes\", \"CD Notes\", \"CD Notes\", \"CD Notes\", \"CD Notes\", \"CD Notes\", \"CD Notes\", \"CD Notes\", \"CD Notes\", \"CD Notes\", \"CD Notes\", \"CD Notes\", \"CD Notes\", \"CD Notes\", \"CD Notes\", \"CD Notes\", \"CD Notes\", \"CD Notes\", \"CD Notes\", \"CD Notes\", \"CD Notes\", \"CD Notes\", \"CD Notes\", \"CD Notes\", \"CD Notes\", \"CD Notes\", \"CD Notes\", \"CD Notes\", \"CD Notes\", \"CD Notes\", \"CD Notes\", \"CD Notes\", \"CD Notes\", \"CD Notes\", \"CD Notes\", \"CD Notes\", \"CD Notes\", \"CD Notes\", \"CD Notes\", \"CD Notes\", \"CD Notes\", \"CD Notes\", \"CD Notes\", \"CD Notes\", \"CD Notes\", \"CD Notes\", \"CD Notes\", \"CD Notes\", \"CD Notes\", \"CD Notes\", \"CD Notes\", \"CD Notes\", \"CD Notes\", \"CD Notes\", \"CD Notes\", \"CD Notes\", \"CD Notes\", \"CD Notes\", \"CD Notes\", \"CD Notes\", \"CD Notes\", \"CD Notes\", \"CD Notes\", \"CD Notes\", \"CD Notes\", \"CD Notes\", \"CD Notes\", \"CD Notes\", \"CD Notes\", \"CD Notes\", \"CD Notes\", \"CD Notes\", \"CD Notes\", \"CD Notes\", \"CD Notes\", \"CD Notes\", \"CD Notes\", \"CD Notes\", \"CD Notes\", \"CD Notes\", \"CD Notes\", \"CD Notes\", \"CD Notes\", \"CD Notes\", \"CD Notes\", \"CD Notes\", \"CD Notes\", \"CD Notes\", \"CD Notes\", \"CD Notes\", \"CD Notes\", \"CD Notes\", \"CD Notes\", \"CD Notes\", \"CD Notes\", \"CD Notes\", \"CD Notes\", \"CD Notes\", \"CD Notes\", \"CD Notes\", \"CD Notes\", \"CD Notes\", \"CD Notes\", \"CD Notes\", \"CD Notes\", \"CD Notes\", \"CD Notes\", \"CD Notes\", \"CD Notes\", \"CD Notes\", \"CD Notes\", \"CD Notes\", \"CD Notes\", \"CD Notes\", \"CD Notes\", \"CD Notes\", \"CD Notes\", \"CD Notes\", \"CD Notes\", \"CD Notes\", \"CD Notes\", \"CD Notes\", \"CD Notes\", \"CD Notes\", \"CD Notes\", \"CD Notes\", \"CD Notes\", \"CD Notes\", \"CD Notes\", \"CD Notes\", \"CD Notes\", \"CD Notes\", \"CD Notes\", \"CD Notes\", \"CD Notes\", \"CD Notes\", \"CD Notes\", \"CD Notes\", \"CD Notes\"], \"xaxis\": \"x\", \"y\": [200.58, 80.3, 1000.2, 125.4, 100.211, 100.209, 200.57, 155.2, 100.208, 90.2, 100.207, 700.14, 650.1, 350.23, 300.42, 200.56, 195.0, 150.27, 105.11, 60.2, 200.55, 130.1, 100.205, 100.203, 85.0, 100.202, 200.53, 100.201, 250.36, 100.2, 90.1, 125.3, 100.196, 100.197, 205.1, 100.193, 300.4, 200.51, 100.192, 65.2, 100.19, 65.1, 55.1, 155.1, 100.188, 500.34, 350.19, 350.2, 350.21, 200.48, 200.49, 60.0, 275.0, 200.47, 150.24, 100.187, 250.32, 210.1, 100.186, 150.23, 100.182, 100.183, 100.184, 100.185, 65.0, 500.3, 300.35, 125.2, 100.18, 1000.18, 150.21, 150.22, 100.179, 200.46, 75.4, 200.44, 100.176, 500.27, 500.28, 300.32, 200.43, 150.2, 125.1, 100.173, 100.174, 800.0, 500.24, 500.26, 250.29, 200.42, 1000.17, 600.2, 250.28, 100.168, 100.169, 100.17, 100.171, 100.172, 500.23, 400.16, 300.31, 267.0, 250.27, 200.41, 150.19, 130.0, 100.164, 100.165, 100.166, 100.167, 54.36, 550.1, 500.22, 300.3, 250.26, 206.1, 200.4, 100.161, 100.162, 100.163, 95.0, 550.0, 350.17, 325.0, 200.39, 100.156, 100.157, 100.158, 100.159, 100.16, 310.0, 300.28, 300.29, 250.25, 200.37, 200.38, 150.17, 100.155, 500.19, 500.2, 450.3, 360.0, 300.26, 300.27, 250.24, 200.36, 190.0, 150.15, 150.16, 100.149, 100.15, 100.151, 100.152, 100.153, 100.154, 80.1, 625.0, 300.25, 200.35, 100.148, 150.14, 500.18, 100.147, 200.31, 200.33, 150.13, 100.143, 1000.14, 188.0, 100.142, 200.3, 100.141, 700.13, 260.0, 225.2, 100.139, 100.135, 200.28, 100.134, 100.132, 100.133, 200.27, 54.79, 100.13, 1200.0, 200.25, 100.128, 100.129, 206.0, 180.1, 500.16, 475.0, 300.21, 300.22, 300.23, 205.0, 200.22, 200.23, 200.24, 150.12, 100.124, 100.125, 100.126, 1000.12, 250.22, 100.123, 300.19, 300.2, 200.19, 100.119, 100.12, 100.117, 70.0, 100.114, 100.115, 100.116, 200.18, 150.1, 100.111, 100.112, 100.11, 100.109, 250.17, 250.18, 250.16, 80.8, 100.106, 55.19, 500.11, 100.104, 500.1, 250.12, 100.103, 100.102, 200.11, 100.1, 500.0, 350.1, 300.11], \"yaxis\": \"y\"}, {\"alignmentgroup\": \"True\", \"hovertemplate\": \"TYPE=%{x}<br>SIZE=%{y}<extra></extra>\", \"legendgroup\": \"Bank Notes\", \"marker\": {\"color\": \"#ab63fa\"}, \"name\": \"Bank Notes\", \"offsetgroup\": \"Bank Notes\", \"orientation\": \"v\", \"showlegend\": true, \"textposition\": \"auto\", \"type\": \"bar\", \"x\": [\"Bank Notes\", \"Bank Notes\", \"Bank Notes\", \"Bank Notes\", \"Bank Notes\", \"Bank Notes\", \"Bank Notes\", \"Bank Notes\", \"Bank Notes\", \"Bank Notes\", \"Bank Notes\", \"Bank Notes\", \"Bank Notes\", \"Bank Notes\", \"Bank Notes\", \"Bank Notes\", \"Bank Notes\", \"Bank Notes\", \"Bank Notes\", \"Bank Notes\", \"Bank Notes\", \"Bank Notes\", \"Bank Notes\", \"Bank Notes\", \"Bank Notes\", \"Bank Notes\", \"Bank Notes\", \"Bank Notes\", \"Bank Notes\", \"Bank Notes\", \"Bank Notes\", \"Bank Notes\", \"Bank Notes\", \"Bank Notes\", \"Bank Notes\", \"Bank Notes\", \"Bank Notes\", \"Bank Notes\", \"Bank Notes\"], \"xaxis\": \"x\", \"y\": [100.212, 125.41, 150.26, 115.0, 100.198, 100.199, 100.194, 100.195, 200.52, 65.3, 60.1, 100.191, 200.5, 100.18900000000001, 300.37, 150.25, 160.0, 500.25, 150.18, 225.3, 100.146, 350.16, 100.144, 100.137, 100.131, 75.3, 500.15, 200.21, 100.121, 500.14, 100.118, 100.108, 500.13, 200.16, 300.16, 100.105, 210.0, 91.0, 75.0], \"yaxis\": \"y\"}, {\"alignmentgroup\": \"True\", \"hovertemplate\": \"TYPE=%{x}<br>SIZE=%{y}<extra></extra>\", \"legendgroup\": \"Bonds\", \"marker\": {\"color\": \"#FFA15A\"}, \"name\": \"Bonds\", \"offsetgroup\": \"Bonds\", \"orientation\": \"v\", \"showlegend\": true, \"textposition\": \"auto\", \"type\": \"bar\", \"x\": [\"Bonds\", \"Bonds\", \"Bonds\", \"Bonds\"], \"xaxis\": \"x\", \"y\": [69.7, 300.38, 250.34, 150.11], \"yaxis\": \"y\"}, {\"alignmentgroup\": \"True\", \"hovertemplate\": \"TYPE=%{x}<br>SIZE=%{y}<extra></extra>\", \"legendgroup\": \"Sr Notes\", \"marker\": {\"color\": \"#19d3f3\"}, \"name\": \"Sr Notes\", \"offsetgroup\": \"Sr Notes\", \"orientation\": \"v\", \"showlegend\": true, \"textposition\": \"auto\", \"type\": \"bar\", \"x\": [\"Sr Notes\", \"Sr Notes\", \"Sr Notes\", \"Sr Notes\", \"Sr Notes\", \"Sr Notes\", \"Sr Notes\", \"Sr Notes\", \"Sr Notes\", \"Sr Notes\", \"Sr Notes\", \"Sr Notes\", \"Sr Notes\", \"Sr Notes\", \"Sr Notes\"], \"xaxis\": \"x\", \"y\": [250.38, 110.0, 300.39, 120.0, 500.32, 100.175, 614.9, 100.14, 300.17, 250.19, 500.12, 250.15, 3000.0, 250.11, 250.1], \"yaxis\": \"y\"}, {\"alignmentgroup\": \"True\", \"hovertemplate\": \"TYPE=%{x}<br>SIZE=%{y}<extra></extra>\", \"legendgroup\": \"Notes\", \"marker\": {\"color\": \"#FF6692\"}, \"name\": \"Notes\", \"offsetgroup\": \"Notes\", \"orientation\": \"v\", \"showlegend\": true, \"textposition\": \"auto\", \"type\": \"bar\", \"x\": [\"Notes\", \"Notes\", \"Notes\", \"Notes\", \"Notes\", \"Notes\", \"Notes\", \"Notes\", \"Notes\", \"Notes\", \"Notes\", \"Notes\", \"Notes\", \"Notes\", \"Notes\"], \"xaxis\": \"x\", \"y\": [100.206, 1000.19, 100.181, 300.34, 100.136, 100.138, 300.18, 600.1, 400.13, 2000.1, 400.12, 400.11, 600.0, 350.13, 200.14], \"yaxis\": \"y\"}, {\"alignmentgroup\": \"True\", \"hovertemplate\": \"TYPE=%{x}<br>SIZE=%{y}<extra></extra>\", \"legendgroup\": \"Equity Follow-On Offering\", \"marker\": {\"color\": \"#B6E880\"}, \"name\": \"Equity Follow-On Offering\", \"offsetgroup\": \"Equity Follow-On Offering\", \"orientation\": \"v\", \"showlegend\": true, \"textposition\": \"auto\", \"type\": \"bar\", \"x\": [\"Equity Follow-On Offering\", \"Equity Follow-On Offering\", \"Equity Follow-On Offering\", \"Equity Follow-On Offering\"], \"xaxis\": \"x\", \"y\": [74.1, 85.09, 220.0, 54.0], \"yaxis\": \"y\"}, {\"alignmentgroup\": \"True\", \"hovertemplate\": \"TYPE=%{x}<br>SIZE=%{y}<extra></extra>\", \"legendgroup\": \"Mortgage Bonds\", \"marker\": {\"color\": \"#FF97FF\"}, \"name\": \"Mortgage Bonds\", \"offsetgroup\": \"Mortgage Bonds\", \"orientation\": \"v\", \"showlegend\": true, \"textposition\": \"auto\", \"type\": \"bar\", \"x\": [\"Mortgage Bonds\"], \"xaxis\": \"x\", \"y\": [349.0], \"yaxis\": \"y\"}, {\"alignmentgroup\": \"True\", \"hovertemplate\": \"TYPE=%{x}<br>SIZE=%{y}<extra></extra>\", \"legendgroup\": \"Preferred Securities\", \"marker\": {\"color\": \"#FECB52\"}, \"name\": \"Preferred Securities\", \"offsetgroup\": \"Preferred Securities\", \"orientation\": \"v\", \"showlegend\": true, \"textposition\": \"auto\", \"type\": \"bar\", \"x\": [\"Preferred Securities\", \"Preferred Securities\", \"Preferred Securities\", \"Preferred Securities\", \"Preferred Securities\", \"Preferred Securities\", \"Preferred Securities\"], \"xaxis\": \"x\", \"y\": [500.37, 137.5, 100.145, 63.78, 1000.0, 400.0, 300.1], \"yaxis\": \"y\"}],                        {\"barmode\": \"relative\", \"legend\": {\"title\": {\"text\": \"TYPE\"}, \"tracegroupgap\": 0}, \"template\": {\"data\": {\"bar\": [{\"error_x\": {\"color\": \"#2a3f5f\"}, \"error_y\": {\"color\": \"#2a3f5f\"}, \"marker\": {\"line\": {\"color\": \"#E5ECF6\", \"width\": 0.5}}, \"type\": \"bar\"}], \"barpolar\": [{\"marker\": {\"line\": {\"color\": \"#E5ECF6\", \"width\": 0.5}}, \"type\": \"barpolar\"}], \"carpet\": [{\"aaxis\": {\"endlinecolor\": \"#2a3f5f\", \"gridcolor\": \"white\", \"linecolor\": \"white\", \"minorgridcolor\": \"white\", \"startlinecolor\": \"#2a3f5f\"}, \"baxis\": {\"endlinecolor\": \"#2a3f5f\", \"gridcolor\": \"white\", \"linecolor\": \"white\", \"minorgridcolor\": \"white\", \"startlinecolor\": \"#2a3f5f\"}, \"type\": \"carpet\"}], \"choropleth\": [{\"colorbar\": {\"outlinewidth\": 0, \"ticks\": \"\"}, \"type\": \"choropleth\"}], \"contour\": [{\"colorbar\": {\"outlinewidth\": 0, \"ticks\": \"\"}, \"colorscale\": [[0.0, \"#0d0887\"], [0.1111111111111111, \"#46039f\"], [0.2222222222222222, \"#7201a8\"], [0.3333333333333333, \"#9c179e\"], [0.4444444444444444, \"#bd3786\"], [0.5555555555555556, \"#d8576b\"], [0.6666666666666666, \"#ed7953\"], [0.7777777777777778, \"#fb9f3a\"], [0.8888888888888888, \"#fdca26\"], [1.0, \"#f0f921\"]], \"type\": \"contour\"}], \"contourcarpet\": [{\"colorbar\": {\"outlinewidth\": 0, \"ticks\": \"\"}, \"type\": \"contourcarpet\"}], \"heatmap\": [{\"colorbar\": {\"outlinewidth\": 0, \"ticks\": \"\"}, \"colorscale\": [[0.0, \"#0d0887\"], [0.1111111111111111, \"#46039f\"], [0.2222222222222222, \"#7201a8\"], [0.3333333333333333, \"#9c179e\"], [0.4444444444444444, \"#bd3786\"], [0.5555555555555556, \"#d8576b\"], [0.6666666666666666, \"#ed7953\"], [0.7777777777777778, \"#fb9f3a\"], [0.8888888888888888, \"#fdca26\"], [1.0, \"#f0f921\"]], \"type\": \"heatmap\"}], \"heatmapgl\": [{\"colorbar\": {\"outlinewidth\": 0, \"ticks\": \"\"}, \"colorscale\": [[0.0, \"#0d0887\"], [0.1111111111111111, \"#46039f\"], [0.2222222222222222, \"#7201a8\"], [0.3333333333333333, \"#9c179e\"], [0.4444444444444444, \"#bd3786\"], [0.5555555555555556, \"#d8576b\"], [0.6666666666666666, \"#ed7953\"], [0.7777777777777778, \"#fb9f3a\"], [0.8888888888888888, \"#fdca26\"], [1.0, \"#f0f921\"]], \"type\": \"heatmapgl\"}], \"histogram\": [{\"marker\": {\"colorbar\": {\"outlinewidth\": 0, \"ticks\": \"\"}}, \"type\": \"histogram\"}], \"histogram2d\": [{\"colorbar\": {\"outlinewidth\": 0, \"ticks\": \"\"}, \"colorscale\": [[0.0, \"#0d0887\"], [0.1111111111111111, \"#46039f\"], [0.2222222222222222, \"#7201a8\"], [0.3333333333333333, \"#9c179e\"], [0.4444444444444444, \"#bd3786\"], [0.5555555555555556, \"#d8576b\"], [0.6666666666666666, \"#ed7953\"], [0.7777777777777778, \"#fb9f3a\"], [0.8888888888888888, \"#fdca26\"], [1.0, \"#f0f921\"]], \"type\": \"histogram2d\"}], \"histogram2dcontour\": [{\"colorbar\": {\"outlinewidth\": 0, \"ticks\": \"\"}, \"colorscale\": [[0.0, \"#0d0887\"], [0.1111111111111111, \"#46039f\"], [0.2222222222222222, \"#7201a8\"], [0.3333333333333333, \"#9c179e\"], [0.4444444444444444, \"#bd3786\"], [0.5555555555555556, \"#d8576b\"], [0.6666666666666666, \"#ed7953\"], [0.7777777777777778, \"#fb9f3a\"], [0.8888888888888888, \"#fdca26\"], [1.0, \"#f0f921\"]], \"type\": \"histogram2dcontour\"}], \"mesh3d\": [{\"colorbar\": {\"outlinewidth\": 0, \"ticks\": \"\"}, \"type\": \"mesh3d\"}], \"parcoords\": [{\"line\": {\"colorbar\": {\"outlinewidth\": 0, \"ticks\": \"\"}}, \"type\": \"parcoords\"}], \"pie\": [{\"automargin\": true, \"type\": \"pie\"}], \"scatter\": [{\"marker\": {\"colorbar\": {\"outlinewidth\": 0, \"ticks\": \"\"}}, \"type\": \"scatter\"}], \"scatter3d\": [{\"line\": {\"colorbar\": {\"outlinewidth\": 0, \"ticks\": \"\"}}, \"marker\": {\"colorbar\": {\"outlinewidth\": 0, \"ticks\": \"\"}}, \"type\": \"scatter3d\"}], \"scattercarpet\": [{\"marker\": {\"colorbar\": {\"outlinewidth\": 0, \"ticks\": \"\"}}, \"type\": \"scattercarpet\"}], \"scattergeo\": [{\"marker\": {\"colorbar\": {\"outlinewidth\": 0, \"ticks\": \"\"}}, \"type\": \"scattergeo\"}], \"scattergl\": [{\"marker\": {\"colorbar\": {\"outlinewidth\": 0, \"ticks\": \"\"}}, \"type\": \"scattergl\"}], \"scattermapbox\": [{\"marker\": {\"colorbar\": {\"outlinewidth\": 0, \"ticks\": \"\"}}, \"type\": \"scattermapbox\"}], \"scatterpolar\": [{\"marker\": {\"colorbar\": {\"outlinewidth\": 0, \"ticks\": \"\"}}, \"type\": \"scatterpolar\"}], \"scatterpolargl\": [{\"marker\": {\"colorbar\": {\"outlinewidth\": 0, \"ticks\": \"\"}}, \"type\": \"scatterpolargl\"}], \"scatterternary\": [{\"marker\": {\"colorbar\": {\"outlinewidth\": 0, \"ticks\": \"\"}}, \"type\": \"scatterternary\"}], \"surface\": [{\"colorbar\": {\"outlinewidth\": 0, \"ticks\": \"\"}, \"colorscale\": [[0.0, \"#0d0887\"], [0.1111111111111111, \"#46039f\"], [0.2222222222222222, \"#7201a8\"], [0.3333333333333333, \"#9c179e\"], [0.4444444444444444, \"#bd3786\"], [0.5555555555555556, \"#d8576b\"], [0.6666666666666666, \"#ed7953\"], [0.7777777777777778, \"#fb9f3a\"], [0.8888888888888888, \"#fdca26\"], [1.0, \"#f0f921\"]], \"type\": \"surface\"}], \"table\": [{\"cells\": {\"fill\": {\"color\": \"#EBF0F8\"}, \"line\": {\"color\": \"white\"}}, \"header\": {\"fill\": {\"color\": \"#C8D4E3\"}, \"line\": {\"color\": \"white\"}}, \"type\": \"table\"}]}, \"layout\": {\"annotationdefaults\": {\"arrowcolor\": \"#2a3f5f\", \"arrowhead\": 0, \"arrowwidth\": 1}, \"coloraxis\": {\"colorbar\": {\"outlinewidth\": 0, \"ticks\": \"\"}}, \"colorscale\": {\"diverging\": [[0, \"#8e0152\"], [0.1, \"#c51b7d\"], [0.2, \"#de77ae\"], [0.3, \"#f1b6da\"], [0.4, \"#fde0ef\"], [0.5, \"#f7f7f7\"], [0.6, \"#e6f5d0\"], [0.7, \"#b8e186\"], [0.8, \"#7fbc41\"], [0.9, \"#4d9221\"], [1, \"#276419\"]], \"sequential\": [[0.0, \"#0d0887\"], [0.1111111111111111, \"#46039f\"], [0.2222222222222222, \"#7201a8\"], [0.3333333333333333, \"#9c179e\"], [0.4444444444444444, \"#bd3786\"], [0.5555555555555556, \"#d8576b\"], [0.6666666666666666, \"#ed7953\"], [0.7777777777777778, \"#fb9f3a\"], [0.8888888888888888, \"#fdca26\"], [1.0, \"#f0f921\"]], \"sequentialminus\": [[0.0, \"#0d0887\"], [0.1111111111111111, \"#46039f\"], [0.2222222222222222, \"#7201a8\"], [0.3333333333333333, \"#9c179e\"], [0.4444444444444444, \"#bd3786\"], [0.5555555555555556, \"#d8576b\"], [0.6666666666666666, \"#ed7953\"], [0.7777777777777778, \"#fb9f3a\"], [0.8888888888888888, \"#fdca26\"], [1.0, \"#f0f921\"]]}, \"colorway\": [\"#636efa\", \"#EF553B\", \"#00cc96\", \"#ab63fa\", \"#FFA15A\", \"#19d3f3\", \"#FF6692\", \"#B6E880\", \"#FF97FF\", \"#FECB52\"], \"font\": {\"color\": \"#2a3f5f\"}, \"geo\": {\"bgcolor\": \"white\", \"lakecolor\": \"white\", \"landcolor\": \"#E5ECF6\", \"showlakes\": true, \"showland\": true, \"subunitcolor\": \"white\"}, \"hoverlabel\": {\"align\": \"left\"}, \"hovermode\": \"closest\", \"mapbox\": {\"style\": \"light\"}, \"paper_bgcolor\": \"white\", \"plot_bgcolor\": \"#E5ECF6\", \"polar\": {\"angularaxis\": {\"gridcolor\": \"white\", \"linecolor\": \"white\", \"ticks\": \"\"}, \"bgcolor\": \"#E5ECF6\", \"radialaxis\": {\"gridcolor\": \"white\", \"linecolor\": \"white\", \"ticks\": \"\"}}, \"scene\": {\"xaxis\": {\"backgroundcolor\": \"#E5ECF6\", \"gridcolor\": \"white\", \"gridwidth\": 2, \"linecolor\": \"white\", \"showbackground\": true, \"ticks\": \"\", \"zerolinecolor\": \"white\"}, \"yaxis\": {\"backgroundcolor\": \"#E5ECF6\", \"gridcolor\": \"white\", \"gridwidth\": 2, \"linecolor\": \"white\", \"showbackground\": true, \"ticks\": \"\", \"zerolinecolor\": \"white\"}, \"zaxis\": {\"backgroundcolor\": \"#E5ECF6\", \"gridcolor\": \"white\", \"gridwidth\": 2, \"linecolor\": \"white\", \"showbackground\": true, \"ticks\": \"\", \"zerolinecolor\": \"white\"}}, \"shapedefaults\": {\"line\": {\"color\": \"#2a3f5f\"}}, \"ternary\": {\"aaxis\": {\"gridcolor\": \"white\", \"linecolor\": \"white\", \"ticks\": \"\"}, \"baxis\": {\"gridcolor\": \"white\", \"linecolor\": \"white\", \"ticks\": \"\"}, \"bgcolor\": \"#E5ECF6\", \"caxis\": {\"gridcolor\": \"white\", \"linecolor\": \"white\", \"ticks\": \"\"}}, \"title\": {\"x\": 0.05}, \"xaxis\": {\"automargin\": true, \"gridcolor\": \"white\", \"linecolor\": \"white\", \"ticks\": \"\", \"title\": {\"standoff\": 15}, \"zerolinecolor\": \"white\", \"zerolinewidth\": 2}, \"yaxis\": {\"automargin\": true, \"gridcolor\": \"white\", \"linecolor\": \"white\", \"ticks\": \"\", \"title\": {\"standoff\": 15}, \"zerolinecolor\": \"white\", \"zerolinewidth\": 2}}}, \"title\": {\"text\": \"Deal Value ($mm) by Type in: Finance\"}, \"xaxis\": {\"anchor\": \"y\", \"categoryarray\": [\"Global Notes\", \"Initial Public Offering\", \"CD Notes\", \"Bank Notes\", \"Bonds\", \"Sr Notes\", \"Notes\", \"Equity Follow-On Offering\", \"Mortgage Bonds\", \"Preferred Securities\"], \"categoryorder\": \"array\", \"domain\": [0.0, 1.0], \"title\": {\"text\": \"TYPE\"}}, \"yaxis\": {\"anchor\": \"x\", \"domain\": [0.0, 1.0], \"title\": {\"text\": \"SIZE\"}}},                        {\"responsive\": true}                    ).then(function(){\n                            \nvar gd = document.getElementById('8657593c-168c-4be1-bb9e-c4ef95f8a651');\nvar x = new MutationObserver(function (mutations, observer) {{\n        var display = window.getComputedStyle(gd).display;\n        if (!display || display === 'none') {{\n            console.log([gd, 'removed!']);\n            Plotly.purge(gd);\n            observer.disconnect();\n        }}\n}});\n\n// Listen for the removal of the full notebook cells\nvar notebookContainer = gd.closest('#notebook-container');\nif (notebookContainer) {{\n    x.observe(notebookContainer, {childList: true});\n}}\n\n// Listen for the clearing of the current output cell\nvar outputEl = gd.closest('.output');\nif (outputEl) {{\n    x.observe(outputEl, {childList: true});\n}}\n\n                        })                };                });            </script>        </div>"
         },
         "metadata": {},
         "output_type": "display_data"
        }
       ]
      }
     },
     "1bf206319dbc4b86b4bebaf4c4e75072": {
      "model_module": "@jupyter-widgets/controls",
      "model_module_version": "1.5.0",
      "model_name": "DropdownModel",
      "state": {
       "_options_labels": [
        "Global Notes",
        "Initial Public Offering",
        "CD Notes",
        "Equity Follow-On Offering",
        "Bank Notes",
        "Sr Notes",
        "Bonds",
        "Notes",
        "Preferred Securities",
        "Mortgage Bonds"
       ],
       "description": "Type of Deal:",
       "index": 0,
       "layout": "IPY_MODEL_6814140389cc46b493efcc853a73aa1d",
       "style": "IPY_MODEL_7e061a44f8964176828c59a67ea13ddf"
      }
     },
     "1c9da806949b4cec9258125f4c1baa69": {
      "model_module": "@jupyter-widgets/controls",
      "model_module_version": "1.5.0",
      "model_name": "DropdownModel",
      "state": {
       "_options_labels": [
        "Global Notes",
        "Initial Public Offering",
        "CD Notes",
        "Equity Follow-On Offering",
        "Bank Notes",
        "Sr Notes",
        "Bonds",
        "Notes",
        "Preferred Securities",
        "Mortgage Bonds"
       ],
       "description": "Type of Deal:",
       "index": 0,
       "layout": "IPY_MODEL_76a71503fa034b21b33de732cd9d5e7a",
       "style": "IPY_MODEL_3fc4c871b9394ba1ade56204691ec78f"
      }
     },
     "1d12493f1e3941bdbf4d98ea6ecce588": {
      "model_module": "@jupyter-widgets/controls",
      "model_module_version": "1.5.0",
      "model_name": "DescriptionStyleModel",
      "state": {
       "description_width": ""
      }
     },
     "1dcd4763907241e9abc37c1995494224": {
      "model_module": "@jupyter-widgets/base",
      "model_module_version": "1.2.0",
      "model_name": "LayoutModel",
      "state": {}
     },
     "1de315a0e13a403e92513a5b2d4bc3cb": {
      "model_module": "@jupyter-widgets/controls",
      "model_module_version": "1.5.0",
      "model_name": "SliderStyleModel",
      "state": {
       "description_width": ""
      }
     },
     "1dfddc6cbbda49e297ed4173f0487e64": {
      "model_module": "@jupyter-widgets/controls",
      "model_module_version": "1.5.0",
      "model_name": "DropdownModel",
      "state": {
       "_options_labels": [
        "One",
        "Two",
        "Three"
       ],
       "description": "Number:",
       "index": 1,
       "layout": "IPY_MODEL_0b4b59b93a6d4d8bb09f2860505868e6",
       "style": "IPY_MODEL_8c5cd2e0f23f4405b90ccba6be206b03"
      }
     },
     "1fb1f641c1e74f2ba365d90b5252155e": {
      "model_module": "@jupyter-widgets/base",
      "model_module_version": "1.2.0",
      "model_name": "LayoutModel",
      "state": {}
     },
     "200e9cd733114610bf5e1dc69e1c6ff7": {
      "model_module": "@jupyter-widgets/output",
      "model_module_version": "1.0.0",
      "model_name": "OutputModel",
      "state": {
       "layout": "IPY_MODEL_7f0a687abff54cefb21f338ada0314e8",
       "outputs": [
        {
         "data": {
          "text/html": "<div>\n<style scoped>\n    .dataframe tbody tr th:only-of-type {\n        vertical-align: middle;\n    }\n\n    .dataframe tbody tr th {\n        vertical-align: top;\n    }\n\n    .dataframe thead th {\n        text-align: right;\n    }\n</style>\n<table border=\"1\" class=\"dataframe\">\n  <thead>\n    <tr style=\"text-align: right;\">\n      <th></th>\n      <th>DATE</th>\n      <th>ISSUER</th>\n      <th>TYPE</th>\n      <th>SIZE</th>\n      <th>INDUSTRY</th>\n      <th>LEAD UNDERWRITER</th>\n    </tr>\n  </thead>\n  <tbody>\n    <tr>\n      <th>279</th>\n      <td>2006-03-25</td>\n      <td>BP Amoco plc</td>\n      <td>Global Notes</td>\n      <td>500.21</td>\n      <td>Oil &amp; Gas</td>\n      <td>Morgan Stanley</td>\n    </tr>\n    <tr>\n      <th>341</th>\n      <td>2006-04-09</td>\n      <td>Kerr-McGee Corp.</td>\n      <td>Global Notes</td>\n      <td>350.15</td>\n      <td>Oil &amp; Gas</td>\n      <td>Credit Suisse First Boston</td>\n    </tr>\n  </tbody>\n</table>\n</div>",
          "text/plain": "          DATE             ISSUER          TYPE    SIZE   INDUSTRY  \\\n279 2006-03-25      BP Amoco plc   Global Notes  500.21  Oil & Gas   \n341 2006-04-09  Kerr-McGee Corp.   Global Notes  350.15  Oil & Gas   \n\n               LEAD UNDERWRITER  \n279              Morgan Stanley  \n341  Credit Suisse First Boston  "
         },
         "metadata": {},
         "output_type": "display_data"
        }
       ]
      }
     },
     "21874f05c7224b27b259540ee317312f": {
      "model_module": "@jupyter-widgets/controls",
      "model_module_version": "1.5.0",
      "model_name": "DescriptionStyleModel",
      "state": {
       "description_width": ""
      }
     },
     "21c191e2774c415caf76a3bf0bd9a356": {
      "model_module": "@jupyter-widgets/base",
      "model_module_version": "1.2.0",
      "model_name": "LayoutModel",
      "state": {}
     },
     "21d331e7ce5c462785277cb03c827859": {
      "model_module": "@jupyter-widgets/controls",
      "model_module_version": "1.5.0",
      "model_name": "TextModel",
      "state": {
       "disabled": true,
       "layout": "IPY_MODEL_df95fdd0d32c46c59b513210c3f57dc2",
       "style": "IPY_MODEL_f5b4bf4376ef455ebb483e56b27b048e",
       "value": "Hello World!"
      }
     },
     "227453b621f44655b0f2f1f4bd81a34c": {
      "model_module": "@jupyter-widgets/base",
      "model_module_version": "1.2.0",
      "model_name": "LayoutModel",
      "state": {}
     },
     "228a07165f7b497785e401e1bb09856b": {
      "model_module": "@jupyter-widgets/base",
      "model_module_version": "1.2.0",
      "model_name": "LayoutModel",
      "state": {}
     },
     "22dbcf93765d4fcd86cbddf2c01c9eee": {
      "model_module": "@jupyter-widgets/controls",
      "model_module_version": "1.5.0",
      "model_name": "IntSliderModel",
      "state": {
       "description": "numTickersToPlot",
       "layout": "IPY_MODEL_44efcaab932e4978b4b14497927bf392",
       "max": 30,
       "min": -10,
       "style": "IPY_MODEL_88c6c9c3a3a643c8b119549fe26e37d0",
       "value": 10
      }
     },
     "233bec3baf6041c78da94289e1a8c94a": {
      "model_module": "@jupyter-widgets/base",
      "model_module_version": "1.2.0",
      "model_name": "LayoutModel",
      "state": {}
     },
     "2373301596624cb7bbb53c7146e720ad": {
      "model_module": "@jupyter-widgets/controls",
      "model_module_version": "1.5.0",
      "model_name": "VBoxModel",
      "state": {
       "_dom_classes": [
        "widget-interact"
       ],
       "children": [
        "IPY_MODEL_44cf2377975e4608bef1384441cfbc18",
        "IPY_MODEL_36e1226a79e048fa86ac89390856cc76",
        "IPY_MODEL_faa26ed5a0484a02ae953c5bf9b31215"
       ],
       "layout": "IPY_MODEL_495ebd1b344e45bc83ff5251b89cfd62"
      }
     },
     "261c9711f8724aef8d6b667d6f334d8b": {
      "model_module": "@jupyter-widgets/output",
      "model_module_version": "1.0.0",
      "model_name": "OutputModel",
      "state": {
       "layout": "IPY_MODEL_4c45a2d0edc1487880ec13cd0748d973",
       "outputs": [
        {
         "name": "stdout",
         "output_type": "stream",
         "text": "19\n"
        }
       ]
      }
     },
     "26844bf9e00546f6a075fce55c442747": {
      "model_module": "@jupyter-widgets/controls",
      "model_module_version": "1.5.0",
      "model_name": "DescriptionStyleModel",
      "state": {
       "description_width": ""
      }
     },
     "26b8588985804e7e8da1d9af3f57c009": {
      "model_module": "@jupyter-widgets/controls",
      "model_module_version": "1.5.0",
      "model_name": "SliderStyleModel",
      "state": {
       "description_width": ""
      }
     },
     "26bc657fb50f4b00b3755e923705b302": {
      "model_module": "@jupyter-widgets/controls",
      "model_module_version": "1.5.0",
      "model_name": "VBoxModel",
      "state": {
       "_dom_classes": [
        "widget-interact"
       ],
       "children": [
        "IPY_MODEL_ab89047117ed4bf7a9324ec5cd6c5650",
        "IPY_MODEL_bcff882018834786be629d0b9ae2bac0"
       ],
       "layout": "IPY_MODEL_34568b8f28234a44af6a0c6bd37cdfa3"
      }
     },
     "282b2c61f47e49dea31e26a8fcde6dd8": {
      "model_module": "@jupyter-widgets/base",
      "model_module_version": "1.2.0",
      "model_name": "LayoutModel",
      "state": {}
     },
     "28a16dffa05f40969302fabd9ada683f": {
      "model_module": "@jupyter-widgets/base",
      "model_module_version": "1.2.0",
      "model_name": "LayoutModel",
      "state": {}
     },
     "2ca163bd169b4850af12c3eeb3a39ad7": {
      "model_module": "@jupyter-widgets/base",
      "model_module_version": "1.2.0",
      "model_name": "LayoutModel",
      "state": {}
     },
     "2d6a2c775c154e25a9d4d30741b18983": {
      "model_module": "@jupyter-widgets/base",
      "model_module_version": "1.2.0",
      "model_name": "LayoutModel",
      "state": {}
     },
     "2dcf790630df4115963ac9e0db7b46ce": {
      "model_module": "@jupyter-widgets/controls",
      "model_module_version": "1.5.0",
      "model_name": "IntSliderModel",
      "state": {
       "description": "x",
       "layout": "IPY_MODEL_28a16dffa05f40969302fabd9ada683f",
       "max": 15000,
       "min": -5000,
       "style": "IPY_MODEL_ae8568aec301479aaa59ae0bfea34f4b",
       "value": 5000
      }
     },
     "2eb3bb371212480baff8de257fa0c9cb": {
      "model_module": "@jupyter-widgets/base",
      "model_module_version": "1.2.0",
      "model_name": "LayoutModel",
      "state": {}
     },
     "2efaa32b775d479394d972e671a1e3d5": {
      "model_module": "@jupyter-widgets/controls",
      "model_module_version": "1.5.0",
      "model_name": "DatePickerModel",
      "state": {
       "description": "Pick a Date",
       "disabled": false,
       "layout": "IPY_MODEL_387bbd94529c4f24ba68869ea01e9049",
       "style": "IPY_MODEL_fed4cc137d6b4fd9b43c5cdb47366da0"
      }
     },
     "3019fbd5e1ac423fabe43d6fad5fe62e": {
      "model_module": "@jupyter-widgets/controls",
      "model_module_version": "1.5.0",
      "model_name": "TextModel",
      "state": {
       "layout": "IPY_MODEL_e32df3e4762645d88a1c25a7951b5405",
       "style": "IPY_MODEL_60de19d0bd1f4c7998e1cee1b44da4cf",
       "value": "Hello World!"
      }
     },
     "30e7fad09f1045e8994b14dccafa0917": {
      "model_module": "@jupyter-widgets/controls",
      "model_module_version": "1.5.0",
      "model_name": "IntSliderModel",
      "state": {
       "description": "x",
       "layout": "IPY_MODEL_33a003f8776d49c6b706bf28ca3265fb",
       "max": 200,
       "min": 100,
       "style": "IPY_MODEL_1de315a0e13a403e92513a5b2d4bc3cb",
       "value": 150
      }
     },
     "31680bd8db7041e2bb8ee3f7568a054f": {
      "model_module": "@jupyter-widgets/controls",
      "model_module_version": "1.5.0",
      "model_name": "DropdownModel",
      "state": {
       "_options_labels": [
        "SPX",
        "UKX",
        "NKY"
       ],
       "description": "x",
       "index": 0,
       "layout": "IPY_MODEL_3ce3db27c4dd486a8bf081b5c0583993",
       "style": "IPY_MODEL_64d57220e7a7490cafab2801348fc864"
      }
     },
     "3198a9c4c9ec41d1b2d53948e6867b5b": {
      "model_module": "@jupyter-widgets/base",
      "model_module_version": "1.2.0",
      "model_name": "LayoutModel",
      "state": {}
     },
     "33253ec626c846a3b3ad60cab436082a": {
      "model_module": "@jupyter-widgets/output",
      "model_module_version": "1.0.0",
      "model_name": "OutputModel",
      "state": {
       "layout": "IPY_MODEL_b28524e2c9cb4100872413b13d1fdc25",
       "outputs": [
        {
         "data": {
          "text/plain": "('UKX', 150, 'AAPL', True)"
         },
         "metadata": {},
         "output_type": "display_data"
        }
       ]
      }
     },
     "3332a9df824c4c14b82e3825cd445082": {
      "model_module": "@jupyter-widgets/controls",
      "model_module_version": "1.5.0",
      "model_name": "TextModel",
      "state": {
       "description": "column",
       "layout": "IPY_MODEL_d42b21d2b44d4219b01cb4bffc2f41fc",
       "style": "IPY_MODEL_3b3c35698c114193a9cf37d274e5fd5f",
       "value": "Hi"
      }
     },
     "33a003f8776d49c6b706bf28ca3265fb": {
      "model_module": "@jupyter-widgets/base",
      "model_module_version": "1.2.0",
      "model_name": "LayoutModel",
      "state": {}
     },
     "3407bb31548240bab5e652790e5b2085": {
      "model_module": "@jupyter-widgets/output",
      "model_module_version": "1.0.0",
      "model_name": "OutputModel",
      "state": {
       "layout": "IPY_MODEL_cdfe76280341439d96b1b0735204f51d",
       "outputs": [
        {
         "data": {
          "text/html": "<div>\n<style scoped>\n    .dataframe tbody tr th:only-of-type {\n        vertical-align: middle;\n    }\n\n    .dataframe tbody tr th {\n        vertical-align: top;\n    }\n\n    .dataframe thead th {\n        text-align: right;\n    }\n</style>\n<table border=\"1\" class=\"dataframe\">\n  <thead>\n    <tr style=\"text-align: right;\">\n      <th></th>\n      <th>DATE</th>\n      <th>ISSUER</th>\n      <th>TYPE</th>\n      <th>SIZE</th>\n      <th>INDUSTRY</th>\n      <th>LEAD UNDERWRITER</th>\n    </tr>\n  </thead>\n  <tbody>\n    <tr>\n      <th>114</th>\n      <td>2006-02-26</td>\n      <td>Enbridge Energy Partners LP</td>\n      <td>Equity Follow-On Offering</td>\n      <td>94.05</td>\n      <td>Oil &amp; Gas</td>\n      <td>Salomon Smith Barney</td>\n    </tr>\n    <tr>\n      <th>126</th>\n      <td>2006-02-28</td>\n      <td>Tesoro Petroleum Corp</td>\n      <td>Equity Follow-On Offering</td>\n      <td>225.40</td>\n      <td>Oil &amp; Gas</td>\n      <td>Lehman Brothers</td>\n    </tr>\n    <tr>\n      <th>195</th>\n      <td>2006-03-12</td>\n      <td>Gulfmark Offshore Inc</td>\n      <td>Equity Follow-On Offering</td>\n      <td>53.10</td>\n      <td>Oil &amp; Gas</td>\n      <td>Lehman Brothers</td>\n    </tr>\n    <tr>\n      <th>267</th>\n      <td>2006-03-21</td>\n      <td>Global Industries Ltd</td>\n      <td>Equity Follow-On Offering</td>\n      <td>76.50</td>\n      <td>Oil &amp; Gas</td>\n      <td>Credit Suisse First Boston</td>\n    </tr>\n    <tr>\n      <th>278</th>\n      <td>2006-03-22</td>\n      <td>Remington Oil &amp; GasCorp</td>\n      <td>Equity Follow-On Offering</td>\n      <td>55.50</td>\n      <td>Oil &amp; Gas</td>\n      <td>Jefferies &amp; Company</td>\n    </tr>\n    <tr>\n      <th>329</th>\n      <td>2006-04-04</td>\n      <td>Peabody Energy Corp</td>\n      <td>Equity Follow-On Offering</td>\n      <td>257.40</td>\n      <td>Oil &amp; Gas</td>\n      <td>Lehman Brothers</td>\n    </tr>\n    <tr>\n      <th>390</th>\n      <td>2006-04-23</td>\n      <td>El Paso Energy Partners LP</td>\n      <td>Equity Follow-On Offering</td>\n      <td>113.58</td>\n      <td>Oil &amp; Gas</td>\n      <td>Salomon Smith Barney</td>\n    </tr>\n    <tr>\n      <th>407</th>\n      <td>2006-04-24</td>\n      <td>Lone Star Technologies Inc</td>\n      <td>Equity Follow-On Offering</td>\n      <td>84.50</td>\n      <td>Oil &amp; Gas</td>\n      <td>Goldman Sachs</td>\n    </tr>\n    <tr>\n      <th>469</th>\n      <td>2006-05-16</td>\n      <td>Maverick Tube Corp</td>\n      <td>Equity Follow-On Offering</td>\n      <td>72.50</td>\n      <td>Oil &amp; Gas</td>\n      <td>J.P. Morgan</td>\n    </tr>\n  </tbody>\n</table>\n</div>",
          "text/plain": "          DATE                        ISSUER                       TYPE  \\\n114 2006-02-26  Enbridge Energy Partners LP   Equity Follow-On Offering   \n126 2006-02-28        Tesoro Petroleum Corp   Equity Follow-On Offering   \n195 2006-03-12        Gulfmark Offshore Inc   Equity Follow-On Offering   \n267 2006-03-21        Global Industries Ltd   Equity Follow-On Offering   \n278 2006-03-22      Remington Oil & GasCorp   Equity Follow-On Offering   \n329 2006-04-04          Peabody Energy Corp   Equity Follow-On Offering   \n390 2006-04-23   El Paso Energy Partners LP   Equity Follow-On Offering   \n407 2006-04-24   Lone Star Technologies Inc   Equity Follow-On Offering   \n469 2006-05-16           Maverick Tube Corp   Equity Follow-On Offering   \n\n       SIZE   INDUSTRY            LEAD UNDERWRITER  \n114   94.05  Oil & Gas        Salomon Smith Barney  \n126  225.40  Oil & Gas             Lehman Brothers  \n195   53.10  Oil & Gas             Lehman Brothers  \n267   76.50  Oil & Gas  Credit Suisse First Boston  \n278   55.50  Oil & Gas         Jefferies & Company  \n329  257.40  Oil & Gas             Lehman Brothers  \n390  113.58  Oil & Gas        Salomon Smith Barney  \n407   84.50  Oil & Gas               Goldman Sachs  \n469   72.50  Oil & Gas                 J.P. Morgan  "
         },
         "metadata": {},
         "output_type": "display_data"
        }
       ]
      }
     },
     "3407fe0d5a9f442e8608d0535bf887a0": {
      "model_module": "@jupyter-widgets/controls",
      "model_module_version": "1.5.0",
      "model_name": "IntSliderModel",
      "state": {
       "description": "x",
       "layout": "IPY_MODEL_455e65f9f64a468087c546f51549c6a3",
       "max": 200,
       "min": 100,
       "style": "IPY_MODEL_1029655ed3f246f89c53efb810c4acc3",
       "value": 150
      }
     },
     "343fc6fcab214f378f38bae9f46f0301": {
      "model_module": "@jupyter-widgets/base",
      "model_module_version": "1.2.0",
      "model_name": "LayoutModel",
      "state": {}
     },
     "3454fac18f2e432e97af7cf3312c2203": {
      "model_module": "@jupyter-widgets/output",
      "model_module_version": "1.0.0",
      "model_name": "OutputModel",
      "state": {
       "layout": "IPY_MODEL_7d2b8dbee48541318433143f610ef6cf",
       "outputs": [
        {
         "data": {
          "application/vnd.plotly.v1+json": {
           "config": {
            "plotlyServerURL": "https://plot.ly"
           },
           "data": [
            {
             "alignmentgroup": "True",
             "hovertemplate": "TYPE=%{x}<br>SIZE=%{y}<extra></extra>",
             "legendgroup": "Sr Notes",
             "marker": {
              "color": "#636efa"
             },
             "name": "Sr Notes",
             "offsetgroup": "Sr Notes",
             "orientation": "v",
             "showlegend": true,
             "textposition": "auto",
             "type": "bar",
             "x": [
              "Sr Notes",
              "Sr Notes",
              "Sr Notes",
              "Sr Notes",
              "Sr Notes",
              "Sr Notes",
              "Sr Notes"
             ],
             "xaxis": "x",
             "y": [
              500.4,
              350.22,
              600.3,
              400.17,
              1000.16,
              200.29,
              400.1
             ],
             "yaxis": "y"
            },
            {
             "alignmentgroup": "True",
             "hovertemplate": "TYPE=%{x}<br>SIZE=%{y}<extra></extra>",
             "legendgroup": "Bonds",
             "marker": {
              "color": "#EF553B"
             },
             "name": "Bonds",
             "offsetgroup": "Bonds",
             "orientation": "v",
             "showlegend": true,
             "textposition": "auto",
             "type": "bar",
             "x": [
              "Bonds",
              "Bonds"
             ],
             "xaxis": "x",
             "y": [
              300.41,
              240
             ],
             "yaxis": "y"
            },
            {
             "alignmentgroup": "True",
             "hovertemplate": "TYPE=%{x}<br>SIZE=%{y}<extra></extra>",
             "legendgroup": "Equity Follow-On Offering",
             "marker": {
              "color": "#00cc96"
             },
             "name": "Equity Follow-On Offering",
             "offsetgroup": "Equity Follow-On Offering",
             "orientation": "v",
             "showlegend": true,
             "textposition": "auto",
             "type": "bar",
             "x": [
              "Equity Follow-On Offering",
              "Equity Follow-On Offering",
              "Equity Follow-On Offering",
              "Equity Follow-On Offering",
              "Equity Follow-On Offering",
              "Equity Follow-On Offering",
              "Equity Follow-On Offering",
              "Equity Follow-On Offering",
              "Equity Follow-On Offering"
             ],
             "xaxis": "x",
             "y": [
              94.05,
              225.4,
              53.1,
              76.5,
              55.5,
              257.4,
              113.58,
              84.5,
              72.5
             ],
             "yaxis": "y"
            },
            {
             "alignmentgroup": "True",
             "hovertemplate": "TYPE=%{x}<br>SIZE=%{y}<extra></extra>",
             "legendgroup": "Notes",
             "marker": {
              "color": "#ab63fa"
             },
             "name": "Notes",
             "offsetgroup": "Notes",
             "orientation": "v",
             "showlegend": true,
             "textposition": "auto",
             "type": "bar",
             "x": [
              "Notes",
              "Notes"
             ],
             "xaxis": "x",
             "y": [
              250.33,
              225.1
             ],
             "yaxis": "y"
            },
            {
             "alignmentgroup": "True",
             "hovertemplate": "TYPE=%{x}<br>SIZE=%{y}<extra></extra>",
             "legendgroup": "Global Notes",
             "marker": {
              "color": "#FFA15A"
             },
             "name": "Global Notes",
             "offsetgroup": "Global Notes",
             "orientation": "v",
             "showlegend": true,
             "textposition": "auto",
             "type": "bar",
             "x": [
              "Global Notes",
              "Global Notes"
             ],
             "xaxis": "x",
             "y": [
              500.21,
              350.15
             ],
             "yaxis": "y"
            }
           ],
           "layout": {
            "barmode": "relative",
            "legend": {
             "title": {
              "text": "TYPE"
             },
             "tracegroupgap": 0
            },
            "template": {
             "data": {
              "bar": [
               {
                "error_x": {
                 "color": "#2a3f5f"
                },
                "error_y": {
                 "color": "#2a3f5f"
                },
                "marker": {
                 "line": {
                  "color": "#E5ECF6",
                  "width": 0.5
                 }
                },
                "type": "bar"
               }
              ],
              "barpolar": [
               {
                "marker": {
                 "line": {
                  "color": "#E5ECF6",
                  "width": 0.5
                 }
                },
                "type": "barpolar"
               }
              ],
              "carpet": [
               {
                "aaxis": {
                 "endlinecolor": "#2a3f5f",
                 "gridcolor": "white",
                 "linecolor": "white",
                 "minorgridcolor": "white",
                 "startlinecolor": "#2a3f5f"
                },
                "baxis": {
                 "endlinecolor": "#2a3f5f",
                 "gridcolor": "white",
                 "linecolor": "white",
                 "minorgridcolor": "white",
                 "startlinecolor": "#2a3f5f"
                },
                "type": "carpet"
               }
              ],
              "choropleth": [
               {
                "colorbar": {
                 "outlinewidth": 0,
                 "ticks": ""
                },
                "type": "choropleth"
               }
              ],
              "contour": [
               {
                "colorbar": {
                 "outlinewidth": 0,
                 "ticks": ""
                },
                "colorscale": [
                 [
                  0,
                  "#0d0887"
                 ],
                 [
                  0.1111111111111111,
                  "#46039f"
                 ],
                 [
                  0.2222222222222222,
                  "#7201a8"
                 ],
                 [
                  0.3333333333333333,
                  "#9c179e"
                 ],
                 [
                  0.4444444444444444,
                  "#bd3786"
                 ],
                 [
                  0.5555555555555556,
                  "#d8576b"
                 ],
                 [
                  0.6666666666666666,
                  "#ed7953"
                 ],
                 [
                  0.7777777777777778,
                  "#fb9f3a"
                 ],
                 [
                  0.8888888888888888,
                  "#fdca26"
                 ],
                 [
                  1,
                  "#f0f921"
                 ]
                ],
                "type": "contour"
               }
              ],
              "contourcarpet": [
               {
                "colorbar": {
                 "outlinewidth": 0,
                 "ticks": ""
                },
                "type": "contourcarpet"
               }
              ],
              "heatmap": [
               {
                "colorbar": {
                 "outlinewidth": 0,
                 "ticks": ""
                },
                "colorscale": [
                 [
                  0,
                  "#0d0887"
                 ],
                 [
                  0.1111111111111111,
                  "#46039f"
                 ],
                 [
                  0.2222222222222222,
                  "#7201a8"
                 ],
                 [
                  0.3333333333333333,
                  "#9c179e"
                 ],
                 [
                  0.4444444444444444,
                  "#bd3786"
                 ],
                 [
                  0.5555555555555556,
                  "#d8576b"
                 ],
                 [
                  0.6666666666666666,
                  "#ed7953"
                 ],
                 [
                  0.7777777777777778,
                  "#fb9f3a"
                 ],
                 [
                  0.8888888888888888,
                  "#fdca26"
                 ],
                 [
                  1,
                  "#f0f921"
                 ]
                ],
                "type": "heatmap"
               }
              ],
              "heatmapgl": [
               {
                "colorbar": {
                 "outlinewidth": 0,
                 "ticks": ""
                },
                "colorscale": [
                 [
                  0,
                  "#0d0887"
                 ],
                 [
                  0.1111111111111111,
                  "#46039f"
                 ],
                 [
                  0.2222222222222222,
                  "#7201a8"
                 ],
                 [
                  0.3333333333333333,
                  "#9c179e"
                 ],
                 [
                  0.4444444444444444,
                  "#bd3786"
                 ],
                 [
                  0.5555555555555556,
                  "#d8576b"
                 ],
                 [
                  0.6666666666666666,
                  "#ed7953"
                 ],
                 [
                  0.7777777777777778,
                  "#fb9f3a"
                 ],
                 [
                  0.8888888888888888,
                  "#fdca26"
                 ],
                 [
                  1,
                  "#f0f921"
                 ]
                ],
                "type": "heatmapgl"
               }
              ],
              "histogram": [
               {
                "marker": {
                 "colorbar": {
                  "outlinewidth": 0,
                  "ticks": ""
                 }
                },
                "type": "histogram"
               }
              ],
              "histogram2d": [
               {
                "colorbar": {
                 "outlinewidth": 0,
                 "ticks": ""
                },
                "colorscale": [
                 [
                  0,
                  "#0d0887"
                 ],
                 [
                  0.1111111111111111,
                  "#46039f"
                 ],
                 [
                  0.2222222222222222,
                  "#7201a8"
                 ],
                 [
                  0.3333333333333333,
                  "#9c179e"
                 ],
                 [
                  0.4444444444444444,
                  "#bd3786"
                 ],
                 [
                  0.5555555555555556,
                  "#d8576b"
                 ],
                 [
                  0.6666666666666666,
                  "#ed7953"
                 ],
                 [
                  0.7777777777777778,
                  "#fb9f3a"
                 ],
                 [
                  0.8888888888888888,
                  "#fdca26"
                 ],
                 [
                  1,
                  "#f0f921"
                 ]
                ],
                "type": "histogram2d"
               }
              ],
              "histogram2dcontour": [
               {
                "colorbar": {
                 "outlinewidth": 0,
                 "ticks": ""
                },
                "colorscale": [
                 [
                  0,
                  "#0d0887"
                 ],
                 [
                  0.1111111111111111,
                  "#46039f"
                 ],
                 [
                  0.2222222222222222,
                  "#7201a8"
                 ],
                 [
                  0.3333333333333333,
                  "#9c179e"
                 ],
                 [
                  0.4444444444444444,
                  "#bd3786"
                 ],
                 [
                  0.5555555555555556,
                  "#d8576b"
                 ],
                 [
                  0.6666666666666666,
                  "#ed7953"
                 ],
                 [
                  0.7777777777777778,
                  "#fb9f3a"
                 ],
                 [
                  0.8888888888888888,
                  "#fdca26"
                 ],
                 [
                  1,
                  "#f0f921"
                 ]
                ],
                "type": "histogram2dcontour"
               }
              ],
              "mesh3d": [
               {
                "colorbar": {
                 "outlinewidth": 0,
                 "ticks": ""
                },
                "type": "mesh3d"
               }
              ],
              "parcoords": [
               {
                "line": {
                 "colorbar": {
                  "outlinewidth": 0,
                  "ticks": ""
                 }
                },
                "type": "parcoords"
               }
              ],
              "pie": [
               {
                "automargin": true,
                "type": "pie"
               }
              ],
              "scatter": [
               {
                "marker": {
                 "colorbar": {
                  "outlinewidth": 0,
                  "ticks": ""
                 }
                },
                "type": "scatter"
               }
              ],
              "scatter3d": [
               {
                "line": {
                 "colorbar": {
                  "outlinewidth": 0,
                  "ticks": ""
                 }
                },
                "marker": {
                 "colorbar": {
                  "outlinewidth": 0,
                  "ticks": ""
                 }
                },
                "type": "scatter3d"
               }
              ],
              "scattercarpet": [
               {
                "marker": {
                 "colorbar": {
                  "outlinewidth": 0,
                  "ticks": ""
                 }
                },
                "type": "scattercarpet"
               }
              ],
              "scattergeo": [
               {
                "marker": {
                 "colorbar": {
                  "outlinewidth": 0,
                  "ticks": ""
                 }
                },
                "type": "scattergeo"
               }
              ],
              "scattergl": [
               {
                "marker": {
                 "colorbar": {
                  "outlinewidth": 0,
                  "ticks": ""
                 }
                },
                "type": "scattergl"
               }
              ],
              "scattermapbox": [
               {
                "marker": {
                 "colorbar": {
                  "outlinewidth": 0,
                  "ticks": ""
                 }
                },
                "type": "scattermapbox"
               }
              ],
              "scatterpolar": [
               {
                "marker": {
                 "colorbar": {
                  "outlinewidth": 0,
                  "ticks": ""
                 }
                },
                "type": "scatterpolar"
               }
              ],
              "scatterpolargl": [
               {
                "marker": {
                 "colorbar": {
                  "outlinewidth": 0,
                  "ticks": ""
                 }
                },
                "type": "scatterpolargl"
               }
              ],
              "scatterternary": [
               {
                "marker": {
                 "colorbar": {
                  "outlinewidth": 0,
                  "ticks": ""
                 }
                },
                "type": "scatterternary"
               }
              ],
              "surface": [
               {
                "colorbar": {
                 "outlinewidth": 0,
                 "ticks": ""
                },
                "colorscale": [
                 [
                  0,
                  "#0d0887"
                 ],
                 [
                  0.1111111111111111,
                  "#46039f"
                 ],
                 [
                  0.2222222222222222,
                  "#7201a8"
                 ],
                 [
                  0.3333333333333333,
                  "#9c179e"
                 ],
                 [
                  0.4444444444444444,
                  "#bd3786"
                 ],
                 [
                  0.5555555555555556,
                  "#d8576b"
                 ],
                 [
                  0.6666666666666666,
                  "#ed7953"
                 ],
                 [
                  0.7777777777777778,
                  "#fb9f3a"
                 ],
                 [
                  0.8888888888888888,
                  "#fdca26"
                 ],
                 [
                  1,
                  "#f0f921"
                 ]
                ],
                "type": "surface"
               }
              ],
              "table": [
               {
                "cells": {
                 "fill": {
                  "color": "#EBF0F8"
                 },
                 "line": {
                  "color": "white"
                 }
                },
                "header": {
                 "fill": {
                  "color": "#C8D4E3"
                 },
                 "line": {
                  "color": "white"
                 }
                },
                "type": "table"
               }
              ]
             },
             "layout": {
              "annotationdefaults": {
               "arrowcolor": "#2a3f5f",
               "arrowhead": 0,
               "arrowwidth": 1
              },
              "coloraxis": {
               "colorbar": {
                "outlinewidth": 0,
                "ticks": ""
               }
              },
              "colorscale": {
               "diverging": [
                [
                 0,
                 "#8e0152"
                ],
                [
                 0.1,
                 "#c51b7d"
                ],
                [
                 0.2,
                 "#de77ae"
                ],
                [
                 0.3,
                 "#f1b6da"
                ],
                [
                 0.4,
                 "#fde0ef"
                ],
                [
                 0.5,
                 "#f7f7f7"
                ],
                [
                 0.6,
                 "#e6f5d0"
                ],
                [
                 0.7,
                 "#b8e186"
                ],
                [
                 0.8,
                 "#7fbc41"
                ],
                [
                 0.9,
                 "#4d9221"
                ],
                [
                 1,
                 "#276419"
                ]
               ],
               "sequential": [
                [
                 0,
                 "#0d0887"
                ],
                [
                 0.1111111111111111,
                 "#46039f"
                ],
                [
                 0.2222222222222222,
                 "#7201a8"
                ],
                [
                 0.3333333333333333,
                 "#9c179e"
                ],
                [
                 0.4444444444444444,
                 "#bd3786"
                ],
                [
                 0.5555555555555556,
                 "#d8576b"
                ],
                [
                 0.6666666666666666,
                 "#ed7953"
                ],
                [
                 0.7777777777777778,
                 "#fb9f3a"
                ],
                [
                 0.8888888888888888,
                 "#fdca26"
                ],
                [
                 1,
                 "#f0f921"
                ]
               ],
               "sequentialminus": [
                [
                 0,
                 "#0d0887"
                ],
                [
                 0.1111111111111111,
                 "#46039f"
                ],
                [
                 0.2222222222222222,
                 "#7201a8"
                ],
                [
                 0.3333333333333333,
                 "#9c179e"
                ],
                [
                 0.4444444444444444,
                 "#bd3786"
                ],
                [
                 0.5555555555555556,
                 "#d8576b"
                ],
                [
                 0.6666666666666666,
                 "#ed7953"
                ],
                [
                 0.7777777777777778,
                 "#fb9f3a"
                ],
                [
                 0.8888888888888888,
                 "#fdca26"
                ],
                [
                 1,
                 "#f0f921"
                ]
               ]
              },
              "colorway": [
               "#636efa",
               "#EF553B",
               "#00cc96",
               "#ab63fa",
               "#FFA15A",
               "#19d3f3",
               "#FF6692",
               "#B6E880",
               "#FF97FF",
               "#FECB52"
              ],
              "font": {
               "color": "#2a3f5f"
              },
              "geo": {
               "bgcolor": "white",
               "lakecolor": "white",
               "landcolor": "#E5ECF6",
               "showlakes": true,
               "showland": true,
               "subunitcolor": "white"
              },
              "hoverlabel": {
               "align": "left"
              },
              "hovermode": "closest",
              "mapbox": {
               "style": "light"
              },
              "paper_bgcolor": "white",
              "plot_bgcolor": "#E5ECF6",
              "polar": {
               "angularaxis": {
                "gridcolor": "white",
                "linecolor": "white",
                "ticks": ""
               },
               "bgcolor": "#E5ECF6",
               "radialaxis": {
                "gridcolor": "white",
                "linecolor": "white",
                "ticks": ""
               }
              },
              "scene": {
               "xaxis": {
                "backgroundcolor": "#E5ECF6",
                "gridcolor": "white",
                "gridwidth": 2,
                "linecolor": "white",
                "showbackground": true,
                "ticks": "",
                "zerolinecolor": "white"
               },
               "yaxis": {
                "backgroundcolor": "#E5ECF6",
                "gridcolor": "white",
                "gridwidth": 2,
                "linecolor": "white",
                "showbackground": true,
                "ticks": "",
                "zerolinecolor": "white"
               },
               "zaxis": {
                "backgroundcolor": "#E5ECF6",
                "gridcolor": "white",
                "gridwidth": 2,
                "linecolor": "white",
                "showbackground": true,
                "ticks": "",
                "zerolinecolor": "white"
               }
              },
              "shapedefaults": {
               "line": {
                "color": "#2a3f5f"
               }
              },
              "ternary": {
               "aaxis": {
                "gridcolor": "white",
                "linecolor": "white",
                "ticks": ""
               },
               "baxis": {
                "gridcolor": "white",
                "linecolor": "white",
                "ticks": ""
               },
               "bgcolor": "#E5ECF6",
               "caxis": {
                "gridcolor": "white",
                "linecolor": "white",
                "ticks": ""
               }
              },
              "title": {
               "x": 0.05
              },
              "xaxis": {
               "automargin": true,
               "gridcolor": "white",
               "linecolor": "white",
               "ticks": "",
               "title": {
                "standoff": 15
               },
               "zerolinecolor": "white",
               "zerolinewidth": 2
              },
              "yaxis": {
               "automargin": true,
               "gridcolor": "white",
               "linecolor": "white",
               "ticks": "",
               "title": {
                "standoff": 15
               },
               "zerolinecolor": "white",
               "zerolinewidth": 2
              }
             }
            },
            "title": {
             "text": "Deal Value ($mm) by Type in: Oil & Gas"
            },
            "xaxis": {
             "anchor": "y",
             "categoryarray": [
              "Sr Notes",
              "Bonds",
              "Equity Follow-On Offering",
              "Notes",
              "Global Notes"
             ],
             "categoryorder": "array",
             "domain": [
              0,
              1
             ],
             "title": {
              "text": "TYPE"
             }
            },
            "yaxis": {
             "anchor": "x",
             "domain": [
              0,
              1
             ],
             "title": {
              "text": "SIZE"
             }
            }
           }
          },
          "text/html": "<div>                            <div id=\"27a072ce-e62d-4aa4-bf27-353c33b24bed\" class=\"plotly-graph-div\" style=\"height:525px; width:100%;\"></div>            <script type=\"text/javascript\">                require([\"plotly\"], function(Plotly) {                    window.PLOTLYENV=window.PLOTLYENV || {};                                    if (document.getElementById(\"27a072ce-e62d-4aa4-bf27-353c33b24bed\")) {                    Plotly.newPlot(                        \"27a072ce-e62d-4aa4-bf27-353c33b24bed\",                        [{\"alignmentgroup\": \"True\", \"hovertemplate\": \"TYPE=%{x}<br>SIZE=%{y}<extra></extra>\", \"legendgroup\": \"Sr Notes\", \"marker\": {\"color\": \"#636efa\"}, \"name\": \"Sr Notes\", \"offsetgroup\": \"Sr Notes\", \"orientation\": \"v\", \"showlegend\": true, \"textposition\": \"auto\", \"type\": \"bar\", \"x\": [\"Sr Notes\", \"Sr Notes\", \"Sr Notes\", \"Sr Notes\", \"Sr Notes\", \"Sr Notes\", \"Sr Notes\"], \"xaxis\": \"x\", \"y\": [500.4, 350.22, 600.3, 400.17, 1000.16, 200.29, 400.1], \"yaxis\": \"y\"}, {\"alignmentgroup\": \"True\", \"hovertemplate\": \"TYPE=%{x}<br>SIZE=%{y}<extra></extra>\", \"legendgroup\": \"Bonds\", \"marker\": {\"color\": \"#EF553B\"}, \"name\": \"Bonds\", \"offsetgroup\": \"Bonds\", \"orientation\": \"v\", \"showlegend\": true, \"textposition\": \"auto\", \"type\": \"bar\", \"x\": [\"Bonds\", \"Bonds\"], \"xaxis\": \"x\", \"y\": [300.41, 240.0], \"yaxis\": \"y\"}, {\"alignmentgroup\": \"True\", \"hovertemplate\": \"TYPE=%{x}<br>SIZE=%{y}<extra></extra>\", \"legendgroup\": \"Equity Follow-On Offering\", \"marker\": {\"color\": \"#00cc96\"}, \"name\": \"Equity Follow-On Offering\", \"offsetgroup\": \"Equity Follow-On Offering\", \"orientation\": \"v\", \"showlegend\": true, \"textposition\": \"auto\", \"type\": \"bar\", \"x\": [\"Equity Follow-On Offering\", \"Equity Follow-On Offering\", \"Equity Follow-On Offering\", \"Equity Follow-On Offering\", \"Equity Follow-On Offering\", \"Equity Follow-On Offering\", \"Equity Follow-On Offering\", \"Equity Follow-On Offering\", \"Equity Follow-On Offering\"], \"xaxis\": \"x\", \"y\": [94.05, 225.4, 53.1, 76.5, 55.5, 257.4, 113.58, 84.5, 72.5], \"yaxis\": \"y\"}, {\"alignmentgroup\": \"True\", \"hovertemplate\": \"TYPE=%{x}<br>SIZE=%{y}<extra></extra>\", \"legendgroup\": \"Notes\", \"marker\": {\"color\": \"#ab63fa\"}, \"name\": \"Notes\", \"offsetgroup\": \"Notes\", \"orientation\": \"v\", \"showlegend\": true, \"textposition\": \"auto\", \"type\": \"bar\", \"x\": [\"Notes\", \"Notes\"], \"xaxis\": \"x\", \"y\": [250.33, 225.1], \"yaxis\": \"y\"}, {\"alignmentgroup\": \"True\", \"hovertemplate\": \"TYPE=%{x}<br>SIZE=%{y}<extra></extra>\", \"legendgroup\": \"Global Notes\", \"marker\": {\"color\": \"#FFA15A\"}, \"name\": \"Global Notes\", \"offsetgroup\": \"Global Notes\", \"orientation\": \"v\", \"showlegend\": true, \"textposition\": \"auto\", \"type\": \"bar\", \"x\": [\"Global Notes\", \"Global Notes\"], \"xaxis\": \"x\", \"y\": [500.21, 350.15], \"yaxis\": \"y\"}],                        {\"barmode\": \"relative\", \"legend\": {\"title\": {\"text\": \"TYPE\"}, \"tracegroupgap\": 0}, \"template\": {\"data\": {\"bar\": [{\"error_x\": {\"color\": \"#2a3f5f\"}, \"error_y\": {\"color\": \"#2a3f5f\"}, \"marker\": {\"line\": {\"color\": \"#E5ECF6\", \"width\": 0.5}}, \"type\": \"bar\"}], \"barpolar\": [{\"marker\": {\"line\": {\"color\": \"#E5ECF6\", \"width\": 0.5}}, \"type\": \"barpolar\"}], \"carpet\": [{\"aaxis\": {\"endlinecolor\": \"#2a3f5f\", \"gridcolor\": \"white\", \"linecolor\": \"white\", \"minorgridcolor\": \"white\", \"startlinecolor\": \"#2a3f5f\"}, \"baxis\": {\"endlinecolor\": \"#2a3f5f\", \"gridcolor\": \"white\", \"linecolor\": \"white\", \"minorgridcolor\": \"white\", \"startlinecolor\": \"#2a3f5f\"}, \"type\": \"carpet\"}], \"choropleth\": [{\"colorbar\": {\"outlinewidth\": 0, \"ticks\": \"\"}, \"type\": \"choropleth\"}], \"contour\": [{\"colorbar\": {\"outlinewidth\": 0, \"ticks\": \"\"}, \"colorscale\": [[0.0, \"#0d0887\"], [0.1111111111111111, \"#46039f\"], [0.2222222222222222, \"#7201a8\"], [0.3333333333333333, \"#9c179e\"], [0.4444444444444444, \"#bd3786\"], [0.5555555555555556, \"#d8576b\"], [0.6666666666666666, \"#ed7953\"], [0.7777777777777778, \"#fb9f3a\"], [0.8888888888888888, \"#fdca26\"], [1.0, \"#f0f921\"]], \"type\": \"contour\"}], \"contourcarpet\": [{\"colorbar\": {\"outlinewidth\": 0, \"ticks\": \"\"}, \"type\": \"contourcarpet\"}], \"heatmap\": [{\"colorbar\": {\"outlinewidth\": 0, \"ticks\": \"\"}, \"colorscale\": [[0.0, \"#0d0887\"], [0.1111111111111111, \"#46039f\"], [0.2222222222222222, \"#7201a8\"], [0.3333333333333333, \"#9c179e\"], [0.4444444444444444, \"#bd3786\"], [0.5555555555555556, \"#d8576b\"], [0.6666666666666666, \"#ed7953\"], [0.7777777777777778, \"#fb9f3a\"], [0.8888888888888888, \"#fdca26\"], [1.0, \"#f0f921\"]], \"type\": \"heatmap\"}], \"heatmapgl\": [{\"colorbar\": {\"outlinewidth\": 0, \"ticks\": \"\"}, \"colorscale\": [[0.0, \"#0d0887\"], [0.1111111111111111, \"#46039f\"], [0.2222222222222222, \"#7201a8\"], [0.3333333333333333, \"#9c179e\"], [0.4444444444444444, \"#bd3786\"], [0.5555555555555556, \"#d8576b\"], [0.6666666666666666, \"#ed7953\"], [0.7777777777777778, \"#fb9f3a\"], [0.8888888888888888, \"#fdca26\"], [1.0, \"#f0f921\"]], \"type\": \"heatmapgl\"}], \"histogram\": [{\"marker\": {\"colorbar\": {\"outlinewidth\": 0, \"ticks\": \"\"}}, \"type\": \"histogram\"}], \"histogram2d\": [{\"colorbar\": {\"outlinewidth\": 0, \"ticks\": \"\"}, \"colorscale\": [[0.0, \"#0d0887\"], [0.1111111111111111, \"#46039f\"], [0.2222222222222222, \"#7201a8\"], [0.3333333333333333, \"#9c179e\"], [0.4444444444444444, \"#bd3786\"], [0.5555555555555556, \"#d8576b\"], [0.6666666666666666, \"#ed7953\"], [0.7777777777777778, \"#fb9f3a\"], [0.8888888888888888, \"#fdca26\"], [1.0, \"#f0f921\"]], \"type\": \"histogram2d\"}], \"histogram2dcontour\": [{\"colorbar\": {\"outlinewidth\": 0, \"ticks\": \"\"}, \"colorscale\": [[0.0, \"#0d0887\"], [0.1111111111111111, \"#46039f\"], [0.2222222222222222, \"#7201a8\"], [0.3333333333333333, \"#9c179e\"], [0.4444444444444444, \"#bd3786\"], [0.5555555555555556, \"#d8576b\"], [0.6666666666666666, \"#ed7953\"], [0.7777777777777778, \"#fb9f3a\"], [0.8888888888888888, \"#fdca26\"], [1.0, \"#f0f921\"]], \"type\": \"histogram2dcontour\"}], \"mesh3d\": [{\"colorbar\": {\"outlinewidth\": 0, \"ticks\": \"\"}, \"type\": \"mesh3d\"}], \"parcoords\": [{\"line\": {\"colorbar\": {\"outlinewidth\": 0, \"ticks\": \"\"}}, \"type\": \"parcoords\"}], \"pie\": [{\"automargin\": true, \"type\": \"pie\"}], \"scatter\": [{\"marker\": {\"colorbar\": {\"outlinewidth\": 0, \"ticks\": \"\"}}, \"type\": \"scatter\"}], \"scatter3d\": [{\"line\": {\"colorbar\": {\"outlinewidth\": 0, \"ticks\": \"\"}}, \"marker\": {\"colorbar\": {\"outlinewidth\": 0, \"ticks\": \"\"}}, \"type\": \"scatter3d\"}], \"scattercarpet\": [{\"marker\": {\"colorbar\": {\"outlinewidth\": 0, \"ticks\": \"\"}}, \"type\": \"scattercarpet\"}], \"scattergeo\": [{\"marker\": {\"colorbar\": {\"outlinewidth\": 0, \"ticks\": \"\"}}, \"type\": \"scattergeo\"}], \"scattergl\": [{\"marker\": {\"colorbar\": {\"outlinewidth\": 0, \"ticks\": \"\"}}, \"type\": \"scattergl\"}], \"scattermapbox\": [{\"marker\": {\"colorbar\": {\"outlinewidth\": 0, \"ticks\": \"\"}}, \"type\": \"scattermapbox\"}], \"scatterpolar\": [{\"marker\": {\"colorbar\": {\"outlinewidth\": 0, \"ticks\": \"\"}}, \"type\": \"scatterpolar\"}], \"scatterpolargl\": [{\"marker\": {\"colorbar\": {\"outlinewidth\": 0, \"ticks\": \"\"}}, \"type\": \"scatterpolargl\"}], \"scatterternary\": [{\"marker\": {\"colorbar\": {\"outlinewidth\": 0, \"ticks\": \"\"}}, \"type\": \"scatterternary\"}], \"surface\": [{\"colorbar\": {\"outlinewidth\": 0, \"ticks\": \"\"}, \"colorscale\": [[0.0, \"#0d0887\"], [0.1111111111111111, \"#46039f\"], [0.2222222222222222, \"#7201a8\"], [0.3333333333333333, \"#9c179e\"], [0.4444444444444444, \"#bd3786\"], [0.5555555555555556, \"#d8576b\"], [0.6666666666666666, \"#ed7953\"], [0.7777777777777778, \"#fb9f3a\"], [0.8888888888888888, \"#fdca26\"], [1.0, \"#f0f921\"]], \"type\": \"surface\"}], \"table\": [{\"cells\": {\"fill\": {\"color\": \"#EBF0F8\"}, \"line\": {\"color\": \"white\"}}, \"header\": {\"fill\": {\"color\": \"#C8D4E3\"}, \"line\": {\"color\": \"white\"}}, \"type\": \"table\"}]}, \"layout\": {\"annotationdefaults\": {\"arrowcolor\": \"#2a3f5f\", \"arrowhead\": 0, \"arrowwidth\": 1}, \"coloraxis\": {\"colorbar\": {\"outlinewidth\": 0, \"ticks\": \"\"}}, \"colorscale\": {\"diverging\": [[0, \"#8e0152\"], [0.1, \"#c51b7d\"], [0.2, \"#de77ae\"], [0.3, \"#f1b6da\"], [0.4, \"#fde0ef\"], [0.5, \"#f7f7f7\"], [0.6, \"#e6f5d0\"], [0.7, \"#b8e186\"], [0.8, \"#7fbc41\"], [0.9, \"#4d9221\"], [1, \"#276419\"]], \"sequential\": [[0.0, \"#0d0887\"], [0.1111111111111111, \"#46039f\"], [0.2222222222222222, \"#7201a8\"], [0.3333333333333333, \"#9c179e\"], [0.4444444444444444, \"#bd3786\"], [0.5555555555555556, \"#d8576b\"], [0.6666666666666666, \"#ed7953\"], [0.7777777777777778, \"#fb9f3a\"], [0.8888888888888888, \"#fdca26\"], [1.0, \"#f0f921\"]], \"sequentialminus\": [[0.0, \"#0d0887\"], [0.1111111111111111, \"#46039f\"], [0.2222222222222222, \"#7201a8\"], [0.3333333333333333, \"#9c179e\"], [0.4444444444444444, \"#bd3786\"], [0.5555555555555556, \"#d8576b\"], [0.6666666666666666, \"#ed7953\"], [0.7777777777777778, \"#fb9f3a\"], [0.8888888888888888, \"#fdca26\"], [1.0, \"#f0f921\"]]}, \"colorway\": [\"#636efa\", \"#EF553B\", \"#00cc96\", \"#ab63fa\", \"#FFA15A\", \"#19d3f3\", \"#FF6692\", \"#B6E880\", \"#FF97FF\", \"#FECB52\"], \"font\": {\"color\": \"#2a3f5f\"}, \"geo\": {\"bgcolor\": \"white\", \"lakecolor\": \"white\", \"landcolor\": \"#E5ECF6\", \"showlakes\": true, \"showland\": true, \"subunitcolor\": \"white\"}, \"hoverlabel\": {\"align\": \"left\"}, \"hovermode\": \"closest\", \"mapbox\": {\"style\": \"light\"}, \"paper_bgcolor\": \"white\", \"plot_bgcolor\": \"#E5ECF6\", \"polar\": {\"angularaxis\": {\"gridcolor\": \"white\", \"linecolor\": \"white\", \"ticks\": \"\"}, \"bgcolor\": \"#E5ECF6\", \"radialaxis\": {\"gridcolor\": \"white\", \"linecolor\": \"white\", \"ticks\": \"\"}}, \"scene\": {\"xaxis\": {\"backgroundcolor\": \"#E5ECF6\", \"gridcolor\": \"white\", \"gridwidth\": 2, \"linecolor\": \"white\", \"showbackground\": true, \"ticks\": \"\", \"zerolinecolor\": \"white\"}, \"yaxis\": {\"backgroundcolor\": \"#E5ECF6\", \"gridcolor\": \"white\", \"gridwidth\": 2, \"linecolor\": \"white\", \"showbackground\": true, \"ticks\": \"\", \"zerolinecolor\": \"white\"}, \"zaxis\": {\"backgroundcolor\": \"#E5ECF6\", \"gridcolor\": \"white\", \"gridwidth\": 2, \"linecolor\": \"white\", \"showbackground\": true, \"ticks\": \"\", \"zerolinecolor\": \"white\"}}, \"shapedefaults\": {\"line\": {\"color\": \"#2a3f5f\"}}, \"ternary\": {\"aaxis\": {\"gridcolor\": \"white\", \"linecolor\": \"white\", \"ticks\": \"\"}, \"baxis\": {\"gridcolor\": \"white\", \"linecolor\": \"white\", \"ticks\": \"\"}, \"bgcolor\": \"#E5ECF6\", \"caxis\": {\"gridcolor\": \"white\", \"linecolor\": \"white\", \"ticks\": \"\"}}, \"title\": {\"x\": 0.05}, \"xaxis\": {\"automargin\": true, \"gridcolor\": \"white\", \"linecolor\": \"white\", \"ticks\": \"\", \"title\": {\"standoff\": 15}, \"zerolinecolor\": \"white\", \"zerolinewidth\": 2}, \"yaxis\": {\"automargin\": true, \"gridcolor\": \"white\", \"linecolor\": \"white\", \"ticks\": \"\", \"title\": {\"standoff\": 15}, \"zerolinecolor\": \"white\", \"zerolinewidth\": 2}}}, \"title\": {\"text\": \"Deal Value ($mm) by Type in: Oil & Gas\"}, \"xaxis\": {\"anchor\": \"y\", \"categoryarray\": [\"Sr Notes\", \"Bonds\", \"Equity Follow-On Offering\", \"Notes\", \"Global Notes\"], \"categoryorder\": \"array\", \"domain\": [0.0, 1.0], \"title\": {\"text\": \"TYPE\"}}, \"yaxis\": {\"anchor\": \"x\", \"domain\": [0.0, 1.0], \"title\": {\"text\": \"SIZE\"}}},                        {\"responsive\": true}                    ).then(function(){\n                            \nvar gd = document.getElementById('27a072ce-e62d-4aa4-bf27-353c33b24bed');\nvar x = new MutationObserver(function (mutations, observer) {{\n        var display = window.getComputedStyle(gd).display;\n        if (!display || display === 'none') {{\n            console.log([gd, 'removed!']);\n            Plotly.purge(gd);\n            observer.disconnect();\n        }}\n}});\n\n// Listen for the removal of the full notebook cells\nvar notebookContainer = gd.closest('#notebook-container');\nif (notebookContainer) {{\n    x.observe(notebookContainer, {childList: true});\n}}\n\n// Listen for the clearing of the current output cell\nvar outputEl = gd.closest('.output');\nif (outputEl) {{\n    x.observe(outputEl, {childList: true});\n}}\n\n                        })                };                });            </script>        </div>"
         },
         "metadata": {},
         "output_type": "display_data"
        }
       ]
      }
     },
     "34568b8f28234a44af6a0c6bd37cdfa3": {
      "model_module": "@jupyter-widgets/base",
      "model_module_version": "1.2.0",
      "model_name": "LayoutModel",
      "state": {}
     },
     "348cd0474369451cabc8810d9ba07983": {
      "model_module": "@jupyter-widgets/base",
      "model_module_version": "1.2.0",
      "model_name": "LayoutModel",
      "state": {}
     },
     "348faa4e5f064eb68c393d09d28f0649": {
      "model_module": "@jupyter-widgets/base",
      "model_module_version": "1.2.0",
      "model_name": "LayoutModel",
      "state": {}
     },
     "34e45cfa40194257a4c0e25dc1d36e71": {
      "model_module": "@jupyter-widgets/controls",
      "model_module_version": "1.5.0",
      "model_name": "DescriptionStyleModel",
      "state": {
       "description_width": ""
      }
     },
     "34f72c374e754a8288f12eadb8dddb9e": {
      "model_module": "@jupyter-widgets/controls",
      "model_module_version": "1.5.0",
      "model_name": "DropdownModel",
      "state": {
       "_options_labels": [
        "UKX",
        "SPX",
        "NKY"
       ],
       "description": "pickIndex",
       "index": 0,
       "layout": "IPY_MODEL_4649a9b08a404b19b97218087216f01e",
       "style": "IPY_MODEL_3a10b2e909814229ad715b465910366d"
      }
     },
     "35e65e4c0a564429b31693726dd15979": {
      "model_module": "@jupyter-widgets/base",
      "model_module_version": "1.2.0",
      "model_name": "LayoutModel",
      "state": {}
     },
     "36326bfb891c412cbb982df9ffa6a54b": {
      "model_module": "@jupyter-widgets/output",
      "model_module_version": "1.0.0",
      "model_name": "OutputModel",
      "state": {
       "layout": "IPY_MODEL_da14ebfe8c264c92bee6ef0ca14cb1c3",
       "outputs": [
        {
         "data": {
          "application/vnd.plotly.v1+json": {
           "config": {
            "plotlyServerURL": "https://plot.ly"
           },
           "data": [
            {
             "alignmentgroup": "True",
             "hovertemplate": "TYPE=%{x}<br>SIZE=%{y}<extra></extra>",
             "legendgroup": "Sr Notes",
             "marker": {
              "color": "#636efa"
             },
             "name": "Sr Notes",
             "offsetgroup": "Sr Notes",
             "orientation": "v",
             "showlegend": true,
             "textposition": "auto",
             "type": "bar",
             "x": [
              "Sr Notes",
              "Sr Notes",
              "Sr Notes",
              "Sr Notes",
              "Sr Notes",
              "Sr Notes",
              "Sr Notes"
             ],
             "xaxis": "x",
             "y": [
              500.4,
              350.22,
              600.3,
              400.17,
              1000.16,
              200.29,
              400.1
             ],
             "yaxis": "y"
            },
            {
             "alignmentgroup": "True",
             "hovertemplate": "TYPE=%{x}<br>SIZE=%{y}<extra></extra>",
             "legendgroup": "Bonds",
             "marker": {
              "color": "#EF553B"
             },
             "name": "Bonds",
             "offsetgroup": "Bonds",
             "orientation": "v",
             "showlegend": true,
             "textposition": "auto",
             "type": "bar",
             "x": [
              "Bonds",
              "Bonds"
             ],
             "xaxis": "x",
             "y": [
              300.41,
              240
             ],
             "yaxis": "y"
            },
            {
             "alignmentgroup": "True",
             "hovertemplate": "TYPE=%{x}<br>SIZE=%{y}<extra></extra>",
             "legendgroup": "Equity Follow-On Offering",
             "marker": {
              "color": "#00cc96"
             },
             "name": "Equity Follow-On Offering",
             "offsetgroup": "Equity Follow-On Offering",
             "orientation": "v",
             "showlegend": true,
             "textposition": "auto",
             "type": "bar",
             "x": [
              "Equity Follow-On Offering",
              "Equity Follow-On Offering",
              "Equity Follow-On Offering",
              "Equity Follow-On Offering",
              "Equity Follow-On Offering",
              "Equity Follow-On Offering",
              "Equity Follow-On Offering",
              "Equity Follow-On Offering",
              "Equity Follow-On Offering"
             ],
             "xaxis": "x",
             "y": [
              94.05,
              225.4,
              53.1,
              76.5,
              55.5,
              257.4,
              113.58,
              84.5,
              72.5
             ],
             "yaxis": "y"
            },
            {
             "alignmentgroup": "True",
             "hovertemplate": "TYPE=%{x}<br>SIZE=%{y}<extra></extra>",
             "legendgroup": "Notes",
             "marker": {
              "color": "#ab63fa"
             },
             "name": "Notes",
             "offsetgroup": "Notes",
             "orientation": "v",
             "showlegend": true,
             "textposition": "auto",
             "type": "bar",
             "x": [
              "Notes",
              "Notes"
             ],
             "xaxis": "x",
             "y": [
              250.33,
              225.1
             ],
             "yaxis": "y"
            },
            {
             "alignmentgroup": "True",
             "hovertemplate": "TYPE=%{x}<br>SIZE=%{y}<extra></extra>",
             "legendgroup": "Global Notes",
             "marker": {
              "color": "#FFA15A"
             },
             "name": "Global Notes",
             "offsetgroup": "Global Notes",
             "orientation": "v",
             "showlegend": true,
             "textposition": "auto",
             "type": "bar",
             "x": [
              "Global Notes",
              "Global Notes"
             ],
             "xaxis": "x",
             "y": [
              500.21,
              350.15
             ],
             "yaxis": "y"
            }
           ],
           "layout": {
            "barmode": "relative",
            "legend": {
             "title": {
              "text": "TYPE"
             },
             "tracegroupgap": 0
            },
            "template": {
             "data": {
              "bar": [
               {
                "error_x": {
                 "color": "#2a3f5f"
                },
                "error_y": {
                 "color": "#2a3f5f"
                },
                "marker": {
                 "line": {
                  "color": "#E5ECF6",
                  "width": 0.5
                 }
                },
                "type": "bar"
               }
              ],
              "barpolar": [
               {
                "marker": {
                 "line": {
                  "color": "#E5ECF6",
                  "width": 0.5
                 }
                },
                "type": "barpolar"
               }
              ],
              "carpet": [
               {
                "aaxis": {
                 "endlinecolor": "#2a3f5f",
                 "gridcolor": "white",
                 "linecolor": "white",
                 "minorgridcolor": "white",
                 "startlinecolor": "#2a3f5f"
                },
                "baxis": {
                 "endlinecolor": "#2a3f5f",
                 "gridcolor": "white",
                 "linecolor": "white",
                 "minorgridcolor": "white",
                 "startlinecolor": "#2a3f5f"
                },
                "type": "carpet"
               }
              ],
              "choropleth": [
               {
                "colorbar": {
                 "outlinewidth": 0,
                 "ticks": ""
                },
                "type": "choropleth"
               }
              ],
              "contour": [
               {
                "colorbar": {
                 "outlinewidth": 0,
                 "ticks": ""
                },
                "colorscale": [
                 [
                  0,
                  "#0d0887"
                 ],
                 [
                  0.1111111111111111,
                  "#46039f"
                 ],
                 [
                  0.2222222222222222,
                  "#7201a8"
                 ],
                 [
                  0.3333333333333333,
                  "#9c179e"
                 ],
                 [
                  0.4444444444444444,
                  "#bd3786"
                 ],
                 [
                  0.5555555555555556,
                  "#d8576b"
                 ],
                 [
                  0.6666666666666666,
                  "#ed7953"
                 ],
                 [
                  0.7777777777777778,
                  "#fb9f3a"
                 ],
                 [
                  0.8888888888888888,
                  "#fdca26"
                 ],
                 [
                  1,
                  "#f0f921"
                 ]
                ],
                "type": "contour"
               }
              ],
              "contourcarpet": [
               {
                "colorbar": {
                 "outlinewidth": 0,
                 "ticks": ""
                },
                "type": "contourcarpet"
               }
              ],
              "heatmap": [
               {
                "colorbar": {
                 "outlinewidth": 0,
                 "ticks": ""
                },
                "colorscale": [
                 [
                  0,
                  "#0d0887"
                 ],
                 [
                  0.1111111111111111,
                  "#46039f"
                 ],
                 [
                  0.2222222222222222,
                  "#7201a8"
                 ],
                 [
                  0.3333333333333333,
                  "#9c179e"
                 ],
                 [
                  0.4444444444444444,
                  "#bd3786"
                 ],
                 [
                  0.5555555555555556,
                  "#d8576b"
                 ],
                 [
                  0.6666666666666666,
                  "#ed7953"
                 ],
                 [
                  0.7777777777777778,
                  "#fb9f3a"
                 ],
                 [
                  0.8888888888888888,
                  "#fdca26"
                 ],
                 [
                  1,
                  "#f0f921"
                 ]
                ],
                "type": "heatmap"
               }
              ],
              "heatmapgl": [
               {
                "colorbar": {
                 "outlinewidth": 0,
                 "ticks": ""
                },
                "colorscale": [
                 [
                  0,
                  "#0d0887"
                 ],
                 [
                  0.1111111111111111,
                  "#46039f"
                 ],
                 [
                  0.2222222222222222,
                  "#7201a8"
                 ],
                 [
                  0.3333333333333333,
                  "#9c179e"
                 ],
                 [
                  0.4444444444444444,
                  "#bd3786"
                 ],
                 [
                  0.5555555555555556,
                  "#d8576b"
                 ],
                 [
                  0.6666666666666666,
                  "#ed7953"
                 ],
                 [
                  0.7777777777777778,
                  "#fb9f3a"
                 ],
                 [
                  0.8888888888888888,
                  "#fdca26"
                 ],
                 [
                  1,
                  "#f0f921"
                 ]
                ],
                "type": "heatmapgl"
               }
              ],
              "histogram": [
               {
                "marker": {
                 "colorbar": {
                  "outlinewidth": 0,
                  "ticks": ""
                 }
                },
                "type": "histogram"
               }
              ],
              "histogram2d": [
               {
                "colorbar": {
                 "outlinewidth": 0,
                 "ticks": ""
                },
                "colorscale": [
                 [
                  0,
                  "#0d0887"
                 ],
                 [
                  0.1111111111111111,
                  "#46039f"
                 ],
                 [
                  0.2222222222222222,
                  "#7201a8"
                 ],
                 [
                  0.3333333333333333,
                  "#9c179e"
                 ],
                 [
                  0.4444444444444444,
                  "#bd3786"
                 ],
                 [
                  0.5555555555555556,
                  "#d8576b"
                 ],
                 [
                  0.6666666666666666,
                  "#ed7953"
                 ],
                 [
                  0.7777777777777778,
                  "#fb9f3a"
                 ],
                 [
                  0.8888888888888888,
                  "#fdca26"
                 ],
                 [
                  1,
                  "#f0f921"
                 ]
                ],
                "type": "histogram2d"
               }
              ],
              "histogram2dcontour": [
               {
                "colorbar": {
                 "outlinewidth": 0,
                 "ticks": ""
                },
                "colorscale": [
                 [
                  0,
                  "#0d0887"
                 ],
                 [
                  0.1111111111111111,
                  "#46039f"
                 ],
                 [
                  0.2222222222222222,
                  "#7201a8"
                 ],
                 [
                  0.3333333333333333,
                  "#9c179e"
                 ],
                 [
                  0.4444444444444444,
                  "#bd3786"
                 ],
                 [
                  0.5555555555555556,
                  "#d8576b"
                 ],
                 [
                  0.6666666666666666,
                  "#ed7953"
                 ],
                 [
                  0.7777777777777778,
                  "#fb9f3a"
                 ],
                 [
                  0.8888888888888888,
                  "#fdca26"
                 ],
                 [
                  1,
                  "#f0f921"
                 ]
                ],
                "type": "histogram2dcontour"
               }
              ],
              "mesh3d": [
               {
                "colorbar": {
                 "outlinewidth": 0,
                 "ticks": ""
                },
                "type": "mesh3d"
               }
              ],
              "parcoords": [
               {
                "line": {
                 "colorbar": {
                  "outlinewidth": 0,
                  "ticks": ""
                 }
                },
                "type": "parcoords"
               }
              ],
              "pie": [
               {
                "automargin": true,
                "type": "pie"
               }
              ],
              "scatter": [
               {
                "marker": {
                 "colorbar": {
                  "outlinewidth": 0,
                  "ticks": ""
                 }
                },
                "type": "scatter"
               }
              ],
              "scatter3d": [
               {
                "line": {
                 "colorbar": {
                  "outlinewidth": 0,
                  "ticks": ""
                 }
                },
                "marker": {
                 "colorbar": {
                  "outlinewidth": 0,
                  "ticks": ""
                 }
                },
                "type": "scatter3d"
               }
              ],
              "scattercarpet": [
               {
                "marker": {
                 "colorbar": {
                  "outlinewidth": 0,
                  "ticks": ""
                 }
                },
                "type": "scattercarpet"
               }
              ],
              "scattergeo": [
               {
                "marker": {
                 "colorbar": {
                  "outlinewidth": 0,
                  "ticks": ""
                 }
                },
                "type": "scattergeo"
               }
              ],
              "scattergl": [
               {
                "marker": {
                 "colorbar": {
                  "outlinewidth": 0,
                  "ticks": ""
                 }
                },
                "type": "scattergl"
               }
              ],
              "scattermapbox": [
               {
                "marker": {
                 "colorbar": {
                  "outlinewidth": 0,
                  "ticks": ""
                 }
                },
                "type": "scattermapbox"
               }
              ],
              "scatterpolar": [
               {
                "marker": {
                 "colorbar": {
                  "outlinewidth": 0,
                  "ticks": ""
                 }
                },
                "type": "scatterpolar"
               }
              ],
              "scatterpolargl": [
               {
                "marker": {
                 "colorbar": {
                  "outlinewidth": 0,
                  "ticks": ""
                 }
                },
                "type": "scatterpolargl"
               }
              ],
              "scatterternary": [
               {
                "marker": {
                 "colorbar": {
                  "outlinewidth": 0,
                  "ticks": ""
                 }
                },
                "type": "scatterternary"
               }
              ],
              "surface": [
               {
                "colorbar": {
                 "outlinewidth": 0,
                 "ticks": ""
                },
                "colorscale": [
                 [
                  0,
                  "#0d0887"
                 ],
                 [
                  0.1111111111111111,
                  "#46039f"
                 ],
                 [
                  0.2222222222222222,
                  "#7201a8"
                 ],
                 [
                  0.3333333333333333,
                  "#9c179e"
                 ],
                 [
                  0.4444444444444444,
                  "#bd3786"
                 ],
                 [
                  0.5555555555555556,
                  "#d8576b"
                 ],
                 [
                  0.6666666666666666,
                  "#ed7953"
                 ],
                 [
                  0.7777777777777778,
                  "#fb9f3a"
                 ],
                 [
                  0.8888888888888888,
                  "#fdca26"
                 ],
                 [
                  1,
                  "#f0f921"
                 ]
                ],
                "type": "surface"
               }
              ],
              "table": [
               {
                "cells": {
                 "fill": {
                  "color": "#EBF0F8"
                 },
                 "line": {
                  "color": "white"
                 }
                },
                "header": {
                 "fill": {
                  "color": "#C8D4E3"
                 },
                 "line": {
                  "color": "white"
                 }
                },
                "type": "table"
               }
              ]
             },
             "layout": {
              "annotationdefaults": {
               "arrowcolor": "#2a3f5f",
               "arrowhead": 0,
               "arrowwidth": 1
              },
              "coloraxis": {
               "colorbar": {
                "outlinewidth": 0,
                "ticks": ""
               }
              },
              "colorscale": {
               "diverging": [
                [
                 0,
                 "#8e0152"
                ],
                [
                 0.1,
                 "#c51b7d"
                ],
                [
                 0.2,
                 "#de77ae"
                ],
                [
                 0.3,
                 "#f1b6da"
                ],
                [
                 0.4,
                 "#fde0ef"
                ],
                [
                 0.5,
                 "#f7f7f7"
                ],
                [
                 0.6,
                 "#e6f5d0"
                ],
                [
                 0.7,
                 "#b8e186"
                ],
                [
                 0.8,
                 "#7fbc41"
                ],
                [
                 0.9,
                 "#4d9221"
                ],
                [
                 1,
                 "#276419"
                ]
               ],
               "sequential": [
                [
                 0,
                 "#0d0887"
                ],
                [
                 0.1111111111111111,
                 "#46039f"
                ],
                [
                 0.2222222222222222,
                 "#7201a8"
                ],
                [
                 0.3333333333333333,
                 "#9c179e"
                ],
                [
                 0.4444444444444444,
                 "#bd3786"
                ],
                [
                 0.5555555555555556,
                 "#d8576b"
                ],
                [
                 0.6666666666666666,
                 "#ed7953"
                ],
                [
                 0.7777777777777778,
                 "#fb9f3a"
                ],
                [
                 0.8888888888888888,
                 "#fdca26"
                ],
                [
                 1,
                 "#f0f921"
                ]
               ],
               "sequentialminus": [
                [
                 0,
                 "#0d0887"
                ],
                [
                 0.1111111111111111,
                 "#46039f"
                ],
                [
                 0.2222222222222222,
                 "#7201a8"
                ],
                [
                 0.3333333333333333,
                 "#9c179e"
                ],
                [
                 0.4444444444444444,
                 "#bd3786"
                ],
                [
                 0.5555555555555556,
                 "#d8576b"
                ],
                [
                 0.6666666666666666,
                 "#ed7953"
                ],
                [
                 0.7777777777777778,
                 "#fb9f3a"
                ],
                [
                 0.8888888888888888,
                 "#fdca26"
                ],
                [
                 1,
                 "#f0f921"
                ]
               ]
              },
              "colorway": [
               "#636efa",
               "#EF553B",
               "#00cc96",
               "#ab63fa",
               "#FFA15A",
               "#19d3f3",
               "#FF6692",
               "#B6E880",
               "#FF97FF",
               "#FECB52"
              ],
              "font": {
               "color": "#2a3f5f"
              },
              "geo": {
               "bgcolor": "white",
               "lakecolor": "white",
               "landcolor": "#E5ECF6",
               "showlakes": true,
               "showland": true,
               "subunitcolor": "white"
              },
              "hoverlabel": {
               "align": "left"
              },
              "hovermode": "closest",
              "mapbox": {
               "style": "light"
              },
              "paper_bgcolor": "white",
              "plot_bgcolor": "#E5ECF6",
              "polar": {
               "angularaxis": {
                "gridcolor": "white",
                "linecolor": "white",
                "ticks": ""
               },
               "bgcolor": "#E5ECF6",
               "radialaxis": {
                "gridcolor": "white",
                "linecolor": "white",
                "ticks": ""
               }
              },
              "scene": {
               "xaxis": {
                "backgroundcolor": "#E5ECF6",
                "gridcolor": "white",
                "gridwidth": 2,
                "linecolor": "white",
                "showbackground": true,
                "ticks": "",
                "zerolinecolor": "white"
               },
               "yaxis": {
                "backgroundcolor": "#E5ECF6",
                "gridcolor": "white",
                "gridwidth": 2,
                "linecolor": "white",
                "showbackground": true,
                "ticks": "",
                "zerolinecolor": "white"
               },
               "zaxis": {
                "backgroundcolor": "#E5ECF6",
                "gridcolor": "white",
                "gridwidth": 2,
                "linecolor": "white",
                "showbackground": true,
                "ticks": "",
                "zerolinecolor": "white"
               }
              },
              "shapedefaults": {
               "line": {
                "color": "#2a3f5f"
               }
              },
              "ternary": {
               "aaxis": {
                "gridcolor": "white",
                "linecolor": "white",
                "ticks": ""
               },
               "baxis": {
                "gridcolor": "white",
                "linecolor": "white",
                "ticks": ""
               },
               "bgcolor": "#E5ECF6",
               "caxis": {
                "gridcolor": "white",
                "linecolor": "white",
                "ticks": ""
               }
              },
              "title": {
               "x": 0.05
              },
              "xaxis": {
               "automargin": true,
               "gridcolor": "white",
               "linecolor": "white",
               "ticks": "",
               "title": {
                "standoff": 15
               },
               "zerolinecolor": "white",
               "zerolinewidth": 2
              },
              "yaxis": {
               "automargin": true,
               "gridcolor": "white",
               "linecolor": "white",
               "ticks": "",
               "title": {
                "standoff": 15
               },
               "zerolinecolor": "white",
               "zerolinewidth": 2
              }
             }
            },
            "title": {
             "text": "Deal Value ($mm) by Type in: Oil & Gas"
            },
            "xaxis": {
             "anchor": "y",
             "categoryarray": [
              "Sr Notes",
              "Bonds",
              "Equity Follow-On Offering",
              "Notes",
              "Global Notes"
             ],
             "categoryorder": "array",
             "domain": [
              0,
              1
             ],
             "title": {
              "text": "TYPE"
             }
            },
            "yaxis": {
             "anchor": "x",
             "domain": [
              0,
              1
             ],
             "title": {
              "text": "SIZE"
             }
            }
           }
          },
          "text/html": "<div>                            <div id=\"e29c9753-facf-4d7a-b360-603e020c617d\" class=\"plotly-graph-div\" style=\"height:525px; width:100%;\"></div>            <script type=\"text/javascript\">                require([\"plotly\"], function(Plotly) {                    window.PLOTLYENV=window.PLOTLYENV || {};                                    if (document.getElementById(\"e29c9753-facf-4d7a-b360-603e020c617d\")) {                    Plotly.newPlot(                        \"e29c9753-facf-4d7a-b360-603e020c617d\",                        [{\"alignmentgroup\": \"True\", \"hovertemplate\": \"TYPE=%{x}<br>SIZE=%{y}<extra></extra>\", \"legendgroup\": \"Sr Notes\", \"marker\": {\"color\": \"#636efa\"}, \"name\": \"Sr Notes\", \"offsetgroup\": \"Sr Notes\", \"orientation\": \"v\", \"showlegend\": true, \"textposition\": \"auto\", \"type\": \"bar\", \"x\": [\"Sr Notes\", \"Sr Notes\", \"Sr Notes\", \"Sr Notes\", \"Sr Notes\", \"Sr Notes\", \"Sr Notes\"], \"xaxis\": \"x\", \"y\": [500.4, 350.22, 600.3, 400.17, 1000.16, 200.29, 400.1], \"yaxis\": \"y\"}, {\"alignmentgroup\": \"True\", \"hovertemplate\": \"TYPE=%{x}<br>SIZE=%{y}<extra></extra>\", \"legendgroup\": \"Bonds\", \"marker\": {\"color\": \"#EF553B\"}, \"name\": \"Bonds\", \"offsetgroup\": \"Bonds\", \"orientation\": \"v\", \"showlegend\": true, \"textposition\": \"auto\", \"type\": \"bar\", \"x\": [\"Bonds\", \"Bonds\"], \"xaxis\": \"x\", \"y\": [300.41, 240.0], \"yaxis\": \"y\"}, {\"alignmentgroup\": \"True\", \"hovertemplate\": \"TYPE=%{x}<br>SIZE=%{y}<extra></extra>\", \"legendgroup\": \"Equity Follow-On Offering\", \"marker\": {\"color\": \"#00cc96\"}, \"name\": \"Equity Follow-On Offering\", \"offsetgroup\": \"Equity Follow-On Offering\", \"orientation\": \"v\", \"showlegend\": true, \"textposition\": \"auto\", \"type\": \"bar\", \"x\": [\"Equity Follow-On Offering\", \"Equity Follow-On Offering\", \"Equity Follow-On Offering\", \"Equity Follow-On Offering\", \"Equity Follow-On Offering\", \"Equity Follow-On Offering\", \"Equity Follow-On Offering\", \"Equity Follow-On Offering\", \"Equity Follow-On Offering\"], \"xaxis\": \"x\", \"y\": [94.05, 225.4, 53.1, 76.5, 55.5, 257.4, 113.58, 84.5, 72.5], \"yaxis\": \"y\"}, {\"alignmentgroup\": \"True\", \"hovertemplate\": \"TYPE=%{x}<br>SIZE=%{y}<extra></extra>\", \"legendgroup\": \"Notes\", \"marker\": {\"color\": \"#ab63fa\"}, \"name\": \"Notes\", \"offsetgroup\": \"Notes\", \"orientation\": \"v\", \"showlegend\": true, \"textposition\": \"auto\", \"type\": \"bar\", \"x\": [\"Notes\", \"Notes\"], \"xaxis\": \"x\", \"y\": [250.33, 225.1], \"yaxis\": \"y\"}, {\"alignmentgroup\": \"True\", \"hovertemplate\": \"TYPE=%{x}<br>SIZE=%{y}<extra></extra>\", \"legendgroup\": \"Global Notes\", \"marker\": {\"color\": \"#FFA15A\"}, \"name\": \"Global Notes\", \"offsetgroup\": \"Global Notes\", \"orientation\": \"v\", \"showlegend\": true, \"textposition\": \"auto\", \"type\": \"bar\", \"x\": [\"Global Notes\", \"Global Notes\"], \"xaxis\": \"x\", \"y\": [500.21, 350.15], \"yaxis\": \"y\"}],                        {\"barmode\": \"relative\", \"legend\": {\"title\": {\"text\": \"TYPE\"}, \"tracegroupgap\": 0}, \"template\": {\"data\": {\"bar\": [{\"error_x\": {\"color\": \"#2a3f5f\"}, \"error_y\": {\"color\": \"#2a3f5f\"}, \"marker\": {\"line\": {\"color\": \"#E5ECF6\", \"width\": 0.5}}, \"type\": \"bar\"}], \"barpolar\": [{\"marker\": {\"line\": {\"color\": \"#E5ECF6\", \"width\": 0.5}}, \"type\": \"barpolar\"}], \"carpet\": [{\"aaxis\": {\"endlinecolor\": \"#2a3f5f\", \"gridcolor\": \"white\", \"linecolor\": \"white\", \"minorgridcolor\": \"white\", \"startlinecolor\": \"#2a3f5f\"}, \"baxis\": {\"endlinecolor\": \"#2a3f5f\", \"gridcolor\": \"white\", \"linecolor\": \"white\", \"minorgridcolor\": \"white\", \"startlinecolor\": \"#2a3f5f\"}, \"type\": \"carpet\"}], \"choropleth\": [{\"colorbar\": {\"outlinewidth\": 0, \"ticks\": \"\"}, \"type\": \"choropleth\"}], \"contour\": [{\"colorbar\": {\"outlinewidth\": 0, \"ticks\": \"\"}, \"colorscale\": [[0.0, \"#0d0887\"], [0.1111111111111111, \"#46039f\"], [0.2222222222222222, \"#7201a8\"], [0.3333333333333333, \"#9c179e\"], [0.4444444444444444, \"#bd3786\"], [0.5555555555555556, \"#d8576b\"], [0.6666666666666666, \"#ed7953\"], [0.7777777777777778, \"#fb9f3a\"], [0.8888888888888888, \"#fdca26\"], [1.0, \"#f0f921\"]], \"type\": \"contour\"}], \"contourcarpet\": [{\"colorbar\": {\"outlinewidth\": 0, \"ticks\": \"\"}, \"type\": \"contourcarpet\"}], \"heatmap\": [{\"colorbar\": {\"outlinewidth\": 0, \"ticks\": \"\"}, \"colorscale\": [[0.0, \"#0d0887\"], [0.1111111111111111, \"#46039f\"], [0.2222222222222222, \"#7201a8\"], [0.3333333333333333, \"#9c179e\"], [0.4444444444444444, \"#bd3786\"], [0.5555555555555556, \"#d8576b\"], [0.6666666666666666, \"#ed7953\"], [0.7777777777777778, \"#fb9f3a\"], [0.8888888888888888, \"#fdca26\"], [1.0, \"#f0f921\"]], \"type\": \"heatmap\"}], \"heatmapgl\": [{\"colorbar\": {\"outlinewidth\": 0, \"ticks\": \"\"}, \"colorscale\": [[0.0, \"#0d0887\"], [0.1111111111111111, \"#46039f\"], [0.2222222222222222, \"#7201a8\"], [0.3333333333333333, \"#9c179e\"], [0.4444444444444444, \"#bd3786\"], [0.5555555555555556, \"#d8576b\"], [0.6666666666666666, \"#ed7953\"], [0.7777777777777778, \"#fb9f3a\"], [0.8888888888888888, \"#fdca26\"], [1.0, \"#f0f921\"]], \"type\": \"heatmapgl\"}], \"histogram\": [{\"marker\": {\"colorbar\": {\"outlinewidth\": 0, \"ticks\": \"\"}}, \"type\": \"histogram\"}], \"histogram2d\": [{\"colorbar\": {\"outlinewidth\": 0, \"ticks\": \"\"}, \"colorscale\": [[0.0, \"#0d0887\"], [0.1111111111111111, \"#46039f\"], [0.2222222222222222, \"#7201a8\"], [0.3333333333333333, \"#9c179e\"], [0.4444444444444444, \"#bd3786\"], [0.5555555555555556, \"#d8576b\"], [0.6666666666666666, \"#ed7953\"], [0.7777777777777778, \"#fb9f3a\"], [0.8888888888888888, \"#fdca26\"], [1.0, \"#f0f921\"]], \"type\": \"histogram2d\"}], \"histogram2dcontour\": [{\"colorbar\": {\"outlinewidth\": 0, \"ticks\": \"\"}, \"colorscale\": [[0.0, \"#0d0887\"], [0.1111111111111111, \"#46039f\"], [0.2222222222222222, \"#7201a8\"], [0.3333333333333333, \"#9c179e\"], [0.4444444444444444, \"#bd3786\"], [0.5555555555555556, \"#d8576b\"], [0.6666666666666666, \"#ed7953\"], [0.7777777777777778, \"#fb9f3a\"], [0.8888888888888888, \"#fdca26\"], [1.0, \"#f0f921\"]], \"type\": \"histogram2dcontour\"}], \"mesh3d\": [{\"colorbar\": {\"outlinewidth\": 0, \"ticks\": \"\"}, \"type\": \"mesh3d\"}], \"parcoords\": [{\"line\": {\"colorbar\": {\"outlinewidth\": 0, \"ticks\": \"\"}}, \"type\": \"parcoords\"}], \"pie\": [{\"automargin\": true, \"type\": \"pie\"}], \"scatter\": [{\"marker\": {\"colorbar\": {\"outlinewidth\": 0, \"ticks\": \"\"}}, \"type\": \"scatter\"}], \"scatter3d\": [{\"line\": {\"colorbar\": {\"outlinewidth\": 0, \"ticks\": \"\"}}, \"marker\": {\"colorbar\": {\"outlinewidth\": 0, \"ticks\": \"\"}}, \"type\": \"scatter3d\"}], \"scattercarpet\": [{\"marker\": {\"colorbar\": {\"outlinewidth\": 0, \"ticks\": \"\"}}, \"type\": \"scattercarpet\"}], \"scattergeo\": [{\"marker\": {\"colorbar\": {\"outlinewidth\": 0, \"ticks\": \"\"}}, \"type\": \"scattergeo\"}], \"scattergl\": [{\"marker\": {\"colorbar\": {\"outlinewidth\": 0, \"ticks\": \"\"}}, \"type\": \"scattergl\"}], \"scattermapbox\": [{\"marker\": {\"colorbar\": {\"outlinewidth\": 0, \"ticks\": \"\"}}, \"type\": \"scattermapbox\"}], \"scatterpolar\": [{\"marker\": {\"colorbar\": {\"outlinewidth\": 0, \"ticks\": \"\"}}, \"type\": \"scatterpolar\"}], \"scatterpolargl\": [{\"marker\": {\"colorbar\": {\"outlinewidth\": 0, \"ticks\": \"\"}}, \"type\": \"scatterpolargl\"}], \"scatterternary\": [{\"marker\": {\"colorbar\": {\"outlinewidth\": 0, \"ticks\": \"\"}}, \"type\": \"scatterternary\"}], \"surface\": [{\"colorbar\": {\"outlinewidth\": 0, \"ticks\": \"\"}, \"colorscale\": [[0.0, \"#0d0887\"], [0.1111111111111111, \"#46039f\"], [0.2222222222222222, \"#7201a8\"], [0.3333333333333333, \"#9c179e\"], [0.4444444444444444, \"#bd3786\"], [0.5555555555555556, \"#d8576b\"], [0.6666666666666666, \"#ed7953\"], [0.7777777777777778, \"#fb9f3a\"], [0.8888888888888888, \"#fdca26\"], [1.0, \"#f0f921\"]], \"type\": \"surface\"}], \"table\": [{\"cells\": {\"fill\": {\"color\": \"#EBF0F8\"}, \"line\": {\"color\": \"white\"}}, \"header\": {\"fill\": {\"color\": \"#C8D4E3\"}, \"line\": {\"color\": \"white\"}}, \"type\": \"table\"}]}, \"layout\": {\"annotationdefaults\": {\"arrowcolor\": \"#2a3f5f\", \"arrowhead\": 0, \"arrowwidth\": 1}, \"coloraxis\": {\"colorbar\": {\"outlinewidth\": 0, \"ticks\": \"\"}}, \"colorscale\": {\"diverging\": [[0, \"#8e0152\"], [0.1, \"#c51b7d\"], [0.2, \"#de77ae\"], [0.3, \"#f1b6da\"], [0.4, \"#fde0ef\"], [0.5, \"#f7f7f7\"], [0.6, \"#e6f5d0\"], [0.7, \"#b8e186\"], [0.8, \"#7fbc41\"], [0.9, \"#4d9221\"], [1, \"#276419\"]], \"sequential\": [[0.0, \"#0d0887\"], [0.1111111111111111, \"#46039f\"], [0.2222222222222222, \"#7201a8\"], [0.3333333333333333, \"#9c179e\"], [0.4444444444444444, \"#bd3786\"], [0.5555555555555556, \"#d8576b\"], [0.6666666666666666, \"#ed7953\"], [0.7777777777777778, \"#fb9f3a\"], [0.8888888888888888, \"#fdca26\"], [1.0, \"#f0f921\"]], \"sequentialminus\": [[0.0, \"#0d0887\"], [0.1111111111111111, \"#46039f\"], [0.2222222222222222, \"#7201a8\"], [0.3333333333333333, \"#9c179e\"], [0.4444444444444444, \"#bd3786\"], [0.5555555555555556, \"#d8576b\"], [0.6666666666666666, \"#ed7953\"], [0.7777777777777778, \"#fb9f3a\"], [0.8888888888888888, \"#fdca26\"], [1.0, \"#f0f921\"]]}, \"colorway\": [\"#636efa\", \"#EF553B\", \"#00cc96\", \"#ab63fa\", \"#FFA15A\", \"#19d3f3\", \"#FF6692\", \"#B6E880\", \"#FF97FF\", \"#FECB52\"], \"font\": {\"color\": \"#2a3f5f\"}, \"geo\": {\"bgcolor\": \"white\", \"lakecolor\": \"white\", \"landcolor\": \"#E5ECF6\", \"showlakes\": true, \"showland\": true, \"subunitcolor\": \"white\"}, \"hoverlabel\": {\"align\": \"left\"}, \"hovermode\": \"closest\", \"mapbox\": {\"style\": \"light\"}, \"paper_bgcolor\": \"white\", \"plot_bgcolor\": \"#E5ECF6\", \"polar\": {\"angularaxis\": {\"gridcolor\": \"white\", \"linecolor\": \"white\", \"ticks\": \"\"}, \"bgcolor\": \"#E5ECF6\", \"radialaxis\": {\"gridcolor\": \"white\", \"linecolor\": \"white\", \"ticks\": \"\"}}, \"scene\": {\"xaxis\": {\"backgroundcolor\": \"#E5ECF6\", \"gridcolor\": \"white\", \"gridwidth\": 2, \"linecolor\": \"white\", \"showbackground\": true, \"ticks\": \"\", \"zerolinecolor\": \"white\"}, \"yaxis\": {\"backgroundcolor\": \"#E5ECF6\", \"gridcolor\": \"white\", \"gridwidth\": 2, \"linecolor\": \"white\", \"showbackground\": true, \"ticks\": \"\", \"zerolinecolor\": \"white\"}, \"zaxis\": {\"backgroundcolor\": \"#E5ECF6\", \"gridcolor\": \"white\", \"gridwidth\": 2, \"linecolor\": \"white\", \"showbackground\": true, \"ticks\": \"\", \"zerolinecolor\": \"white\"}}, \"shapedefaults\": {\"line\": {\"color\": \"#2a3f5f\"}}, \"ternary\": {\"aaxis\": {\"gridcolor\": \"white\", \"linecolor\": \"white\", \"ticks\": \"\"}, \"baxis\": {\"gridcolor\": \"white\", \"linecolor\": \"white\", \"ticks\": \"\"}, \"bgcolor\": \"#E5ECF6\", \"caxis\": {\"gridcolor\": \"white\", \"linecolor\": \"white\", \"ticks\": \"\"}}, \"title\": {\"x\": 0.05}, \"xaxis\": {\"automargin\": true, \"gridcolor\": \"white\", \"linecolor\": \"white\", \"ticks\": \"\", \"title\": {\"standoff\": 15}, \"zerolinecolor\": \"white\", \"zerolinewidth\": 2}, \"yaxis\": {\"automargin\": true, \"gridcolor\": \"white\", \"linecolor\": \"white\", \"ticks\": \"\", \"title\": {\"standoff\": 15}, \"zerolinecolor\": \"white\", \"zerolinewidth\": 2}}}, \"title\": {\"text\": \"Deal Value ($mm) by Type in: Oil & Gas\"}, \"xaxis\": {\"anchor\": \"y\", \"categoryarray\": [\"Sr Notes\", \"Bonds\", \"Equity Follow-On Offering\", \"Notes\", \"Global Notes\"], \"categoryorder\": \"array\", \"domain\": [0.0, 1.0], \"title\": {\"text\": \"TYPE\"}}, \"yaxis\": {\"anchor\": \"x\", \"domain\": [0.0, 1.0], \"title\": {\"text\": \"SIZE\"}}},                        {\"responsive\": true}                    ).then(function(){\n                            \nvar gd = document.getElementById('e29c9753-facf-4d7a-b360-603e020c617d');\nvar x = new MutationObserver(function (mutations, observer) {{\n        var display = window.getComputedStyle(gd).display;\n        if (!display || display === 'none') {{\n            console.log([gd, 'removed!']);\n            Plotly.purge(gd);\n            observer.disconnect();\n        }}\n}});\n\n// Listen for the removal of the full notebook cells\nvar notebookContainer = gd.closest('#notebook-container');\nif (notebookContainer) {{\n    x.observe(notebookContainer, {childList: true});\n}}\n\n// Listen for the clearing of the current output cell\nvar outputEl = gd.closest('.output');\nif (outputEl) {{\n    x.observe(outputEl, {childList: true});\n}}\n\n                        })                };                });            </script>        </div>"
         },
         "metadata": {},
         "output_type": "display_data"
        }
       ]
      }
     },
     "36e1226a79e048fa86ac89390856cc76": {
      "model_module": "@jupyter-widgets/controls",
      "model_module_version": "1.5.0",
      "model_name": "IntSliderModel",
      "state": {
       "description": "x",
       "layout": "IPY_MODEL_47e74022bbfb4a48ad52abfb1b4aabea",
       "max": 15000,
       "min": -5000,
       "style": "IPY_MODEL_e397ab2352694367bfd8e95a5c4db9a3",
       "value": 5000
      }
     },
     "387b8f5a8dbf47e0bd7cdf45107ff245": {
      "model_module": "@jupyter-widgets/base",
      "model_module_version": "1.2.0",
      "model_name": "LayoutModel",
      "state": {}
     },
     "387bbd94529c4f24ba68869ea01e9049": {
      "model_module": "@jupyter-widgets/base",
      "model_module_version": "1.2.0",
      "model_name": "LayoutModel",
      "state": {}
     },
     "3899a38fcf734b219f96b9c72d5fa671": {
      "model_module": "@jupyter-widgets/base",
      "model_module_version": "1.2.0",
      "model_name": "LayoutModel",
      "state": {}
     },
     "3925c27125574792bff6b97622913d3e": {
      "model_module": "@jupyter-widgets/controls",
      "model_module_version": "1.5.0",
      "model_name": "DropdownModel",
      "state": {
       "_options_labels": [
        "1",
        "2",
        "3"
       ],
       "description": "Number:",
       "index": 1,
       "layout": "IPY_MODEL_a6abb22cfcea4b11bc9b700be37cb66a",
       "style": "IPY_MODEL_8c71e899847644f4b9051e23efed56b9"
      }
     },
     "399d023f4bb24f09b465a2ca866c06a9": {
      "model_module": "@jupyter-widgets/controls",
      "model_module_version": "1.5.0",
      "model_name": "DescriptionStyleModel",
      "state": {
       "description_width": ""
      }
     },
     "3a10b2e909814229ad715b465910366d": {
      "model_module": "@jupyter-widgets/controls",
      "model_module_version": "1.5.0",
      "model_name": "DescriptionStyleModel",
      "state": {
       "description_width": ""
      }
     },
     "3a2629b1381e45d9b48188649851e183": {
      "model_module": "@jupyter-widgets/base",
      "model_module_version": "1.2.0",
      "model_name": "LayoutModel",
      "state": {}
     },
     "3a8f5f3c7920474f92f94dd71af6a0e9": {
      "model_module": "@jupyter-widgets/controls",
      "model_module_version": "1.5.0",
      "model_name": "SliderStyleModel",
      "state": {
       "description_width": ""
      }
     },
     "3ac153a0158d4be1951b8a06b41340d5": {
      "model_module": "@jupyter-widgets/controls",
      "model_module_version": "1.5.0",
      "model_name": "DescriptionStyleModel",
      "state": {
       "description_width": ""
      }
     },
     "3b3c35698c114193a9cf37d274e5fd5f": {
      "model_module": "@jupyter-widgets/controls",
      "model_module_version": "1.5.0",
      "model_name": "DescriptionStyleModel",
      "state": {
       "description_width": ""
      }
     },
     "3ce0b82fb1e848afb5cd774a675f7403": {
      "model_module": "@jupyter-widgets/controls",
      "model_module_version": "1.5.0",
      "model_name": "IntSliderModel",
      "state": {
       "description": "x",
       "layout": "IPY_MODEL_9b8b179e6f9041999fa7455f8d90de3b",
       "max": 15000,
       "min": -5000,
       "style": "IPY_MODEL_f11239f28a9040b7a56a8c584de522e8",
       "value": 5000
      }
     },
     "3ce3db27c4dd486a8bf081b5c0583993": {
      "model_module": "@jupyter-widgets/base",
      "model_module_version": "1.2.0",
      "model_name": "LayoutModel",
      "state": {}
     },
     "3d0fb1c589574f46b6075a47ec8ba46c": {
      "model_module": "@jupyter-widgets/controls",
      "model_module_version": "1.5.0",
      "model_name": "CheckboxModel",
      "state": {
       "description": "showAll",
       "disabled": false,
       "layout": "IPY_MODEL_2d6a2c775c154e25a9d4d30741b18983",
       "style": "IPY_MODEL_399d023f4bb24f09b465a2ca866c06a9",
       "value": false
      }
     },
     "3e18095240894a5d9a2ff8f778d3f176": {
      "model_module": "@jupyter-widgets/base",
      "model_module_version": "1.2.0",
      "model_name": "LayoutModel",
      "state": {}
     },
     "3ecb1b07cd764338b149f2000e365593": {
      "model_module": "@jupyter-widgets/controls",
      "model_module_version": "1.5.0",
      "model_name": "DropdownModel",
      "state": {
       "_options_labels": [
        "UKX",
        "SPX",
        "NKY"
       ],
       "description": "pickIndex",
       "index": 0,
       "layout": "IPY_MODEL_5e831a5985854dbe942364a39003c2ad",
       "style": "IPY_MODEL_88d71da12ca2410d99bc4a204243923b"
      }
     },
     "3f2a5db6c9ad4e739a4d303859dca7e3": {
      "model_module": "@jupyter-widgets/base",
      "model_module_version": "1.2.0",
      "model_name": "LayoutModel",
      "state": {}
     },
     "3f56728c07504212bf751db14f927679": {
      "model_module": "@jupyter-widgets/base",
      "model_module_version": "1.2.0",
      "model_name": "LayoutModel",
      "state": {}
     },
     "3fc4c871b9394ba1ade56204691ec78f": {
      "model_module": "@jupyter-widgets/controls",
      "model_module_version": "1.5.0",
      "model_name": "DescriptionStyleModel",
      "state": {
       "description_width": ""
      }
     },
     "3fcbff1b80944dfab8023de578f9c872": {
      "model_module": "@jupyter-widgets/base",
      "model_module_version": "1.2.0",
      "model_name": "LayoutModel",
      "state": {}
     },
     "40450dfb54bc4b4e98e4df0c261b8820": {
      "model_module": "@jupyter-widgets/controls",
      "model_module_version": "1.5.0",
      "model_name": "VBoxModel",
      "state": {
       "_dom_classes": [
        "widget-interact"
       ],
       "children": [
        "IPY_MODEL_76604eac9e814c11b14549dcb736186f",
        "IPY_MODEL_0393c17302b94cbfbfed98f17b22ecc0"
       ],
       "layout": "IPY_MODEL_f8f54b49187f4a79b34ee597b63bf485"
      }
     },
     "4104e102592342ff842221bb5853d538": {
      "model_module": "@jupyter-widgets/base",
      "model_module_version": "1.2.0",
      "model_name": "LayoutModel",
      "state": {}
     },
     "435b2c06e5734ed6af112d8d2ba6666e": {
      "model_module": "@jupyter-widgets/controls",
      "model_module_version": "1.5.0",
      "model_name": "DropdownModel",
      "state": {
       "_options_labels": [
        "Auto/Truck",
        "Broadcasting",
        "Chemicals",
        "Computers & Electronics",
        "Construction/Bldg Prods",
        "Consumer Products",
        "Defense Contractors",
        "Electric Services ",
        "Finance",
        "Food & Beverage",
        "Foreign Agency",
        "Healthcare",
        "Insurance",
        "Leisure & Recreation",
        "Machinery",
        "Metal & Steel",
        "Oil & Gas",
        "Paper & Packaging",
        "Professional Services",
        "Real Estate",
        "Retail",
        "Telecommunications",
        "Textile",
        "Transportation",
        "Utility"
       ],
       "description": "Industry:",
       "index": 8,
       "layout": "IPY_MODEL_3f2a5db6c9ad4e739a4d303859dca7e3",
       "style": "IPY_MODEL_8846cdc7626141998f54a2e2e1786465"
      }
     },
     "4383cb632c614fe180c3aa39719a25a7": {
      "model_module": "@jupyter-widgets/output",
      "model_module_version": "1.0.0",
      "model_name": "OutputModel",
      "state": {
       "layout": "IPY_MODEL_5dd493c2e8204e1098d93387a7a00efe",
       "outputs": [
        {
         "data": {
          "text/plain": "('UKX', 155, 'AAPL', True)"
         },
         "metadata": {},
         "output_type": "display_data"
        }
       ]
      }
     },
     "444e59699cfc45f8a21b201b46b932a2": {
      "model_module": "@jupyter-widgets/base",
      "model_module_version": "1.2.0",
      "model_name": "LayoutModel",
      "state": {}
     },
     "4479cdae73e14a649c058dbcb837cab2": {
      "model_module": "@jupyter-widgets/base",
      "model_module_version": "1.2.0",
      "model_name": "LayoutModel",
      "state": {}
     },
     "44ab9fff489a4f25a423016cbc61d63f": {
      "model_module": "@jupyter-widgets/base",
      "model_module_version": "1.2.0",
      "model_name": "LayoutModel",
      "state": {}
     },
     "44cf2377975e4608bef1384441cfbc18": {
      "model_module": "@jupyter-widgets/controls",
      "model_module_version": "1.5.0",
      "model_name": "TextModel",
      "state": {
       "description": "column",
       "layout": "IPY_MODEL_602a153c9f27476caacee81b5d866260",
       "style": "IPY_MODEL_c65513aafcc04298a784206fdc38d521",
       "value": "Hi"
      }
     },
     "44efcaab932e4978b4b14497927bf392": {
      "model_module": "@jupyter-widgets/base",
      "model_module_version": "1.2.0",
      "model_name": "LayoutModel",
      "state": {}
     },
     "452212a0065d4f4d8eff5ef454472b2c": {
      "model_module": "@jupyter-widgets/base",
      "model_module_version": "1.2.0",
      "model_name": "LayoutModel",
      "state": {}
     },
     "455e65f9f64a468087c546f51549c6a3": {
      "model_module": "@jupyter-widgets/base",
      "model_module_version": "1.2.0",
      "model_name": "LayoutModel",
      "state": {}
     },
     "4649a9b08a404b19b97218087216f01e": {
      "model_module": "@jupyter-widgets/base",
      "model_module_version": "1.2.0",
      "model_name": "LayoutModel",
      "state": {}
     },
     "4756acbf59d64364b3a055fa11d24c91": {
      "model_module": "@jupyter-widgets/base",
      "model_module_version": "1.2.0",
      "model_name": "LayoutModel",
      "state": {}
     },
     "47e74022bbfb4a48ad52abfb1b4aabea": {
      "model_module": "@jupyter-widgets/base",
      "model_module_version": "1.2.0",
      "model_name": "LayoutModel",
      "state": {}
     },
     "48eef6b0e7374764b4734cc9b4769190": {
      "model_module": "@jupyter-widgets/controls",
      "model_module_version": "1.5.0",
      "model_name": "DescriptionStyleModel",
      "state": {
       "description_width": ""
      }
     },
     "48f5ce76a3364708aa1928ff3096eeec": {
      "model_module": "@jupyter-widgets/controls",
      "model_module_version": "1.5.0",
      "model_name": "IntSliderModel",
      "state": {
       "description": "x",
       "layout": "IPY_MODEL_49f550bb574444369b3454c6e630b06a",
       "max": 200,
       "min": 100,
       "style": "IPY_MODEL_80ec9978fd134a05bff96f4ac802cbe6",
       "value": 150
      }
     },
     "491ff2d222964754af7c46d9cc67dbcf": {
      "model_module": "@jupyter-widgets/controls",
      "model_module_version": "1.5.0",
      "model_name": "IntSliderModel",
      "state": {
       "description": "x",
       "layout": "IPY_MODEL_0f1149f9d84b40acb4b22f3618b8aa68",
       "max": 30,
       "min": -10,
       "style": "IPY_MODEL_d1b52bab374f490cb5a5f27b40332e08",
       "value": 10
      }
     },
     "495ebd1b344e45bc83ff5251b89cfd62": {
      "model_module": "@jupyter-widgets/base",
      "model_module_version": "1.2.0",
      "model_name": "LayoutModel",
      "state": {}
     },
     "49f550bb574444369b3454c6e630b06a": {
      "model_module": "@jupyter-widgets/base",
      "model_module_version": "1.2.0",
      "model_name": "LayoutModel",
      "state": {}
     },
     "4a6b3bc43268421f8ded918bc1c52573": {
      "model_module": "@jupyter-widgets/controls",
      "model_module_version": "1.5.0",
      "model_name": "DescriptionStyleModel",
      "state": {
       "description_width": ""
      }
     },
     "4b34327131f046f9b989c31799d3f3da": {
      "model_module": "@jupyter-widgets/base",
      "model_module_version": "1.2.0",
      "model_name": "LayoutModel",
      "state": {}
     },
     "4c45a2d0edc1487880ec13cd0748d973": {
      "model_module": "@jupyter-widgets/base",
      "model_module_version": "1.2.0",
      "model_name": "LayoutModel",
      "state": {}
     },
     "4c99d84d61374848a3a88abbb7d11dac": {
      "model_module": "@jupyter-widgets/base",
      "model_module_version": "1.2.0",
      "model_name": "LayoutModel",
      "state": {}
     },
     "4ceca091e380497390e8a8ef176e7c5a": {
      "model_module": "@jupyter-widgets/base",
      "model_module_version": "1.2.0",
      "model_name": "LayoutModel",
      "state": {}
     },
     "4d9da7bf12814bbdb0f6bb9c2432bb49": {
      "model_module": "@jupyter-widgets/controls",
      "model_module_version": "1.5.0",
      "model_name": "CheckboxModel",
      "state": {
       "description": "Check me",
       "disabled": false,
       "indent": false,
       "layout": "IPY_MODEL_3198a9c4c9ec41d1b2d53948e6867b5b",
       "style": "IPY_MODEL_57f197985867440e8c1610aeabb7419c",
       "value": true
      }
     },
     "4de537f1e7c14733ae5e7ca4e25385d6": {
      "model_module": "@jupyter-widgets/controls",
      "model_module_version": "1.5.0",
      "model_name": "DropdownModel",
      "state": {
       "_options_labels": [
        "UKX",
        "SPX",
        "NKY"
       ],
       "description": "pickIndex",
       "index": 0,
       "layout": "IPY_MODEL_f0d7a0695ac64c1a803c37c5f2545c3c",
       "style": "IPY_MODEL_9afca7ef07ea4a17b09f28ee39ec1ed1"
      }
     },
     "4e0bcacadac846c7b92be317d062869b": {
      "model_module": "@jupyter-widgets/base",
      "model_module_version": "1.2.0",
      "model_name": "LayoutModel",
      "state": {}
     },
     "4e615388a6374f6c807d4067ced19cc9": {
      "model_module": "@jupyter-widgets/controls",
      "model_module_version": "1.5.0",
      "model_name": "IntSliderModel",
      "state": {
       "description": "x",
       "layout": "IPY_MODEL_c5ba82ea965e4583aefe602230cd3969",
       "max": 200,
       "min": 100,
       "style": "IPY_MODEL_bec31b700bfa40798575f691446c6b4e",
       "value": 155
      }
     },
     "4e8728a8c4e34b849c5f7a9bd11c7758": {
      "model_module": "@jupyter-widgets/base",
      "model_module_version": "1.2.0",
      "model_name": "LayoutModel",
      "state": {}
     },
     "4f171e02d2d44a749228a31ce75a05c6": {
      "model_module": "@jupyter-widgets/base",
      "model_module_version": "1.2.0",
      "model_name": "LayoutModel",
      "state": {}
     },
     "4fda17af5a474d57bb94fa92a1420bae": {
      "model_module": "@jupyter-widgets/base",
      "model_module_version": "1.2.0",
      "model_name": "LayoutModel",
      "state": {}
     },
     "5180ed819f334ae0881bccdc96ec9ed5": {
      "model_module": "@jupyter-widgets/controls",
      "model_module_version": "1.5.0",
      "model_name": "VBoxModel",
      "state": {
       "_dom_classes": [
        "widget-interact"
       ],
       "children": [
        "IPY_MODEL_c71a317011bf49cdb022fab58109795f",
        "IPY_MODEL_1bf206319dbc4b86b4bebaf4c4e75072",
        "IPY_MODEL_5d4b8c15ad774220b396ba359800df6b",
        "IPY_MODEL_debadd5242b8493c82401b2e497e04b3"
       ],
       "layout": "IPY_MODEL_cede0f635bbf41939c2c50950b8bea88"
      }
     },
     "518ff26e87334f6bacb0a26724d9f2c5": {
      "model_module": "@jupyter-widgets/controls",
      "model_module_version": "1.5.0",
      "model_name": "VBoxModel",
      "state": {
       "_dom_classes": [
        "widget-interact"
       ],
       "children": [
        "IPY_MODEL_f3f879f3bca448219beaa57f047b34e9",
        "IPY_MODEL_da13ee109a2e4d0dad6093f3fb9268ec"
       ],
       "layout": "IPY_MODEL_35e65e4c0a564429b31693726dd15979"
      }
     },
     "51f850ae52d347d28bed3c8af103b550": {
      "model_module": "@jupyter-widgets/controls",
      "model_module_version": "1.5.0",
      "model_name": "DescriptionStyleModel",
      "state": {
       "description_width": ""
      }
     },
     "52619c9d0d8d43308e14b6e2c2b1afa9": {
      "model_module": "@jupyter-widgets/base",
      "model_module_version": "1.2.0",
      "model_name": "LayoutModel",
      "state": {}
     },
     "52d01851f7434b68820e6287ab1a5dc4": {
      "model_module": "@jupyter-widgets/controls",
      "model_module_version": "1.5.0",
      "model_name": "CheckboxModel",
      "state": {
       "description": "showAll",
       "disabled": false,
       "layout": "IPY_MODEL_3fcbff1b80944dfab8023de578f9c872",
       "style": "IPY_MODEL_a9b23f9fc6b84584ac3038c5e908ab93",
       "value": false
      }
     },
     "53055c81411e4920ad93564910cfb9ec": {
      "model_module": "@jupyter-widgets/base",
      "model_module_version": "1.2.0",
      "model_name": "LayoutModel",
      "state": {}
     },
     "54a1dc7e0fe64b9da953fee746849d16": {
      "model_module": "@jupyter-widgets/controls",
      "model_module_version": "1.5.0",
      "model_name": "DescriptionStyleModel",
      "state": {
       "description_width": ""
      }
     },
     "54c50c8096c547518d58debaecb2fa97": {
      "model_module": "@jupyter-widgets/controls",
      "model_module_version": "1.5.0",
      "model_name": "IntSliderModel",
      "state": {
       "layout": "IPY_MODEL_2ca163bd169b4850af12c3eeb3a39ad7",
       "style": "IPY_MODEL_8325a00a13264ff183ab785588e65a9c",
       "value": 48
      }
     },
     "55036014b1ee4ee1bf3e4d84fc5dd61c": {
      "model_module": "@jupyter-widgets/controls",
      "model_module_version": "1.5.0",
      "model_name": "IntSliderModel",
      "state": {
       "description": "x",
       "layout": "IPY_MODEL_b33262dd3e6d400f884439bcd6166e1d",
       "max": 15000,
       "min": -5000,
       "style": "IPY_MODEL_3a8f5f3c7920474f92f94dd71af6a0e9",
       "value": 5000
      }
     },
     "5521820ab6ca4a93b6841719dd1ff30b": {
      "model_module": "@jupyter-widgets/controls",
      "model_module_version": "1.5.0",
      "model_name": "DescriptionStyleModel",
      "state": {
       "description_width": ""
      }
     },
     "56fd560e03e845648f01763a577c78d6": {
      "model_module": "@jupyter-widgets/controls",
      "model_module_version": "1.5.0",
      "model_name": "VBoxModel",
      "state": {
       "_dom_classes": [
        "widget-interact"
       ],
       "children": [
        "IPY_MODEL_c71a317011bf49cdb022fab58109795f",
        "IPY_MODEL_d1b29086602e4db58d4cf9c55ef1fa5b"
       ],
       "layout": "IPY_MODEL_4104e102592342ff842221bb5853d538"
      }
     },
     "5761a429864047bfbf2fe6c2ae11dc74": {
      "model_module": "@jupyter-widgets/base",
      "model_module_version": "1.2.0",
      "model_name": "LayoutModel",
      "state": {}
     },
     "57f197985867440e8c1610aeabb7419c": {
      "model_module": "@jupyter-widgets/controls",
      "model_module_version": "1.5.0",
      "model_name": "DescriptionStyleModel",
      "state": {
       "description_width": ""
      }
     },
     "58c409b37d7e4e0d8adebe6c19b3eb72": {
      "model_module": "@jupyter-widgets/controls",
      "model_module_version": "1.5.0",
      "model_name": "IntSliderModel",
      "state": {
       "description": "x",
       "layout": "IPY_MODEL_614ce1c95312488daf250711b4d16d84",
       "max": 30,
       "min": -10,
       "style": "IPY_MODEL_91a9e34f30b94f7280a349f1b7bf39b3",
       "value": 10
      }
     },
     "58f4196f28c945b7b2c477e308c2c5a3": {
      "model_module": "@jupyter-widgets/controls",
      "model_module_version": "1.5.0",
      "model_name": "DescriptionStyleModel",
      "state": {
       "description_width": ""
      }
     },
     "5afae101027b4e7bb02345e2337c9de0": {
      "model_module": "@jupyter-widgets/controls",
      "model_module_version": "1.5.0",
      "model_name": "CheckboxModel",
      "state": {
       "description": "show",
       "disabled": false,
       "layout": "IPY_MODEL_a867c061b78b44d1bc5a2d1c86ecd124",
       "style": "IPY_MODEL_8a3cc5bd97f54e3292e52e8ffd5433dc",
       "value": true
      }
     },
     "5be8990a2a2142948df24eaa4e9dc348": {
      "model_module": "@jupyter-widgets/base",
      "model_module_version": "1.2.0",
      "model_name": "LayoutModel",
      "state": {}
     },
     "5c584882f7a94927a245685f9393bda2": {
      "model_module": "@jupyter-widgets/controls",
      "model_module_version": "1.5.0",
      "model_name": "DropdownModel",
      "state": {
       "_options_labels": [
        "UKX",
        "SPX",
        "NKY"
       ],
       "description": "pickIndex",
       "index": 0,
       "layout": "IPY_MODEL_c678a37e79e148b2baae86682f17d2c6",
       "style": "IPY_MODEL_51f850ae52d347d28bed3c8af103b550"
      }
     },
     "5d4b8c15ad774220b396ba359800df6b": {
      "model_module": "@jupyter-widgets/controls",
      "model_module_version": "1.5.0",
      "model_name": "CheckboxModel",
      "state": {
       "description": "Ignore Dropdowns",
       "disabled": false,
       "layout": "IPY_MODEL_7c517676c5ab4b2faf9da53fa240fae0",
       "style": "IPY_MODEL_809f2454de844105a9a3e0f020cf7c11",
       "value": false
      }
     },
     "5dd493c2e8204e1098d93387a7a00efe": {
      "model_module": "@jupyter-widgets/base",
      "model_module_version": "1.2.0",
      "model_name": "LayoutModel",
      "state": {}
     },
     "5e468b767f5c40618976fd879da5a7b8": {
      "model_module": "@jupyter-widgets/controls",
      "model_module_version": "1.5.0",
      "model_name": "DescriptionStyleModel",
      "state": {
       "description_width": ""
      }
     },
     "5e831a5985854dbe942364a39003c2ad": {
      "model_module": "@jupyter-widgets/base",
      "model_module_version": "1.2.0",
      "model_name": "LayoutModel",
      "state": {}
     },
     "5ec781794fab4a029223389796971edc": {
      "model_module": "@jupyter-widgets/base",
      "model_module_version": "1.2.0",
      "model_name": "LayoutModel",
      "state": {}
     },
     "5feba1820dcd4402be15846da7d3aea6": {
      "model_module": "@jupyter-widgets/base",
      "model_module_version": "1.2.0",
      "model_name": "LayoutModel",
      "state": {}
     },
     "602a153c9f27476caacee81b5d866260": {
      "model_module": "@jupyter-widgets/base",
      "model_module_version": "1.2.0",
      "model_name": "LayoutModel",
      "state": {}
     },
     "60de19d0bd1f4c7998e1cee1b44da4cf": {
      "model_module": "@jupyter-widgets/controls",
      "model_module_version": "1.5.0",
      "model_name": "DescriptionStyleModel",
      "state": {
       "description_width": ""
      }
     },
     "614ce1c95312488daf250711b4d16d84": {
      "model_module": "@jupyter-widgets/base",
      "model_module_version": "1.2.0",
      "model_name": "LayoutModel",
      "state": {}
     },
     "61d72659ecc34d84bd474826cc1a768b": {
      "model_module": "@jupyter-widgets/base",
      "model_module_version": "1.2.0",
      "model_name": "LayoutModel",
      "state": {}
     },
     "6462479f61714141ad68fda1bb297203": {
      "model_module": "@jupyter-widgets/base",
      "model_module_version": "1.2.0",
      "model_name": "LayoutModel",
      "state": {}
     },
     "64d57220e7a7490cafab2801348fc864": {
      "model_module": "@jupyter-widgets/controls",
      "model_module_version": "1.5.0",
      "model_name": "DescriptionStyleModel",
      "state": {
       "description_width": ""
      }
     },
     "65869b7e2c684733ad624802aecdce45": {
      "model_module": "@jupyter-widgets/controls",
      "model_module_version": "1.5.0",
      "model_name": "VBoxModel",
      "state": {
       "_dom_classes": [
        "widget-interact"
       ],
       "children": [
        "IPY_MODEL_31680bd8db7041e2bb8ee3f7568a054f",
        "IPY_MODEL_9b136f22b6bf4768818282877e90e50b"
       ],
       "layout": "IPY_MODEL_8ad1c1f62f304eed9ed56ed2baff7251"
      }
     },
     "65a8a66cddeb4d6aae49234313c59234": {
      "model_module": "@jupyter-widgets/controls",
      "model_module_version": "1.5.0",
      "model_name": "DescriptionStyleModel",
      "state": {
       "description_width": ""
      }
     },
     "65fa69467b4d474d9d235cb3dfca5908": {
      "model_module": "@jupyter-widgets/controls",
      "model_module_version": "1.5.0",
      "model_name": "CheckboxModel",
      "state": {
       "description": "show",
       "disabled": false,
       "layout": "IPY_MODEL_67109cef3c894314a8fe33b28b1b376f",
       "style": "IPY_MODEL_1b5e64e08d104d9f9b8f8daab9705c8c",
       "value": true
      }
     },
     "67109cef3c894314a8fe33b28b1b376f": {
      "model_module": "@jupyter-widgets/base",
      "model_module_version": "1.2.0",
      "model_name": "LayoutModel",
      "state": {}
     },
     "6814140389cc46b493efcc853a73aa1d": {
      "model_module": "@jupyter-widgets/base",
      "model_module_version": "1.2.0",
      "model_name": "LayoutModel",
      "state": {}
     },
     "68795ac43e9f4c51bf34cc99419caa03": {
      "model_module": "@jupyter-widgets/controls",
      "model_module_version": "1.5.0",
      "model_name": "DescriptionStyleModel",
      "state": {
       "description_width": ""
      }
     },
     "6adb9d1928a3497ab2ad32342433f7b1": {
      "model_module": "@jupyter-widgets/base",
      "model_module_version": "1.2.0",
      "model_name": "LayoutModel",
      "state": {}
     },
     "6d4bec3f493d42eaac9e44217edd4d2c": {
      "model_module": "@jupyter-widgets/controls",
      "model_module_version": "1.5.0",
      "model_name": "IntSliderModel",
      "state": {
       "layout": "IPY_MODEL_9ca6c494797f43a595c9be9f151411ea",
       "style": "IPY_MODEL_6e5fb0a647114228a0ea375c1626384d"
      }
     },
     "6e03eedc16e845dcbcd719ce32a3f535": {
      "model_module": "@jupyter-widgets/controls",
      "model_module_version": "1.5.0",
      "model_name": "CheckboxModel",
      "state": {
       "description": "Ignore Dropdowns",
       "disabled": false,
       "layout": "IPY_MODEL_866bd9336a06404e8596f669014bbb9e",
       "style": "IPY_MODEL_eafce8b95a9c4201b3a1f5134dd8063f",
       "value": false
      }
     },
     "6e0c390a953a48ada3e5237179abe04b": {
      "model_module": "@jupyter-widgets/controls",
      "model_module_version": "1.5.0",
      "model_name": "SelectModel",
      "state": {
       "_options_labels": [
        "UKX",
        "SPX",
        "NKY"
       ],
       "description": "pickIndex",
       "index": 1,
       "layout": "IPY_MODEL_f81a938059e24af68ccf6c480a4c0424",
       "style": "IPY_MODEL_b584bde4d7314f8ab7fe783802ee05ff"
      }
     },
     "6e5fb0a647114228a0ea375c1626384d": {
      "model_module": "@jupyter-widgets/controls",
      "model_module_version": "1.5.0",
      "model_name": "SliderStyleModel",
      "state": {
       "description_width": ""
      }
     },
     "6e722588e22146338eb0c1e206e1da7a": {
      "model_module": "@jupyter-widgets/base",
      "model_module_version": "1.2.0",
      "model_name": "LayoutModel",
      "state": {}
     },
     "6e804993326840599df8ff76b0a0e504": {
      "model_module": "@jupyter-widgets/controls",
      "model_module_version": "1.5.0",
      "model_name": "DescriptionStyleModel",
      "state": {
       "description_width": ""
      }
     },
     "6ed8f285fdfd4bdd9fb7845a513724ca": {
      "model_module": "@jupyter-widgets/controls",
      "model_module_version": "1.5.0",
      "model_name": "VBoxModel",
      "state": {
       "_dom_classes": [
        "widget-interact"
       ],
       "children": [
        "IPY_MODEL_5c584882f7a94927a245685f9393bda2",
        "IPY_MODEL_30e7fad09f1045e8994b14dccafa0917",
        "IPY_MODEL_a8078fb313794e1ab4fb193ce86911ae",
        "IPY_MODEL_bdab35ca50494fb3a7bf4b24aee4b31c",
        "IPY_MODEL_01fb9d3831c648848bc5129d5c7677b1"
       ],
       "layout": "IPY_MODEL_b4ff1b7f55b54b2c8bf5fc8edebf2852"
      }
     },
     "6f3367ea304342879264f0bf3fdf878f": {
      "model_module": "@jupyter-widgets/controls",
      "model_module_version": "1.5.0",
      "model_name": "TextModel",
      "state": {
       "layout": "IPY_MODEL_c5f7c56a7e5645b1a945167330ee844f",
       "style": "IPY_MODEL_831f839bc2064320a2c68182b565f1d3",
       "value": "Test"
      }
     },
     "6f89c904ce704cf79828123087506a0a": {
      "model_module": "@jupyter-widgets/controls",
      "model_module_version": "1.5.0",
      "model_name": "DescriptionStyleModel",
      "state": {
       "description_width": ""
      }
     },
     "71792810bf4d4c6a984803d2f8f0d97e": {
      "model_module": "@jupyter-widgets/base",
      "model_module_version": "1.2.0",
      "model_name": "LayoutModel",
      "state": {}
     },
     "71bbf248d9f84545a2904822f4db712e": {
      "model_module": "@jupyter-widgets/controls",
      "model_module_version": "1.5.0",
      "model_name": "CheckboxModel",
      "state": {
       "description": "Check me",
       "disabled": false,
       "indent": false,
       "layout": "IPY_MODEL_7590e4768c6f43589f2c0a95ef7321c2",
       "style": "IPY_MODEL_00c02be981df4dd39d8543f7cc1d0dcd",
       "value": false
      }
     },
     "722ee2c794fe4bce9c1fa56d2fe06ada": {
      "model_module": "@jupyter-widgets/controls",
      "model_module_version": "1.5.0",
      "model_name": "DescriptionStyleModel",
      "state": {
       "description_width": ""
      }
     },
     "7313ee9a4bf34370a4831a7ad28fbd16": {
      "model_module": "@jupyter-widgets/base",
      "model_module_version": "1.2.0",
      "model_name": "LayoutModel",
      "state": {}
     },
     "732e6d42fca047eab8f5ee12ff6b052e": {
      "model_module": "@jupyter-widgets/output",
      "model_module_version": "1.0.0",
      "model_name": "OutputModel",
      "state": {
       "layout": "IPY_MODEL_1aaf161aaf414c4ba79d2096ee16ef98",
       "outputs": [
        {
         "data": {
          "text/html": "<div>\n<style scoped>\n    .dataframe tbody tr th:only-of-type {\n        vertical-align: middle;\n    }\n\n    .dataframe tbody tr th {\n        vertical-align: top;\n    }\n\n    .dataframe thead th {\n        text-align: right;\n    }\n</style>\n<table border=\"1\" class=\"dataframe\">\n  <thead>\n    <tr style=\"text-align: right;\">\n      <th></th>\n      <th>DATE</th>\n      <th>ISSUER</th>\n      <th>TYPE</th>\n      <th>SIZE</th>\n      <th>INDUSTRY</th>\n      <th>LEAD UNDERWRITER</th>\n    </tr>\n  </thead>\n  <tbody>\n    <tr>\n      <th>279</th>\n      <td>2006-03-25</td>\n      <td>BP Amoco plc</td>\n      <td>Global Notes</td>\n      <td>500.21</td>\n      <td>Oil &amp; Gas</td>\n      <td>Morgan Stanley</td>\n    </tr>\n    <tr>\n      <th>341</th>\n      <td>2006-04-09</td>\n      <td>Kerr-McGee Corp.</td>\n      <td>Global Notes</td>\n      <td>350.15</td>\n      <td>Oil &amp; Gas</td>\n      <td>Credit Suisse First Boston</td>\n    </tr>\n  </tbody>\n</table>\n</div>",
          "text/plain": "          DATE             ISSUER          TYPE    SIZE   INDUSTRY  \\\n279 2006-03-25      BP Amoco plc   Global Notes  500.21  Oil & Gas   \n341 2006-04-09  Kerr-McGee Corp.   Global Notes  350.15  Oil & Gas   \n\n               LEAD UNDERWRITER  \n279              Morgan Stanley  \n341  Credit Suisse First Boston  "
         },
         "metadata": {},
         "output_type": "display_data"
        }
       ]
      }
     },
     "7454b3caa0c94ef5adcc730427bbb82d": {
      "model_module": "@jupyter-widgets/base",
      "model_module_version": "1.2.0",
      "model_name": "LayoutModel",
      "state": {}
     },
     "747ccdfe95374631a8af674c84c48d57": {
      "model_module": "@jupyter-widgets/base",
      "model_module_version": "1.2.0",
      "model_name": "LayoutModel",
      "state": {}
     },
     "74e36f77ad4d4d5183db101db0e92b4b": {
      "model_module": "@jupyter-widgets/controls",
      "model_module_version": "1.5.0",
      "model_name": "DropdownModel",
      "state": {
       "_options_labels": [
        "Finance",
        "Real Estate",
        "Computers & Electronics",
        "Utility",
        "Healthcare",
        "Paper & Packaging",
        "Retail",
        "Defense Contractors",
        "Leisure & Recreation",
        "Machinery",
        "Metal & Steel",
        "Food & Beverage",
        "Telecommunications",
        "Oil & Gas",
        "Consumer Products",
        "Insurance",
        "Chemicals",
        "Transportation",
        "Professional Services",
        "Construction/Bldg Prods",
        "Electric Services ",
        "Auto/Truck",
        "Textile",
        "Broadcasting",
        "Foreign Agency"
       ],
       "description": "Industry:",
       "index": 6,
       "layout": "IPY_MODEL_5ec781794fab4a029223389796971edc",
       "style": "IPY_MODEL_54a1dc7e0fe64b9da953fee746849d16"
      }
     },
     "7590e4768c6f43589f2c0a95ef7321c2": {
      "model_module": "@jupyter-widgets/base",
      "model_module_version": "1.2.0",
      "model_name": "LayoutModel",
      "state": {}
     },
     "76604eac9e814c11b14549dcb736186f": {
      "model_module": "@jupyter-widgets/controls",
      "model_module_version": "1.5.0",
      "model_name": "IntSliderModel",
      "state": {
       "description": "x",
       "layout": "IPY_MODEL_44ab9fff489a4f25a423016cbc61d63f",
       "max": 30,
       "min": -10,
       "style": "IPY_MODEL_79164a0d118948ac9e4f33de72a33c67",
       "value": 19
      }
     },
     "76a71503fa034b21b33de732cd9d5e7a": {
      "model_module": "@jupyter-widgets/base",
      "model_module_version": "1.2.0",
      "model_name": "LayoutModel",
      "state": {}
     },
     "7776e1ae354341349e87621fd04de405": {
      "model_module": "@jupyter-widgets/controls",
      "model_module_version": "1.5.0",
      "model_name": "DropdownModel",
      "state": {
       "_options_labels": [
        "UKX",
        "SPX",
        "NKY"
       ],
       "description": "pickIndex",
       "index": 0,
       "layout": "IPY_MODEL_6462479f61714141ad68fda1bb297203",
       "style": "IPY_MODEL_fa9d67a356b3454786af2e407241ff2a"
      }
     },
     "77facfae6e304f90a228bb0071d67acf": {
      "model_module": "@jupyter-widgets/base",
      "model_module_version": "1.2.0",
      "model_name": "LayoutModel",
      "state": {}
     },
     "784e8f626e164bd59af7d3b42b9a9f86": {
      "model_module": "@jupyter-widgets/output",
      "model_module_version": "1.0.0",
      "model_name": "OutputModel",
      "state": {
       "layout": "IPY_MODEL_387b8f5a8dbf47e0bd7cdf45107ff245",
       "outputs": [
        {
         "data": {
          "text/plain": "('Hi', 5000)"
         },
         "metadata": {},
         "output_type": "display_data"
        }
       ]
      }
     },
     "79164a0d118948ac9e4f33de72a33c67": {
      "model_module": "@jupyter-widgets/controls",
      "model_module_version": "1.5.0",
      "model_name": "SliderStyleModel",
      "state": {
       "description_width": ""
      }
     },
     "7a28947f96c144e7bc3edd2d17bc413f": {
      "model_module": "@jupyter-widgets/controls",
      "model_module_version": "1.5.0",
      "model_name": "DropdownModel",
      "state": {
       "_options_labels": [
        "Finance",
        "Real Estate",
        "Computers & Electronics",
        "Utility",
        "Healthcare",
        "Paper & Packaging",
        "Retail",
        "Defense Contractors",
        "Leisure & Recreation",
        "Machinery",
        "Metal & Steel",
        "Food & Beverage",
        "Telecommunications",
        "Oil & Gas",
        "Consumer Products",
        "Insurance",
        "Chemicals",
        "Transportation",
        "Professional Services",
        "Construction/Bldg Prods",
        "Electric Services ",
        "Auto/Truck",
        "Textile",
        "Broadcasting",
        "Foreign Agency"
       ],
       "description": "Industry:",
       "index": 0,
       "layout": "IPY_MODEL_876d4f93730440e2be88d722d670145f",
       "style": "IPY_MODEL_a6ae0e693ae54ec4b850642afd758ae9"
      }
     },
     "7af9dfc46cd64eed846ace4708cdc63c": {
      "model_module": "@jupyter-widgets/controls",
      "model_module_version": "1.5.0",
      "model_name": "TextModel",
      "state": {
       "layout": "IPY_MODEL_7ec4e082ea5f42a3aa800b5cff595ac8",
       "style": "IPY_MODEL_a96f8ab671e34ae4932ff43177744d57",
       "value": "Enter your name!"
      }
     },
     "7b4d0d32b0574438a18ae90298cc1314": {
      "model_module": "@jupyter-widgets/base",
      "model_module_version": "1.2.0",
      "model_name": "LayoutModel",
      "state": {}
     },
     "7b4fd21b0a5b47daaad9bd8468ada430": {
      "model_module": "@jupyter-widgets/base",
      "model_module_version": "1.2.0",
      "model_name": "LayoutModel",
      "state": {}
     },
     "7c3d95811233406c9d501d9f389380e9": {
      "model_module": "@jupyter-widgets/controls",
      "model_module_version": "1.5.0",
      "model_name": "IntSliderModel",
      "state": {
       "layout": "IPY_MODEL_d6371994fc9d49cab1b4b52d2567da11",
       "style": "IPY_MODEL_a925359500034fc0ae0940f19a8dc66d"
      }
     },
     "7c517676c5ab4b2faf9da53fa240fae0": {
      "model_module": "@jupyter-widgets/base",
      "model_module_version": "1.2.0",
      "model_name": "LayoutModel",
      "state": {}
     },
     "7d2b8dbee48541318433143f610ef6cf": {
      "model_module": "@jupyter-widgets/base",
      "model_module_version": "1.2.0",
      "model_name": "LayoutModel",
      "state": {}
     },
     "7da222adbfe3429798dc22277bc1beb1": {
      "model_module": "@jupyter-widgets/output",
      "model_module_version": "1.0.0",
      "model_name": "OutputModel",
      "state": {
       "layout": "IPY_MODEL_5be8990a2a2142948df24eaa4e9dc348",
       "outputs": [
        {
         "name": "stdout",
         "output_type": "stream",
         "text": "SPX\n"
        }
       ]
      }
     },
     "7e0211afeb994d25ab554a28ca75eeb2": {
      "model_module": "@jupyter-widgets/controls",
      "model_module_version": "1.5.0",
      "model_name": "DropdownModel",
      "state": {
       "_options_labels": [
        "UKX",
        "SPX",
        "NKY"
       ],
       "description": "pickIndex",
       "index": 0,
       "layout": "IPY_MODEL_153f876cd74a425d9625fdee7cb03f79",
       "style": "IPY_MODEL_02fb1cbb8d1e4efea4b7fc850cc2504d"
      }
     },
     "7e061a44f8964176828c59a67ea13ddf": {
      "model_module": "@jupyter-widgets/controls",
      "model_module_version": "1.5.0",
      "model_name": "DescriptionStyleModel",
      "state": {
       "description_width": ""
      }
     },
     "7ec4e082ea5f42a3aa800b5cff595ac8": {
      "model_module": "@jupyter-widgets/base",
      "model_module_version": "1.2.0",
      "model_name": "LayoutModel",
      "state": {}
     },
     "7f0a687abff54cefb21f338ada0314e8": {
      "model_module": "@jupyter-widgets/base",
      "model_module_version": "1.2.0",
      "model_name": "LayoutModel",
      "state": {}
     },
     "80971e1fbd824b48a5dae389559569a3": {
      "model_module": "@jupyter-widgets/output",
      "model_module_version": "1.0.0",
      "model_name": "OutputModel",
      "state": {
       "layout": "IPY_MODEL_228a07165f7b497785e401e1bb09856b",
       "outputs": [
        {
         "name": "stdout",
         "output_type": "stream",
         "text": "10\n"
        }
       ]
      }
     },
     "809f2454de844105a9a3e0f020cf7c11": {
      "model_module": "@jupyter-widgets/controls",
      "model_module_version": "1.5.0",
      "model_name": "DescriptionStyleModel",
      "state": {
       "description_width": ""
      }
     },
     "80ec9978fd134a05bff96f4ac802cbe6": {
      "model_module": "@jupyter-widgets/controls",
      "model_module_version": "1.5.0",
      "model_name": "SliderStyleModel",
      "state": {
       "description_width": ""
      }
     },
     "8272a93622b54303ab490ea31fc90d91": {
      "model_module": "@jupyter-widgets/controls",
      "model_module_version": "1.5.0",
      "model_name": "DescriptionStyleModel",
      "state": {
       "description_width": ""
      }
     },
     "82e4e2cbeeb841b4a9a55a182c0eab4e": {
      "model_module": "@jupyter-widgets/controls",
      "model_module_version": "1.5.0",
      "model_name": "TextModel",
      "state": {
       "description": "column",
       "layout": "IPY_MODEL_a86205c1bdbf4b0da0ba0eb16a19c98a",
       "style": "IPY_MODEL_722ee2c794fe4bce9c1fa56d2fe06ada",
       "value": "Hi"
      }
     },
     "831f839bc2064320a2c68182b565f1d3": {
      "model_module": "@jupyter-widgets/controls",
      "model_module_version": "1.5.0",
      "model_name": "DescriptionStyleModel",
      "state": {
       "description_width": ""
      }
     },
     "8325a00a13264ff183ab785588e65a9c": {
      "model_module": "@jupyter-widgets/controls",
      "model_module_version": "1.5.0",
      "model_name": "SliderStyleModel",
      "state": {
       "description_width": ""
      }
     },
     "832c8b7231fc4eb497eee10d27761dbe": {
      "model_module": "@jupyter-widgets/controls",
      "model_module_version": "1.5.0",
      "model_name": "DatePickerModel",
      "state": {
       "description": "Pick a Date",
       "disabled": false,
       "layout": "IPY_MODEL_7313ee9a4bf34370a4831a7ad28fbd16",
       "style": "IPY_MODEL_d6e42efdb30c41a8ad32376f78571d08"
      }
     },
     "84a254b9e6fd4b3381d2c1ace776b19b": {
      "model_module": "@jupyter-widgets/controls",
      "model_module_version": "1.5.0",
      "model_name": "DropdownModel",
      "state": {
       "_options_labels": [
        "1",
        "2",
        "3"
       ],
       "description": "Number:",
       "index": 1,
       "layout": "IPY_MODEL_d2963aa8ac084612b856f52bf9748ada",
       "style": "IPY_MODEL_21874f05c7224b27b259540ee317312f"
      }
     },
     "84d525e5b40841f39c443ab8492800a5": {
      "model_module": "@jupyter-widgets/base",
      "model_module_version": "1.2.0",
      "model_name": "LayoutModel",
      "state": {}
     },
     "84e0cd8b5a2e4fdbb1fdfc9f16b4954a": {
      "model_module": "@jupyter-widgets/controls",
      "model_module_version": "1.5.0",
      "model_name": "VBoxModel",
      "state": {
       "_dom_classes": [
        "widget-interact"
       ],
       "children": [
        "IPY_MODEL_c71a317011bf49cdb022fab58109795f",
        "IPY_MODEL_fa6946fe7b744e7cbc704b847adf9b31",
        "IPY_MODEL_3d0fb1c589574f46b6075a47ec8ba46c",
        "IPY_MODEL_200e9cd733114610bf5e1dc69e1c6ff7"
       ],
       "layout": "IPY_MODEL_348cd0474369451cabc8810d9ba07983"
      }
     },
     "866bd9336a06404e8596f669014bbb9e": {
      "model_module": "@jupyter-widgets/base",
      "model_module_version": "1.2.0",
      "model_name": "LayoutModel",
      "state": {}
     },
     "86939199e9d84d46933567d2ecd151e4": {
      "model_module": "@jupyter-widgets/base",
      "model_module_version": "1.2.0",
      "model_name": "LayoutModel",
      "state": {}
     },
     "86a36b7baee8495385454cce8afa01f6": {
      "model_module": "@jupyter-widgets/controls",
      "model_module_version": "1.5.0",
      "model_name": "CheckboxModel",
      "state": {
       "description": "show",
       "disabled": false,
       "layout": "IPY_MODEL_4f171e02d2d44a749228a31ce75a05c6",
       "style": "IPY_MODEL_ce9e4ef984884300a910082097cdd3da",
       "value": true
      }
     },
     "876d4f93730440e2be88d722d670145f": {
      "model_module": "@jupyter-widgets/base",
      "model_module_version": "1.2.0",
      "model_name": "LayoutModel",
      "state": {}
     },
     "883608fd084e4f5f84a490f434649fac": {
      "model_module": "@jupyter-widgets/controls",
      "model_module_version": "1.5.0",
      "model_name": "DescriptionStyleModel",
      "state": {
       "description_width": ""
      }
     },
     "884190a19c934e6797233dd89daca550": {
      "model_module": "@jupyter-widgets/controls",
      "model_module_version": "1.5.0",
      "model_name": "VBoxModel",
      "state": {
       "_dom_classes": [
        "widget-interact"
       ],
       "children": [
        "IPY_MODEL_dcd5d53ce95d44fba7612aa3032edac4",
        "IPY_MODEL_7da222adbfe3429798dc22277bc1beb1"
       ],
       "layout": "IPY_MODEL_1dcd4763907241e9abc37c1995494224"
      }
     },
     "8846cdc7626141998f54a2e2e1786465": {
      "model_module": "@jupyter-widgets/controls",
      "model_module_version": "1.5.0",
      "model_name": "DescriptionStyleModel",
      "state": {
       "description_width": ""
      }
     },
     "884ccaa1f93546549ac1b1eafa8c81e7": {
      "model_module": "@jupyter-widgets/controls",
      "model_module_version": "1.5.0",
      "model_name": "TextModel",
      "state": {
       "description": "pickTicker",
       "layout": "IPY_MODEL_a037560566744482b7aa3e56557e60fd",
       "style": "IPY_MODEL_faac1b9955644767bc735b847802f5aa",
       "value": "AAPL"
      }
     },
     "88bb80d77f564f269ad5c63244ae6e0c": {
      "model_module": "@jupyter-widgets/base",
      "model_module_version": "1.2.0",
      "model_name": "LayoutModel",
      "state": {}
     },
     "88c6c9c3a3a643c8b119549fe26e37d0": {
      "model_module": "@jupyter-widgets/controls",
      "model_module_version": "1.5.0",
      "model_name": "SliderStyleModel",
      "state": {
       "description_width": ""
      }
     },
     "88d71da12ca2410d99bc4a204243923b": {
      "model_module": "@jupyter-widgets/controls",
      "model_module_version": "1.5.0",
      "model_name": "DescriptionStyleModel",
      "state": {
       "description_width": ""
      }
     },
     "8a16385f75fe4605b73bff71c3051bf4": {
      "model_module": "@jupyter-widgets/controls",
      "model_module_version": "1.5.0",
      "model_name": "DescriptionStyleModel",
      "state": {
       "description_width": ""
      }
     },
     "8a3cc5bd97f54e3292e52e8ffd5433dc": {
      "model_module": "@jupyter-widgets/controls",
      "model_module_version": "1.5.0",
      "model_name": "DescriptionStyleModel",
      "state": {
       "description_width": ""
      }
     },
     "8ad1c1f62f304eed9ed56ed2baff7251": {
      "model_module": "@jupyter-widgets/base",
      "model_module_version": "1.2.0",
      "model_name": "LayoutModel",
      "state": {}
     },
     "8b1518c5132a4d1e806e4c3a7406b3c5": {
      "model_module": "@jupyter-widgets/base",
      "model_module_version": "1.2.0",
      "model_name": "LayoutModel",
      "state": {}
     },
     "8bbd7754c69b4e25bcccb8efa5fa81b8": {
      "model_module": "@jupyter-widgets/controls",
      "model_module_version": "1.5.0",
      "model_name": "DropdownModel",
      "state": {
       "_options_labels": [
        "UKX",
        "SPX",
        "NKY"
       ],
       "description": "pickIndex",
       "index": 0,
       "layout": "IPY_MODEL_53055c81411e4920ad93564910cfb9ec",
       "style": "IPY_MODEL_14f7da621aee4c6595cb7c8f0f9dcefd"
      }
     },
     "8bc8ff26c0034eb29c4a6a257992cc88": {
      "model_module": "@jupyter-widgets/controls",
      "model_module_version": "1.5.0",
      "model_name": "VBoxModel",
      "state": {
       "children": [
        "IPY_MODEL_d32fb32d9d7f4360ad8de2d7f74c3ff9",
        "IPY_MODEL_0fbd0efb00d341eeae2f339dfcf0cc03",
        "IPY_MODEL_bf2ea65498fb471384d2e213b876db4b"
       ],
       "layout": "IPY_MODEL_cd3f2859b85540f68134c0abd699e620"
      }
     },
     "8c5cd2e0f23f4405b90ccba6be206b03": {
      "model_module": "@jupyter-widgets/controls",
      "model_module_version": "1.5.0",
      "model_name": "DescriptionStyleModel",
      "state": {
       "description_width": ""
      }
     },
     "8c71e899847644f4b9051e23efed56b9": {
      "model_module": "@jupyter-widgets/controls",
      "model_module_version": "1.5.0",
      "model_name": "DescriptionStyleModel",
      "state": {
       "description_width": ""
      }
     },
     "8cee75810f7d4d2d80b94e31a54296cc": {
      "model_module": "@jupyter-widgets/controls",
      "model_module_version": "1.5.0",
      "model_name": "DropdownModel",
      "state": {
       "_options_labels": [
        "Base Case Scenario",
        "Upside",
        "Downside"
       ],
       "description": "Number:",
       "index": 1,
       "layout": "IPY_MODEL_5761a429864047bfbf2fe6c2ae11dc74",
       "style": "IPY_MODEL_48eef6b0e7374764b4734cc9b4769190"
      }
     },
     "8d37fa06f59e40c78380c6f2f26fab53": {
      "model_module": "@jupyter-widgets/base",
      "model_module_version": "1.2.0",
      "model_name": "LayoutModel",
      "state": {}
     },
     "8d8913e3ac8c4753bc2a0d38a732beb6": {
      "model_module": "@jupyter-widgets/controls",
      "model_module_version": "1.5.0",
      "model_name": "DescriptionStyleModel",
      "state": {
       "description_width": ""
      }
     },
     "8e7525ec3f554855a37eb8bf037b6182": {
      "model_module": "@jupyter-widgets/output",
      "model_module_version": "1.0.0",
      "model_name": "OutputModel",
      "state": {
       "layout": "IPY_MODEL_282b2c61f47e49dea31e26a8fcde6dd8",
       "outputs": [
        {
         "data": {
          "text/plain": "('Hi', 5000)"
         },
         "metadata": {},
         "output_type": "display_data"
        }
       ]
      }
     },
     "8e854ee588aa43e1b53edd6c54b4024d": {
      "model_module": "@jupyter-widgets/base",
      "model_module_version": "1.2.0",
      "model_name": "LayoutModel",
      "state": {}
     },
     "904f26781bb84ce2809cd6e6948c9af4": {
      "model_module": "@jupyter-widgets/base",
      "model_module_version": "1.2.0",
      "model_name": "LayoutModel",
      "state": {}
     },
     "9068f8735353462e873df16fdf126fe6": {
      "model_module": "@jupyter-widgets/controls",
      "model_module_version": "1.5.0",
      "model_name": "VBoxModel",
      "state": {
       "_dom_classes": [
        "widget-interact"
       ],
       "children": [
        "IPY_MODEL_e8f48e24417f4eac81df0fa3d114a0fb",
        "IPY_MODEL_3ce0b82fb1e848afb5cd774a675f7403",
        "IPY_MODEL_8e7525ec3f554855a37eb8bf037b6182"
       ],
       "layout": "IPY_MODEL_b4af7be37f274ec8bd4bed5d8bf67ea7"
      }
     },
     "918b87e5973e4097bcdaa2cc8c8e0874": {
      "model_module": "@jupyter-widgets/base",
      "model_module_version": "1.2.0",
      "model_name": "LayoutModel",
      "state": {}
     },
     "91a9e34f30b94f7280a349f1b7bf39b3": {
      "model_module": "@jupyter-widgets/controls",
      "model_module_version": "1.5.0",
      "model_name": "SliderStyleModel",
      "state": {
       "description_width": ""
      }
     },
     "91af40fb1b064fd2b1175c07d1166cbb": {
      "model_module": "@jupyter-widgets/base",
      "model_module_version": "1.2.0",
      "model_name": "LayoutModel",
      "state": {}
     },
     "91e6806ce57747fa8b576e371197a7c4": {
      "model_module": "@jupyter-widgets/controls",
      "model_module_version": "1.5.0",
      "model_name": "DescriptionStyleModel",
      "state": {
       "description_width": ""
      }
     },
     "92d7477052d4488fa4859e521336dfcc": {
      "model_module": "@jupyter-widgets/base",
      "model_module_version": "1.2.0",
      "model_name": "LayoutModel",
      "state": {}
     },
     "9551b4e456e84aa8ae73840414e21230": {
      "model_module": "@jupyter-widgets/controls",
      "model_module_version": "1.5.0",
      "model_name": "DropdownModel",
      "state": {
       "_options_labels": [
        "Global Notes",
        "Initial Public Offering",
        "CD Notes",
        "Equity Follow-On Offering",
        "Bank Notes",
        "Sr Notes",
        "Bonds",
        "Notes",
        "Preferred Securities",
        "Mortgage Bonds"
       ],
       "description": "Type of Deal:",
       "index": 5,
       "layout": "IPY_MODEL_4756acbf59d64364b3a055fa11d24c91",
       "style": "IPY_MODEL_f4843b63cca24b1399755d9567cb196f"
      }
     },
     "96fc22b07cff462baa4ef9c1bd2024f1": {
      "model_module": "@jupyter-widgets/output",
      "model_module_version": "1.0.0",
      "model_name": "OutputModel",
      "state": {
       "layout": "IPY_MODEL_343fc6fcab214f378f38bae9f46f0301",
       "outputs": [
        {
         "data": {
          "text/plain": "('UKX', 150, 'AAPL', True)"
         },
         "metadata": {},
         "output_type": "display_data"
        }
       ]
      }
     },
     "977ceac6d278453c85e8a736bf65e7b6": {
      "model_module": "@jupyter-widgets/base",
      "model_module_version": "1.2.0",
      "model_name": "LayoutModel",
      "state": {}
     },
     "97fabad69097460589fb96a92c72ee37": {
      "model_module": "@jupyter-widgets/controls",
      "model_module_version": "1.5.0",
      "model_name": "IntSliderModel",
      "state": {
       "description": "num",
       "layout": "IPY_MODEL_4b34327131f046f9b989c31799d3f3da",
       "max": 30,
       "min": -10,
       "style": "IPY_MODEL_ed37fe2dd71143fa861cdf7f450be9ed",
       "value": 19
      }
     },
     "98425867f69d4cdca6f749e46720ceb7": {
      "model_module": "@jupyter-widgets/controls",
      "model_module_version": "1.5.0",
      "model_name": "SelectModel",
      "state": {
       "_options_labels": [
        "UKX",
        "SPX",
        "NKY"
       ],
       "description": "pickIndex",
       "index": 1,
       "layout": "IPY_MODEL_c697530541194b06b0e046a3cf5f3faf",
       "style": "IPY_MODEL_d94027f8a2db4ead9bdab46cdf64123c"
      }
     },
     "987190568edb41b982834f65a4380616": {
      "model_module": "@jupyter-widgets/base",
      "model_module_version": "1.2.0",
      "model_name": "LayoutModel",
      "state": {}
     },
     "9926ebd645d24b559ed2e012894a6427": {
      "model_module": "@jupyter-widgets/controls",
      "model_module_version": "1.5.0",
      "model_name": "IntSliderModel",
      "state": {
       "layout": "IPY_MODEL_f3e949ccf3124b5c89274c0316f1c0ff",
       "style": "IPY_MODEL_bd2d34a414cb4b5a9b3f9b879cdfc3d6",
       "value": 6
      }
     },
     "99e03978f04e45f797d0fd6bb63d82e0": {
      "model_module": "@jupyter-widgets/controls",
      "model_module_version": "1.5.0",
      "model_name": "VBoxModel",
      "state": {
       "_dom_classes": [
        "widget-interact"
       ],
       "children": [
        "IPY_MODEL_7e0211afeb994d25ab554a28ca75eeb2",
        "IPY_MODEL_e0888389c5974517b50f030a8c1a64f0",
        "IPY_MODEL_b3ada228e9784ee9b86a9a296001f3f1",
        "IPY_MODEL_86a36b7baee8495385454cce8afa01f6",
        "IPY_MODEL_96fc22b07cff462baa4ef9c1bd2024f1"
       ],
       "layout": "IPY_MODEL_77facfae6e304f90a228bb0071d67acf"
      }
     },
     "9ae91672fea94111bd60a8a304fe4636": {
      "model_module": "@jupyter-widgets/controls",
      "model_module_version": "1.5.0",
      "model_name": "DropdownModel",
      "state": {
       "_options_labels": [
        "Global Notes",
        "Initial Public Offering",
        "CD Notes",
        "Equity Follow-On Offering",
        "Bank Notes",
        "Sr Notes",
        "Bonds",
        "Notes",
        "Preferred Securities",
        "Mortgage Bonds"
       ],
       "description": "Type of Deal:",
       "index": 0,
       "layout": "IPY_MODEL_d406e3fec9c24a6aa01c535c8b46404f",
       "style": "IPY_MODEL_da66dd0adb2946f09218b469010a6cb2"
      }
     },
     "9afca7ef07ea4a17b09f28ee39ec1ed1": {
      "model_module": "@jupyter-widgets/controls",
      "model_module_version": "1.5.0",
      "model_name": "DescriptionStyleModel",
      "state": {
       "description_width": ""
      }
     },
     "9b136f22b6bf4768818282877e90e50b": {
      "model_module": "@jupyter-widgets/output",
      "model_module_version": "1.0.0",
      "model_name": "OutputModel",
      "state": {
       "layout": "IPY_MODEL_92d7477052d4488fa4859e521336dfcc",
       "outputs": [
        {
         "name": "stdout",
         "output_type": "stream",
         "text": "SPX\n"
        }
       ]
      }
     },
     "9b8b179e6f9041999fa7455f8d90de3b": {
      "model_module": "@jupyter-widgets/base",
      "model_module_version": "1.2.0",
      "model_name": "LayoutModel",
      "state": {}
     },
     "9c1fe039c29941529de9b8b97e04c4ed": {
      "model_module": "@jupyter-widgets/controls",
      "model_module_version": "1.5.0",
      "model_name": "TextModel",
      "state": {
       "disabled": true,
       "layout": "IPY_MODEL_c0ed2d135363457eaa8bdff25d721431",
       "style": "IPY_MODEL_8a16385f75fe4605b73bff71c3051bf4",
       "value": "Hello World!"
      }
     },
     "9ca6c494797f43a595c9be9f151411ea": {
      "model_module": "@jupyter-widgets/base",
      "model_module_version": "1.2.0",
      "model_name": "LayoutModel",
      "state": {}
     },
     "9e53c3d637b346d29213b367581549fb": {
      "model_module": "@jupyter-widgets/controls",
      "model_module_version": "1.5.0",
      "model_name": "VBoxModel",
      "state": {
       "_dom_classes": [
        "widget-interact"
       ],
       "children": [
        "IPY_MODEL_c71a317011bf49cdb022fab58109795f",
        "IPY_MODEL_9ae91672fea94111bd60a8a304fe4636",
        "IPY_MODEL_6e03eedc16e845dcbcd719ce32a3f535",
        "IPY_MODEL_0104336933144b1391bdca452a7b06e3"
       ],
       "layout": "IPY_MODEL_8e854ee588aa43e1b53edd6c54b4024d"
      }
     },
     "a016524ec9454bfda0a4cfd3b695d34b": {
      "model_module": "@jupyter-widgets/base",
      "model_module_version": "1.2.0",
      "model_name": "LayoutModel",
      "state": {}
     },
     "a037560566744482b7aa3e56557e60fd": {
      "model_module": "@jupyter-widgets/base",
      "model_module_version": "1.2.0",
      "model_name": "LayoutModel",
      "state": {}
     },
     "a0e1578074c944508c7a70381789d83d": {
      "model_module": "@jupyter-widgets/controls",
      "model_module_version": "1.5.0",
      "model_name": "VBoxModel",
      "state": {
       "_dom_classes": [
        "widget-interact"
       ],
       "children": [
        "IPY_MODEL_c71a317011bf49cdb022fab58109795f",
        "IPY_MODEL_f2a10fb3fc354b0d9beea6c8eb245ca3",
        "IPY_MODEL_3407bb31548240bab5e652790e5b2085"
       ],
       "layout": "IPY_MODEL_8d37fa06f59e40c78380c6f2f26fab53"
      }
     },
     "a2d5c3f559c940f59fcef9fbff21c704": {
      "model_module": "@jupyter-widgets/base",
      "model_module_version": "1.2.0",
      "model_name": "LayoutModel",
      "state": {}
     },
     "a336ef29afcf486a86bff2206cd2c12a": {
      "model_module": "@jupyter-widgets/controls",
      "model_module_version": "1.5.0",
      "model_name": "DescriptionStyleModel",
      "state": {
       "description_width": ""
      }
     },
     "a3676faa9686421785b204717caa500f": {
      "model_module": "@jupyter-widgets/base",
      "model_module_version": "1.2.0",
      "model_name": "LayoutModel",
      "state": {}
     },
     "a42c0595c7234aa39d0317aca26e9d8e": {
      "model_module": "@jupyter-widgets/controls",
      "model_module_version": "1.5.0",
      "model_name": "VBoxModel",
      "state": {
       "_dom_classes": [
        "widget-interact"
       ],
       "children": [
        "IPY_MODEL_c71a317011bf49cdb022fab58109795f",
        "IPY_MODEL_1c9da806949b4cec9258125f4c1baa69",
        "IPY_MODEL_52d01851f7434b68820e6287ab1a5dc4",
        "IPY_MODEL_732e6d42fca047eab8f5ee12ff6b052e"
       ],
       "layout": "IPY_MODEL_21c191e2774c415caf76a3bf0bd9a356"
      }
     },
     "a6abb22cfcea4b11bc9b700be37cb66a": {
      "model_module": "@jupyter-widgets/base",
      "model_module_version": "1.2.0",
      "model_name": "LayoutModel",
      "state": {}
     },
     "a6ae0e693ae54ec4b850642afd758ae9": {
      "model_module": "@jupyter-widgets/controls",
      "model_module_version": "1.5.0",
      "model_name": "DescriptionStyleModel",
      "state": {
       "description_width": ""
      }
     },
     "a6cb9aaa60414a30beb3c92e886ee1ba": {
      "model_module": "@jupyter-widgets/controls",
      "model_module_version": "1.5.0",
      "model_name": "DescriptionStyleModel",
      "state": {
       "description_width": ""
      }
     },
     "a6d0130591d14a1fa87636030bdf7c40": {
      "model_module": "@jupyter-widgets/controls",
      "model_module_version": "1.5.0",
      "model_name": "TextModel",
      "state": {
       "disabled": true,
       "layout": "IPY_MODEL_c9dea0b08e19451db88cec6c8a25e402",
       "style": "IPY_MODEL_a336ef29afcf486a86bff2206cd2c12a",
       "value": "Hello World!"
      }
     },
     "a71e7d06bb384bef97077101be17da89": {
      "model_module": "@jupyter-widgets/controls",
      "model_module_version": "1.5.0",
      "model_name": "SliderStyleModel",
      "state": {
       "description_width": ""
      }
     },
     "a776b0ee83b84dec872d5020070c2651": {
      "model_module": "@jupyter-widgets/output",
      "model_module_version": "1.0.0",
      "model_name": "OutputModel",
      "state": {
       "layout": "IPY_MODEL_4e8728a8c4e34b849c5f7a9bd11c7758",
       "outputs": [
        {
         "data": {
          "application/vnd.plotly.v1+json": {
           "config": {
            "plotlyServerURL": "https://plot.ly"
           },
           "data": [
            {
             "alignmentgroup": "True",
             "hovertemplate": "TYPE=%{x}<br>SIZE=%{y}<extra></extra>",
             "legendgroup": "Equity Follow-On Offering",
             "marker": {
              "color": "#636efa"
             },
             "name": "Equity Follow-On Offering",
             "offsetgroup": "Equity Follow-On Offering",
             "orientation": "v",
             "showlegend": true,
             "textposition": "auto",
             "type": "bar",
             "x": [
              "Equity Follow-On Offering",
              "Equity Follow-On Offering",
              "Equity Follow-On Offering",
              "Equity Follow-On Offering",
              "Equity Follow-On Offering",
              "Equity Follow-On Offering",
              "Equity Follow-On Offering",
              "Equity Follow-On Offering",
              "Equity Follow-On Offering",
              "Equity Follow-On Offering",
              "Equity Follow-On Offering",
              "Equity Follow-On Offering",
              "Equity Follow-On Offering",
              "Equity Follow-On Offering",
              "Equity Follow-On Offering",
              "Equity Follow-On Offering",
              "Equity Follow-On Offering",
              "Equity Follow-On Offering",
              "Equity Follow-On Offering"
             ],
             "xaxis": "x",
             "y": [
              127.2,
              550.47,
              61.88,
              104.81,
              205.8,
              84.8,
              100.73,
              55.88,
              111.6,
              73.5,
              177.13,
              292.5,
              450,
              57.2,
              371.6,
              106.33,
              81.9,
              50.35,
              117
             ],
             "yaxis": "y"
            },
            {
             "alignmentgroup": "True",
             "hovertemplate": "TYPE=%{x}<br>SIZE=%{y}<extra></extra>",
             "legendgroup": "Preferred Securities",
             "marker": {
              "color": "#EF553B"
             },
             "name": "Preferred Securities",
             "offsetgroup": "Preferred Securities",
             "orientation": "v",
             "showlegend": true,
             "textposition": "auto",
             "type": "bar",
             "x": [
              "Preferred Securities",
              "Preferred Securities",
              "Preferred Securities",
              "Preferred Securities"
             ],
             "xaxis": "x",
             "y": [
              1500.14,
              87,
              52.18,
              75.2
             ],
             "yaxis": "y"
            },
            {
             "alignmentgroup": "True",
             "hovertemplate": "TYPE=%{x}<br>SIZE=%{y}<extra></extra>",
             "legendgroup": "Initial Public Offering",
             "marker": {
              "color": "#00cc96"
             },
             "name": "Initial Public Offering",
             "offsetgroup": "Initial Public Offering",
             "orientation": "v",
             "showlegend": true,
             "textposition": "auto",
             "type": "bar",
             "x": [
              "Initial Public Offering",
              "Initial Public Offering"
             ],
             "xaxis": "x",
             "y": [
              510,
              450.2
             ],
             "yaxis": "y"
            },
            {
             "alignmentgroup": "True",
             "hovertemplate": "TYPE=%{x}<br>SIZE=%{y}<extra></extra>",
             "legendgroup": "Bank Notes",
             "marker": {
              "color": "#ab63fa"
             },
             "name": "Bank Notes",
             "offsetgroup": "Bank Notes",
             "orientation": "v",
             "showlegend": true,
             "textposition": "auto",
             "type": "bar",
             "x": [
              "Bank Notes"
             ],
             "xaxis": "x",
             "y": [
              100.177
             ],
             "yaxis": "y"
            },
            {
             "alignmentgroup": "True",
             "hovertemplate": "TYPE=%{x}<br>SIZE=%{y}<extra></extra>",
             "legendgroup": "Sr Notes",
             "marker": {
              "color": "#FFA15A"
             },
             "name": "Sr Notes",
             "offsetgroup": "Sr Notes",
             "orientation": "v",
             "showlegend": true,
             "textposition": "auto",
             "type": "bar",
             "x": [
              "Sr Notes",
              "Sr Notes"
             ],
             "xaxis": "x",
             "y": [
              200.32,
              150
             ],
             "yaxis": "y"
            },
            {
             "alignmentgroup": "True",
             "hovertemplate": "TYPE=%{x}<br>SIZE=%{y}<extra></extra>",
             "legendgroup": "Notes",
             "marker": {
              "color": "#19d3f3"
             },
             "name": "Notes",
             "offsetgroup": "Notes",
             "orientation": "v",
             "showlegend": true,
             "textposition": "auto",
             "type": "bar",
             "x": [
              "Notes",
              "Notes"
             ],
             "xaxis": "x",
             "y": [
              350.11,
              55
             ],
             "yaxis": "y"
            },
            {
             "alignmentgroup": "True",
             "hovertemplate": "TYPE=%{x}<br>SIZE=%{y}<extra></extra>",
             "legendgroup": "Bonds",
             "marker": {
              "color": "#FF6692"
             },
             "name": "Bonds",
             "offsetgroup": "Bonds",
             "orientation": "v",
             "showlegend": true,
             "textposition": "auto",
             "type": "bar",
             "x": [
              "Bonds"
             ],
             "xaxis": "x",
             "y": [
              100.101
             ],
             "yaxis": "y"
            }
           ],
           "layout": {
            "barmode": "relative",
            "legend": {
             "title": {
              "text": "TYPE"
             },
             "tracegroupgap": 0
            },
            "template": {
             "data": {
              "bar": [
               {
                "error_x": {
                 "color": "#2a3f5f"
                },
                "error_y": {
                 "color": "#2a3f5f"
                },
                "marker": {
                 "line": {
                  "color": "#E5ECF6",
                  "width": 0.5
                 }
                },
                "type": "bar"
               }
              ],
              "barpolar": [
               {
                "marker": {
                 "line": {
                  "color": "#E5ECF6",
                  "width": 0.5
                 }
                },
                "type": "barpolar"
               }
              ],
              "carpet": [
               {
                "aaxis": {
                 "endlinecolor": "#2a3f5f",
                 "gridcolor": "white",
                 "linecolor": "white",
                 "minorgridcolor": "white",
                 "startlinecolor": "#2a3f5f"
                },
                "baxis": {
                 "endlinecolor": "#2a3f5f",
                 "gridcolor": "white",
                 "linecolor": "white",
                 "minorgridcolor": "white",
                 "startlinecolor": "#2a3f5f"
                },
                "type": "carpet"
               }
              ],
              "choropleth": [
               {
                "colorbar": {
                 "outlinewidth": 0,
                 "ticks": ""
                },
                "type": "choropleth"
               }
              ],
              "contour": [
               {
                "colorbar": {
                 "outlinewidth": 0,
                 "ticks": ""
                },
                "colorscale": [
                 [
                  0,
                  "#0d0887"
                 ],
                 [
                  0.1111111111111111,
                  "#46039f"
                 ],
                 [
                  0.2222222222222222,
                  "#7201a8"
                 ],
                 [
                  0.3333333333333333,
                  "#9c179e"
                 ],
                 [
                  0.4444444444444444,
                  "#bd3786"
                 ],
                 [
                  0.5555555555555556,
                  "#d8576b"
                 ],
                 [
                  0.6666666666666666,
                  "#ed7953"
                 ],
                 [
                  0.7777777777777778,
                  "#fb9f3a"
                 ],
                 [
                  0.8888888888888888,
                  "#fdca26"
                 ],
                 [
                  1,
                  "#f0f921"
                 ]
                ],
                "type": "contour"
               }
              ],
              "contourcarpet": [
               {
                "colorbar": {
                 "outlinewidth": 0,
                 "ticks": ""
                },
                "type": "contourcarpet"
               }
              ],
              "heatmap": [
               {
                "colorbar": {
                 "outlinewidth": 0,
                 "ticks": ""
                },
                "colorscale": [
                 [
                  0,
                  "#0d0887"
                 ],
                 [
                  0.1111111111111111,
                  "#46039f"
                 ],
                 [
                  0.2222222222222222,
                  "#7201a8"
                 ],
                 [
                  0.3333333333333333,
                  "#9c179e"
                 ],
                 [
                  0.4444444444444444,
                  "#bd3786"
                 ],
                 [
                  0.5555555555555556,
                  "#d8576b"
                 ],
                 [
                  0.6666666666666666,
                  "#ed7953"
                 ],
                 [
                  0.7777777777777778,
                  "#fb9f3a"
                 ],
                 [
                  0.8888888888888888,
                  "#fdca26"
                 ],
                 [
                  1,
                  "#f0f921"
                 ]
                ],
                "type": "heatmap"
               }
              ],
              "heatmapgl": [
               {
                "colorbar": {
                 "outlinewidth": 0,
                 "ticks": ""
                },
                "colorscale": [
                 [
                  0,
                  "#0d0887"
                 ],
                 [
                  0.1111111111111111,
                  "#46039f"
                 ],
                 [
                  0.2222222222222222,
                  "#7201a8"
                 ],
                 [
                  0.3333333333333333,
                  "#9c179e"
                 ],
                 [
                  0.4444444444444444,
                  "#bd3786"
                 ],
                 [
                  0.5555555555555556,
                  "#d8576b"
                 ],
                 [
                  0.6666666666666666,
                  "#ed7953"
                 ],
                 [
                  0.7777777777777778,
                  "#fb9f3a"
                 ],
                 [
                  0.8888888888888888,
                  "#fdca26"
                 ],
                 [
                  1,
                  "#f0f921"
                 ]
                ],
                "type": "heatmapgl"
               }
              ],
              "histogram": [
               {
                "marker": {
                 "colorbar": {
                  "outlinewidth": 0,
                  "ticks": ""
                 }
                },
                "type": "histogram"
               }
              ],
              "histogram2d": [
               {
                "colorbar": {
                 "outlinewidth": 0,
                 "ticks": ""
                },
                "colorscale": [
                 [
                  0,
                  "#0d0887"
                 ],
                 [
                  0.1111111111111111,
                  "#46039f"
                 ],
                 [
                  0.2222222222222222,
                  "#7201a8"
                 ],
                 [
                  0.3333333333333333,
                  "#9c179e"
                 ],
                 [
                  0.4444444444444444,
                  "#bd3786"
                 ],
                 [
                  0.5555555555555556,
                  "#d8576b"
                 ],
                 [
                  0.6666666666666666,
                  "#ed7953"
                 ],
                 [
                  0.7777777777777778,
                  "#fb9f3a"
                 ],
                 [
                  0.8888888888888888,
                  "#fdca26"
                 ],
                 [
                  1,
                  "#f0f921"
                 ]
                ],
                "type": "histogram2d"
               }
              ],
              "histogram2dcontour": [
               {
                "colorbar": {
                 "outlinewidth": 0,
                 "ticks": ""
                },
                "colorscale": [
                 [
                  0,
                  "#0d0887"
                 ],
                 [
                  0.1111111111111111,
                  "#46039f"
                 ],
                 [
                  0.2222222222222222,
                  "#7201a8"
                 ],
                 [
                  0.3333333333333333,
                  "#9c179e"
                 ],
                 [
                  0.4444444444444444,
                  "#bd3786"
                 ],
                 [
                  0.5555555555555556,
                  "#d8576b"
                 ],
                 [
                  0.6666666666666666,
                  "#ed7953"
                 ],
                 [
                  0.7777777777777778,
                  "#fb9f3a"
                 ],
                 [
                  0.8888888888888888,
                  "#fdca26"
                 ],
                 [
                  1,
                  "#f0f921"
                 ]
                ],
                "type": "histogram2dcontour"
               }
              ],
              "mesh3d": [
               {
                "colorbar": {
                 "outlinewidth": 0,
                 "ticks": ""
                },
                "type": "mesh3d"
               }
              ],
              "parcoords": [
               {
                "line": {
                 "colorbar": {
                  "outlinewidth": 0,
                  "ticks": ""
                 }
                },
                "type": "parcoords"
               }
              ],
              "pie": [
               {
                "automargin": true,
                "type": "pie"
               }
              ],
              "scatter": [
               {
                "marker": {
                 "colorbar": {
                  "outlinewidth": 0,
                  "ticks": ""
                 }
                },
                "type": "scatter"
               }
              ],
              "scatter3d": [
               {
                "line": {
                 "colorbar": {
                  "outlinewidth": 0,
                  "ticks": ""
                 }
                },
                "marker": {
                 "colorbar": {
                  "outlinewidth": 0,
                  "ticks": ""
                 }
                },
                "type": "scatter3d"
               }
              ],
              "scattercarpet": [
               {
                "marker": {
                 "colorbar": {
                  "outlinewidth": 0,
                  "ticks": ""
                 }
                },
                "type": "scattercarpet"
               }
              ],
              "scattergeo": [
               {
                "marker": {
                 "colorbar": {
                  "outlinewidth": 0,
                  "ticks": ""
                 }
                },
                "type": "scattergeo"
               }
              ],
              "scattergl": [
               {
                "marker": {
                 "colorbar": {
                  "outlinewidth": 0,
                  "ticks": ""
                 }
                },
                "type": "scattergl"
               }
              ],
              "scattermapbox": [
               {
                "marker": {
                 "colorbar": {
                  "outlinewidth": 0,
                  "ticks": ""
                 }
                },
                "type": "scattermapbox"
               }
              ],
              "scatterpolar": [
               {
                "marker": {
                 "colorbar": {
                  "outlinewidth": 0,
                  "ticks": ""
                 }
                },
                "type": "scatterpolar"
               }
              ],
              "scatterpolargl": [
               {
                "marker": {
                 "colorbar": {
                  "outlinewidth": 0,
                  "ticks": ""
                 }
                },
                "type": "scatterpolargl"
               }
              ],
              "scatterternary": [
               {
                "marker": {
                 "colorbar": {
                  "outlinewidth": 0,
                  "ticks": ""
                 }
                },
                "type": "scatterternary"
               }
              ],
              "surface": [
               {
                "colorbar": {
                 "outlinewidth": 0,
                 "ticks": ""
                },
                "colorscale": [
                 [
                  0,
                  "#0d0887"
                 ],
                 [
                  0.1111111111111111,
                  "#46039f"
                 ],
                 [
                  0.2222222222222222,
                  "#7201a8"
                 ],
                 [
                  0.3333333333333333,
                  "#9c179e"
                 ],
                 [
                  0.4444444444444444,
                  "#bd3786"
                 ],
                 [
                  0.5555555555555556,
                  "#d8576b"
                 ],
                 [
                  0.6666666666666666,
                  "#ed7953"
                 ],
                 [
                  0.7777777777777778,
                  "#fb9f3a"
                 ],
                 [
                  0.8888888888888888,
                  "#fdca26"
                 ],
                 [
                  1,
                  "#f0f921"
                 ]
                ],
                "type": "surface"
               }
              ],
              "table": [
               {
                "cells": {
                 "fill": {
                  "color": "#EBF0F8"
                 },
                 "line": {
                  "color": "white"
                 }
                },
                "header": {
                 "fill": {
                  "color": "#C8D4E3"
                 },
                 "line": {
                  "color": "white"
                 }
                },
                "type": "table"
               }
              ]
             },
             "layout": {
              "annotationdefaults": {
               "arrowcolor": "#2a3f5f",
               "arrowhead": 0,
               "arrowwidth": 1
              },
              "coloraxis": {
               "colorbar": {
                "outlinewidth": 0,
                "ticks": ""
               }
              },
              "colorscale": {
               "diverging": [
                [
                 0,
                 "#8e0152"
                ],
                [
                 0.1,
                 "#c51b7d"
                ],
                [
                 0.2,
                 "#de77ae"
                ],
                [
                 0.3,
                 "#f1b6da"
                ],
                [
                 0.4,
                 "#fde0ef"
                ],
                [
                 0.5,
                 "#f7f7f7"
                ],
                [
                 0.6,
                 "#e6f5d0"
                ],
                [
                 0.7,
                 "#b8e186"
                ],
                [
                 0.8,
                 "#7fbc41"
                ],
                [
                 0.9,
                 "#4d9221"
                ],
                [
                 1,
                 "#276419"
                ]
               ],
               "sequential": [
                [
                 0,
                 "#0d0887"
                ],
                [
                 0.1111111111111111,
                 "#46039f"
                ],
                [
                 0.2222222222222222,
                 "#7201a8"
                ],
                [
                 0.3333333333333333,
                 "#9c179e"
                ],
                [
                 0.4444444444444444,
                 "#bd3786"
                ],
                [
                 0.5555555555555556,
                 "#d8576b"
                ],
                [
                 0.6666666666666666,
                 "#ed7953"
                ],
                [
                 0.7777777777777778,
                 "#fb9f3a"
                ],
                [
                 0.8888888888888888,
                 "#fdca26"
                ],
                [
                 1,
                 "#f0f921"
                ]
               ],
               "sequentialminus": [
                [
                 0,
                 "#0d0887"
                ],
                [
                 0.1111111111111111,
                 "#46039f"
                ],
                [
                 0.2222222222222222,
                 "#7201a8"
                ],
                [
                 0.3333333333333333,
                 "#9c179e"
                ],
                [
                 0.4444444444444444,
                 "#bd3786"
                ],
                [
                 0.5555555555555556,
                 "#d8576b"
                ],
                [
                 0.6666666666666666,
                 "#ed7953"
                ],
                [
                 0.7777777777777778,
                 "#fb9f3a"
                ],
                [
                 0.8888888888888888,
                 "#fdca26"
                ],
                [
                 1,
                 "#f0f921"
                ]
               ]
              },
              "colorway": [
               "#636efa",
               "#EF553B",
               "#00cc96",
               "#ab63fa",
               "#FFA15A",
               "#19d3f3",
               "#FF6692",
               "#B6E880",
               "#FF97FF",
               "#FECB52"
              ],
              "font": {
               "color": "#2a3f5f"
              },
              "geo": {
               "bgcolor": "white",
               "lakecolor": "white",
               "landcolor": "#E5ECF6",
               "showlakes": true,
               "showland": true,
               "subunitcolor": "white"
              },
              "hoverlabel": {
               "align": "left"
              },
              "hovermode": "closest",
              "mapbox": {
               "style": "light"
              },
              "paper_bgcolor": "white",
              "plot_bgcolor": "#E5ECF6",
              "polar": {
               "angularaxis": {
                "gridcolor": "white",
                "linecolor": "white",
                "ticks": ""
               },
               "bgcolor": "#E5ECF6",
               "radialaxis": {
                "gridcolor": "white",
                "linecolor": "white",
                "ticks": ""
               }
              },
              "scene": {
               "xaxis": {
                "backgroundcolor": "#E5ECF6",
                "gridcolor": "white",
                "gridwidth": 2,
                "linecolor": "white",
                "showbackground": true,
                "ticks": "",
                "zerolinecolor": "white"
               },
               "yaxis": {
                "backgroundcolor": "#E5ECF6",
                "gridcolor": "white",
                "gridwidth": 2,
                "linecolor": "white",
                "showbackground": true,
                "ticks": "",
                "zerolinecolor": "white"
               },
               "zaxis": {
                "backgroundcolor": "#E5ECF6",
                "gridcolor": "white",
                "gridwidth": 2,
                "linecolor": "white",
                "showbackground": true,
                "ticks": "",
                "zerolinecolor": "white"
               }
              },
              "shapedefaults": {
               "line": {
                "color": "#2a3f5f"
               }
              },
              "ternary": {
               "aaxis": {
                "gridcolor": "white",
                "linecolor": "white",
                "ticks": ""
               },
               "baxis": {
                "gridcolor": "white",
                "linecolor": "white",
                "ticks": ""
               },
               "bgcolor": "#E5ECF6",
               "caxis": {
                "gridcolor": "white",
                "linecolor": "white",
                "ticks": ""
               }
              },
              "title": {
               "x": 0.05
              },
              "xaxis": {
               "automargin": true,
               "gridcolor": "white",
               "linecolor": "white",
               "ticks": "",
               "title": {
                "standoff": 15
               },
               "zerolinecolor": "white",
               "zerolinewidth": 2
              },
              "yaxis": {
               "automargin": true,
               "gridcolor": "white",
               "linecolor": "white",
               "ticks": "",
               "title": {
                "standoff": 15
               },
               "zerolinecolor": "white",
               "zerolinewidth": 2
              }
             }
            },
            "title": {
             "text": "Deal Value ($mm) by Type in: Real Estate"
            },
            "xaxis": {
             "anchor": "y",
             "categoryarray": [
              "Equity Follow-On Offering",
              "Preferred Securities",
              "Initial Public Offering",
              "Bank Notes",
              "Sr Notes",
              "Notes",
              "Bonds"
             ],
             "categoryorder": "array",
             "domain": [
              0,
              1
             ],
             "title": {
              "text": "TYPE"
             }
            },
            "yaxis": {
             "anchor": "x",
             "domain": [
              0,
              1
             ],
             "title": {
              "text": "SIZE"
             }
            }
           }
          },
          "text/html": "<div>                            <div id=\"4c5b9832-297b-4ff9-801e-d1f4ae201f37\" class=\"plotly-graph-div\" style=\"height:525px; width:100%;\"></div>            <script type=\"text/javascript\">                require([\"plotly\"], function(Plotly) {                    window.PLOTLYENV=window.PLOTLYENV || {};                                    if (document.getElementById(\"4c5b9832-297b-4ff9-801e-d1f4ae201f37\")) {                    Plotly.newPlot(                        \"4c5b9832-297b-4ff9-801e-d1f4ae201f37\",                        [{\"alignmentgroup\": \"True\", \"hovertemplate\": \"TYPE=%{x}<br>SIZE=%{y}<extra></extra>\", \"legendgroup\": \"Equity Follow-On Offering\", \"marker\": {\"color\": \"#636efa\"}, \"name\": \"Equity Follow-On Offering\", \"offsetgroup\": \"Equity Follow-On Offering\", \"orientation\": \"v\", \"showlegend\": true, \"textposition\": \"auto\", \"type\": \"bar\", \"x\": [\"Equity Follow-On Offering\", \"Equity Follow-On Offering\", \"Equity Follow-On Offering\", \"Equity Follow-On Offering\", \"Equity Follow-On Offering\", \"Equity Follow-On Offering\", \"Equity Follow-On Offering\", \"Equity Follow-On Offering\", \"Equity Follow-On Offering\", \"Equity Follow-On Offering\", \"Equity Follow-On Offering\", \"Equity Follow-On Offering\", \"Equity Follow-On Offering\", \"Equity Follow-On Offering\", \"Equity Follow-On Offering\", \"Equity Follow-On Offering\", \"Equity Follow-On Offering\", \"Equity Follow-On Offering\", \"Equity Follow-On Offering\"], \"xaxis\": \"x\", \"y\": [127.2, 550.47, 61.88, 104.81, 205.8, 84.8, 100.73, 55.88, 111.6, 73.5, 177.13, 292.5, 450.0, 57.2, 371.6, 106.33, 81.9, 50.35, 117.0], \"yaxis\": \"y\"}, {\"alignmentgroup\": \"True\", \"hovertemplate\": \"TYPE=%{x}<br>SIZE=%{y}<extra></extra>\", \"legendgroup\": \"Preferred Securities\", \"marker\": {\"color\": \"#EF553B\"}, \"name\": \"Preferred Securities\", \"offsetgroup\": \"Preferred Securities\", \"orientation\": \"v\", \"showlegend\": true, \"textposition\": \"auto\", \"type\": \"bar\", \"x\": [\"Preferred Securities\", \"Preferred Securities\", \"Preferred Securities\", \"Preferred Securities\"], \"xaxis\": \"x\", \"y\": [1500.14, 87.0, 52.18, 75.2], \"yaxis\": \"y\"}, {\"alignmentgroup\": \"True\", \"hovertemplate\": \"TYPE=%{x}<br>SIZE=%{y}<extra></extra>\", \"legendgroup\": \"Initial Public Offering\", \"marker\": {\"color\": \"#00cc96\"}, \"name\": \"Initial Public Offering\", \"offsetgroup\": \"Initial Public Offering\", \"orientation\": \"v\", \"showlegend\": true, \"textposition\": \"auto\", \"type\": \"bar\", \"x\": [\"Initial Public Offering\", \"Initial Public Offering\"], \"xaxis\": \"x\", \"y\": [510.0, 450.2], \"yaxis\": \"y\"}, {\"alignmentgroup\": \"True\", \"hovertemplate\": \"TYPE=%{x}<br>SIZE=%{y}<extra></extra>\", \"legendgroup\": \"Bank Notes\", \"marker\": {\"color\": \"#ab63fa\"}, \"name\": \"Bank Notes\", \"offsetgroup\": \"Bank Notes\", \"orientation\": \"v\", \"showlegend\": true, \"textposition\": \"auto\", \"type\": \"bar\", \"x\": [\"Bank Notes\"], \"xaxis\": \"x\", \"y\": [100.177], \"yaxis\": \"y\"}, {\"alignmentgroup\": \"True\", \"hovertemplate\": \"TYPE=%{x}<br>SIZE=%{y}<extra></extra>\", \"legendgroup\": \"Sr Notes\", \"marker\": {\"color\": \"#FFA15A\"}, \"name\": \"Sr Notes\", \"offsetgroup\": \"Sr Notes\", \"orientation\": \"v\", \"showlegend\": true, \"textposition\": \"auto\", \"type\": \"bar\", \"x\": [\"Sr Notes\", \"Sr Notes\"], \"xaxis\": \"x\", \"y\": [200.32, 150.0], \"yaxis\": \"y\"}, {\"alignmentgroup\": \"True\", \"hovertemplate\": \"TYPE=%{x}<br>SIZE=%{y}<extra></extra>\", \"legendgroup\": \"Notes\", \"marker\": {\"color\": \"#19d3f3\"}, \"name\": \"Notes\", \"offsetgroup\": \"Notes\", \"orientation\": \"v\", \"showlegend\": true, \"textposition\": \"auto\", \"type\": \"bar\", \"x\": [\"Notes\", \"Notes\"], \"xaxis\": \"x\", \"y\": [350.11, 55.0], \"yaxis\": \"y\"}, {\"alignmentgroup\": \"True\", \"hovertemplate\": \"TYPE=%{x}<br>SIZE=%{y}<extra></extra>\", \"legendgroup\": \"Bonds\", \"marker\": {\"color\": \"#FF6692\"}, \"name\": \"Bonds\", \"offsetgroup\": \"Bonds\", \"orientation\": \"v\", \"showlegend\": true, \"textposition\": \"auto\", \"type\": \"bar\", \"x\": [\"Bonds\"], \"xaxis\": \"x\", \"y\": [100.101], \"yaxis\": \"y\"}],                        {\"barmode\": \"relative\", \"legend\": {\"title\": {\"text\": \"TYPE\"}, \"tracegroupgap\": 0}, \"template\": {\"data\": {\"bar\": [{\"error_x\": {\"color\": \"#2a3f5f\"}, \"error_y\": {\"color\": \"#2a3f5f\"}, \"marker\": {\"line\": {\"color\": \"#E5ECF6\", \"width\": 0.5}}, \"type\": \"bar\"}], \"barpolar\": [{\"marker\": {\"line\": {\"color\": \"#E5ECF6\", \"width\": 0.5}}, \"type\": \"barpolar\"}], \"carpet\": [{\"aaxis\": {\"endlinecolor\": \"#2a3f5f\", \"gridcolor\": \"white\", \"linecolor\": \"white\", \"minorgridcolor\": \"white\", \"startlinecolor\": \"#2a3f5f\"}, \"baxis\": {\"endlinecolor\": \"#2a3f5f\", \"gridcolor\": \"white\", \"linecolor\": \"white\", \"minorgridcolor\": \"white\", \"startlinecolor\": \"#2a3f5f\"}, \"type\": \"carpet\"}], \"choropleth\": [{\"colorbar\": {\"outlinewidth\": 0, \"ticks\": \"\"}, \"type\": \"choropleth\"}], \"contour\": [{\"colorbar\": {\"outlinewidth\": 0, \"ticks\": \"\"}, \"colorscale\": [[0.0, \"#0d0887\"], [0.1111111111111111, \"#46039f\"], [0.2222222222222222, \"#7201a8\"], [0.3333333333333333, \"#9c179e\"], [0.4444444444444444, \"#bd3786\"], [0.5555555555555556, \"#d8576b\"], [0.6666666666666666, \"#ed7953\"], [0.7777777777777778, \"#fb9f3a\"], [0.8888888888888888, \"#fdca26\"], [1.0, \"#f0f921\"]], \"type\": \"contour\"}], \"contourcarpet\": [{\"colorbar\": {\"outlinewidth\": 0, \"ticks\": \"\"}, \"type\": \"contourcarpet\"}], \"heatmap\": [{\"colorbar\": {\"outlinewidth\": 0, \"ticks\": \"\"}, \"colorscale\": [[0.0, \"#0d0887\"], [0.1111111111111111, \"#46039f\"], [0.2222222222222222, \"#7201a8\"], [0.3333333333333333, \"#9c179e\"], [0.4444444444444444, \"#bd3786\"], [0.5555555555555556, \"#d8576b\"], [0.6666666666666666, \"#ed7953\"], [0.7777777777777778, \"#fb9f3a\"], [0.8888888888888888, \"#fdca26\"], [1.0, \"#f0f921\"]], \"type\": \"heatmap\"}], \"heatmapgl\": [{\"colorbar\": {\"outlinewidth\": 0, \"ticks\": \"\"}, \"colorscale\": [[0.0, \"#0d0887\"], [0.1111111111111111, \"#46039f\"], [0.2222222222222222, \"#7201a8\"], [0.3333333333333333, \"#9c179e\"], [0.4444444444444444, \"#bd3786\"], [0.5555555555555556, \"#d8576b\"], [0.6666666666666666, \"#ed7953\"], [0.7777777777777778, \"#fb9f3a\"], [0.8888888888888888, \"#fdca26\"], [1.0, \"#f0f921\"]], \"type\": \"heatmapgl\"}], \"histogram\": [{\"marker\": {\"colorbar\": {\"outlinewidth\": 0, \"ticks\": \"\"}}, \"type\": \"histogram\"}], \"histogram2d\": [{\"colorbar\": {\"outlinewidth\": 0, \"ticks\": \"\"}, \"colorscale\": [[0.0, \"#0d0887\"], [0.1111111111111111, \"#46039f\"], [0.2222222222222222, \"#7201a8\"], [0.3333333333333333, \"#9c179e\"], [0.4444444444444444, \"#bd3786\"], [0.5555555555555556, \"#d8576b\"], [0.6666666666666666, \"#ed7953\"], [0.7777777777777778, \"#fb9f3a\"], [0.8888888888888888, \"#fdca26\"], [1.0, \"#f0f921\"]], \"type\": \"histogram2d\"}], \"histogram2dcontour\": [{\"colorbar\": {\"outlinewidth\": 0, \"ticks\": \"\"}, \"colorscale\": [[0.0, \"#0d0887\"], [0.1111111111111111, \"#46039f\"], [0.2222222222222222, \"#7201a8\"], [0.3333333333333333, \"#9c179e\"], [0.4444444444444444, \"#bd3786\"], [0.5555555555555556, \"#d8576b\"], [0.6666666666666666, \"#ed7953\"], [0.7777777777777778, \"#fb9f3a\"], [0.8888888888888888, \"#fdca26\"], [1.0, \"#f0f921\"]], \"type\": \"histogram2dcontour\"}], \"mesh3d\": [{\"colorbar\": {\"outlinewidth\": 0, \"ticks\": \"\"}, \"type\": \"mesh3d\"}], \"parcoords\": [{\"line\": {\"colorbar\": {\"outlinewidth\": 0, \"ticks\": \"\"}}, \"type\": \"parcoords\"}], \"pie\": [{\"automargin\": true, \"type\": \"pie\"}], \"scatter\": [{\"marker\": {\"colorbar\": {\"outlinewidth\": 0, \"ticks\": \"\"}}, \"type\": \"scatter\"}], \"scatter3d\": [{\"line\": {\"colorbar\": {\"outlinewidth\": 0, \"ticks\": \"\"}}, \"marker\": {\"colorbar\": {\"outlinewidth\": 0, \"ticks\": \"\"}}, \"type\": \"scatter3d\"}], \"scattercarpet\": [{\"marker\": {\"colorbar\": {\"outlinewidth\": 0, \"ticks\": \"\"}}, \"type\": \"scattercarpet\"}], \"scattergeo\": [{\"marker\": {\"colorbar\": {\"outlinewidth\": 0, \"ticks\": \"\"}}, \"type\": \"scattergeo\"}], \"scattergl\": [{\"marker\": {\"colorbar\": {\"outlinewidth\": 0, \"ticks\": \"\"}}, \"type\": \"scattergl\"}], \"scattermapbox\": [{\"marker\": {\"colorbar\": {\"outlinewidth\": 0, \"ticks\": \"\"}}, \"type\": \"scattermapbox\"}], \"scatterpolar\": [{\"marker\": {\"colorbar\": {\"outlinewidth\": 0, \"ticks\": \"\"}}, \"type\": \"scatterpolar\"}], \"scatterpolargl\": [{\"marker\": {\"colorbar\": {\"outlinewidth\": 0, \"ticks\": \"\"}}, \"type\": \"scatterpolargl\"}], \"scatterternary\": [{\"marker\": {\"colorbar\": {\"outlinewidth\": 0, \"ticks\": \"\"}}, \"type\": \"scatterternary\"}], \"surface\": [{\"colorbar\": {\"outlinewidth\": 0, \"ticks\": \"\"}, \"colorscale\": [[0.0, \"#0d0887\"], [0.1111111111111111, \"#46039f\"], [0.2222222222222222, \"#7201a8\"], [0.3333333333333333, \"#9c179e\"], [0.4444444444444444, \"#bd3786\"], [0.5555555555555556, \"#d8576b\"], [0.6666666666666666, \"#ed7953\"], [0.7777777777777778, \"#fb9f3a\"], [0.8888888888888888, \"#fdca26\"], [1.0, \"#f0f921\"]], \"type\": \"surface\"}], \"table\": [{\"cells\": {\"fill\": {\"color\": \"#EBF0F8\"}, \"line\": {\"color\": \"white\"}}, \"header\": {\"fill\": {\"color\": \"#C8D4E3\"}, \"line\": {\"color\": \"white\"}}, \"type\": \"table\"}]}, \"layout\": {\"annotationdefaults\": {\"arrowcolor\": \"#2a3f5f\", \"arrowhead\": 0, \"arrowwidth\": 1}, \"coloraxis\": {\"colorbar\": {\"outlinewidth\": 0, \"ticks\": \"\"}}, \"colorscale\": {\"diverging\": [[0, \"#8e0152\"], [0.1, \"#c51b7d\"], [0.2, \"#de77ae\"], [0.3, \"#f1b6da\"], [0.4, \"#fde0ef\"], [0.5, \"#f7f7f7\"], [0.6, \"#e6f5d0\"], [0.7, \"#b8e186\"], [0.8, \"#7fbc41\"], [0.9, \"#4d9221\"], [1, \"#276419\"]], \"sequential\": [[0.0, \"#0d0887\"], [0.1111111111111111, \"#46039f\"], [0.2222222222222222, \"#7201a8\"], [0.3333333333333333, \"#9c179e\"], [0.4444444444444444, \"#bd3786\"], [0.5555555555555556, \"#d8576b\"], [0.6666666666666666, \"#ed7953\"], [0.7777777777777778, \"#fb9f3a\"], [0.8888888888888888, \"#fdca26\"], [1.0, \"#f0f921\"]], \"sequentialminus\": [[0.0, \"#0d0887\"], [0.1111111111111111, \"#46039f\"], [0.2222222222222222, \"#7201a8\"], [0.3333333333333333, \"#9c179e\"], [0.4444444444444444, \"#bd3786\"], [0.5555555555555556, \"#d8576b\"], [0.6666666666666666, \"#ed7953\"], [0.7777777777777778, \"#fb9f3a\"], [0.8888888888888888, \"#fdca26\"], [1.0, \"#f0f921\"]]}, \"colorway\": [\"#636efa\", \"#EF553B\", \"#00cc96\", \"#ab63fa\", \"#FFA15A\", \"#19d3f3\", \"#FF6692\", \"#B6E880\", \"#FF97FF\", \"#FECB52\"], \"font\": {\"color\": \"#2a3f5f\"}, \"geo\": {\"bgcolor\": \"white\", \"lakecolor\": \"white\", \"landcolor\": \"#E5ECF6\", \"showlakes\": true, \"showland\": true, \"subunitcolor\": \"white\"}, \"hoverlabel\": {\"align\": \"left\"}, \"hovermode\": \"closest\", \"mapbox\": {\"style\": \"light\"}, \"paper_bgcolor\": \"white\", \"plot_bgcolor\": \"#E5ECF6\", \"polar\": {\"angularaxis\": {\"gridcolor\": \"white\", \"linecolor\": \"white\", \"ticks\": \"\"}, \"bgcolor\": \"#E5ECF6\", \"radialaxis\": {\"gridcolor\": \"white\", \"linecolor\": \"white\", \"ticks\": \"\"}}, \"scene\": {\"xaxis\": {\"backgroundcolor\": \"#E5ECF6\", \"gridcolor\": \"white\", \"gridwidth\": 2, \"linecolor\": \"white\", \"showbackground\": true, \"ticks\": \"\", \"zerolinecolor\": \"white\"}, \"yaxis\": {\"backgroundcolor\": \"#E5ECF6\", \"gridcolor\": \"white\", \"gridwidth\": 2, \"linecolor\": \"white\", \"showbackground\": true, \"ticks\": \"\", \"zerolinecolor\": \"white\"}, \"zaxis\": {\"backgroundcolor\": \"#E5ECF6\", \"gridcolor\": \"white\", \"gridwidth\": 2, \"linecolor\": \"white\", \"showbackground\": true, \"ticks\": \"\", \"zerolinecolor\": \"white\"}}, \"shapedefaults\": {\"line\": {\"color\": \"#2a3f5f\"}}, \"ternary\": {\"aaxis\": {\"gridcolor\": \"white\", \"linecolor\": \"white\", \"ticks\": \"\"}, \"baxis\": {\"gridcolor\": \"white\", \"linecolor\": \"white\", \"ticks\": \"\"}, \"bgcolor\": \"#E5ECF6\", \"caxis\": {\"gridcolor\": \"white\", \"linecolor\": \"white\", \"ticks\": \"\"}}, \"title\": {\"x\": 0.05}, \"xaxis\": {\"automargin\": true, \"gridcolor\": \"white\", \"linecolor\": \"white\", \"ticks\": \"\", \"title\": {\"standoff\": 15}, \"zerolinecolor\": \"white\", \"zerolinewidth\": 2}, \"yaxis\": {\"automargin\": true, \"gridcolor\": \"white\", \"linecolor\": \"white\", \"ticks\": \"\", \"title\": {\"standoff\": 15}, \"zerolinecolor\": \"white\", \"zerolinewidth\": 2}}}, \"title\": {\"text\": \"Deal Value ($mm) by Type in: Real Estate\"}, \"xaxis\": {\"anchor\": \"y\", \"categoryarray\": [\"Equity Follow-On Offering\", \"Preferred Securities\", \"Initial Public Offering\", \"Bank Notes\", \"Sr Notes\", \"Notes\", \"Bonds\"], \"categoryorder\": \"array\", \"domain\": [0.0, 1.0], \"title\": {\"text\": \"TYPE\"}}, \"yaxis\": {\"anchor\": \"x\", \"domain\": [0.0, 1.0], \"title\": {\"text\": \"SIZE\"}}},                        {\"responsive\": true}                    ).then(function(){\n                            \nvar gd = document.getElementById('4c5b9832-297b-4ff9-801e-d1f4ae201f37');\nvar x = new MutationObserver(function (mutations, observer) {{\n        var display = window.getComputedStyle(gd).display;\n        if (!display || display === 'none') {{\n            console.log([gd, 'removed!']);\n            Plotly.purge(gd);\n            observer.disconnect();\n        }}\n}});\n\n// Listen for the removal of the full notebook cells\nvar notebookContainer = gd.closest('#notebook-container');\nif (notebookContainer) {{\n    x.observe(notebookContainer, {childList: true});\n}}\n\n// Listen for the clearing of the current output cell\nvar outputEl = gd.closest('.output');\nif (outputEl) {{\n    x.observe(outputEl, {childList: true});\n}}\n\n                        })                };                });            </script>        </div>"
         },
         "metadata": {},
         "output_type": "display_data"
        }
       ]
      }
     },
     "a8078fb313794e1ab4fb193ce86911ae": {
      "model_module": "@jupyter-widgets/controls",
      "model_module_version": "1.5.0",
      "model_name": "TextModel",
      "state": {
       "description": "pickTicker",
       "layout": "IPY_MODEL_f643e1e5f4644c5cb30e489b58d1ffa6",
       "style": "IPY_MODEL_c67377b47d674aae91980ae7a4352dc0",
       "value": "AAPL"
      }
     },
     "a86205c1bdbf4b0da0ba0eb16a19c98a": {
      "model_module": "@jupyter-widgets/base",
      "model_module_version": "1.2.0",
      "model_name": "LayoutModel",
      "state": {}
     },
     "a867c061b78b44d1bc5a2d1c86ecd124": {
      "model_module": "@jupyter-widgets/base",
      "model_module_version": "1.2.0",
      "model_name": "LayoutModel",
      "state": {}
     },
     "a87d83e9999e429390a4c63b7477fc52": {
      "model_module": "@jupyter-widgets/base",
      "model_module_version": "1.2.0",
      "model_name": "LayoutModel",
      "state": {}
     },
     "a925359500034fc0ae0940f19a8dc66d": {
      "model_module": "@jupyter-widgets/controls",
      "model_module_version": "1.5.0",
      "model_name": "SliderStyleModel",
      "state": {
       "description_width": ""
      }
     },
     "a96f8ab671e34ae4932ff43177744d57": {
      "model_module": "@jupyter-widgets/controls",
      "model_module_version": "1.5.0",
      "model_name": "DescriptionStyleModel",
      "state": {
       "description_width": ""
      }
     },
     "a9b23f9fc6b84584ac3038c5e908ab93": {
      "model_module": "@jupyter-widgets/controls",
      "model_module_version": "1.5.0",
      "model_name": "DescriptionStyleModel",
      "state": {
       "description_width": ""
      }
     },
     "ab89047117ed4bf7a9324ec5cd6c5650": {
      "model_module": "@jupyter-widgets/controls",
      "model_module_version": "1.5.0",
      "model_name": "TextModel",
      "state": {
       "description": "x",
       "layout": "IPY_MODEL_1fb1f641c1e74f2ba365d90b5252155e",
       "style": "IPY_MODEL_dd885f8fbaa849f7926d38916302bc03",
       "value": "SPX"
      }
     },
     "aba42ead99b843eda1ced52bf4bb2312": {
      "model_module": "@jupyter-widgets/controls",
      "model_module_version": "1.5.0",
      "model_name": "VBoxModel",
      "state": {
       "_dom_classes": [
        "widget-interact"
       ],
       "children": [
        "IPY_MODEL_7a28947f96c144e7bc3edd2d17bc413f",
        "IPY_MODEL_1167c3692d4844e89f1dcfe812aaad21"
       ],
       "layout": "IPY_MODEL_a87d83e9999e429390a4c63b7477fc52"
      }
     },
     "ae119f3f2df944cd8e567d2d3e53ecfb": {
      "model_module": "@jupyter-widgets/controls",
      "model_module_version": "1.5.0",
      "model_name": "CheckboxModel",
      "state": {
       "description": "Check me",
       "disabled": false,
       "indent": false,
       "layout": "IPY_MODEL_b894a524df2f4278aad70ee96e7a9c00",
       "style": "IPY_MODEL_8272a93622b54303ab490ea31fc90d91",
       "value": false
      }
     },
     "ae8568aec301479aaa59ae0bfea34f4b": {
      "model_module": "@jupyter-widgets/controls",
      "model_module_version": "1.5.0",
      "model_name": "SliderStyleModel",
      "state": {
       "description_width": ""
      }
     },
     "ae95c988efb44fedbd0391cd7e794110": {
      "model_module": "@jupyter-widgets/base",
      "model_module_version": "1.2.0",
      "model_name": "LayoutModel",
      "state": {}
     },
     "aed3815931e9403cbbd9833b67af9226": {
      "model_module": "@jupyter-widgets/controls",
      "model_module_version": "1.5.0",
      "model_name": "SelectModel",
      "state": {
       "_options_labels": [
        "UKX",
        "SPX",
        "NKY"
       ],
       "description": "pickIndex",
       "index": 1,
       "layout": "IPY_MODEL_4479cdae73e14a649c058dbcb837cab2",
       "style": "IPY_MODEL_12a725800d284e3ba94873159bfe084b"
      }
     },
     "aef70ea6255f4191a99f67a7fc19205e": {
      "model_module": "@jupyter-widgets/controls",
      "model_module_version": "1.5.0",
      "model_name": "VBoxModel",
      "state": {
       "_dom_classes": [
        "widget-interact"
       ],
       "layout": "IPY_MODEL_e7582247542b46dc804d06750057eaf2"
      }
     },
     "af1e9d4018fc4fbfb653731c3b57ea56": {
      "model_module": "@jupyter-widgets/output",
      "model_module_version": "1.0.0",
      "model_name": "OutputModel",
      "state": {
       "layout": "IPY_MODEL_3f56728c07504212bf751db14f927679",
       "outputs": [
        {
         "data": {
          "text/plain": "('Hi', 5000)"
         },
         "metadata": {},
         "output_type": "display_data"
        }
       ]
      }
     },
     "af7bd678c838452d88fce0c1e26e0b22": {
      "model_module": "@jupyter-widgets/controls",
      "model_module_version": "1.5.0",
      "model_name": "DatePickerModel",
      "state": {
       "description": "Pick a Date",
       "disabled": false,
       "layout": "IPY_MODEL_3e18095240894a5d9a2ff8f778d3f176",
       "style": "IPY_MODEL_8d8913e3ac8c4753bc2a0d38a732beb6"
      }
     },
     "b01c768fb0b946678f15974bcf7d7959": {
      "model_module": "@jupyter-widgets/base",
      "model_module_version": "1.2.0",
      "model_name": "LayoutModel",
      "state": {}
     },
     "b07118053d0e4f5fa91e2db3f63fce0e": {
      "model_module": "@jupyter-widgets/controls",
      "model_module_version": "1.5.0",
      "model_name": "VBoxModel",
      "state": {
       "_dom_classes": [
        "widget-interact"
       ],
       "children": [
        "IPY_MODEL_22dbcf93765d4fcd86cbddf2c01c9eee",
        "IPY_MODEL_80971e1fbd824b48a5dae389559569a3"
       ],
       "layout": "IPY_MODEL_977ceac6d278453c85e8a736bf65e7b6"
      }
     },
     "b28524e2c9cb4100872413b13d1fdc25": {
      "model_module": "@jupyter-widgets/base",
      "model_module_version": "1.2.0",
      "model_name": "LayoutModel",
      "state": {}
     },
     "b33262dd3e6d400f884439bcd6166e1d": {
      "model_module": "@jupyter-widgets/base",
      "model_module_version": "1.2.0",
      "model_name": "LayoutModel",
      "state": {}
     },
     "b3ada228e9784ee9b86a9a296001f3f1": {
      "model_module": "@jupyter-widgets/controls",
      "model_module_version": "1.5.0",
      "model_name": "TextModel",
      "state": {
       "description": "pickTicker",
       "layout": "IPY_MODEL_4fda17af5a474d57bb94fa92a1420bae",
       "style": "IPY_MODEL_6f89c904ce704cf79828123087506a0a",
       "value": "AAPL"
      }
     },
     "b4af7be37f274ec8bd4bed5d8bf67ea7": {
      "model_module": "@jupyter-widgets/base",
      "model_module_version": "1.2.0",
      "model_name": "LayoutModel",
      "state": {}
     },
     "b4ff1b7f55b54b2c8bf5fc8edebf2852": {
      "model_module": "@jupyter-widgets/base",
      "model_module_version": "1.2.0",
      "model_name": "LayoutModel",
      "state": {}
     },
     "b550c90973de4bd585fcd38fda991a7d": {
      "model_module": "@jupyter-widgets/controls",
      "model_module_version": "1.5.0",
      "model_name": "CheckboxModel",
      "state": {
       "description": "Ignore Dropdowns",
       "disabled": false,
       "indent": false,
       "layout": "IPY_MODEL_dba8042ee307442194ba25f674542289",
       "style": "IPY_MODEL_5521820ab6ca4a93b6841719dd1ff30b",
       "value": false
      }
     },
     "b584bde4d7314f8ab7fe783802ee05ff": {
      "model_module": "@jupyter-widgets/controls",
      "model_module_version": "1.5.0",
      "model_name": "DescriptionStyleModel",
      "state": {
       "description_width": ""
      }
     },
     "b6000fc40311450da1f3c4f4e8315514": {
      "model_module": "@jupyter-widgets/controls",
      "model_module_version": "1.5.0",
      "model_name": "VBoxModel",
      "state": {
       "_dom_classes": [
        "widget-interact"
       ],
       "children": [
        "IPY_MODEL_435b2c06e5734ed6af112d8d2ba6666e",
        "IPY_MODEL_1b756a3604b14e05984d893207d766c3"
       ],
       "layout": "IPY_MODEL_f3495db0b9ca4ef189532299f9d12c72"
      }
     },
     "b63f5ed9cde04b549f199f9a619569ff": {
      "model_module": "@jupyter-widgets/base",
      "model_module_version": "1.2.0",
      "model_name": "LayoutModel",
      "state": {}
     },
     "b6919ee2d1a34de1b161492b5232acb5": {
      "model_module": "@jupyter-widgets/controls",
      "model_module_version": "1.5.0",
      "model_name": "VBoxModel",
      "state": {
       "_dom_classes": [
        "widget-interact"
       ],
       "children": [
        "IPY_MODEL_82e4e2cbeeb841b4a9a55a182c0eab4e",
        "IPY_MODEL_55036014b1ee4ee1bf3e4d84fc5dd61c",
        "IPY_MODEL_af1e9d4018fc4fbfb653731c3b57ea56"
       ],
       "layout": "IPY_MODEL_4e0bcacadac846c7b92be317d062869b"
      }
     },
     "b780bc44475245a18494e054fd524d4c": {
      "model_module": "@jupyter-widgets/base",
      "model_module_version": "1.2.0",
      "model_name": "LayoutModel",
      "state": {}
     },
     "b894a524df2f4278aad70ee96e7a9c00": {
      "model_module": "@jupyter-widgets/base",
      "model_module_version": "1.2.0",
      "model_name": "LayoutModel",
      "state": {}
     },
     "b92c0e86bd354616a524acca366afccd": {
      "model_module": "@jupyter-widgets/controls",
      "model_module_version": "1.5.0",
      "model_name": "TextModel",
      "state": {
       "description": "pickTicker",
       "layout": "IPY_MODEL_91af40fb1b064fd2b1175c07d1166cbb",
       "style": "IPY_MODEL_3ac153a0158d4be1951b8a06b41340d5",
       "value": "AAPL"
      }
     },
     "b982ee2bfa2d4a2b94ee23c91442192f": {
      "model_module": "@jupyter-widgets/controls",
      "model_module_version": "1.5.0",
      "model_name": "IntSliderModel",
      "state": {
       "layout": "IPY_MODEL_a2d5c3f559c940f59fcef9fbff21c704",
       "style": "IPY_MODEL_26b8588985804e7e8da1d9af3f57c009",
       "value": 95
      }
     },
     "b990470463ee4a9da3e9f63691d29c46": {
      "model_module": "@jupyter-widgets/controls",
      "model_module_version": "1.5.0",
      "model_name": "CheckboxModel",
      "state": {
       "description": "Show Pivot Table",
       "disabled": false,
       "layout": "IPY_MODEL_030ba016a55f478190666c8f0a66aeaf",
       "style": "IPY_MODEL_883608fd084e4f5f84a490f434649fac",
       "value": false
      }
     },
     "ba61d95e8bf94f28838ae4ecaeed48fa": {
      "model_module": "@jupyter-widgets/output",
      "model_module_version": "1.0.0",
      "model_name": "OutputModel",
      "state": {
       "layout": "IPY_MODEL_b63f5ed9cde04b549f199f9a619569ff",
       "outputs": [
        {
         "name": "stdout",
         "output_type": "stream",
         "text": "None\n"
        }
       ]
      }
     },
     "bb1f2b5ea7424a87bfeb6557bb681bb0": {
      "model_module": "@jupyter-widgets/controls",
      "model_module_version": "1.5.0",
      "model_name": "IntSliderModel",
      "state": {
       "layout": "IPY_MODEL_3899a38fcf734b219f96b9c72d5fa671",
       "style": "IPY_MODEL_d260282f3c8e4335b639585e3fb49360",
       "value": 51
      }
     },
     "bb86bbd16007409ca9c6e20d44c672ee": {
      "model_module": "@jupyter-widgets/controls",
      "model_module_version": "1.5.0",
      "model_name": "DropdownModel",
      "state": {
       "_options_labels": [
        "Global Notes",
        "Initial Public Offering",
        "CD Notes",
        "Equity Follow-On Offering",
        "Bank Notes",
        "Sr Notes",
        "Bonds",
        "Notes",
        "Preferred Securities",
        "Mortgage Bonds"
       ],
       "description": "Type of Deal:",
       "index": 0,
       "layout": "IPY_MODEL_e7177b1e3023488eb1b2317890505ac2",
       "style": "IPY_MODEL_c63db6f4d41848da8b466cdd495c3c1e"
      }
     },
     "bc7e704c201b4931abed348124947b83": {
      "model_module": "@jupyter-widgets/controls",
      "model_module_version": "1.5.0",
      "model_name": "CheckboxModel",
      "state": {
       "description": "Ignore Dropdowns",
       "disabled": false,
       "layout": "IPY_MODEL_0174567e10254c1b81348f03747024c3",
       "style": "IPY_MODEL_1af8e45000a2423285842ba60413a53b",
       "value": false
      }
     },
     "bcff882018834786be629d0b9ae2bac0": {
      "model_module": "@jupyter-widgets/output",
      "model_module_version": "1.0.0",
      "model_name": "OutputModel",
      "state": {
       "layout": "IPY_MODEL_86939199e9d84d46933567d2ecd151e4",
       "outputs": [
        {
         "name": "stdout",
         "output_type": "stream",
         "text": "SPX\n"
        }
       ]
      }
     },
     "bd2d34a414cb4b5a9b3f9b879cdfc3d6": {
      "model_module": "@jupyter-widgets/controls",
      "model_module_version": "1.5.0",
      "model_name": "SliderStyleModel",
      "state": {
       "description_width": ""
      }
     },
     "bd8de63a7dbf4964b2463109ef01a428": {
      "model_module": "@jupyter-widgets/controls",
      "model_module_version": "1.5.0",
      "model_name": "VBoxModel",
      "state": {
       "_dom_classes": [
        "widget-interact"
       ],
       "children": [
        "IPY_MODEL_faf5818a8b3b4fd88b1f682865d1d286",
        "IPY_MODEL_a776b0ee83b84dec872d5020070c2651"
       ],
       "layout": "IPY_MODEL_03207424490a4d27bcb1c6582f9005e7"
      }
     },
     "bdab35ca50494fb3a7bf4b24aee4b31c": {
      "model_module": "@jupyter-widgets/controls",
      "model_module_version": "1.5.0",
      "model_name": "CheckboxModel",
      "state": {
       "description": "show",
       "disabled": false,
       "layout": "IPY_MODEL_2eb3bb371212480baff8de257fa0c9cb",
       "style": "IPY_MODEL_be16bd044b7c4e4cb749f9cf5e64a132",
       "value": true
      }
     },
     "be16bd044b7c4e4cb749f9cf5e64a132": {
      "model_module": "@jupyter-widgets/controls",
      "model_module_version": "1.5.0",
      "model_name": "DescriptionStyleModel",
      "state": {
       "description_width": ""
      }
     },
     "bec31b700bfa40798575f691446c6b4e": {
      "model_module": "@jupyter-widgets/controls",
      "model_module_version": "1.5.0",
      "model_name": "SliderStyleModel",
      "state": {
       "description_width": ""
      }
     },
     "bf2ea65498fb471384d2e213b876db4b": {
      "model_module": "@jupyter-widgets/output",
      "model_module_version": "1.0.0",
      "model_name": "OutputModel",
      "state": {
       "layout": "IPY_MODEL_71792810bf4d4c6a984803d2f8f0d97e",
       "outputs": [
        {
         "data": {
          "text/html": "<div>\n<style scoped>\n    .dataframe tbody tr th:only-of-type {\n        vertical-align: middle;\n    }\n\n    .dataframe tbody tr th {\n        vertical-align: top;\n    }\n\n    .dataframe thead th {\n        text-align: right;\n    }\n</style>\n<table border=\"1\" class=\"dataframe\">\n  <thead>\n    <tr style=\"text-align: right;\">\n      <th></th>\n      <th>DATE</th>\n      <th>ISSUER</th>\n      <th>TYPE</th>\n      <th>SIZE</th>\n      <th>INDUSTRY</th>\n      <th>LEAD UNDERWRITER</th>\n    </tr>\n  </thead>\n  <tbody>\n    <tr>\n      <th>512</th>\n      <td>2006-06-06</td>\n      <td>Kroger Company, The</td>\n      <td>Sr Notes</td>\n      <td>350.12</td>\n      <td>Retail</td>\n      <td>Goldman Sachs</td>\n    </tr>\n    <tr>\n      <th>532</th>\n      <td>2006-06-13</td>\n      <td>Fleming Companies, Inc.</td>\n      <td>Sr Notes</td>\n      <td>200.12</td>\n      <td>Retail</td>\n      <td>Deutsche Bank</td>\n    </tr>\n  </tbody>\n</table>\n</div>",
          "text/plain": "          DATE                    ISSUER      TYPE    SIZE INDUSTRY  \\\n512 2006-06-06      Kroger Company, The   Sr Notes  350.12   Retail   \n532 2006-06-13  Fleming Companies, Inc.   Sr Notes  200.12   Retail   \n\n    LEAD UNDERWRITER  \n512    Goldman Sachs  \n532    Deutsche Bank  "
         },
         "metadata": {},
         "output_type": "display_data"
        }
       ]
      }
     },
     "bf35e734cc5043fd98a90fbf55be546b": {
      "model_module": "@jupyter-widgets/base",
      "model_module_version": "1.2.0",
      "model_name": "LayoutModel",
      "state": {}
     },
     "c003fd102f614af5a86d2ac49d1b81dc": {
      "model_module": "@jupyter-widgets/controls",
      "model_module_version": "1.5.0",
      "model_name": "DropdownModel",
      "state": {
       "_options_labels": [
        "UKX",
        "SPX",
        "NKY"
       ],
       "description": "pickIndex",
       "index": 0,
       "layout": "IPY_MODEL_cb30b7c097194a1ab8f4b6437cf9ae52",
       "style": "IPY_MODEL_34e45cfa40194257a4c0e25dc1d36e71"
      }
     },
     "c0ed2d135363457eaa8bdff25d721431": {
      "model_module": "@jupyter-widgets/base",
      "model_module_version": "1.2.0",
      "model_name": "LayoutModel",
      "state": {}
     },
     "c4eda6364d044518a1d4cb6effe03c58": {
      "model_module": "@jupyter-widgets/controls",
      "model_module_version": "1.5.0",
      "model_name": "VBoxModel",
      "state": {
       "_dom_classes": [
        "widget-interact"
       ],
       "children": [
        "IPY_MODEL_491ff2d222964754af7c46d9cc67dbcf",
        "IPY_MODEL_dc957bdb5ef34b1295b860665a76aab2"
       ],
       "layout": "IPY_MODEL_61d72659ecc34d84bd474826cc1a768b"
      }
     },
     "c5ba82ea965e4583aefe602230cd3969": {
      "model_module": "@jupyter-widgets/base",
      "model_module_version": "1.2.0",
      "model_name": "LayoutModel",
      "state": {}
     },
     "c5f7c56a7e5645b1a945167330ee844f": {
      "model_module": "@jupyter-widgets/base",
      "model_module_version": "1.2.0",
      "model_name": "LayoutModel",
      "state": {}
     },
     "c63db6f4d41848da8b466cdd495c3c1e": {
      "model_module": "@jupyter-widgets/controls",
      "model_module_version": "1.5.0",
      "model_name": "DescriptionStyleModel",
      "state": {
       "description_width": ""
      }
     },
     "c65513aafcc04298a784206fdc38d521": {
      "model_module": "@jupyter-widgets/controls",
      "model_module_version": "1.5.0",
      "model_name": "DescriptionStyleModel",
      "state": {
       "description_width": ""
      }
     },
     "c67377b47d674aae91980ae7a4352dc0": {
      "model_module": "@jupyter-widgets/controls",
      "model_module_version": "1.5.0",
      "model_name": "DescriptionStyleModel",
      "state": {
       "description_width": ""
      }
     },
     "c678a37e79e148b2baae86682f17d2c6": {
      "model_module": "@jupyter-widgets/base",
      "model_module_version": "1.2.0",
      "model_name": "LayoutModel",
      "state": {}
     },
     "c697530541194b06b0e046a3cf5f3faf": {
      "model_module": "@jupyter-widgets/base",
      "model_module_version": "1.2.0",
      "model_name": "LayoutModel",
      "state": {}
     },
     "c71a317011bf49cdb022fab58109795f": {
      "model_module": "@jupyter-widgets/controls",
      "model_module_version": "1.5.0",
      "model_name": "DropdownModel",
      "state": {
       "_options_labels": [
        "Finance",
        "Real Estate",
        "Computers & Electronics",
        "Utility",
        "Healthcare",
        "Paper & Packaging",
        "Retail",
        "Defense Contractors",
        "Leisure & Recreation",
        "Machinery",
        "Metal & Steel",
        "Food & Beverage",
        "Telecommunications",
        "Oil & Gas",
        "Consumer Products",
        "Insurance",
        "Chemicals",
        "Transportation",
        "Professional Services",
        "Construction/Bldg Prods",
        "Electric Services ",
        "Auto/Truck",
        "Textile",
        "Broadcasting",
        "Foreign Agency"
       ],
       "description": "Industry:",
       "index": 13,
       "layout": "IPY_MODEL_d08fa92e05784e4689820e1bec6a1d0b",
       "style": "IPY_MODEL_e2ccea4719b247a3be1cc2d95182fcba"
      }
     },
     "c8127ca3935b45e48ef36d6b8bb11d4d": {
      "model_module": "@jupyter-widgets/base",
      "model_module_version": "1.2.0",
      "model_name": "LayoutModel",
      "state": {}
     },
     "c9dea0b08e19451db88cec6c8a25e402": {
      "model_module": "@jupyter-widgets/base",
      "model_module_version": "1.2.0",
      "model_name": "LayoutModel",
      "state": {}
     },
     "ca64e7f733394fd981b218d8a510e016": {
      "model_module": "@jupyter-widgets/base",
      "model_module_version": "1.2.0",
      "model_name": "LayoutModel",
      "state": {}
     },
     "ca8b30b36935400bbe63f0870298a81b": {
      "model_module": "@jupyter-widgets/controls",
      "model_module_version": "1.5.0",
      "model_name": "VBoxModel",
      "state": {
       "_dom_classes": [
        "widget-interact"
       ],
       "children": [
        "IPY_MODEL_58c409b37d7e4e0d8adebe6c19b3eb72",
        "IPY_MODEL_edb95691c07c4338ac975d15dfa5972f"
       ],
       "layout": "IPY_MODEL_904f26781bb84ce2809cd6e6948c9af4"
      }
     },
     "cb30b7c097194a1ab8f4b6437cf9ae52": {
      "model_module": "@jupyter-widgets/base",
      "model_module_version": "1.2.0",
      "model_name": "LayoutModel",
      "state": {}
     },
     "cc5924031e04403d96031bdc8e96d058": {
      "model_module": "@jupyter-widgets/base",
      "model_module_version": "1.2.0",
      "model_name": "LayoutModel",
      "state": {}
     },
     "cd3f2859b85540f68134c0abd699e620": {
      "model_module": "@jupyter-widgets/base",
      "model_module_version": "1.2.0",
      "model_name": "LayoutModel",
      "state": {}
     },
     "cdfe76280341439d96b1b0735204f51d": {
      "model_module": "@jupyter-widgets/base",
      "model_module_version": "1.2.0",
      "model_name": "LayoutModel",
      "state": {}
     },
     "ce9e4ef984884300a910082097cdd3da": {
      "model_module": "@jupyter-widgets/controls",
      "model_module_version": "1.5.0",
      "model_name": "DescriptionStyleModel",
      "state": {
       "description_width": ""
      }
     },
     "cede0f635bbf41939c2c50950b8bea88": {
      "model_module": "@jupyter-widgets/base",
      "model_module_version": "1.2.0",
      "model_name": "LayoutModel",
      "state": {}
     },
     "d08fa92e05784e4689820e1bec6a1d0b": {
      "model_module": "@jupyter-widgets/base",
      "model_module_version": "1.2.0",
      "model_name": "LayoutModel",
      "state": {}
     },
     "d0fc8057e91044b990cf586016053098": {
      "model_module": "@jupyter-widgets/base",
      "model_module_version": "1.2.0",
      "model_name": "LayoutModel",
      "state": {}
     },
     "d11b63f863f4494f9e4f5ba1c750581f": {
      "model_module": "@jupyter-widgets/controls",
      "model_module_version": "1.5.0",
      "model_name": "RadioButtonsModel",
      "state": {
       "_options_labels": [
        "UKX",
        "SPX",
        "NKY"
       ],
       "description": "pickIndex",
       "index": 0,
       "layout": "IPY_MODEL_4c99d84d61374848a3a88abbb7d11dac",
       "style": "IPY_MODEL_6e804993326840599df8ff76b0a0e504"
      }
     },
     "d1b29086602e4db58d4cf9c55ef1fa5b": {
      "model_module": "@jupyter-widgets/output",
      "model_module_version": "1.0.0",
      "model_name": "OutputModel",
      "state": {
       "layout": "IPY_MODEL_16fb28eb9ea74aa197b43c625ef11c67",
       "outputs": [
        {
         "data": {
          "text/html": "<div>\n<style scoped>\n    .dataframe tbody tr th:only-of-type {\n        vertical-align: middle;\n    }\n\n    .dataframe tbody tr th {\n        vertical-align: top;\n    }\n\n    .dataframe thead th {\n        text-align: right;\n    }\n</style>\n<table border=\"1\" class=\"dataframe\">\n  <thead>\n    <tr style=\"text-align: right;\">\n      <th></th>\n      <th>DATE</th>\n      <th>ISSUER</th>\n      <th>TYPE</th>\n      <th>SIZE</th>\n      <th>INDUSTRY</th>\n      <th>LEAD UNDERWRITER</th>\n    </tr>\n  </thead>\n  <tbody>\n    <tr>\n      <th>72</th>\n      <td>2006-02-14</td>\n      <td>Teppco Partners Global</td>\n      <td>Sr Notes</td>\n      <td>500.40</td>\n      <td>Oil &amp; Gas</td>\n      <td>UBS Warburg</td>\n    </tr>\n    <tr>\n      <th>87</th>\n      <td>2006-02-20</td>\n      <td>Burlington Resources Inc.</td>\n      <td>Sr Notes</td>\n      <td>350.22</td>\n      <td>Oil &amp; Gas</td>\n      <td>J.P. Morgan</td>\n    </tr>\n    <tr>\n      <th>95</th>\n      <td>2006-02-21</td>\n      <td>Southern Natural Gas Company</td>\n      <td>Bonds</td>\n      <td>300.41</td>\n      <td>Oil &amp; Gas</td>\n      <td>Credit Suisse First Boston</td>\n    </tr>\n    <tr>\n      <th>114</th>\n      <td>2006-02-26</td>\n      <td>Enbridge Energy Partners LP</td>\n      <td>Equity Follow-On Offering</td>\n      <td>94.05</td>\n      <td>Oil &amp; Gas</td>\n      <td>Salomon Smith Barney</td>\n    </tr>\n    <tr>\n      <th>124</th>\n      <td>2006-02-28</td>\n      <td>Amerada Hess Corp.</td>\n      <td>Sr Notes</td>\n      <td>600.30</td>\n      <td>Oil &amp; Gas</td>\n      <td>Goldman Sachs</td>\n    </tr>\n    <tr>\n      <th>126</th>\n      <td>2006-02-28</td>\n      <td>Tesoro Petroleum Corp</td>\n      <td>Equity Follow-On Offering</td>\n      <td>225.40</td>\n      <td>Oil &amp; Gas</td>\n      <td>Lehman Brothers</td>\n    </tr>\n    <tr>\n      <th>145</th>\n      <td>2006-03-05</td>\n      <td>Anadarko Petroleum Corporation</td>\n      <td>Sr Notes</td>\n      <td>400.17</td>\n      <td>Oil &amp; Gas</td>\n      <td>Salomon Smith Barney</td>\n    </tr>\n    <tr>\n      <th>149</th>\n      <td>2006-03-05</td>\n      <td>Consol Energy</td>\n      <td>Notes</td>\n      <td>250.33</td>\n      <td>Oil &amp; Gas</td>\n      <td>Salomon Smith Barney</td>\n    </tr>\n    <tr>\n      <th>195</th>\n      <td>2006-03-12</td>\n      <td>Gulfmark Offshore Inc</td>\n      <td>Equity Follow-On Offering</td>\n      <td>53.10</td>\n      <td>Oil &amp; Gas</td>\n      <td>Lehman Brothers</td>\n    </tr>\n    <tr>\n      <th>235</th>\n      <td>2006-03-20</td>\n      <td>Devon Energy Corporation</td>\n      <td>Sr Notes</td>\n      <td>1000.16</td>\n      <td>Oil &amp; Gas</td>\n      <td>UBS Warburg</td>\n    </tr>\n    <tr>\n      <th>267</th>\n      <td>2006-03-21</td>\n      <td>Global Industries Ltd</td>\n      <td>Equity Follow-On Offering</td>\n      <td>76.50</td>\n      <td>Oil &amp; Gas</td>\n      <td>Credit Suisse First Boston</td>\n    </tr>\n    <tr>\n      <th>278</th>\n      <td>2006-03-22</td>\n      <td>Remington Oil &amp; GasCorp</td>\n      <td>Equity Follow-On Offering</td>\n      <td>55.50</td>\n      <td>Oil &amp; Gas</td>\n      <td>Jefferies &amp; Company</td>\n    </tr>\n    <tr>\n      <th>279</th>\n      <td>2006-03-25</td>\n      <td>BP Amoco plc</td>\n      <td>Global Notes</td>\n      <td>500.21</td>\n      <td>Oil &amp; Gas</td>\n      <td>Morgan Stanley</td>\n    </tr>\n    <tr>\n      <th>329</th>\n      <td>2006-04-04</td>\n      <td>Peabody Energy Corp</td>\n      <td>Equity Follow-On Offering</td>\n      <td>257.40</td>\n      <td>Oil &amp; Gas</td>\n      <td>Lehman Brothers</td>\n    </tr>\n    <tr>\n      <th>341</th>\n      <td>2006-04-09</td>\n      <td>Kerr-McGee Corp.</td>\n      <td>Global Notes</td>\n      <td>350.15</td>\n      <td>Oil &amp; Gas</td>\n      <td>Credit Suisse First Boston</td>\n    </tr>\n    <tr>\n      <th>354</th>\n      <td>2006-04-11</td>\n      <td>Swift Energy Co.</td>\n      <td>Sr Notes</td>\n      <td>200.29</td>\n      <td>Oil &amp; Gas</td>\n      <td>Credit Suisse First Boston</td>\n    </tr>\n    <tr>\n      <th>386</th>\n      <td>2006-04-23</td>\n      <td>Northern Border Pipeline Co.</td>\n      <td>Notes</td>\n      <td>225.10</td>\n      <td>Oil &amp; Gas</td>\n      <td>Salomon Smith Barney</td>\n    </tr>\n    <tr>\n      <th>390</th>\n      <td>2006-04-23</td>\n      <td>El Paso Energy Partners LP</td>\n      <td>Equity Follow-On Offering</td>\n      <td>113.58</td>\n      <td>Oil &amp; Gas</td>\n      <td>Salomon Smith Barney</td>\n    </tr>\n    <tr>\n      <th>407</th>\n      <td>2006-04-24</td>\n      <td>Lone Star Technologies Inc</td>\n      <td>Equity Follow-On Offering</td>\n      <td>84.50</td>\n      <td>Oil &amp; Gas</td>\n      <td>Goldman Sachs</td>\n    </tr>\n    <tr>\n      <th>469</th>\n      <td>2006-05-16</td>\n      <td>Maverick Tube Corp</td>\n      <td>Equity Follow-On Offering</td>\n      <td>72.50</td>\n      <td>Oil &amp; Gas</td>\n      <td>J.P. Morgan</td>\n    </tr>\n    <tr>\n      <th>504</th>\n      <td>2006-06-04</td>\n      <td>Tennessee Gas Pipeline Company</td>\n      <td>Bonds</td>\n      <td>240.00</td>\n      <td>Oil &amp; Gas</td>\n      <td>Credit Suisse First Boston</td>\n    </tr>\n    <tr>\n      <th>517</th>\n      <td>2006-06-07</td>\n      <td>Husky Oil Ltd.</td>\n      <td>Sr Notes</td>\n      <td>400.10</td>\n      <td>Oil &amp; Gas</td>\n      <td>Salomon Smith Barney</td>\n    </tr>\n  </tbody>\n</table>\n</div>",
          "text/plain": "          DATE                           ISSUER                       TYPE  \\\n72  2006-02-14          Teppco Partners Global                    Sr Notes   \n87  2006-02-20       Burlington Resources Inc.                    Sr Notes   \n95  2006-02-21    Southern Natural Gas Company                       Bonds   \n114 2006-02-26     Enbridge Energy Partners LP   Equity Follow-On Offering   \n124 2006-02-28              Amerada Hess Corp.                    Sr Notes   \n126 2006-02-28           Tesoro Petroleum Corp   Equity Follow-On Offering   \n145 2006-03-05  Anadarko Petroleum Corporation                    Sr Notes   \n149 2006-03-05                   Consol Energy                       Notes   \n195 2006-03-12           Gulfmark Offshore Inc   Equity Follow-On Offering   \n235 2006-03-20        Devon Energy Corporation                    Sr Notes   \n267 2006-03-21           Global Industries Ltd   Equity Follow-On Offering   \n278 2006-03-22         Remington Oil & GasCorp   Equity Follow-On Offering   \n279 2006-03-25                    BP Amoco plc                Global Notes   \n329 2006-04-04             Peabody Energy Corp   Equity Follow-On Offering   \n341 2006-04-09                Kerr-McGee Corp.                Global Notes   \n354 2006-04-11                Swift Energy Co.                    Sr Notes   \n386 2006-04-23    Northern Border Pipeline Co.                       Notes   \n390 2006-04-23      El Paso Energy Partners LP   Equity Follow-On Offering   \n407 2006-04-24      Lone Star Technologies Inc   Equity Follow-On Offering   \n469 2006-05-16              Maverick Tube Corp   Equity Follow-On Offering   \n504 2006-06-04  Tennessee Gas Pipeline Company                       Bonds   \n517 2006-06-07                  Husky Oil Ltd.                    Sr Notes   \n\n        SIZE   INDUSTRY            LEAD UNDERWRITER  \n72    500.40  Oil & Gas                 UBS Warburg  \n87    350.22  Oil & Gas                 J.P. Morgan  \n95    300.41  Oil & Gas  Credit Suisse First Boston  \n114    94.05  Oil & Gas        Salomon Smith Barney  \n124   600.30  Oil & Gas               Goldman Sachs  \n126   225.40  Oil & Gas             Lehman Brothers  \n145   400.17  Oil & Gas        Salomon Smith Barney  \n149   250.33  Oil & Gas        Salomon Smith Barney  \n195    53.10  Oil & Gas             Lehman Brothers  \n235  1000.16  Oil & Gas                 UBS Warburg  \n267    76.50  Oil & Gas  Credit Suisse First Boston  \n278    55.50  Oil & Gas         Jefferies & Company  \n279   500.21  Oil & Gas              Morgan Stanley  \n329   257.40  Oil & Gas             Lehman Brothers  \n341   350.15  Oil & Gas  Credit Suisse First Boston  \n354   200.29  Oil & Gas  Credit Suisse First Boston  \n386   225.10  Oil & Gas        Salomon Smith Barney  \n390   113.58  Oil & Gas        Salomon Smith Barney  \n407    84.50  Oil & Gas               Goldman Sachs  \n469    72.50  Oil & Gas                 J.P. Morgan  \n504   240.00  Oil & Gas  Credit Suisse First Boston  \n517   400.10  Oil & Gas        Salomon Smith Barney  "
         },
         "metadata": {},
         "output_type": "display_data"
        }
       ]
      }
     },
     "d1b52bab374f490cb5a5f27b40332e08": {
      "model_module": "@jupyter-widgets/controls",
      "model_module_version": "1.5.0",
      "model_name": "SliderStyleModel",
      "state": {
       "description_width": ""
      }
     },
     "d1e06177c7d641f2954242a0db8f857f": {
      "model_module": "@jupyter-widgets/controls",
      "model_module_version": "1.5.0",
      "model_name": "DropdownModel",
      "state": {
       "_options_labels": [
        "One",
        "Two",
        "Three"
       ],
       "description": "Number:",
       "index": 1,
       "layout": "IPY_MODEL_ae95c988efb44fedbd0391cd7e794110",
       "style": "IPY_MODEL_d2bc5e5ed59d4240a2b793c1d312553f"
      }
     },
     "d260282f3c8e4335b639585e3fb49360": {
      "model_module": "@jupyter-widgets/controls",
      "model_module_version": "1.5.0",
      "model_name": "SliderStyleModel",
      "state": {
       "description_width": ""
      }
     },
     "d2963aa8ac084612b856f52bf9748ada": {
      "model_module": "@jupyter-widgets/base",
      "model_module_version": "1.2.0",
      "model_name": "LayoutModel",
      "state": {}
     },
     "d2bc5e5ed59d4240a2b793c1d312553f": {
      "model_module": "@jupyter-widgets/controls",
      "model_module_version": "1.5.0",
      "model_name": "DescriptionStyleModel",
      "state": {
       "description_width": ""
      }
     },
     "d32fb32d9d7f4360ad8de2d7f74c3ff9": {
      "model_module": "@jupyter-widgets/controls",
      "model_module_version": "1.5.0",
      "model_name": "HBoxModel",
      "state": {
       "children": [
        "IPY_MODEL_74e36f77ad4d4d5183db101db0e92b4b",
        "IPY_MODEL_9551b4e456e84aa8ae73840414e21230",
        "IPY_MODEL_bc7e704c201b4931abed348124947b83"
       ],
       "layout": "IPY_MODEL_88bb80d77f564f269ad5c63244ae6e0c"
      }
     },
     "d406e3fec9c24a6aa01c535c8b46404f": {
      "model_module": "@jupyter-widgets/base",
      "model_module_version": "1.2.0",
      "model_name": "LayoutModel",
      "state": {}
     },
     "d42b21d2b44d4219b01cb4bffc2f41fc": {
      "model_module": "@jupyter-widgets/base",
      "model_module_version": "1.2.0",
      "model_name": "LayoutModel",
      "state": {}
     },
     "d6371994fc9d49cab1b4b52d2567da11": {
      "model_module": "@jupyter-widgets/base",
      "model_module_version": "1.2.0",
      "model_name": "LayoutModel",
      "state": {}
     },
     "d6e42efdb30c41a8ad32376f78571d08": {
      "model_module": "@jupyter-widgets/controls",
      "model_module_version": "1.5.0",
      "model_name": "DescriptionStyleModel",
      "state": {
       "description_width": ""
      }
     },
     "d94027f8a2db4ead9bdab46cdf64123c": {
      "model_module": "@jupyter-widgets/controls",
      "model_module_version": "1.5.0",
      "model_name": "DescriptionStyleModel",
      "state": {
       "description_width": ""
      }
     },
     "da13ee109a2e4d0dad6093f3fb9268ec": {
      "model_module": "@jupyter-widgets/output",
      "model_module_version": "1.0.0",
      "model_name": "OutputModel",
      "state": {
       "layout": "IPY_MODEL_0ce5469fb66a4fbb8c5f91a8d6dbc345",
       "outputs": [
        {
         "data": {
          "application/vnd.plotly.v1+json": {
           "config": {
            "plotlyServerURL": "https://plot.ly"
           },
           "data": [
            {
             "alignmentgroup": "True",
             "hovertemplate": "TYPE=%{x}<br>SIZE=%{y}<extra></extra>",
             "legendgroup": "Sr Notes",
             "marker": {
              "color": "#636efa"
             },
             "name": "Sr Notes",
             "offsetgroup": "Sr Notes",
             "orientation": "v",
             "showlegend": true,
             "textposition": "auto",
             "type": "bar",
             "x": [
              "Sr Notes",
              "Sr Notes",
              "Sr Notes",
              "Sr Notes"
             ],
             "xaxis": "x",
             "y": [
              385,
              400.18,
              300.33,
              100.122
             ],
             "yaxis": "y"
            },
            {
             "alignmentgroup": "True",
             "hovertemplate": "TYPE=%{x}<br>SIZE=%{y}<extra></extra>",
             "legendgroup": "Equity Follow-On Offering",
             "marker": {
              "color": "#EF553B"
             },
             "name": "Equity Follow-On Offering",
             "offsetgroup": "Equity Follow-On Offering",
             "orientation": "v",
             "showlegend": true,
             "textposition": "auto",
             "type": "bar",
             "x": [
              "Equity Follow-On Offering",
              "Equity Follow-On Offering",
              "Equity Follow-On Offering",
              "Equity Follow-On Offering"
             ],
             "xaxis": "x",
             "y": [
              95.26,
              76.45,
              95.25,
              256.5
             ],
             "yaxis": "y"
            },
            {
             "alignmentgroup": "True",
             "hovertemplate": "TYPE=%{x}<br>SIZE=%{y}<extra></extra>",
             "legendgroup": "Notes",
             "marker": {
              "color": "#00cc96"
             },
             "name": "Notes",
             "offsetgroup": "Notes",
             "orientation": "v",
             "showlegend": true,
             "textposition": "auto",
             "type": "bar",
             "x": [
              "Notes"
             ],
             "xaxis": "x",
             "y": [
              200.2
             ],
             "yaxis": "y"
            }
           ],
           "layout": {
            "barmode": "relative",
            "legend": {
             "title": {
              "text": "TYPE"
             },
             "tracegroupgap": 0
            },
            "template": {
             "data": {
              "bar": [
               {
                "error_x": {
                 "color": "#2a3f5f"
                },
                "error_y": {
                 "color": "#2a3f5f"
                },
                "marker": {
                 "line": {
                  "color": "#E5ECF6",
                  "width": 0.5
                 }
                },
                "type": "bar"
               }
              ],
              "barpolar": [
               {
                "marker": {
                 "line": {
                  "color": "#E5ECF6",
                  "width": 0.5
                 }
                },
                "type": "barpolar"
               }
              ],
              "carpet": [
               {
                "aaxis": {
                 "endlinecolor": "#2a3f5f",
                 "gridcolor": "white",
                 "linecolor": "white",
                 "minorgridcolor": "white",
                 "startlinecolor": "#2a3f5f"
                },
                "baxis": {
                 "endlinecolor": "#2a3f5f",
                 "gridcolor": "white",
                 "linecolor": "white",
                 "minorgridcolor": "white",
                 "startlinecolor": "#2a3f5f"
                },
                "type": "carpet"
               }
              ],
              "choropleth": [
               {
                "colorbar": {
                 "outlinewidth": 0,
                 "ticks": ""
                },
                "type": "choropleth"
               }
              ],
              "contour": [
               {
                "colorbar": {
                 "outlinewidth": 0,
                 "ticks": ""
                },
                "colorscale": [
                 [
                  0,
                  "#0d0887"
                 ],
                 [
                  0.1111111111111111,
                  "#46039f"
                 ],
                 [
                  0.2222222222222222,
                  "#7201a8"
                 ],
                 [
                  0.3333333333333333,
                  "#9c179e"
                 ],
                 [
                  0.4444444444444444,
                  "#bd3786"
                 ],
                 [
                  0.5555555555555556,
                  "#d8576b"
                 ],
                 [
                  0.6666666666666666,
                  "#ed7953"
                 ],
                 [
                  0.7777777777777778,
                  "#fb9f3a"
                 ],
                 [
                  0.8888888888888888,
                  "#fdca26"
                 ],
                 [
                  1,
                  "#f0f921"
                 ]
                ],
                "type": "contour"
               }
              ],
              "contourcarpet": [
               {
                "colorbar": {
                 "outlinewidth": 0,
                 "ticks": ""
                },
                "type": "contourcarpet"
               }
              ],
              "heatmap": [
               {
                "colorbar": {
                 "outlinewidth": 0,
                 "ticks": ""
                },
                "colorscale": [
                 [
                  0,
                  "#0d0887"
                 ],
                 [
                  0.1111111111111111,
                  "#46039f"
                 ],
                 [
                  0.2222222222222222,
                  "#7201a8"
                 ],
                 [
                  0.3333333333333333,
                  "#9c179e"
                 ],
                 [
                  0.4444444444444444,
                  "#bd3786"
                 ],
                 [
                  0.5555555555555556,
                  "#d8576b"
                 ],
                 [
                  0.6666666666666666,
                  "#ed7953"
                 ],
                 [
                  0.7777777777777778,
                  "#fb9f3a"
                 ],
                 [
                  0.8888888888888888,
                  "#fdca26"
                 ],
                 [
                  1,
                  "#f0f921"
                 ]
                ],
                "type": "heatmap"
               }
              ],
              "heatmapgl": [
               {
                "colorbar": {
                 "outlinewidth": 0,
                 "ticks": ""
                },
                "colorscale": [
                 [
                  0,
                  "#0d0887"
                 ],
                 [
                  0.1111111111111111,
                  "#46039f"
                 ],
                 [
                  0.2222222222222222,
                  "#7201a8"
                 ],
                 [
                  0.3333333333333333,
                  "#9c179e"
                 ],
                 [
                  0.4444444444444444,
                  "#bd3786"
                 ],
                 [
                  0.5555555555555556,
                  "#d8576b"
                 ],
                 [
                  0.6666666666666666,
                  "#ed7953"
                 ],
                 [
                  0.7777777777777778,
                  "#fb9f3a"
                 ],
                 [
                  0.8888888888888888,
                  "#fdca26"
                 ],
                 [
                  1,
                  "#f0f921"
                 ]
                ],
                "type": "heatmapgl"
               }
              ],
              "histogram": [
               {
                "marker": {
                 "colorbar": {
                  "outlinewidth": 0,
                  "ticks": ""
                 }
                },
                "type": "histogram"
               }
              ],
              "histogram2d": [
               {
                "colorbar": {
                 "outlinewidth": 0,
                 "ticks": ""
                },
                "colorscale": [
                 [
                  0,
                  "#0d0887"
                 ],
                 [
                  0.1111111111111111,
                  "#46039f"
                 ],
                 [
                  0.2222222222222222,
                  "#7201a8"
                 ],
                 [
                  0.3333333333333333,
                  "#9c179e"
                 ],
                 [
                  0.4444444444444444,
                  "#bd3786"
                 ],
                 [
                  0.5555555555555556,
                  "#d8576b"
                 ],
                 [
                  0.6666666666666666,
                  "#ed7953"
                 ],
                 [
                  0.7777777777777778,
                  "#fb9f3a"
                 ],
                 [
                  0.8888888888888888,
                  "#fdca26"
                 ],
                 [
                  1,
                  "#f0f921"
                 ]
                ],
                "type": "histogram2d"
               }
              ],
              "histogram2dcontour": [
               {
                "colorbar": {
                 "outlinewidth": 0,
                 "ticks": ""
                },
                "colorscale": [
                 [
                  0,
                  "#0d0887"
                 ],
                 [
                  0.1111111111111111,
                  "#46039f"
                 ],
                 [
                  0.2222222222222222,
                  "#7201a8"
                 ],
                 [
                  0.3333333333333333,
                  "#9c179e"
                 ],
                 [
                  0.4444444444444444,
                  "#bd3786"
                 ],
                 [
                  0.5555555555555556,
                  "#d8576b"
                 ],
                 [
                  0.6666666666666666,
                  "#ed7953"
                 ],
                 [
                  0.7777777777777778,
                  "#fb9f3a"
                 ],
                 [
                  0.8888888888888888,
                  "#fdca26"
                 ],
                 [
                  1,
                  "#f0f921"
                 ]
                ],
                "type": "histogram2dcontour"
               }
              ],
              "mesh3d": [
               {
                "colorbar": {
                 "outlinewidth": 0,
                 "ticks": ""
                },
                "type": "mesh3d"
               }
              ],
              "parcoords": [
               {
                "line": {
                 "colorbar": {
                  "outlinewidth": 0,
                  "ticks": ""
                 }
                },
                "type": "parcoords"
               }
              ],
              "pie": [
               {
                "automargin": true,
                "type": "pie"
               }
              ],
              "scatter": [
               {
                "marker": {
                 "colorbar": {
                  "outlinewidth": 0,
                  "ticks": ""
                 }
                },
                "type": "scatter"
               }
              ],
              "scatter3d": [
               {
                "line": {
                 "colorbar": {
                  "outlinewidth": 0,
                  "ticks": ""
                 }
                },
                "marker": {
                 "colorbar": {
                  "outlinewidth": 0,
                  "ticks": ""
                 }
                },
                "type": "scatter3d"
               }
              ],
              "scattercarpet": [
               {
                "marker": {
                 "colorbar": {
                  "outlinewidth": 0,
                  "ticks": ""
                 }
                },
                "type": "scattercarpet"
               }
              ],
              "scattergeo": [
               {
                "marker": {
                 "colorbar": {
                  "outlinewidth": 0,
                  "ticks": ""
                 }
                },
                "type": "scattergeo"
               }
              ],
              "scattergl": [
               {
                "marker": {
                 "colorbar": {
                  "outlinewidth": 0,
                  "ticks": ""
                 }
                },
                "type": "scattergl"
               }
              ],
              "scattermapbox": [
               {
                "marker": {
                 "colorbar": {
                  "outlinewidth": 0,
                  "ticks": ""
                 }
                },
                "type": "scattermapbox"
               }
              ],
              "scatterpolar": [
               {
                "marker": {
                 "colorbar": {
                  "outlinewidth": 0,
                  "ticks": ""
                 }
                },
                "type": "scatterpolar"
               }
              ],
              "scatterpolargl": [
               {
                "marker": {
                 "colorbar": {
                  "outlinewidth": 0,
                  "ticks": ""
                 }
                },
                "type": "scatterpolargl"
               }
              ],
              "scatterternary": [
               {
                "marker": {
                 "colorbar": {
                  "outlinewidth": 0,
                  "ticks": ""
                 }
                },
                "type": "scatterternary"
               }
              ],
              "surface": [
               {
                "colorbar": {
                 "outlinewidth": 0,
                 "ticks": ""
                },
                "colorscale": [
                 [
                  0,
                  "#0d0887"
                 ],
                 [
                  0.1111111111111111,
                  "#46039f"
                 ],
                 [
                  0.2222222222222222,
                  "#7201a8"
                 ],
                 [
                  0.3333333333333333,
                  "#9c179e"
                 ],
                 [
                  0.4444444444444444,
                  "#bd3786"
                 ],
                 [
                  0.5555555555555556,
                  "#d8576b"
                 ],
                 [
                  0.6666666666666666,
                  "#ed7953"
                 ],
                 [
                  0.7777777777777778,
                  "#fb9f3a"
                 ],
                 [
                  0.8888888888888888,
                  "#fdca26"
                 ],
                 [
                  1,
                  "#f0f921"
                 ]
                ],
                "type": "surface"
               }
              ],
              "table": [
               {
                "cells": {
                 "fill": {
                  "color": "#EBF0F8"
                 },
                 "line": {
                  "color": "white"
                 }
                },
                "header": {
                 "fill": {
                  "color": "#C8D4E3"
                 },
                 "line": {
                  "color": "white"
                 }
                },
                "type": "table"
               }
              ]
             },
             "layout": {
              "annotationdefaults": {
               "arrowcolor": "#2a3f5f",
               "arrowhead": 0,
               "arrowwidth": 1
              },
              "coloraxis": {
               "colorbar": {
                "outlinewidth": 0,
                "ticks": ""
               }
              },
              "colorscale": {
               "diverging": [
                [
                 0,
                 "#8e0152"
                ],
                [
                 0.1,
                 "#c51b7d"
                ],
                [
                 0.2,
                 "#de77ae"
                ],
                [
                 0.3,
                 "#f1b6da"
                ],
                [
                 0.4,
                 "#fde0ef"
                ],
                [
                 0.5,
                 "#f7f7f7"
                ],
                [
                 0.6,
                 "#e6f5d0"
                ],
                [
                 0.7,
                 "#b8e186"
                ],
                [
                 0.8,
                 "#7fbc41"
                ],
                [
                 0.9,
                 "#4d9221"
                ],
                [
                 1,
                 "#276419"
                ]
               ],
               "sequential": [
                [
                 0,
                 "#0d0887"
                ],
                [
                 0.1111111111111111,
                 "#46039f"
                ],
                [
                 0.2222222222222222,
                 "#7201a8"
                ],
                [
                 0.3333333333333333,
                 "#9c179e"
                ],
                [
                 0.4444444444444444,
                 "#bd3786"
                ],
                [
                 0.5555555555555556,
                 "#d8576b"
                ],
                [
                 0.6666666666666666,
                 "#ed7953"
                ],
                [
                 0.7777777777777778,
                 "#fb9f3a"
                ],
                [
                 0.8888888888888888,
                 "#fdca26"
                ],
                [
                 1,
                 "#f0f921"
                ]
               ],
               "sequentialminus": [
                [
                 0,
                 "#0d0887"
                ],
                [
                 0.1111111111111111,
                 "#46039f"
                ],
                [
                 0.2222222222222222,
                 "#7201a8"
                ],
                [
                 0.3333333333333333,
                 "#9c179e"
                ],
                [
                 0.4444444444444444,
                 "#bd3786"
                ],
                [
                 0.5555555555555556,
                 "#d8576b"
                ],
                [
                 0.6666666666666666,
                 "#ed7953"
                ],
                [
                 0.7777777777777778,
                 "#fb9f3a"
                ],
                [
                 0.8888888888888888,
                 "#fdca26"
                ],
                [
                 1,
                 "#f0f921"
                ]
               ]
              },
              "colorway": [
               "#636efa",
               "#EF553B",
               "#00cc96",
               "#ab63fa",
               "#FFA15A",
               "#19d3f3",
               "#FF6692",
               "#B6E880",
               "#FF97FF",
               "#FECB52"
              ],
              "font": {
               "color": "#2a3f5f"
              },
              "geo": {
               "bgcolor": "white",
               "lakecolor": "white",
               "landcolor": "#E5ECF6",
               "showlakes": true,
               "showland": true,
               "subunitcolor": "white"
              },
              "hoverlabel": {
               "align": "left"
              },
              "hovermode": "closest",
              "mapbox": {
               "style": "light"
              },
              "paper_bgcolor": "white",
              "plot_bgcolor": "#E5ECF6",
              "polar": {
               "angularaxis": {
                "gridcolor": "white",
                "linecolor": "white",
                "ticks": ""
               },
               "bgcolor": "#E5ECF6",
               "radialaxis": {
                "gridcolor": "white",
                "linecolor": "white",
                "ticks": ""
               }
              },
              "scene": {
               "xaxis": {
                "backgroundcolor": "#E5ECF6",
                "gridcolor": "white",
                "gridwidth": 2,
                "linecolor": "white",
                "showbackground": true,
                "ticks": "",
                "zerolinecolor": "white"
               },
               "yaxis": {
                "backgroundcolor": "#E5ECF6",
                "gridcolor": "white",
                "gridwidth": 2,
                "linecolor": "white",
                "showbackground": true,
                "ticks": "",
                "zerolinecolor": "white"
               },
               "zaxis": {
                "backgroundcolor": "#E5ECF6",
                "gridcolor": "white",
                "gridwidth": 2,
                "linecolor": "white",
                "showbackground": true,
                "ticks": "",
                "zerolinecolor": "white"
               }
              },
              "shapedefaults": {
               "line": {
                "color": "#2a3f5f"
               }
              },
              "ternary": {
               "aaxis": {
                "gridcolor": "white",
                "linecolor": "white",
                "ticks": ""
               },
               "baxis": {
                "gridcolor": "white",
                "linecolor": "white",
                "ticks": ""
               },
               "bgcolor": "#E5ECF6",
               "caxis": {
                "gridcolor": "white",
                "linecolor": "white",
                "ticks": ""
               }
              },
              "title": {
               "x": 0.05
              },
              "xaxis": {
               "automargin": true,
               "gridcolor": "white",
               "linecolor": "white",
               "ticks": "",
               "title": {
                "standoff": 15
               },
               "zerolinecolor": "white",
               "zerolinewidth": 2
              },
              "yaxis": {
               "automargin": true,
               "gridcolor": "white",
               "linecolor": "white",
               "ticks": "",
               "title": {
                "standoff": 15
               },
               "zerolinecolor": "white",
               "zerolinewidth": 2
              }
             }
            },
            "title": {
             "text": "Deal Value ($mm) by Type in: Transportation"
            },
            "xaxis": {
             "anchor": "y",
             "categoryarray": [
              "Sr Notes",
              "Equity Follow-On Offering",
              "Notes"
             ],
             "categoryorder": "array",
             "domain": [
              0,
              1
             ],
             "title": {
              "text": "TYPE"
             }
            },
            "yaxis": {
             "anchor": "x",
             "domain": [
              0,
              1
             ],
             "title": {
              "text": "SIZE"
             }
            }
           }
          },
          "text/html": "<div>                            <div id=\"f84a6609-ae70-408c-a08a-a3e3c0f4ab33\" class=\"plotly-graph-div\" style=\"height:525px; width:100%;\"></div>            <script type=\"text/javascript\">                require([\"plotly\"], function(Plotly) {                    window.PLOTLYENV=window.PLOTLYENV || {};                                    if (document.getElementById(\"f84a6609-ae70-408c-a08a-a3e3c0f4ab33\")) {                    Plotly.newPlot(                        \"f84a6609-ae70-408c-a08a-a3e3c0f4ab33\",                        [{\"alignmentgroup\": \"True\", \"hovertemplate\": \"TYPE=%{x}<br>SIZE=%{y}<extra></extra>\", \"legendgroup\": \"Sr Notes\", \"marker\": {\"color\": \"#636efa\"}, \"name\": \"Sr Notes\", \"offsetgroup\": \"Sr Notes\", \"orientation\": \"v\", \"showlegend\": true, \"textposition\": \"auto\", \"type\": \"bar\", \"x\": [\"Sr Notes\", \"Sr Notes\", \"Sr Notes\", \"Sr Notes\"], \"xaxis\": \"x\", \"y\": [385.0, 400.18, 300.33, 100.122], \"yaxis\": \"y\"}, {\"alignmentgroup\": \"True\", \"hovertemplate\": \"TYPE=%{x}<br>SIZE=%{y}<extra></extra>\", \"legendgroup\": \"Equity Follow-On Offering\", \"marker\": {\"color\": \"#EF553B\"}, \"name\": \"Equity Follow-On Offering\", \"offsetgroup\": \"Equity Follow-On Offering\", \"orientation\": \"v\", \"showlegend\": true, \"textposition\": \"auto\", \"type\": \"bar\", \"x\": [\"Equity Follow-On Offering\", \"Equity Follow-On Offering\", \"Equity Follow-On Offering\", \"Equity Follow-On Offering\"], \"xaxis\": \"x\", \"y\": [95.26, 76.45, 95.25, 256.5], \"yaxis\": \"y\"}, {\"alignmentgroup\": \"True\", \"hovertemplate\": \"TYPE=%{x}<br>SIZE=%{y}<extra></extra>\", \"legendgroup\": \"Notes\", \"marker\": {\"color\": \"#00cc96\"}, \"name\": \"Notes\", \"offsetgroup\": \"Notes\", \"orientation\": \"v\", \"showlegend\": true, \"textposition\": \"auto\", \"type\": \"bar\", \"x\": [\"Notes\"], \"xaxis\": \"x\", \"y\": [200.2], \"yaxis\": \"y\"}],                        {\"barmode\": \"relative\", \"legend\": {\"title\": {\"text\": \"TYPE\"}, \"tracegroupgap\": 0}, \"template\": {\"data\": {\"bar\": [{\"error_x\": {\"color\": \"#2a3f5f\"}, \"error_y\": {\"color\": \"#2a3f5f\"}, \"marker\": {\"line\": {\"color\": \"#E5ECF6\", \"width\": 0.5}}, \"type\": \"bar\"}], \"barpolar\": [{\"marker\": {\"line\": {\"color\": \"#E5ECF6\", \"width\": 0.5}}, \"type\": \"barpolar\"}], \"carpet\": [{\"aaxis\": {\"endlinecolor\": \"#2a3f5f\", \"gridcolor\": \"white\", \"linecolor\": \"white\", \"minorgridcolor\": \"white\", \"startlinecolor\": \"#2a3f5f\"}, \"baxis\": {\"endlinecolor\": \"#2a3f5f\", \"gridcolor\": \"white\", \"linecolor\": \"white\", \"minorgridcolor\": \"white\", \"startlinecolor\": \"#2a3f5f\"}, \"type\": \"carpet\"}], \"choropleth\": [{\"colorbar\": {\"outlinewidth\": 0, \"ticks\": \"\"}, \"type\": \"choropleth\"}], \"contour\": [{\"colorbar\": {\"outlinewidth\": 0, \"ticks\": \"\"}, \"colorscale\": [[0.0, \"#0d0887\"], [0.1111111111111111, \"#46039f\"], [0.2222222222222222, \"#7201a8\"], [0.3333333333333333, \"#9c179e\"], [0.4444444444444444, \"#bd3786\"], [0.5555555555555556, \"#d8576b\"], [0.6666666666666666, \"#ed7953\"], [0.7777777777777778, \"#fb9f3a\"], [0.8888888888888888, \"#fdca26\"], [1.0, \"#f0f921\"]], \"type\": \"contour\"}], \"contourcarpet\": [{\"colorbar\": {\"outlinewidth\": 0, \"ticks\": \"\"}, \"type\": \"contourcarpet\"}], \"heatmap\": [{\"colorbar\": {\"outlinewidth\": 0, \"ticks\": \"\"}, \"colorscale\": [[0.0, \"#0d0887\"], [0.1111111111111111, \"#46039f\"], [0.2222222222222222, \"#7201a8\"], [0.3333333333333333, \"#9c179e\"], [0.4444444444444444, \"#bd3786\"], [0.5555555555555556, \"#d8576b\"], [0.6666666666666666, \"#ed7953\"], [0.7777777777777778, \"#fb9f3a\"], [0.8888888888888888, \"#fdca26\"], [1.0, \"#f0f921\"]], \"type\": \"heatmap\"}], \"heatmapgl\": [{\"colorbar\": {\"outlinewidth\": 0, \"ticks\": \"\"}, \"colorscale\": [[0.0, \"#0d0887\"], [0.1111111111111111, \"#46039f\"], [0.2222222222222222, \"#7201a8\"], [0.3333333333333333, \"#9c179e\"], [0.4444444444444444, \"#bd3786\"], [0.5555555555555556, \"#d8576b\"], [0.6666666666666666, \"#ed7953\"], [0.7777777777777778, \"#fb9f3a\"], [0.8888888888888888, \"#fdca26\"], [1.0, \"#f0f921\"]], \"type\": \"heatmapgl\"}], \"histogram\": [{\"marker\": {\"colorbar\": {\"outlinewidth\": 0, \"ticks\": \"\"}}, \"type\": \"histogram\"}], \"histogram2d\": [{\"colorbar\": {\"outlinewidth\": 0, \"ticks\": \"\"}, \"colorscale\": [[0.0, \"#0d0887\"], [0.1111111111111111, \"#46039f\"], [0.2222222222222222, \"#7201a8\"], [0.3333333333333333, \"#9c179e\"], [0.4444444444444444, \"#bd3786\"], [0.5555555555555556, \"#d8576b\"], [0.6666666666666666, \"#ed7953\"], [0.7777777777777778, \"#fb9f3a\"], [0.8888888888888888, \"#fdca26\"], [1.0, \"#f0f921\"]], \"type\": \"histogram2d\"}], \"histogram2dcontour\": [{\"colorbar\": {\"outlinewidth\": 0, \"ticks\": \"\"}, \"colorscale\": [[0.0, \"#0d0887\"], [0.1111111111111111, \"#46039f\"], [0.2222222222222222, \"#7201a8\"], [0.3333333333333333, \"#9c179e\"], [0.4444444444444444, \"#bd3786\"], [0.5555555555555556, \"#d8576b\"], [0.6666666666666666, \"#ed7953\"], [0.7777777777777778, \"#fb9f3a\"], [0.8888888888888888, \"#fdca26\"], [1.0, \"#f0f921\"]], \"type\": \"histogram2dcontour\"}], \"mesh3d\": [{\"colorbar\": {\"outlinewidth\": 0, \"ticks\": \"\"}, \"type\": \"mesh3d\"}], \"parcoords\": [{\"line\": {\"colorbar\": {\"outlinewidth\": 0, \"ticks\": \"\"}}, \"type\": \"parcoords\"}], \"pie\": [{\"automargin\": true, \"type\": \"pie\"}], \"scatter\": [{\"marker\": {\"colorbar\": {\"outlinewidth\": 0, \"ticks\": \"\"}}, \"type\": \"scatter\"}], \"scatter3d\": [{\"line\": {\"colorbar\": {\"outlinewidth\": 0, \"ticks\": \"\"}}, \"marker\": {\"colorbar\": {\"outlinewidth\": 0, \"ticks\": \"\"}}, \"type\": \"scatter3d\"}], \"scattercarpet\": [{\"marker\": {\"colorbar\": {\"outlinewidth\": 0, \"ticks\": \"\"}}, \"type\": \"scattercarpet\"}], \"scattergeo\": [{\"marker\": {\"colorbar\": {\"outlinewidth\": 0, \"ticks\": \"\"}}, \"type\": \"scattergeo\"}], \"scattergl\": [{\"marker\": {\"colorbar\": {\"outlinewidth\": 0, \"ticks\": \"\"}}, \"type\": \"scattergl\"}], \"scattermapbox\": [{\"marker\": {\"colorbar\": {\"outlinewidth\": 0, \"ticks\": \"\"}}, \"type\": \"scattermapbox\"}], \"scatterpolar\": [{\"marker\": {\"colorbar\": {\"outlinewidth\": 0, \"ticks\": \"\"}}, \"type\": \"scatterpolar\"}], \"scatterpolargl\": [{\"marker\": {\"colorbar\": {\"outlinewidth\": 0, \"ticks\": \"\"}}, \"type\": \"scatterpolargl\"}], \"scatterternary\": [{\"marker\": {\"colorbar\": {\"outlinewidth\": 0, \"ticks\": \"\"}}, \"type\": \"scatterternary\"}], \"surface\": [{\"colorbar\": {\"outlinewidth\": 0, \"ticks\": \"\"}, \"colorscale\": [[0.0, \"#0d0887\"], [0.1111111111111111, \"#46039f\"], [0.2222222222222222, \"#7201a8\"], [0.3333333333333333, \"#9c179e\"], [0.4444444444444444, \"#bd3786\"], [0.5555555555555556, \"#d8576b\"], [0.6666666666666666, \"#ed7953\"], [0.7777777777777778, \"#fb9f3a\"], [0.8888888888888888, \"#fdca26\"], [1.0, \"#f0f921\"]], \"type\": \"surface\"}], \"table\": [{\"cells\": {\"fill\": {\"color\": \"#EBF0F8\"}, \"line\": {\"color\": \"white\"}}, \"header\": {\"fill\": {\"color\": \"#C8D4E3\"}, \"line\": {\"color\": \"white\"}}, \"type\": \"table\"}]}, \"layout\": {\"annotationdefaults\": {\"arrowcolor\": \"#2a3f5f\", \"arrowhead\": 0, \"arrowwidth\": 1}, \"coloraxis\": {\"colorbar\": {\"outlinewidth\": 0, \"ticks\": \"\"}}, \"colorscale\": {\"diverging\": [[0, \"#8e0152\"], [0.1, \"#c51b7d\"], [0.2, \"#de77ae\"], [0.3, \"#f1b6da\"], [0.4, \"#fde0ef\"], [0.5, \"#f7f7f7\"], [0.6, \"#e6f5d0\"], [0.7, \"#b8e186\"], [0.8, \"#7fbc41\"], [0.9, \"#4d9221\"], [1, \"#276419\"]], \"sequential\": [[0.0, \"#0d0887\"], [0.1111111111111111, \"#46039f\"], [0.2222222222222222, \"#7201a8\"], [0.3333333333333333, \"#9c179e\"], [0.4444444444444444, \"#bd3786\"], [0.5555555555555556, \"#d8576b\"], [0.6666666666666666, \"#ed7953\"], [0.7777777777777778, \"#fb9f3a\"], [0.8888888888888888, \"#fdca26\"], [1.0, \"#f0f921\"]], \"sequentialminus\": [[0.0, \"#0d0887\"], [0.1111111111111111, \"#46039f\"], [0.2222222222222222, \"#7201a8\"], [0.3333333333333333, \"#9c179e\"], [0.4444444444444444, \"#bd3786\"], [0.5555555555555556, \"#d8576b\"], [0.6666666666666666, \"#ed7953\"], [0.7777777777777778, \"#fb9f3a\"], [0.8888888888888888, \"#fdca26\"], [1.0, \"#f0f921\"]]}, \"colorway\": [\"#636efa\", \"#EF553B\", \"#00cc96\", \"#ab63fa\", \"#FFA15A\", \"#19d3f3\", \"#FF6692\", \"#B6E880\", \"#FF97FF\", \"#FECB52\"], \"font\": {\"color\": \"#2a3f5f\"}, \"geo\": {\"bgcolor\": \"white\", \"lakecolor\": \"white\", \"landcolor\": \"#E5ECF6\", \"showlakes\": true, \"showland\": true, \"subunitcolor\": \"white\"}, \"hoverlabel\": {\"align\": \"left\"}, \"hovermode\": \"closest\", \"mapbox\": {\"style\": \"light\"}, \"paper_bgcolor\": \"white\", \"plot_bgcolor\": \"#E5ECF6\", \"polar\": {\"angularaxis\": {\"gridcolor\": \"white\", \"linecolor\": \"white\", \"ticks\": \"\"}, \"bgcolor\": \"#E5ECF6\", \"radialaxis\": {\"gridcolor\": \"white\", \"linecolor\": \"white\", \"ticks\": \"\"}}, \"scene\": {\"xaxis\": {\"backgroundcolor\": \"#E5ECF6\", \"gridcolor\": \"white\", \"gridwidth\": 2, \"linecolor\": \"white\", \"showbackground\": true, \"ticks\": \"\", \"zerolinecolor\": \"white\"}, \"yaxis\": {\"backgroundcolor\": \"#E5ECF6\", \"gridcolor\": \"white\", \"gridwidth\": 2, \"linecolor\": \"white\", \"showbackground\": true, \"ticks\": \"\", \"zerolinecolor\": \"white\"}, \"zaxis\": {\"backgroundcolor\": \"#E5ECF6\", \"gridcolor\": \"white\", \"gridwidth\": 2, \"linecolor\": \"white\", \"showbackground\": true, \"ticks\": \"\", \"zerolinecolor\": \"white\"}}, \"shapedefaults\": {\"line\": {\"color\": \"#2a3f5f\"}}, \"ternary\": {\"aaxis\": {\"gridcolor\": \"white\", \"linecolor\": \"white\", \"ticks\": \"\"}, \"baxis\": {\"gridcolor\": \"white\", \"linecolor\": \"white\", \"ticks\": \"\"}, \"bgcolor\": \"#E5ECF6\", \"caxis\": {\"gridcolor\": \"white\", \"linecolor\": \"white\", \"ticks\": \"\"}}, \"title\": {\"x\": 0.05}, \"xaxis\": {\"automargin\": true, \"gridcolor\": \"white\", \"linecolor\": \"white\", \"ticks\": \"\", \"title\": {\"standoff\": 15}, \"zerolinecolor\": \"white\", \"zerolinewidth\": 2}, \"yaxis\": {\"automargin\": true, \"gridcolor\": \"white\", \"linecolor\": \"white\", \"ticks\": \"\", \"title\": {\"standoff\": 15}, \"zerolinecolor\": \"white\", \"zerolinewidth\": 2}}}, \"title\": {\"text\": \"Deal Value ($mm) by Type in: Transportation\"}, \"xaxis\": {\"anchor\": \"y\", \"categoryarray\": [\"Sr Notes\", \"Equity Follow-On Offering\", \"Notes\"], \"categoryorder\": \"array\", \"domain\": [0.0, 1.0], \"title\": {\"text\": \"TYPE\"}}, \"yaxis\": {\"anchor\": \"x\", \"domain\": [0.0, 1.0], \"title\": {\"text\": \"SIZE\"}}},                        {\"responsive\": true}                    ).then(function(){\n                            \nvar gd = document.getElementById('f84a6609-ae70-408c-a08a-a3e3c0f4ab33');\nvar x = new MutationObserver(function (mutations, observer) {{\n        var display = window.getComputedStyle(gd).display;\n        if (!display || display === 'none') {{\n            console.log([gd, 'removed!']);\n            Plotly.purge(gd);\n            observer.disconnect();\n        }}\n}});\n\n// Listen for the removal of the full notebook cells\nvar notebookContainer = gd.closest('#notebook-container');\nif (notebookContainer) {{\n    x.observe(notebookContainer, {childList: true});\n}}\n\n// Listen for the clearing of the current output cell\nvar outputEl = gd.closest('.output');\nif (outputEl) {{\n    x.observe(outputEl, {childList: true});\n}}\n\n                        })                };                });            </script>        </div>"
         },
         "metadata": {},
         "output_type": "display_data"
        }
       ]
      }
     },
     "da14ebfe8c264c92bee6ef0ca14cb1c3": {
      "model_module": "@jupyter-widgets/base",
      "model_module_version": "1.2.0",
      "model_name": "LayoutModel",
      "state": {}
     },
     "da66dd0adb2946f09218b469010a6cb2": {
      "model_module": "@jupyter-widgets/controls",
      "model_module_version": "1.5.0",
      "model_name": "DescriptionStyleModel",
      "state": {
       "description_width": ""
      }
     },
     "db4bc69cc0504d95a24fcc73f8a01e1e": {
      "model_module": "@jupyter-widgets/controls",
      "model_module_version": "1.5.0",
      "model_name": "CheckboxModel",
      "state": {
       "description": "Ignore Dropdowns",
       "disabled": false,
       "indent": false,
       "layout": "IPY_MODEL_52619c9d0d8d43308e14b6e2c2b1afa9",
       "style": "IPY_MODEL_ff4c194a42ff4394838bcd8805cef5c1",
       "value": false
      }
     },
     "dba8042ee307442194ba25f674542289": {
      "model_module": "@jupyter-widgets/base",
      "model_module_version": "1.2.0",
      "model_name": "LayoutModel",
      "state": {}
     },
     "dc0b1748a45e496abe3b3f063303d82f": {
      "model_module": "@jupyter-widgets/controls",
      "model_module_version": "1.5.0",
      "model_name": "DescriptionStyleModel",
      "state": {
       "description_width": ""
      }
     },
     "dc957bdb5ef34b1295b860665a76aab2": {
      "model_module": "@jupyter-widgets/output",
      "model_module_version": "1.0.0",
      "model_name": "OutputModel",
      "state": {
       "layout": "IPY_MODEL_918b87e5973e4097bcdaa2cc8c8e0874",
       "outputs": [
        {
         "name": "stdout",
         "output_type": "stream",
         "text": "10\n"
        }
       ]
      }
     },
     "dcd5d53ce95d44fba7612aa3032edac4": {
      "model_module": "@jupyter-widgets/controls",
      "model_module_version": "1.5.0",
      "model_name": "TextModel",
      "state": {
       "description": "x",
       "layout": "IPY_MODEL_5feba1820dcd4402be15846da7d3aea6",
       "style": "IPY_MODEL_a6cb9aaa60414a30beb3c92e886ee1ba",
       "value": "SPX"
      }
     },
     "dd5e794b403b43628719ee0163bd2125": {
      "model_module": "@jupyter-widgets/output",
      "model_module_version": "1.0.0",
      "model_name": "OutputModel",
      "state": {
       "layout": "IPY_MODEL_444e59699cfc45f8a21b201b46b932a2",
       "outputs": [
        {
         "data": {
          "text/html": "<div>\n<style scoped>\n    .dataframe tbody tr th:only-of-type {\n        vertical-align: middle;\n    }\n\n    .dataframe tbody tr th {\n        vertical-align: top;\n    }\n\n    .dataframe thead th {\n        text-align: right;\n    }\n</style>\n<table border=\"1\" class=\"dataframe\">\n  <thead>\n    <tr style=\"text-align: right;\">\n      <th></th>\n      <th>DATE</th>\n      <th>ISSUER</th>\n      <th>TYPE</th>\n      <th>SIZE</th>\n      <th>INDUSTRY</th>\n      <th>LEAD UNDERWRITER</th>\n    </tr>\n  </thead>\n  <tbody>\n    <tr>\n      <th>279</th>\n      <td>2006-03-25</td>\n      <td>BP Amoco plc</td>\n      <td>Global Notes</td>\n      <td>500.21</td>\n      <td>Oil &amp; Gas</td>\n      <td>Morgan Stanley</td>\n    </tr>\n    <tr>\n      <th>341</th>\n      <td>2006-04-09</td>\n      <td>Kerr-McGee Corp.</td>\n      <td>Global Notes</td>\n      <td>350.15</td>\n      <td>Oil &amp; Gas</td>\n      <td>Credit Suisse First Boston</td>\n    </tr>\n  </tbody>\n</table>\n</div>",
          "text/plain": "          DATE             ISSUER          TYPE    SIZE   INDUSTRY  \\\n279 2006-03-25      BP Amoco plc   Global Notes  500.21  Oil & Gas   \n341 2006-04-09  Kerr-McGee Corp.   Global Notes  350.15  Oil & Gas   \n\n               LEAD UNDERWRITER  \n279              Morgan Stanley  \n341  Credit Suisse First Boston  "
         },
         "metadata": {},
         "output_type": "display_data"
        }
       ]
      }
     },
     "dd885f8fbaa849f7926d38916302bc03": {
      "model_module": "@jupyter-widgets/controls",
      "model_module_version": "1.5.0",
      "model_name": "DescriptionStyleModel",
      "state": {
       "description_width": ""
      }
     },
     "ddd239e6808240b98bfcd834fc403a49": {
      "model_module": "@jupyter-widgets/controls",
      "model_module_version": "1.5.0",
      "model_name": "VBoxModel",
      "state": {
       "_dom_classes": [
        "widget-interact"
       ],
       "children": [
        "IPY_MODEL_c71a317011bf49cdb022fab58109795f",
        "IPY_MODEL_bb86bbd16007409ca9c6e20d44c672ee",
        "IPY_MODEL_db4bc69cc0504d95a24fcc73f8a01e1e",
        "IPY_MODEL_dd5e794b403b43628719ee0163bd2125"
       ],
       "layout": "IPY_MODEL_a016524ec9454bfda0a4cfd3b695d34b"
      }
     },
     "de6ff9c75625437c90bfbfa2d1ef7c37": {
      "model_module": "@jupyter-widgets/controls",
      "model_module_version": "1.5.0",
      "model_name": "VBoxModel",
      "state": {
       "_dom_classes": [
        "widget-interact"
       ],
       "children": [
        "IPY_MODEL_4de537f1e7c14733ae5e7ca4e25385d6",
        "IPY_MODEL_4e615388a6374f6c807d4067ced19cc9",
        "IPY_MODEL_fdc93a625e054bd3b5e90f6faf07662a",
        "IPY_MODEL_65fa69467b4d474d9d235cb3dfca5908",
        "IPY_MODEL_4383cb632c614fe180c3aa39719a25a7"
       ],
       "layout": "IPY_MODEL_6e722588e22146338eb0c1e206e1da7a"
      }
     },
     "debadd5242b8493c82401b2e497e04b3": {
      "model_module": "@jupyter-widgets/output",
      "model_module_version": "1.0.0",
      "model_name": "OutputModel",
      "state": {
       "layout": "IPY_MODEL_1729adb981554fb096ad251710ad446b",
       "outputs": [
        {
         "data": {
          "text/html": "<div>\n<style scoped>\n    .dataframe tbody tr th:only-of-type {\n        vertical-align: middle;\n    }\n\n    .dataframe tbody tr th {\n        vertical-align: top;\n    }\n\n    .dataframe thead th {\n        text-align: right;\n    }\n</style>\n<table border=\"1\" class=\"dataframe\">\n  <thead>\n    <tr style=\"text-align: right;\">\n      <th></th>\n      <th>DATE</th>\n      <th>ISSUER</th>\n      <th>TYPE</th>\n      <th>SIZE</th>\n      <th>INDUSTRY</th>\n      <th>LEAD UNDERWRITER</th>\n    </tr>\n  </thead>\n  <tbody>\n    <tr>\n      <th>279</th>\n      <td>2006-03-25</td>\n      <td>BP Amoco plc</td>\n      <td>Global Notes</td>\n      <td>500.21</td>\n      <td>Oil &amp; Gas</td>\n      <td>Morgan Stanley</td>\n    </tr>\n    <tr>\n      <th>341</th>\n      <td>2006-04-09</td>\n      <td>Kerr-McGee Corp.</td>\n      <td>Global Notes</td>\n      <td>350.15</td>\n      <td>Oil &amp; Gas</td>\n      <td>Credit Suisse First Boston</td>\n    </tr>\n  </tbody>\n</table>\n</div>",
          "text/plain": "          DATE             ISSUER          TYPE    SIZE   INDUSTRY  \\\n279 2006-03-25      BP Amoco plc   Global Notes  500.21  Oil & Gas   \n341 2006-04-09  Kerr-McGee Corp.   Global Notes  350.15  Oil & Gas   \n\n               LEAD UNDERWRITER  \n279              Morgan Stanley  \n341  Credit Suisse First Boston  "
         },
         "metadata": {},
         "output_type": "display_data"
        }
       ]
      }
     },
     "df95fdd0d32c46c59b513210c3f57dc2": {
      "model_module": "@jupyter-widgets/base",
      "model_module_version": "1.2.0",
      "model_name": "LayoutModel",
      "state": {}
     },
     "e02c7335a116475b870a8a868146aaba": {
      "model_module": "@jupyter-widgets/base",
      "model_module_version": "1.2.0",
      "model_name": "LayoutModel",
      "state": {}
     },
     "e0888389c5974517b50f030a8c1a64f0": {
      "model_module": "@jupyter-widgets/controls",
      "model_module_version": "1.5.0",
      "model_name": "IntSliderModel",
      "state": {
       "description": "x",
       "layout": "IPY_MODEL_b01c768fb0b946678f15974bcf7d7959",
       "max": 200,
       "min": 100,
       "style": "IPY_MODEL_a71e7d06bb384bef97077101be17da89",
       "value": 150
      }
     },
     "e2ccea4719b247a3be1cc2d95182fcba": {
      "model_module": "@jupyter-widgets/controls",
      "model_module_version": "1.5.0",
      "model_name": "DescriptionStyleModel",
      "state": {
       "description_width": ""
      }
     },
     "e32df3e4762645d88a1c25a7951b5405": {
      "model_module": "@jupyter-widgets/base",
      "model_module_version": "1.2.0",
      "model_name": "LayoutModel",
      "state": {}
     },
     "e397ab2352694367bfd8e95a5c4db9a3": {
      "model_module": "@jupyter-widgets/controls",
      "model_module_version": "1.5.0",
      "model_name": "SliderStyleModel",
      "state": {
       "description_width": ""
      }
     },
     "e56ceddf632f43b59f9f57c0ca1f8d00": {
      "model_module": "@jupyter-widgets/controls",
      "model_module_version": "1.5.0",
      "model_name": "DescriptionStyleModel",
      "state": {
       "description_width": ""
      }
     },
     "e7177b1e3023488eb1b2317890505ac2": {
      "model_module": "@jupyter-widgets/base",
      "model_module_version": "1.2.0",
      "model_name": "LayoutModel",
      "state": {}
     },
     "e7582247542b46dc804d06750057eaf2": {
      "model_module": "@jupyter-widgets/base",
      "model_module_version": "1.2.0",
      "model_name": "LayoutModel",
      "state": {}
     },
     "e8c230fab96143cb993cb48a1c5fc888": {
      "model_module": "@jupyter-widgets/controls",
      "model_module_version": "1.5.0",
      "model_name": "RadioButtonsModel",
      "state": {
       "_options_labels": [
        "UKX",
        "SPX",
        "NKY"
       ],
       "description": "pickIndex",
       "index": 0,
       "layout": "IPY_MODEL_ca64e7f733394fd981b218d8a510e016",
       "style": "IPY_MODEL_65a8a66cddeb4d6aae49234313c59234"
      }
     },
     "e8f48e24417f4eac81df0fa3d114a0fb": {
      "model_module": "@jupyter-widgets/controls",
      "model_module_version": "1.5.0",
      "model_name": "TextModel",
      "state": {
       "description": "column",
       "layout": "IPY_MODEL_4ceca091e380497390e8a8ef176e7c5a",
       "style": "IPY_MODEL_dc0b1748a45e496abe3b3f063303d82f",
       "value": "Hi"
      }
     },
     "e963e7fa956243b4b7105532cb302aa7": {
      "model_module": "@jupyter-widgets/output",
      "model_module_version": "1.0.0",
      "model_name": "OutputModel",
      "state": {
       "layout": "IPY_MODEL_069b71770b1549a1aec384979916d701",
       "outputs": [
        {
         "data": {
          "text/plain": "('UKX', 150, 'AAPL', True)"
         },
         "metadata": {},
         "output_type": "display_data"
        }
       ]
      }
     },
     "eafce8b95a9c4201b3a1f5134dd8063f": {
      "model_module": "@jupyter-widgets/controls",
      "model_module_version": "1.5.0",
      "model_name": "DescriptionStyleModel",
      "state": {
       "description_width": ""
      }
     },
     "eb04477a38834487b7938339aa365908": {
      "model_module": "@jupyter-widgets/controls",
      "model_module_version": "1.5.0",
      "model_name": "VBoxModel",
      "state": {
       "_dom_classes": [
        "widget-interact"
       ],
       "children": [
        "IPY_MODEL_c71a317011bf49cdb022fab58109795f",
        "IPY_MODEL_36326bfb891c412cbb982df9ffa6a54b"
       ],
       "layout": "IPY_MODEL_348faa4e5f064eb68c393d09d28f0649"
      }
     },
     "ebb16d172d7941ebbcd79a0a5139a2b6": {
      "model_module": "@jupyter-widgets/controls",
      "model_module_version": "1.5.0",
      "model_name": "DescriptionStyleModel",
      "state": {
       "description_width": ""
      }
     },
     "ed37fe2dd71143fa861cdf7f450be9ed": {
      "model_module": "@jupyter-widgets/controls",
      "model_module_version": "1.5.0",
      "model_name": "SliderStyleModel",
      "state": {
       "description_width": ""
      }
     },
     "edb573fbdce24d5aa9a92f06d60cdb8f": {
      "model_module": "@jupyter-widgets/base",
      "model_module_version": "1.2.0",
      "model_name": "LayoutModel",
      "state": {}
     },
     "edb95691c07c4338ac975d15dfa5972f": {
      "model_module": "@jupyter-widgets/output",
      "model_module_version": "1.0.0",
      "model_name": "OutputModel",
      "state": {
       "layout": "IPY_MODEL_b780bc44475245a18494e054fd524d4c",
       "outputs": [
        {
         "name": "stdout",
         "output_type": "stream",
         "text": "10\n"
        }
       ]
      }
     },
     "eefa67fda78a446bbcc4a726a4c32405": {
      "model_module": "@jupyter-widgets/controls",
      "model_module_version": "1.5.0",
      "model_name": "VBoxModel",
      "state": {
       "_dom_classes": [
        "widget-interact"
       ],
       "children": [
        "IPY_MODEL_97fabad69097460589fb96a92c72ee37",
        "IPY_MODEL_261c9711f8724aef8d6b667d6f334d8b"
       ],
       "layout": "IPY_MODEL_7b4fd21b0a5b47daaad9bd8468ada430"
      }
     },
     "efe5f917719845c6997104a6bc2e979e": {
      "model_module": "@jupyter-widgets/controls",
      "model_module_version": "1.5.0",
      "model_name": "VBoxModel",
      "state": {
       "_dom_classes": [
        "widget-interact"
       ],
       "children": [
        "IPY_MODEL_3ecb1b07cd764338b149f2000e365593",
        "IPY_MODEL_3407fe0d5a9f442e8608d0535bf887a0",
        "IPY_MODEL_884ccaa1f93546549ac1b1eafa8c81e7",
        "IPY_MODEL_5afae101027b4e7bb02345e2337c9de0",
        "IPY_MODEL_e963e7fa956243b4b7105532cb302aa7"
       ],
       "layout": "IPY_MODEL_bf35e734cc5043fd98a90fbf55be546b"
      }
     },
     "f0d7a0695ac64c1a803c37c5f2545c3c": {
      "model_module": "@jupyter-widgets/base",
      "model_module_version": "1.2.0",
      "model_name": "LayoutModel",
      "state": {}
     },
     "f11239f28a9040b7a56a8c584de522e8": {
      "model_module": "@jupyter-widgets/controls",
      "model_module_version": "1.5.0",
      "model_name": "SliderStyleModel",
      "state": {
       "description_width": ""
      }
     },
     "f2a10fb3fc354b0d9beea6c8eb245ca3": {
      "model_module": "@jupyter-widgets/controls",
      "model_module_version": "1.5.0",
      "model_name": "DropdownModel",
      "state": {
       "_options_labels": [
        "Global Notes",
        "Initial Public Offering",
        "CD Notes",
        "Equity Follow-On Offering",
        "Bank Notes",
        "Sr Notes",
        "Bonds",
        "Notes",
        "Preferred Securities",
        "Mortgage Bonds"
       ],
       "description": "Type of Deal:",
       "index": 3,
       "layout": "IPY_MODEL_452212a0065d4f4d8eff5ef454472b2c",
       "style": "IPY_MODEL_26844bf9e00546f6a075fce55c442747"
      }
     },
     "f3495db0b9ca4ef189532299f9d12c72": {
      "model_module": "@jupyter-widgets/base",
      "model_module_version": "1.2.0",
      "model_name": "LayoutModel",
      "state": {}
     },
     "f3e949ccf3124b5c89274c0316f1c0ff": {
      "model_module": "@jupyter-widgets/base",
      "model_module_version": "1.2.0",
      "model_name": "LayoutModel",
      "state": {}
     },
     "f3f879f3bca448219beaa57f047b34e9": {
      "model_module": "@jupyter-widgets/controls",
      "model_module_version": "1.5.0",
      "model_name": "DropdownModel",
      "state": {
       "_options_labels": [
        "Finance",
        "Real Estate",
        "Computers & Electronics",
        "Utility",
        "Healthcare",
        "Paper & Packaging",
        "Retail",
        "Defense Contractors",
        "Leisure & Recreation",
        "Machinery",
        "Metal & Steel",
        "Food & Beverage",
        "Telecommunications",
        "Oil & Gas",
        "Consumer Products",
        "Insurance",
        "Chemicals",
        "Transportation",
        "Professional Services",
        "Construction/Bldg Prods",
        "Electric Services ",
        "Auto/Truck",
        "Textile",
        "Broadcasting",
        "Foreign Agency"
       ],
       "description": "Industry:",
       "index": 17,
       "layout": "IPY_MODEL_987190568edb41b982834f65a4380616",
       "style": "IPY_MODEL_4a6b3bc43268421f8ded918bc1c52573"
      }
     },
     "f4843b63cca24b1399755d9567cb196f": {
      "model_module": "@jupyter-widgets/controls",
      "model_module_version": "1.5.0",
      "model_name": "DescriptionStyleModel",
      "state": {
       "description_width": ""
      }
     },
     "f5b4bf4376ef455ebb483e56b27b048e": {
      "model_module": "@jupyter-widgets/controls",
      "model_module_version": "1.5.0",
      "model_name": "DescriptionStyleModel",
      "state": {
       "description_width": ""
      }
     },
     "f643e1e5f4644c5cb30e489b58d1ffa6": {
      "model_module": "@jupyter-widgets/base",
      "model_module_version": "1.2.0",
      "model_name": "LayoutModel",
      "state": {}
     },
     "f709dec1410144c7a129b8b23d89efd6": {
      "model_module": "@jupyter-widgets/base",
      "model_module_version": "1.2.0",
      "model_name": "LayoutModel",
      "state": {}
     },
     "f81a938059e24af68ccf6c480a4c0424": {
      "model_module": "@jupyter-widgets/base",
      "model_module_version": "1.2.0",
      "model_name": "LayoutModel",
      "state": {}
     },
     "f8f54b49187f4a79b34ee597b63bf485": {
      "model_module": "@jupyter-widgets/base",
      "model_module_version": "1.2.0",
      "model_name": "LayoutModel",
      "state": {}
     },
     "fa6946fe7b744e7cbc704b847adf9b31": {
      "model_module": "@jupyter-widgets/controls",
      "model_module_version": "1.5.0",
      "model_name": "DropdownModel",
      "state": {
       "_options_labels": [
        "Global Notes",
        "Initial Public Offering",
        "CD Notes",
        "Equity Follow-On Offering",
        "Bank Notes",
        "Sr Notes",
        "Bonds",
        "Notes",
        "Preferred Securities",
        "Mortgage Bonds"
       ],
       "description": "Type of Deal:",
       "index": 0,
       "layout": "IPY_MODEL_747ccdfe95374631a8af674c84c48d57",
       "style": "IPY_MODEL_58f4196f28c945b7b2c477e308c2c5a3"
      }
     },
     "fa9d67a356b3454786af2e407241ff2a": {
      "model_module": "@jupyter-widgets/controls",
      "model_module_version": "1.5.0",
      "model_name": "DescriptionStyleModel",
      "state": {
       "description_width": ""
      }
     },
     "faa26ed5a0484a02ae953c5bf9b31215": {
      "model_module": "@jupyter-widgets/output",
      "model_module_version": "1.0.0",
      "model_name": "OutputModel",
      "state": {
       "layout": "IPY_MODEL_fe1c31c9b36c48d6a01a326d6b8b3849",
       "outputs": [
        {
         "data": {
          "text/plain": "('Hi', 5000)"
         },
         "metadata": {},
         "output_type": "display_data"
        }
       ]
      }
     },
     "faac1b9955644767bc735b847802f5aa": {
      "model_module": "@jupyter-widgets/controls",
      "model_module_version": "1.5.0",
      "model_name": "DescriptionStyleModel",
      "state": {
       "description_width": ""
      }
     },
     "faf5818a8b3b4fd88b1f682865d1d286": {
      "model_module": "@jupyter-widgets/controls",
      "model_module_version": "1.5.0",
      "model_name": "DropdownModel",
      "state": {
       "_options_labels": [
        "Finance",
        "Real Estate",
        "Computers & Electronics",
        "Utility",
        "Healthcare",
        "Paper & Packaging",
        "Retail",
        "Defense Contractors",
        "Leisure & Recreation",
        "Machinery",
        "Metal & Steel",
        "Food & Beverage",
        "Telecommunications",
        "Oil & Gas",
        "Consumer Products",
        "Insurance",
        "Chemicals",
        "Transportation",
        "Professional Services",
        "Construction/Bldg Prods",
        "Electric Services ",
        "Auto/Truck",
        "Textile",
        "Broadcasting",
        "Foreign Agency"
       ],
       "description": "Industry:",
       "index": 1,
       "layout": "IPY_MODEL_a3676faa9686421785b204717caa500f",
       "style": "IPY_MODEL_e56ceddf632f43b59f9f57c0ca1f8d00"
      }
     },
     "fdc93a625e054bd3b5e90f6faf07662a": {
      "model_module": "@jupyter-widgets/controls",
      "model_module_version": "1.5.0",
      "model_name": "TextModel",
      "state": {
       "description": "pickTicker",
       "layout": "IPY_MODEL_cc5924031e04403d96031bdc8e96d058",
       "style": "IPY_MODEL_ebb16d172d7941ebbcd79a0a5139a2b6",
       "value": "AAPL"
      }
     },
     "fe1c31c9b36c48d6a01a326d6b8b3849": {
      "model_module": "@jupyter-widgets/base",
      "model_module_version": "1.2.0",
      "model_name": "LayoutModel",
      "state": {}
     },
     "fed4cc137d6b4fd9b43c5cdb47366da0": {
      "model_module": "@jupyter-widgets/controls",
      "model_module_version": "1.5.0",
      "model_name": "DescriptionStyleModel",
      "state": {
       "description_width": ""
      }
     },
     "fef39a2189ac44458324934d8c6f6c7a": {
      "model_module": "@jupyter-widgets/controls",
      "model_module_version": "1.5.0",
      "model_name": "VBoxModel",
      "state": {
       "_dom_classes": [
        "widget-interact"
       ],
       "children": [
        "IPY_MODEL_8bbd7754c69b4e25bcccb8efa5fa81b8",
        "IPY_MODEL_48f5ce76a3364708aa1928ff3096eeec",
        "IPY_MODEL_b92c0e86bd354616a524acca366afccd",
        "IPY_MODEL_0017930bc97941bab467e33f5de847a4",
        "IPY_MODEL_33253ec626c846a3b3ad60cab436082a"
       ],
       "layout": "IPY_MODEL_3a2629b1381e45d9b48188649851e183"
      }
     },
     "ff4c194a42ff4394838bcd8805cef5c1": {
      "model_module": "@jupyter-widgets/controls",
      "model_module_version": "1.5.0",
      "model_name": "DescriptionStyleModel",
      "state": {
       "description_width": ""
      }
     }
    },
    "version_major": 2,
    "version_minor": 0
   }
  }
 },
 "nbformat": 4,
 "nbformat_minor": 4
}
