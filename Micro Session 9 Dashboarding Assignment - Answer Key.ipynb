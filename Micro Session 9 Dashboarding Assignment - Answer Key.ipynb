{
 "cells": [
  {
   "cell_type": "markdown",
   "id": "0fe8b5c9",
   "metadata": {},
   "source": [
    "# Micro Session 9: Dashboarding with Python Assignment - Answer Key"
   ]
  },
  {
   "cell_type": "markdown",
   "id": "d91b745e",
   "metadata": {},
   "source": [
    "### Exercise 1 - Interactive Line Charts\n",
    "Load up the Apple data set and create two widgets to allow the user to pick start/end for a line chart of the closing prices.\n",
    "1. Import data (AAPL.csv). Make sure to parse the dates and set them as the index.\n",
    "2. Create and test the output of the line chart with hard coded variables for the start/end dates.\n",
    "3. Create a function for the output you created in step 2, where the inputs are the start and end dates as strings.\n",
    "4. Create 2 widgets for picking the start and end dates.\n",
    "5. Connect the widgets to the function."
   ]
  },
  {
   "cell_type": "code",
   "execution_count": null,
   "id": "4ef9056e",
   "metadata": {},
   "outputs": [],
   "source": [
    "#Import Packages\n",
    "import ipywidgets as widgets\n",
    "import pandas as pd\n",
    "import plotly.express as px\n",
    "from ipywidgets import interact, interact_manual\n",
    "from IPython.display import display"
   ]
  },
  {
   "cell_type": "code",
   "execution_count": null,
   "id": "9fe154d8",
   "metadata": {},
   "outputs": [],
   "source": [
    "#Step 1 - import data\n",
    "aapl = pd.read_csv('StockData/AAPL.csv', parse_dates=['Date'], index_col=['Date'])"
   ]
  },
  {
   "cell_type": "code",
   "execution_count": null,
   "id": "7df1d89a",
   "metadata": {},
   "outputs": [],
   "source": [
    "#Step 2 - create and test the outputs you want with python code\n",
    "start = '2016-05-05'\n",
    "end = '2017-05-05'\n",
    "filtered = aapl.loc[start:end]\n",
    "fig = px.line(filtered, y='Close')\n",
    "fig.show()"
   ]
  },
  {
   "cell_type": "code",
   "execution_count": null,
   "id": "028e098a",
   "metadata": {},
   "outputs": [],
   "source": [
    "#Step 3 - create a function for the outputs\n",
    "def createLineChart(start, end):\n",
    "    filtered = aapl.loc[start:end]\n",
    "    fig = px.line(filtered, y='Close')\n",
    "    fig.show()\n",
    "    display(filtered)"
   ]
  },
  {
   "cell_type": "code",
   "execution_count": null,
   "id": "7c151169",
   "metadata": {},
   "outputs": [],
   "source": [
    "# createLineChart(\"2017-01-01\",'2018-01-05')"
   ]
  },
  {
   "cell_type": "code",
   "execution_count": null,
   "id": "ffc005bf",
   "metadata": {},
   "outputs": [],
   "source": [
    "#Step 4 - create the widgets and test them\n",
    "startPick = widgets.DatePicker(description='Start:', value=aapl.index.min())\n",
    "endPick = widgets.DatePicker(description='End:', value=aapl.index.max())\n",
    "display(endPick) #Test output of widget"
   ]
  },
  {
   "cell_type": "code",
   "execution_count": null,
   "id": "62d105ce",
   "metadata": {},
   "outputs": [],
   "source": [
    "#Step 5 - connect the widgets to the function\n",
    "output1 = widgets.interactive_output(createLineChart, {\"start\":startPick, \"end\":endPick})\n",
    "\n",
    "# display(startPick, endPick)\n",
    "display(widgets.HBox([startPick, endPick]))\n",
    "display(output1)"
   ]
  },
  {
   "cell_type": "markdown",
   "id": "5943c599",
   "metadata": {},
   "source": [
    "### Exercise 2 - Interactive Dashboards\n",
    "\n",
    "In this exercise you will practice creating interactive elements to dynamically update charts. The dashboard will showcase the interactivity of plotly express charts by slicing the Financing Deals data set by different categories.\n",
    "1. Load the financing deals data set from the Data Manipulation Worksheet.xlsx file in ExData.\t\n",
    "    - Use the Financing Table Clean tab.\n",
    "2. Create a function that grabs two inputs and plots a Plotly graph.\n",
    "    - One of the inputs should be the header name of the field to be plotted on the x-axis and the other the header of the field to be shown in the legend.\n",
    "3. Create two widgets, one dropdown to select the data to be plotted on the x-axis, and one dropdown for the data to be plotted in the legend of the graph.\n",
    "4. Preview the dashboard using Voila.\n",
    "\n",
    "Challenge: Show the dropdowns side by side instead of next to each other and also add a textbox to search and filter the dataframe for a specific lead underwriter. (Hint: use interactive_output and widget.HBox or .VBox)"
   ]
  },
  {
   "cell_type": "code",
   "execution_count": null,
   "id": "ba776bb5",
   "metadata": {
    "execution": {
     "iopub.execute_input": "2021-11-05T10:26:59.490544Z",
     "iopub.status.busy": "2021-11-05T10:26:59.489513Z",
     "iopub.status.idle": "2021-11-05T10:27:00.586031Z",
     "shell.execute_reply": "2021-11-05T10:27:00.584037Z",
     "shell.execute_reply.started": "2021-11-05T10:26:59.490544Z"
    },
    "tags": []
   },
   "outputs": [],
   "source": [
    "#Import Packages\n",
    "import ipywidgets as widgets\n",
    "import pandas as pd\n",
    "import plotly.express as px\n",
    "from ipywidgets import interact, interact_manual\n",
    "from IPython.display import display\n",
    "\n",
    "#Import Data\n",
    "finData = pd.read_excel(\"ExData/Data Manipulation Worksheet.xlsx\",\n",
    "                        sheet_name=\"Financing Table Clean\")\n",
    "cols = finData.columns\n",
    "\n",
    "def dynamicPlot(xData, legendData):\n",
    "    fig = px.bar(finData, x=xData, y='SIZE', color=legendData,\n",
    "                 title=\"Total Deal Value by {} and {}\".format(xData,legendData))\n",
    "    fig.show()\n",
    "\n",
    "xDrop = widgets.Dropdown(options=cols, value='INDUSTRY', description='Pick x-Axis:')\n",
    "legendDrop = widgets.Dropdown(options=cols, value='TYPE', description='Pick legend:')\n",
    "\n",
    "dash = interact(dynamicPlot, xData=xDrop, legendData=legendDrop)"
   ]
  },
  {
   "cell_type": "code",
   "execution_count": null,
   "id": "0e39aa91",
   "metadata": {
    "execution": {
     "iopub.execute_input": "2021-11-05T10:27:28.888687Z",
     "iopub.status.busy": "2021-11-05T10:27:28.888687Z",
     "iopub.status.idle": "2021-11-05T10:27:29.477722Z",
     "shell.execute_reply": "2021-11-05T10:27:29.476724Z",
     "shell.execute_reply.started": "2021-11-05T10:27:28.888687Z"
    },
    "tags": []
   },
   "outputs": [],
   "source": [
    "#Challenge\n",
    "def dynamicPlot(xData, legendData, bankName):\n",
    "    filterDF = finData[finData['LEAD UNDERWRITER'].str.contains(bankName)]\n",
    "    fig = px.bar(filterDF, x=xData, y='SIZE', color=legendData,\n",
    "                 title=\"Total Deal Value by {} and {}\".format(xData,legendData))\n",
    "    fig.show()\n",
    "    \n",
    "def showDF(bankName, showDF):\n",
    "    if showDF:\n",
    "        filterDF = finData[finData['LEAD UNDERWRITER'].str.contains(bankName)]\n",
    "        display(filterDF)\n",
    "\n",
    "#widgets\n",
    "xDrop = widgets.Dropdown(options=cols, value='INDUSTRY', description='Pick x-Axis:')\n",
    "legendDrop = widgets.Dropdown(options=cols, value='TYPE', description='Pick legend:')\n",
    "showDFCheck = widgets.Checkbox(value=False, description='Show List of Deals')\n",
    "bankInput = widgets.Text(value=\"\", description='Search for lead underwriter')\n",
    "\n",
    "\n",
    "out1 = widgets.interactive_output(dynamicPlot,\n",
    "                                  {\"xData\":xDrop, \"legendData\":legendDrop, \"bankName\":bankInput})\n",
    "out2 = widgets.interactive_output(showDF,\n",
    "                                  {\"showDF\":showDFCheck, \"bankName\":bankInput})\n",
    "\n",
    "dash_widgets = widgets.HBox([xDrop, legendDrop, showDFCheck])\n",
    "widgets.VBox([bankInput, dash_widgets, out1, out2])"
   ]
  },
  {
   "cell_type": "markdown",
   "id": "82886924",
   "metadata": {},
   "source": [
    "## Advanced Question\n",
    "### Exercise 3 - Analysis of S&P 500 Constituents\n",
    "\n",
    "In this exercise you will practice many of the concepts learned in training, including exploring, cleaning up and merging data sets with Pandas, creating calculated fields and interactive visualizations and dashboards.\n",
    "\n",
    "1. Import packages below.\n",
    "2. Load up the following two data sets from the ExData folder:\n",
    "- sp500_SectorData.csv - this contains sector information of each of the S&P500 constitutents\n",
    "- sp500_Cos_ValMetrics.csv - this contains valuation metrics of the S&P500 companies\n",
    "\n",
    "3. Merge the two dataframes into one table.\n",
    "4. Box Plots - create two different boxplot graphs with Seaborn:\n",
    "    - One showing distribution of Betas by GICS Sector\n",
    "    - One showing EV/Revenue by GICS Sector\n",
    "    \n",
    "5. You will notice that one of the graphs is skewed due to outliers. Explore the data to understand which companies represent those outliers. (Hint: perform a filter on the EV/Revenue column). What do you notice is common about the companies?\n",
    "\n",
    "6. Recreate the second Box Plot without the outliers found.\n",
    "\n",
    "7. Apply a \"cleaning up\" function on the Enterprise Value column to remove the B's and T's and convert the billions and trillions values into USD$ millions.\n",
    "\n",
    "8. Create a dashboard that allows the user to pick from two dropdowns the following:\n",
    "- GICS Sector to plot\n",
    "- Type of graph to show\n",
    "\n",
    "The options for graphs should be:\n",
    "- a Plotly Sunburst chart: https://plotly.com/python/sunburst-charts/\n",
    "- a Plotly Tree Map chart: https://plotly.com/python/treemaps/\n",
    "- a Plotly Bar chart with GICS Sub-Industry as the x-axis: https://plotly.com/python/bar-charts/\n",
    "\n",
    "All three charts should show EV in USD millions as the value. For the Sunburst and Tree Map, the \"path\" should be: GICS Sub-Industry --> Symbol.\n",
    "\n",
    "Hint: Use an if statement in the function tied to the interactive widgets.\n",
    "\n",
    "Run the dashboard through Voila preview to interact with the widgets without seeing the codes."
   ]
  },
  {
   "cell_type": "code",
   "execution_count": null,
   "id": "89a59a41",
   "metadata": {
    "execution": {
     "iopub.execute_input": "2021-11-05T12:09:23.750387Z",
     "iopub.status.busy": "2021-11-05T12:09:23.750387Z",
     "iopub.status.idle": "2021-11-05T12:09:23.766343Z",
     "shell.execute_reply": "2021-11-05T12:09:23.765345Z",
     "shell.execute_reply.started": "2021-11-05T12:09:23.750387Z"
    },
    "tags": []
   },
   "outputs": [],
   "source": [
    "#Import packages\n",
    "import pandas as pd\n",
    "import matplotlib.pyplot as plt\n",
    "import seaborn as sns\n",
    "import plotly.express as px\n",
    "from IPython.display import display\n",
    "from ipywidgets import interact, interactive"
   ]
  },
  {
   "cell_type": "code",
   "execution_count": null,
   "id": "271c35aa",
   "metadata": {
    "execution": {
     "iopub.execute_input": "2021-11-05T12:09:24.805638Z",
     "iopub.status.busy": "2021-11-05T12:09:24.805638Z",
     "iopub.status.idle": "2021-11-05T12:09:24.848038Z",
     "shell.execute_reply": "2021-11-05T12:09:24.846044Z",
     "shell.execute_reply.started": "2021-11-05T12:09:24.805638Z"
    },
    "tags": []
   },
   "outputs": [],
   "source": [
    "#Import Data\n",
    "sectors = pd.read_csv(\"ExData/sp500_SectorData.csv\")\n",
    "valMetrics = pd.read_csv(\"ExData/sp500_Cos_ValMetrics.csv\")\n"
   ]
  },
  {
   "cell_type": "code",
   "execution_count": null,
   "id": "2290f3dd",
   "metadata": {
    "execution": {
     "iopub.execute_input": "2021-11-05T12:23:45.565633Z",
     "iopub.status.busy": "2021-11-05T12:23:45.564636Z",
     "iopub.status.idle": "2021-11-05T12:23:45.609029Z",
     "shell.execute_reply": "2021-11-05T12:23:45.607034Z",
     "shell.execute_reply.started": "2021-11-05T12:23:45.565633Z"
    },
    "tags": []
   },
   "outputs": [],
   "source": [
    "sectors.info()\n",
    "valMetrics.info()"
   ]
  },
  {
   "cell_type": "code",
   "execution_count": null,
   "id": "ead1eedf",
   "metadata": {
    "execution": {
     "iopub.execute_input": "2021-11-05T12:21:58.048296Z",
     "iopub.status.busy": "2021-11-05T12:21:58.047299Z",
     "iopub.status.idle": "2021-11-05T12:21:58.057272Z",
     "shell.execute_reply": "2021-11-05T12:21:58.056276Z",
     "shell.execute_reply.started": "2021-11-05T12:21:58.048296Z"
    },
    "tags": []
   },
   "outputs": [],
   "source": [
    "#sectors\n",
    "#sectors['GICS Sector'].value_counts()"
   ]
  },
  {
   "cell_type": "code",
   "execution_count": null,
   "id": "00b88111",
   "metadata": {
    "execution": {
     "iopub.execute_input": "2021-11-05T12:19:18.591270Z",
     "iopub.status.busy": "2021-11-05T12:19:18.590277Z",
     "iopub.status.idle": "2021-11-05T12:19:18.650113Z",
     "shell.execute_reply": "2021-11-05T12:19:18.648117Z",
     "shell.execute_reply.started": "2021-11-05T12:19:18.591270Z"
    },
    "tags": []
   },
   "outputs": [],
   "source": [
    "#Merge Data\n",
    "stockData = sectors.merge(valMetrics, how='outer', on='Symbol')\n",
    "        # left_on = ['Date'], right_on=['Date']\n",
    "# stockData.info()\n",
    "stockData[stockData['Enterprise Value'].isnull()]"
   ]
  },
  {
   "cell_type": "code",
   "execution_count": null,
   "id": "f6f13a56",
   "metadata": {
    "execution": {
     "iopub.execute_input": "2021-11-05T12:24:12.563302Z",
     "iopub.status.busy": "2021-11-05T12:24:12.563302Z",
     "iopub.status.idle": "2021-11-05T12:24:13.697445Z",
     "shell.execute_reply": "2021-11-05T12:24:13.695456Z",
     "shell.execute_reply.started": "2021-11-05T12:24:12.563302Z"
    },
    "tags": []
   },
   "outputs": [],
   "source": [
    "#BoxPlot\n",
    "sns.boxplot(y='GICS Sector', x='Beta', data=stockData)\n",
    "sns.set(rc={\"figure.figsize\":(10, 10)})\n",
    "plt.show()"
   ]
  },
  {
   "cell_type": "code",
   "execution_count": null,
   "id": "40b8e3d3",
   "metadata": {},
   "outputs": [],
   "source": [
    "sns.boxplot(y='GICS Sector', x='Enterprise Value/Revenue', data=stockData)\n",
    "sns.set(rc={\"figure.figsize\":(10, 10)})\n",
    "plt.show()"
   ]
  },
  {
   "cell_type": "code",
   "execution_count": null,
   "id": "3dd93fc5",
   "metadata": {},
   "outputs": [],
   "source": [
    "#Outliers in Consumer Discretionary\n",
    "stockData[stockData['Enterprise Value/Revenue']>50]"
   ]
  },
  {
   "cell_type": "code",
   "execution_count": null,
   "id": "19ab369d",
   "metadata": {},
   "outputs": [],
   "source": [
    "#Remove outliers - by filtering out large EV/Sales\n",
    "filterDF = stockData[stockData['Enterprise Value/Revenue']<50]\n",
    "sns.boxplot(y='GICS Sector', x='Enterprise Value/Revenue', data=filterDF)\n",
    "sns.set(rc={\"figure.figsize\":(10, 10)})\n",
    "plt.show()"
   ]
  },
  {
   "cell_type": "code",
   "execution_count": null,
   "id": "63871ef6",
   "metadata": {
    "execution": {
     "iopub.execute_input": "2021-11-05T12:41:33.206869Z",
     "iopub.status.busy": "2021-11-05T12:41:33.205871Z",
     "iopub.status.idle": "2021-11-05T12:41:33.512569Z",
     "shell.execute_reply": "2021-11-05T12:41:33.510572Z",
     "shell.execute_reply.started": "2021-11-05T12:41:33.206869Z"
    },
    "jupyter": {
     "outputs_hidden": true
    },
    "tags": []
   },
   "outputs": [],
   "source": [
    "#Clean up the Enterprise value column by removing the B and T and keeping all values as millions USD\n",
    "def convertEV(ev):\n",
    "    if type(ev) == str:\n",
    "        if ev.find('B') >= 0:\n",
    "            ev = float(ev.replace('B','')) * 1000\n",
    "        elif ev.find('T') >= 0:\n",
    "            ev = float(ev.replace('T','')) * 1000000\n",
    "        else:\n",
    "            ev = float(ev)\n",
    "    return ev\n",
    "stockData['EV mm'] = stockData['Enterprise Value'].apply(convertEV)\n",
    "stockData['Market Cap mm'] = stockData['Market Cap (intraday)'].apply(convertEV)\n",
    "stockData\n",
    "\n",
    "#stockData['Enterprise Value'].str.strip(\"B\").str.strip(\"T\").astype(float)"
   ]
  },
  {
   "cell_type": "code",
   "execution_count": null,
   "id": "1127544b",
   "metadata": {
    "execution": {
     "iopub.execute_input": "2021-11-05T12:41:53.892436Z",
     "iopub.status.busy": "2021-11-05T12:41:53.892436Z",
     "iopub.status.idle": "2021-11-05T12:41:53.924351Z",
     "shell.execute_reply": "2021-11-05T12:41:53.922583Z",
     "shell.execute_reply.started": "2021-11-05T12:41:53.892436Z"
    },
    "tags": []
   },
   "outputs": [],
   "source": [
    "stockData.info()"
   ]
  },
  {
   "cell_type": "code",
   "execution_count": null,
   "id": "b17e9b7f",
   "metadata": {
    "execution": {
     "iopub.execute_input": "2021-11-05T12:54:01.441522Z",
     "iopub.status.busy": "2021-11-05T12:54:01.440526Z"
    },
    "tags": []
   },
   "outputs": [],
   "source": [
    "#Interactive Dashboard\n",
    "def sectorPlot(sector, graphtype):\n",
    "    filterData = stockData[stockData['GICS Sector'] == sector] \n",
    "    print(\"Total EV of ${:,.0f}\".format(filterData['EV mm'].sum()))\n",
    "    if graphtype == 'Sunburst':\n",
    "        fig = px.sunburst(filterData, path=['GICS Sub-Industry', 'Symbol'], values='EV mm')\n",
    "    elif graphtype == 'Tree Map':\n",
    "        fig = px.treemap(filterData, path=['GICS Sub-Industry', 'Symbol'], values='EV mm')\n",
    "    elif graphtype == 'Bar':\n",
    "        fig = px.bar(filterData, x='GICS Sub-Industry', y='EV mm', color='Symbol')\n",
    "    fig.update_layout(\n",
    "        title={\n",
    "            'text': \"EV ($mm) by Sector: \" + sector,\n",
    "            'y':0.99,\n",
    "            'x':0.5,\n",
    "            'xanchor': 'center',\n",
    "            'yanchor': 'top'})\n",
    "    fig.show()\n",
    "\n",
    "    \n",
    "sectorPick = interact(sectorPlot, sector=stockData['GICS Sector'].unique(),\n",
    "                      graphtype=['Sunburst','Tree Map','Bar'])"
   ]
  },
  {
   "cell_type": "code",
   "execution_count": null,
   "id": "aea99ed0",
   "metadata": {},
   "outputs": [],
   "source": []
  }
 ],
 "metadata": {
  "kernelspec": {
   "display_name": "Python 3 (ipykernel)",
   "language": "python",
   "name": "python3"
  },
  "language_info": {
   "codemirror_mode": {
    "name": "ipython",
    "version": 3
   },
   "file_extension": ".py",
   "mimetype": "text/x-python",
   "name": "python",
   "nbconvert_exporter": "python",
   "pygments_lexer": "ipython3",
   "version": "3.9.17"
  }
 },
 "nbformat": 4,
 "nbformat_minor": 5
}
