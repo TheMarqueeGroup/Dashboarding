{
 "cells": [
  {
   "cell_type": "markdown",
   "id": "0fe8b5c9",
   "metadata": {},
   "source": [
    "# Micro Session 9: Dashboarding with Python Assignment"
   ]
  },
  {
   "cell_type": "markdown",
   "id": "05d5a27e",
   "metadata": {},
   "source": [
    "### Exercise 1 - Interactive Line Charts\n",
    "Load up the Apple data set and create two widgets to allow the user to pick start/end for a line chart of the closing prices.\n",
    "1. Import data (AAPL.csv).\n",
    "2. Create and test the output of the line chart with hard coded variables for the start/end dates.\n",
    "3. Create a function for the output you created in step 2, where the inputs are the start and end dates as strings.\n",
    "4. Create 2 widgets for picking the start and end dates.\n",
    "5. Connect the widgets to the function."
   ]
  },
  {
   "cell_type": "code",
   "execution_count": 2,
   "id": "c441a1f9",
   "metadata": {},
   "outputs": [],
   "source": [
    "#Import Packages\n",
    "import ipywidgets as widgets\n",
    "import pandas as pd\n",
    "import plotly.express as px\n",
    "from ipywidgets import interact, interact_manual\n",
    "from IPython.display import display"
   ]
  },
  {
   "cell_type": "code",
   "execution_count": 3,
   "id": "c9ac4f94",
   "metadata": {},
   "outputs": [],
   "source": [
    "#Enter the rest of your code here"
   ]
  },
  {
   "cell_type": "markdown",
   "id": "5943c599",
   "metadata": {},
   "source": [
    "### Exercise 2 - Interactive Dashboards\n",
    "\n",
    "In this exercise you will practice creating interactive elements to dynamically update charts. The dashboard will showcase the interactivity of plotly express charts by slicing the Financing Deals data set by different categories.\n",
    "1. Load the financing deals data set from the Data Manipulation Worksheet.xlsx file in ExData.\t\n",
    "    - Use the Financing Table Clean tab.\n",
    "2. Create a function that grabs two inputs and plots a Plotly graph.\n",
    "    - One of the inputs should be the header name of the field to be plotted on the x-axis and the other the header of the field to be shown in the legend.\n",
    "3. Create two widgets, one dropdown to select the data to be plotted on the x-axis, and one dropdown for the data to be plotted in the legend of the graph.\n",
    "4. Preview the dashboard using Voila.\n",
    "\n",
    "Challenge: Show the dropdowns side by side instead of next to each other and also add a textbox to search and filter the dataframe for a specific lead underwriter. (Hint: use interactive_output and widget.HBox or .VBox)"
   ]
  },
  {
   "cell_type": "code",
   "execution_count": 2,
   "id": "ba776bb5",
   "metadata": {
    "execution": {
     "iopub.execute_input": "2021-11-05T10:26:59.490544Z",
     "iopub.status.busy": "2021-11-05T10:26:59.489513Z",
     "iopub.status.idle": "2021-11-05T10:27:00.586031Z",
     "shell.execute_reply": "2021-11-05T10:27:00.584037Z",
     "shell.execute_reply.started": "2021-11-05T10:26:59.490544Z"
    },
    "tags": []
   },
   "outputs": [],
   "source": [
    "#Import Packages\n",
    "import ipywidgets as widgets\n",
    "import pandas as pd\n",
    "import plotly.express as px\n",
    "from ipywidgets import interact, interact_manual\n",
    "from IPython.display import display\n",
    "\n",
    "#Import Data\n",
    "finData = pd.read_excel(\"ExData/Data Manipulation Worksheet.xlsx\", sheet_name=\"Financing Table Clean\")\n",
    "cols = finData.columns\n",
    "\n",
    "#WRITE YOUR CODE HERE"
   ]
  },
  {
   "cell_type": "code",
   "execution_count": 3,
   "id": "0e39aa91",
   "metadata": {
    "execution": {
     "iopub.execute_input": "2021-11-05T10:27:28.888687Z",
     "iopub.status.busy": "2021-11-05T10:27:28.888687Z",
     "iopub.status.idle": "2021-11-05T10:27:29.477722Z",
     "shell.execute_reply": "2021-11-05T10:27:29.476724Z",
     "shell.execute_reply.started": "2021-11-05T10:27:28.888687Z"
    },
    "tags": []
   },
   "outputs": [],
   "source": [
    "#Challenge\n"
   ]
  },
  {
   "cell_type": "markdown",
   "id": "82886924",
   "metadata": {},
   "source": [
    "## Advanced Question\n",
    "### Exercise 3 - Analysis of S&P 500 Constituents\n",
    "\n",
    "In this exercise you will practice many of the concepts learned in training, including exploring, cleaning up and merging data sets with Pandas, creating calculated fields and interactive visualizations and dashboards.\n",
    "\n",
    "1. Import packages below.\n",
    "2. Load up the following two data sets from the ExData folder:\n",
    "- sp500_SectorData.csv - this contains sector information of each of the S&P500 constitutents\n",
    "- sp500_Cos_ValMetrics.csv - this contains valuation metrics of the S&P500 companies\n",
    "\n",
    "3. Merge the two dataframes into one table.\n",
    "4. Box Plots - create two different boxplot graphs with Seaborn:\n",
    "    - One showing distribution of Betas by GICS Sector\n",
    "    - One showing EV/Revenue by GICS Sector\n",
    "    \n",
    "5. You will notice that one of the graphs is skewed due to outliers. Explore the data to understand which companies represent those outliers. (Hint: perform a filter on the EV/Revenue column). What do you notice is common about the companies?\n",
    "\n",
    "6. Recreate the second Box Plot without the outliers found.\n",
    "\n",
    "7. Apply a \"cleaning up\" function on the Enterprise Value column to remove the B's and T's and convert the billions and trillions values into USD$ millions.\n",
    "\n",
    "8. Create a dashboard that allows the user to pick from two dropdowns the following:\n",
    "- GICS Sector to plot\n",
    "- Type of graph to show\n",
    "\n",
    "The options for graphs should be:\n",
    "- a Plotly Sunburst chart: https://plotly.com/python/sunburst-charts/\n",
    "- a Plotly Tree Map chart: https://plotly.com/python/treemaps/\n",
    "- a Plotly Bar chart with GICS Sub-Industry as the x-axis: https://plotly.com/python/bar-charts/\n",
    "\n",
    "All three charts should show EV in USD millions as the value. For the Sunburst and Tree Map, the \"path\" should be: GICS Sub-Industry --> Symbol.\n",
    "\n",
    "Hint: Use an if statement in the function tied to the interactive widgets.\n",
    "\n",
    "Run the dashboard through Voila preview to interact with the widgets without seeing the codes."
   ]
  },
  {
   "cell_type": "code",
   "execution_count": 3,
   "id": "89a59a41",
   "metadata": {
    "execution": {
     "iopub.execute_input": "2021-11-05T12:09:23.750387Z",
     "iopub.status.busy": "2021-11-05T12:09:23.750387Z",
     "iopub.status.idle": "2021-11-05T12:09:23.766343Z",
     "shell.execute_reply": "2021-11-05T12:09:23.765345Z",
     "shell.execute_reply.started": "2021-11-05T12:09:23.750387Z"
    },
    "tags": []
   },
   "outputs": [],
   "source": [
    "#Import packages\n",
    "import pandas as pd\n",
    "import matplotlib.pyplot as plt\n",
    "import seaborn as sns\n",
    "import plotly.express as px\n",
    "from IPython.display import display\n",
    "from ipywidgets import interact, interactive"
   ]
  },
  {
   "cell_type": "code",
   "execution_count": 5,
   "id": "271c35aa",
   "metadata": {
    "execution": {
     "iopub.execute_input": "2021-11-05T12:09:24.805638Z",
     "iopub.status.busy": "2021-11-05T12:09:24.805638Z",
     "iopub.status.idle": "2021-11-05T12:09:24.848038Z",
     "shell.execute_reply": "2021-11-05T12:09:24.846044Z",
     "shell.execute_reply.started": "2021-11-05T12:09:24.805638Z"
    },
    "tags": []
   },
   "outputs": [],
   "source": [
    "#Import Data\n",
    "sectors = pd.read_csv(\"ExData/sp500_SectorData.csv\")\n",
    "valMetrics = pd.read_csv(\"ExData/sp500_Cos_ValMetrics.csv\")\n"
   ]
  },
  {
   "cell_type": "code",
   "execution_count": 4,
   "id": "aea99ed0",
   "metadata": {},
   "outputs": [],
   "source": [
    "## WRITE YOUR CODE HERE"
   ]
  },
  {
   "cell_type": "code",
   "execution_count": null,
   "id": "0fa97ccf",
   "metadata": {},
   "outputs": [],
   "source": []
  }
 ],
 "metadata": {
  "kernelspec": {
   "display_name": "Python 3 (ipykernel)",
   "language": "python",
   "name": "python3"
  },
  "language_info": {
   "codemirror_mode": {
    "name": "ipython",
    "version": 3
   },
   "file_extension": ".py",
   "mimetype": "text/x-python",
   "name": "python",
   "nbconvert_exporter": "python",
   "pygments_lexer": "ipython3",
   "version": "3.9.17"
  }
 },
 "nbformat": 4,
 "nbformat_minor": 5
}
